{
 "cells": [
  {
   "cell_type": "markdown",
   "metadata": {},
   "source": [
    "<font color='DarkBlue' size=+2><b>Комментарий ревьюера</b></font><br>\n",
    "<font color='DarkBlue'>Привет, Руслан! <br>Меня зовут Олег Мазуренко, и я буду проверять этот проект. Спасибо за проделанную работу! <br>Предлагаю общаться на «ты». Если против, напиши.</font><br>\n",
    "<font color='DarkBlue'>Я буду использовать различные цвета, чтобы было удобнее воспринимать мои комментарии:</font><br>\n",
    "<font color='DarkBlue'>Синий текст &mdash; просто текст комментария.</font><br>\n",
    "<font color='DarkGreen'>👌 Зеленый текст &mdash; все отлично.</font><br>\n",
    "<font color='DarkMagenta'>👉 Фиолетовый текст &mdash; сделано все правильно, однако есть рекомендации, на что стоит обратить внимание.</font><br>\n",
    "<font color='Red'>🛠 Красный текст &mdash; есть недочеты, они иногда бывают.</font><br>\n",
    "<font color='DarkBlue'>Пожалуйста, не удаляй мои комментарии в случае возврата работы, так будет проще разобраться, какие были недочеты и сразу увидеть исправленное. </font><br>\n",
    "Ответы на мои комментарии лучше тоже помечать. \n",
    "Например: <font color='Blue'><b>Комментарий студента</b></font><br>\n",
    "<font color='DarkBlue'><b>Давай смотреть, что у нас получилось!</b></font>"
   ]
  },
  {
   "cell_type": "markdown",
   "metadata": {
    "id": "E0vqbgi9ay0H"
   },
   "source": [
    "# Яндекс.Музыка"
   ]
  },
  {
   "cell_type": "markdown",
   "metadata": {
    "id": "VUC88oWjTJw2"
   },
   "source": [
    "Сравнение Москвы и Петербурга окружено мифами. Например:\n",
    " * Москва — мегаполис, подчинённый жёсткому ритму рабочей недели;\n",
    " * Петербург — культурная столица, со своими вкусами.\n",
    "\n",
    "На данных Яндекс.Музыки вы сравните поведение пользователей двух столиц.\n",
    "\n",
    "**Цель исследования** — проверьте три гипотезы:\n",
    "1. Активность пользователей зависит от дня недели. Причём в Москве и Петербурге это проявляется по-разному.\n",
    "2. В понедельник утром в Москве преобладают одни жанры, а в Петербурге — другие. Так же и вечером пятницы преобладают разные жанры — в зависимости от города. \n",
    "3. Москва и Петербург предпочитают разные жанры музыки. В Москве чаще слушают поп-музыку, в Петербурге — русский рэп.\n",
    "\n",
    "**Ход исследования**\n",
    "\n",
    "Данные о поведении пользователей вы получите из файла `yandex_music_project.csv`. О качестве данных ничего не известно. Поэтому перед проверкой гипотез понадобится обзор данных. \n",
    "\n",
    "Вы проверите данные на ошибки и оцените их влияние на исследование. Затем, на этапе предобработки вы поищете возможность исправить самые критичные ошибки данных.\n",
    " \n",
    "Таким образом, исследование пройдёт в три этапа:\n",
    " 1. Обзор данных.\n",
    " 2. Предобработка данных.\n",
    " 3. Проверка гипотез.\n",
    "\n"
   ]
  },
  {
   "cell_type": "markdown",
   "metadata": {},
   "source": [
    "<font color='DarkBlue'><b>Комментарий ревьюера</b></font><br>\n",
    "<font color='DarkGreen'>👌 Хочу обратить внимание на начало оформления проекта. Здесь мы выкладываем краткую анотацию самого проекта с целями и планом исследования. В данном проекте это сделала команда Практикума, но в следующих это надо будет делать самому.</font>"
   ]
  },
  {
   "cell_type": "markdown",
   "metadata": {
    "id": "Ml1hmfXC_Zcs"
   },
   "source": [
    "## Обзор данных\n",
    "\n",
    "Составьте первое представление о данных Яндекс.Музыки.\n",
    "\n",
    "\n"
   ]
  },
  {
   "cell_type": "markdown",
   "metadata": {
    "id": "57eAOGIz_Zcs"
   },
   "source": [
    "Основной инструмент аналитика — `pandas`. Импортируйте эту библиотеку."
   ]
  },
  {
   "cell_type": "code",
   "execution_count": 85,
   "metadata": {
    "id": "AXN7PHPN_Zcs"
   },
   "outputs": [],
   "source": [
    "# импорт библиотеки pandas\n",
    "import pandas as pd"
   ]
  },
  {
   "cell_type": "markdown",
   "metadata": {},
   "source": [
    "<font color='DarkBlue'><b>Комментарий ревьюера</b></font><br>\n",
    "<font color='DarkGreen'>👌 Очень хорошо, что ты используешь сокращение pd при импорте библиотеки Pandas, это общепринятое сокращение для удобной дальнейшей работы.</font>"
   ]
  },
  {
   "cell_type": "markdown",
   "metadata": {
    "id": "SG23P8tt_Zcs"
   },
   "source": [
    "Прочитайте файл `yandex_music_project.csv` из папки `/datasets` и сохраните его в переменной `df`:"
   ]
  },
  {
   "cell_type": "code",
   "execution_count": 86,
   "metadata": {
    "id": "fFVu7vqh_Zct"
   },
   "outputs": [],
   "source": [
    "# чтение файла с данными и сохранение в df\n",
    "df = pd.read_csv('/datasets/yandex_music_project.csv')"
   ]
  },
  {
   "cell_type": "markdown",
   "metadata": {},
   "source": [
    "<font color='DarkBlue'><b>Комментарий ревьюера</b></font><br>\n",
    "<font color='DarkGreen'>👌 Указан правильный путь к файлу: слэш в начале пути очень важен, так как указывает, что нужно искать файл в корневой папке. 👍</font>"
   ]
  },
  {
   "cell_type": "markdown",
   "metadata": {
    "id": "rDoOMd3uTqnZ"
   },
   "source": [
    "Выведите на экран первые десять строк таблицы:"
   ]
  },
  {
   "cell_type": "code",
   "execution_count": 87,
   "metadata": {
    "id": "oWTVX3gW_Zct"
   },
   "outputs": [
    {
     "data": {
      "text/html": [
       "<div>\n",
       "<style scoped>\n",
       "    .dataframe tbody tr th:only-of-type {\n",
       "        vertical-align: middle;\n",
       "    }\n",
       "\n",
       "    .dataframe tbody tr th {\n",
       "        vertical-align: top;\n",
       "    }\n",
       "\n",
       "    .dataframe thead th {\n",
       "        text-align: right;\n",
       "    }\n",
       "</style>\n",
       "<table border=\"1\" class=\"dataframe\">\n",
       "  <thead>\n",
       "    <tr style=\"text-align: right;\">\n",
       "      <th></th>\n",
       "      <th>userID</th>\n",
       "      <th>Track</th>\n",
       "      <th>artist</th>\n",
       "      <th>genre</th>\n",
       "      <th>City</th>\n",
       "      <th>time</th>\n",
       "      <th>Day</th>\n",
       "    </tr>\n",
       "  </thead>\n",
       "  <tbody>\n",
       "    <tr>\n",
       "      <td>0</td>\n",
       "      <td>FFB692EC</td>\n",
       "      <td>Kamigata To Boots</td>\n",
       "      <td>The Mass Missile</td>\n",
       "      <td>rock</td>\n",
       "      <td>Saint-Petersburg</td>\n",
       "      <td>20:28:33</td>\n",
       "      <td>Wednesday</td>\n",
       "    </tr>\n",
       "    <tr>\n",
       "      <td>1</td>\n",
       "      <td>55204538</td>\n",
       "      <td>Delayed Because of Accident</td>\n",
       "      <td>Andreas Rönnberg</td>\n",
       "      <td>rock</td>\n",
       "      <td>Moscow</td>\n",
       "      <td>14:07:09</td>\n",
       "      <td>Friday</td>\n",
       "    </tr>\n",
       "    <tr>\n",
       "      <td>2</td>\n",
       "      <td>20EC38</td>\n",
       "      <td>Funiculì funiculà</td>\n",
       "      <td>Mario Lanza</td>\n",
       "      <td>pop</td>\n",
       "      <td>Saint-Petersburg</td>\n",
       "      <td>20:58:07</td>\n",
       "      <td>Wednesday</td>\n",
       "    </tr>\n",
       "    <tr>\n",
       "      <td>3</td>\n",
       "      <td>A3DD03C9</td>\n",
       "      <td>Dragons in the Sunset</td>\n",
       "      <td>Fire + Ice</td>\n",
       "      <td>folk</td>\n",
       "      <td>Saint-Petersburg</td>\n",
       "      <td>08:37:09</td>\n",
       "      <td>Monday</td>\n",
       "    </tr>\n",
       "    <tr>\n",
       "      <td>4</td>\n",
       "      <td>E2DC1FAE</td>\n",
       "      <td>Soul People</td>\n",
       "      <td>Space Echo</td>\n",
       "      <td>dance</td>\n",
       "      <td>Moscow</td>\n",
       "      <td>08:34:34</td>\n",
       "      <td>Monday</td>\n",
       "    </tr>\n",
       "    <tr>\n",
       "      <td>5</td>\n",
       "      <td>842029A1</td>\n",
       "      <td>Преданная</td>\n",
       "      <td>IMPERVTOR</td>\n",
       "      <td>rusrap</td>\n",
       "      <td>Saint-Petersburg</td>\n",
       "      <td>13:09:41</td>\n",
       "      <td>Friday</td>\n",
       "    </tr>\n",
       "    <tr>\n",
       "      <td>6</td>\n",
       "      <td>4CB90AA5</td>\n",
       "      <td>True</td>\n",
       "      <td>Roman Messer</td>\n",
       "      <td>dance</td>\n",
       "      <td>Moscow</td>\n",
       "      <td>13:00:07</td>\n",
       "      <td>Wednesday</td>\n",
       "    </tr>\n",
       "    <tr>\n",
       "      <td>7</td>\n",
       "      <td>F03E1C1F</td>\n",
       "      <td>Feeling This Way</td>\n",
       "      <td>Polina Griffith</td>\n",
       "      <td>dance</td>\n",
       "      <td>Moscow</td>\n",
       "      <td>20:47:49</td>\n",
       "      <td>Wednesday</td>\n",
       "    </tr>\n",
       "    <tr>\n",
       "      <td>8</td>\n",
       "      <td>8FA1D3BE</td>\n",
       "      <td>И вновь продолжается бой</td>\n",
       "      <td>NaN</td>\n",
       "      <td>ruspop</td>\n",
       "      <td>Moscow</td>\n",
       "      <td>09:17:40</td>\n",
       "      <td>Friday</td>\n",
       "    </tr>\n",
       "    <tr>\n",
       "      <td>9</td>\n",
       "      <td>E772D5C0</td>\n",
       "      <td>Pessimist</td>\n",
       "      <td>NaN</td>\n",
       "      <td>dance</td>\n",
       "      <td>Saint-Petersburg</td>\n",
       "      <td>21:20:49</td>\n",
       "      <td>Wednesday</td>\n",
       "    </tr>\n",
       "  </tbody>\n",
       "</table>\n",
       "</div>"
      ],
      "text/plain": [
       "     userID                        Track            artist   genre  \\\n",
       "0  FFB692EC            Kamigata To Boots  The Mass Missile    rock   \n",
       "1  55204538  Delayed Because of Accident  Andreas Rönnberg    rock   \n",
       "2    20EC38            Funiculì funiculà       Mario Lanza     pop   \n",
       "3  A3DD03C9        Dragons in the Sunset        Fire + Ice    folk   \n",
       "4  E2DC1FAE                  Soul People        Space Echo   dance   \n",
       "5  842029A1                    Преданная         IMPERVTOR  rusrap   \n",
       "6  4CB90AA5                         True      Roman Messer   dance   \n",
       "7  F03E1C1F             Feeling This Way   Polina Griffith   dance   \n",
       "8  8FA1D3BE     И вновь продолжается бой               NaN  ruspop   \n",
       "9  E772D5C0                    Pessimist               NaN   dance   \n",
       "\n",
       "             City        time        Day  \n",
       "0  Saint-Petersburg  20:28:33  Wednesday  \n",
       "1            Moscow  14:07:09     Friday  \n",
       "2  Saint-Petersburg  20:58:07  Wednesday  \n",
       "3  Saint-Petersburg  08:37:09     Monday  \n",
       "4            Moscow  08:34:34     Monday  \n",
       "5  Saint-Petersburg  13:09:41     Friday  \n",
       "6            Moscow  13:00:07  Wednesday  \n",
       "7            Moscow  20:47:49  Wednesday  \n",
       "8            Moscow  09:17:40     Friday  \n",
       "9  Saint-Petersburg  21:20:49  Wednesday  "
      ]
     },
     "execution_count": 87,
     "metadata": {},
     "output_type": "execute_result"
    }
   ],
   "source": [
    "# получение первых 10 строк таблицы df\n",
    "df.head(10)"
   ]
  },
  {
   "cell_type": "markdown",
   "metadata": {},
   "source": [
    "<font color='DarkBlue'><b>Комментарий ревьюера</b></font><br>\n",
    "<font color='DarkGreen'>👌 Все правильно.</font><br>\n",
    "<font color='DarkMagenta'>👉 Если имя таблицы находится в последней строке, исполняемой ячейки, то не нужна функция display(). Если мы выводим таблицу в середине ячейки (например, в теле цикла или функции ), то используем display() 😢</font><br>\n",
    "<font color='DarkGreen'>👌 Есть еще метод tail(), который выводит последние n строк.</font>"
   ]
  },
  {
   "cell_type": "markdown",
   "metadata": {},
   "source": [
    "<font color='DarkBlue'><b>Комментарий ревьюера 2</b></font><br>\n",
    "<font color='DarkGreen'>👌 Хорошо, исправили. 😉</font>"
   ]
  },
  {
   "cell_type": "code",
   "execution_count": 88,
   "metadata": {},
   "outputs": [
    {
     "data": {
      "text/html": [
       "<div>\n",
       "<style scoped>\n",
       "    .dataframe tbody tr th:only-of-type {\n",
       "        vertical-align: middle;\n",
       "    }\n",
       "\n",
       "    .dataframe tbody tr th {\n",
       "        vertical-align: top;\n",
       "    }\n",
       "\n",
       "    .dataframe thead th {\n",
       "        text-align: right;\n",
       "    }\n",
       "</style>\n",
       "<table border=\"1\" class=\"dataframe\">\n",
       "  <thead>\n",
       "    <tr style=\"text-align: right;\">\n",
       "      <th></th>\n",
       "      <th>userID</th>\n",
       "      <th>Track</th>\n",
       "      <th>artist</th>\n",
       "      <th>genre</th>\n",
       "      <th>City</th>\n",
       "      <th>time</th>\n",
       "      <th>Day</th>\n",
       "    </tr>\n",
       "  </thead>\n",
       "  <tbody>\n",
       "    <tr>\n",
       "      <td>65074</td>\n",
       "      <td>729CBB09</td>\n",
       "      <td>My Name</td>\n",
       "      <td>McLean</td>\n",
       "      <td>rnb</td>\n",
       "      <td>Moscow</td>\n",
       "      <td>13:32:28</td>\n",
       "      <td>Wednesday</td>\n",
       "    </tr>\n",
       "    <tr>\n",
       "      <td>65075</td>\n",
       "      <td>D08D4A55</td>\n",
       "      <td>Maybe One Day (feat. Black Spade)</td>\n",
       "      <td>Blu &amp; Exile</td>\n",
       "      <td>hip</td>\n",
       "      <td>Saint-Petersburg</td>\n",
       "      <td>10:00:00</td>\n",
       "      <td>Monday</td>\n",
       "    </tr>\n",
       "    <tr>\n",
       "      <td>65076</td>\n",
       "      <td>C5E3A0D5</td>\n",
       "      <td>Jalopiina</td>\n",
       "      <td>NaN</td>\n",
       "      <td>industrial</td>\n",
       "      <td>Moscow</td>\n",
       "      <td>20:09:26</td>\n",
       "      <td>Friday</td>\n",
       "    </tr>\n",
       "    <tr>\n",
       "      <td>65077</td>\n",
       "      <td>321D0506</td>\n",
       "      <td>Freight Train</td>\n",
       "      <td>Chas McDevitt</td>\n",
       "      <td>rock</td>\n",
       "      <td>Moscow</td>\n",
       "      <td>21:43:59</td>\n",
       "      <td>Friday</td>\n",
       "    </tr>\n",
       "    <tr>\n",
       "      <td>65078</td>\n",
       "      <td>3A64EF84</td>\n",
       "      <td>Tell Me Sweet Little Lies</td>\n",
       "      <td>Monica Lopez</td>\n",
       "      <td>country</td>\n",
       "      <td>Moscow</td>\n",
       "      <td>21:59:46</td>\n",
       "      <td>Friday</td>\n",
       "    </tr>\n",
       "  </tbody>\n",
       "</table>\n",
       "</div>"
      ],
      "text/plain": [
       "         userID                              Track         artist       genre  \\\n",
       "65074  729CBB09                            My Name         McLean         rnb   \n",
       "65075  D08D4A55  Maybe One Day (feat. Black Spade)    Blu & Exile         hip   \n",
       "65076  C5E3A0D5                          Jalopiina            NaN  industrial   \n",
       "65077  321D0506                      Freight Train  Chas McDevitt        rock   \n",
       "65078  3A64EF84          Tell Me Sweet Little Lies   Monica Lopez     country   \n",
       "\n",
       "                 City        time        Day  \n",
       "65074            Moscow  13:32:28  Wednesday  \n",
       "65075  Saint-Petersburg  10:00:00     Monday  \n",
       "65076            Moscow  20:09:26     Friday  \n",
       "65077            Moscow  21:43:59     Friday  \n",
       "65078            Moscow  21:59:46     Friday  "
      ]
     },
     "execution_count": 88,
     "metadata": {},
     "output_type": "execute_result"
    }
   ],
   "source": [
    "# Комментарий ревьюера\n",
    "df.tail(5)"
   ]
  },
  {
   "cell_type": "markdown",
   "metadata": {
    "id": "EO73Kwic_Zct"
   },
   "source": [
    "Одной командой получить общую информацию о таблице:"
   ]
  },
  {
   "cell_type": "code",
   "execution_count": 89,
   "metadata": {
    "id": "DSf2kIb-_Zct"
   },
   "outputs": [
    {
     "name": "stdout",
     "output_type": "stream",
     "text": [
      "<class 'pandas.core.frame.DataFrame'>\n",
      "RangeIndex: 65079 entries, 0 to 65078\n",
      "Data columns (total 7 columns):\n",
      "  userID    65079 non-null object\n",
      "Track       63848 non-null object\n",
      "artist      57876 non-null object\n",
      "genre       63881 non-null object\n",
      "  City      65079 non-null object\n",
      "time        65079 non-null object\n",
      "Day         65079 non-null object\n",
      "dtypes: object(7)\n",
      "memory usage: 3.5+ MB\n"
     ]
    }
   ],
   "source": [
    "# получение общей информации о данных в таблице df\n",
    "df.info()"
   ]
  },
  {
   "cell_type": "markdown",
   "metadata": {},
   "source": [
    "<font color='DarkBlue'><b>Комментарий ревьюера</b></font><br>\n",
    "<font color='DarkGreen'>👌 Отличный выбор, метод info действительно показывает много информации о датафрейме.</font>"
   ]
  },
  {
   "cell_type": "markdown",
   "metadata": {
    "id": "TaQ2Iwbr_Zct"
   },
   "source": [
    "Итак, в таблице семь столбцов. Тип данных во всех столбцах — `object`.\n",
    "\n",
    "Согласно документации к данным:\n",
    "* `userID` — идентификатор пользователя;\n",
    "* `Track` — название трека;  \n",
    "* `artist` — имя исполнителя;\n",
    "* `genre` — название жанра;\n",
    "* `City` — город пользователя;\n",
    "* `time` — время начала прослушивания;\n",
    "* `Day` — день недели.\n",
    "\n",
    "В названиях колонок видны три нарушения стиля:\n",
    "1. Строчные буквы сочетаются с прописными.\n",
    "2. Встречаются пробелы.\n",
    "3. В каких-то столбцах не хватает \"змеиного_регистра\" (например, первый столбец).\n",
    "\n",
    "\n",
    "\n",
    "Количество значений в столбцах различается. Значит, в данных есть пропущенные значения.\n"
   ]
  },
  {
   "cell_type": "markdown",
   "metadata": {
    "id": "MCB6-dXG_Zct"
   },
   "source": [
    "**Выводы**\n",
    "\n",
    "В каждой строке таблицы — данные о прослушанном треке. Часть колонок описывает саму композицию: название, исполнителя и жанр. Остальные данные рассказывают о пользователе: из какого он города, когда он слушал музыку. \n",
    "\n",
    "Предварительно можно утверждать, что, данных достаточно для проверки гипотез. Но встречаются пропуски в данных, а в названиях колонок — расхождения с хорошим стилем.\n",
    "\n",
    "Чтобы двигаться дальше, нужно устранить проблемы в данных."
   ]
  },
  {
   "cell_type": "markdown",
   "metadata": {},
   "source": [
    "<font color='DarkBlue'><b>Комментарий ревьюера</b></font><br>\n",
    "<font color='DarkGreen'>👌 Очень правильно после промежуточного анализа данных делать краткие выводы и планировать дальнейшую обработку проблем. Хорошо, что найдено третье нарушение. </font><br>"
   ]
  },
  {
   "cell_type": "markdown",
   "metadata": {
    "id": "SjYF6Ub9_Zct"
   },
   "source": [
    "## Предобработка данных\n",
    "Исправьте стиль в заголовках столбцов, исключите пропуски. Затем проверьте данные на дубликаты."
   ]
  },
  {
   "cell_type": "markdown",
   "metadata": {
    "id": "dIaKXr29_Zct"
   },
   "source": [
    "### Стиль заголовков\n",
    "Выведите на экран названия столбцов:"
   ]
  },
  {
   "cell_type": "code",
   "execution_count": 90,
   "metadata": {
    "id": "oKOTdF_Q_Zct"
   },
   "outputs": [
    {
     "data": {
      "text/plain": [
       "Index(['  userID', 'Track', 'artist', 'genre', '  City  ', 'time', 'Day'], dtype='object')"
      ]
     },
     "execution_count": 90,
     "metadata": {},
     "output_type": "execute_result"
    }
   ],
   "source": [
    "# перечень названий столбцов таблицы df\n",
    "df.columns"
   ]
  },
  {
   "cell_type": "markdown",
   "metadata": {},
   "source": [
    "<font color='DarkBlue'><b>Комментарий ревьюера</b></font><br>\n",
    "<font color='DarkGreen'>👌 Отлично, мы видим полностью названия колонок, включая лишние пробелы.</font><br>\n",
    "<font color='DarkMagenta'>👉 <b>display()</b>. 😢</font>"
   ]
  },
  {
   "cell_type": "markdown",
   "metadata": {
    "id": "zj5534cv_Zct"
   },
   "source": [
    "Приведите названия в соответствие с хорошим стилем:\n",
    "* несколько слов в названии запишите в «змеином_регистре»,\n",
    "* все символы сделайте строчными,\n",
    "* устраните пробелы.\n",
    "\n",
    "Для этого переименуйте колонки так:\n",
    "* `'  userID'` → `'user_id'`;\n",
    "* `'Track'` → `'track'`;\n",
    "* `'  City  '` → `'city'`;\n",
    "* `'Day'` → `'day'`."
   ]
  },
  {
   "cell_type": "code",
   "execution_count": 91,
   "metadata": {
    "id": "ISlFqs5y_Zct"
   },
   "outputs": [],
   "source": [
    "# переименование столбцов\n",
    "df = df.rename(columns = {'  userID' : 'user_id', 'Track' : 'track', '  City  ' : 'city', 'Day' : 'day'})"
   ]
  },
  {
   "cell_type": "markdown",
   "metadata": {},
   "source": [
    "<font color='DarkBlue'><b>Комментарий ревьюера</b></font><br>\n",
    "<font color='DarkGreen'>👌 Хороший выбор, метод rename сработает без ошибок, даже если изменится порядок столбцов.</font>"
   ]
  },
  {
   "cell_type": "markdown",
   "metadata": {
    "id": "1dqbh00J_Zct"
   },
   "source": [
    "Проверьте результат. Для этого ещё раз выведите на экран названия столбцов:"
   ]
  },
  {
   "cell_type": "code",
   "execution_count": 92,
   "metadata": {
    "id": "d4NOAmTW_Zct"
   },
   "outputs": [
    {
     "data": {
      "text/plain": [
       "Index(['user_id', 'track', 'artist', 'genre', 'city', 'time', 'day'], dtype='object')"
      ]
     },
     "execution_count": 92,
     "metadata": {},
     "output_type": "execute_result"
    }
   ],
   "source": [
    "# проверка результатов - перечень названий столбцов\n",
    "df.columns"
   ]
  },
  {
   "cell_type": "markdown",
   "metadata": {},
   "source": [
    "<font color='DarkBlue'><b>Комментарий ревьюера</b></font><br>\n",
    "<font color='DarkGreen'>👌 Действительно, замена названия колонок произошла корректно. Очень полезно после преобразования таблицы проверять результат.</font><br><font color='DarkMagenta'>👉 <b>display()</b> 😒</font>"
   ]
  },
  {
   "cell_type": "markdown",
   "metadata": {
    "id": "5ISfbcfY_Zct"
   },
   "source": [
    "### Пропуски значений\n",
    "Сначала посчитайте, сколько в таблице пропущенных значений. Для этого достаточно двух методов `pandas`:"
   ]
  },
  {
   "cell_type": "code",
   "execution_count": 93,
   "metadata": {
    "id": "RskX29qr_Zct"
   },
   "outputs": [
    {
     "data": {
      "text/plain": [
       "user_id       0\n",
       "track      1231\n",
       "artist     7203\n",
       "genre      1198\n",
       "city          0\n",
       "time          0\n",
       "day           0\n",
       "dtype: int64"
      ]
     },
     "execution_count": 93,
     "metadata": {},
     "output_type": "execute_result"
    }
   ],
   "source": [
    "# подсчёт пропусков\n",
    "df.isna().sum()"
   ]
  },
  {
   "cell_type": "markdown",
   "metadata": {},
   "source": [
    "<font color='DarkBlue'><b>Комментарий ревьюера</b></font><br>\n",
    "<font color='DarkGreen'>👌 Все верно. Выбран метод isna() для нахождения пропущенных значений, это отлично! На самом деле, isnull() и isna() делают одно и то же, но использование isna() предпочтительнее.</font><br><font color='DarkMagenta'>👉 <b>display()</b> 😒</font>"
   ]
  },
  {
   "cell_type": "markdown",
   "metadata": {
    "id": "qubhgnlO_Zct"
   },
   "source": [
    "Не все пропущенные значения влияют на исследование. Так в `track` и `artist` пропуски не важны для вашей работы. Достаточно заменить их явными обозначениями.\n",
    "\n",
    "Но пропуски в `genre` могут помешать сравнению музыкальных вкусов в Москве и Санкт-Петербурге. На практике было бы правильно установить причину пропусков и восстановить данные. Такой возможности нет в учебном проекте. Придётся:\n",
    "* заполнить и эти пропуски явными обозначениями,\n",
    "* оценить, насколько они повредят расчётам. "
   ]
  },
  {
   "cell_type": "markdown",
   "metadata": {
    "id": "fSv2laPA_Zct"
   },
   "source": [
    "Замените пропущенные значения в столбцах `track`, `artist` и `genre` на строку `'unknown'`. Для этого создайте список `columns_to_replace`, переберите его элементы циклом `for` и для каждого столбца выполните замену пропущенных значений:"
   ]
  },
  {
   "cell_type": "code",
   "execution_count": 94,
   "metadata": {
    "id": "KplB5qWs_Zct"
   },
   "outputs": [],
   "source": [
    "# перебор названий столбцов в цикле и замена пропущенных значений на 'unknown'\n",
    "columns_to_replace = ['track', 'artist', 'genre']\n",
    "\n",
    "for row in columns_to_replace:\n",
    "    df[row] = df[row].fillna('unknown')"
   ]
  },
  {
   "cell_type": "markdown",
   "metadata": {},
   "source": [
    "<font color='DarkBlue'><b>Комментарий ревьюера</b></font><br>\n",
    "<font color='DarkGreen'>👌 Хорошо. Список columns_to_replace сформирован верно, цикл отработал без ошибок. 😄</font>"
   ]
  },
  {
   "cell_type": "markdown",
   "metadata": {
    "id": "Ilsm-MZo_Zct"
   },
   "source": [
    "Убедитесь, что в таблице не осталось пропусков. Для этого ещё раз посчитайте пропущенные значения."
   ]
  },
  {
   "cell_type": "code",
   "execution_count": 95,
   "metadata": {
    "id": "Tq4nYRX4_Zct"
   },
   "outputs": [
    {
     "data": {
      "text/plain": [
       "user_id    0\n",
       "track      0\n",
       "artist     0\n",
       "genre      0\n",
       "city       0\n",
       "time       0\n",
       "day        0\n",
       "dtype: int64"
      ]
     },
     "execution_count": 95,
     "metadata": {},
     "output_type": "execute_result"
    }
   ],
   "source": [
    "# подсчёт пропусков\n",
    "df.isna().sum()"
   ]
  },
  {
   "cell_type": "markdown",
   "metadata": {},
   "source": [
    "<font color='DarkBlue'><b>Комментарий ревьюера</b></font><br>\n",
    "<font color='DarkGreen'>👌 Замечательно, сделано почти все правильно.</font><br><font color='DarkMagenta'>👉 <b>display()</b> 😒</font>"
   ]
  },
  {
   "cell_type": "markdown",
   "metadata": {
    "id": "BWKRtBJ3_Zct"
   },
   "source": [
    "### Дубликаты\n",
    "Посчитайте явные дубликаты в таблице одной командой:"
   ]
  },
  {
   "cell_type": "code",
   "execution_count": 96,
   "metadata": {
    "id": "36eES_S0_Zct"
   },
   "outputs": [
    {
     "data": {
      "text/plain": [
       "3826"
      ]
     },
     "execution_count": 96,
     "metadata": {},
     "output_type": "execute_result"
    }
   ],
   "source": [
    "# подсчёт явных дубликатов\n",
    "df.duplicated().sum()"
   ]
  },
  {
   "cell_type": "markdown",
   "metadata": {},
   "source": [
    "<font color='DarkBlue'><b>Комментарий ревьюера</b></font><br>\n",
    "<font color='DarkGreen'>👌 Отлично! Дубликаты найдены верно и посчитаны оптимальными методами.</font>"
   ]
  },
  {
   "cell_type": "markdown",
   "metadata": {
    "id": "Ot25h6XR_Zct"
   },
   "source": [
    "Вызовите специальный метод `pandas`, чтобы удалить явные дубликаты:"
   ]
  },
  {
   "cell_type": "code",
   "execution_count": 97,
   "metadata": {
    "id": "exFHq6tt_Zct"
   },
   "outputs": [],
   "source": [
    "# удаление явных дубликатов (с удалением старых индексов и формированием новых)\n",
    "df = df.drop_duplicates().reset_index(drop=True) "
   ]
  },
  {
   "cell_type": "markdown",
   "metadata": {
    "id": "Im2YwBEG_Zct"
   },
   "source": [
    "Ещё раз посчитайте явные дубликаты в таблице — убедитесь, что полностью от них избавились:"
   ]
  },
  {
   "cell_type": "code",
   "execution_count": 98,
   "metadata": {
    "id": "-8PuNWQ0_Zct"
   },
   "outputs": [
    {
     "data": {
      "text/plain": [
       "0"
      ]
     },
     "execution_count": 98,
     "metadata": {},
     "output_type": "execute_result"
    }
   ],
   "source": [
    "# проверка на отсутствие дубликатов\n",
    "df.duplicated().sum()"
   ]
  },
  {
   "cell_type": "markdown",
   "metadata": {},
   "source": [
    "<font color='DarkBlue'><b>Комментарий ревьюера</b></font><br>\n",
    "<font color='DarkGreen'>👌 Правильно удалены дубликаты и проверено их отсутствие.</font>"
   ]
  },
  {
   "cell_type": "markdown",
   "metadata": {
    "id": "QlFBsxAr_Zct"
   },
   "source": [
    "Теперь избавьтесь от неявных дубликатов в колонке `genre`. Например, название одного и того же жанра может быть записано немного по-разному. Такие ошибки тоже повлияют на результат исследования."
   ]
  },
  {
   "cell_type": "markdown",
   "metadata": {
    "id": "eSjWwsOh_Zct"
   },
   "source": [
    "Выведите на экран список уникальных названий жанров, отсортированный в алфавитном порядке. Для этого:\n",
    "* извлеките нужный столбец датафрейма, \n",
    "* примените к нему метод сортировки,\n",
    "* для отсортированного столбца вызовите метод, который вернёт уникальные значения из столбца."
   ]
  },
  {
   "cell_type": "code",
   "execution_count": 99,
   "metadata": {
    "id": "JIUcqzZN_Zct",
    "scrolled": true
   },
   "outputs": [
    {
     "data": {
      "text/plain": [
       "array(['acid', 'acoustic', 'action', 'adult', 'africa', 'afrikaans',\n",
       "       'alternative', 'alternativepunk', 'ambient', 'americana',\n",
       "       'animated', 'anime', 'arabesk', 'arabic', 'arena',\n",
       "       'argentinetango', 'art', 'audiobook', 'author', 'avantgarde',\n",
       "       'axé', 'baile', 'balkan', 'beats', 'bigroom', 'black', 'bluegrass',\n",
       "       'blues', 'bollywood', 'bossa', 'brazilian', 'breakbeat', 'breaks',\n",
       "       'broadway', 'cantautori', 'cantopop', 'canzone', 'caribbean',\n",
       "       'caucasian', 'celtic', 'chamber', 'chanson', 'children', 'chill',\n",
       "       'chinese', 'choral', 'christian', 'christmas', 'classical',\n",
       "       'classicmetal', 'club', 'colombian', 'comedy', 'conjazz',\n",
       "       'contemporary', 'country', 'cuban', 'dance', 'dancehall',\n",
       "       'dancepop', 'dark', 'death', 'deep', 'deutschrock', 'deutschspr',\n",
       "       'dirty', 'disco', 'dnb', 'documentary', 'downbeat', 'downtempo',\n",
       "       'drum', 'dub', 'dubstep', 'eastern', 'easy', 'electronic',\n",
       "       'electropop', 'emo', 'entehno', 'epicmetal', 'estrada', 'ethnic',\n",
       "       'eurofolk', 'european', 'experimental', 'extrememetal', 'fado',\n",
       "       'fairytail', 'film', 'fitness', 'flamenco', 'folk', 'folklore',\n",
       "       'folkmetal', 'folkrock', 'folktronica', 'forró', 'frankreich',\n",
       "       'französisch', 'french', 'funk', 'future', 'gangsta', 'garage',\n",
       "       'german', 'ghazal', 'gitarre', 'glitch', 'gospel', 'gothic',\n",
       "       'grime', 'grunge', 'gypsy', 'handsup', \"hard'n'heavy\", 'hardcore',\n",
       "       'hardstyle', 'hardtechno', 'hip', 'hip-hop', 'hiphop',\n",
       "       'historisch', 'holiday', 'hop', 'horror', 'house', 'hymn', 'idm',\n",
       "       'independent', 'indian', 'indie', 'indipop', 'industrial',\n",
       "       'inspirational', 'instrumental', 'international', 'irish', 'jam',\n",
       "       'japanese', 'jazz', 'jewish', 'jpop', 'jungle', 'k-pop',\n",
       "       'karadeniz', 'karaoke', 'kayokyoku', 'korean', 'laiko', 'latin',\n",
       "       'latino', 'leftfield', 'local', 'lounge', 'loungeelectronic',\n",
       "       'lovers', 'malaysian', 'mandopop', 'marschmusik', 'meditative',\n",
       "       'mediterranean', 'melodic', 'metal', 'metalcore', 'mexican',\n",
       "       'middle', 'minimal', 'miscellaneous', 'modern', 'mood', 'mpb',\n",
       "       'muslim', 'native', 'neoklassik', 'neue', 'new', 'newage',\n",
       "       'newwave', 'nu', 'nujazz', 'numetal', 'oceania', 'old', 'opera',\n",
       "       'orchestral', 'other', 'piano', 'podcasts', 'pop', 'popdance',\n",
       "       'popelectronic', 'popeurodance', 'poprussian', 'post',\n",
       "       'posthardcore', 'postrock', 'power', 'progmetal', 'progressive',\n",
       "       'psychedelic', 'punjabi', 'punk', 'quebecois', 'ragga', 'ram',\n",
       "       'rancheras', 'rap', 'rave', 'reggae', 'reggaeton', 'regional',\n",
       "       'relax', 'religious', 'retro', 'rhythm', 'rnb', 'rnr', 'rock',\n",
       "       'rockabilly', 'rockalternative', 'rockindie', 'rockother',\n",
       "       'romance', 'roots', 'ruspop', 'rusrap', 'rusrock', 'russian',\n",
       "       'salsa', 'samba', 'scenic', 'schlager', 'self', 'sertanejo',\n",
       "       'shanson', 'shoegazing', 'showtunes', 'singer', 'ska', 'skarock',\n",
       "       'slow', 'smooth', 'soft', 'soul', 'soulful', 'sound', 'soundtrack',\n",
       "       'southern', 'specialty', 'speech', 'spiritual', 'sport',\n",
       "       'stonerrock', 'surf', 'swing', 'synthpop', 'synthrock',\n",
       "       'sängerportrait', 'tango', 'tanzorchester', 'taraftar', 'tatar',\n",
       "       'tech', 'techno', 'teen', 'thrash', 'top', 'traditional',\n",
       "       'tradjazz', 'trance', 'tribal', 'trip', 'triphop', 'tropical',\n",
       "       'türk', 'türkçe', 'ukrrock', 'unknown', 'urban', 'uzbek',\n",
       "       'variété', 'vi', 'videogame', 'vocal', 'western', 'world',\n",
       "       'worldbeat', 'ïîï', 'электроника'], dtype=object)"
      ]
     },
     "execution_count": 99,
     "metadata": {},
     "output_type": "execute_result"
    }
   ],
   "source": [
    "# Просмотр уникальных названий жанров\n",
    "sorted_df = df['genre']\n",
    "sorted_df = sorted_df.sort_values() \n",
    "sorted_df.unique()"
   ]
  },
  {
   "cell_type": "markdown",
   "metadata": {},
   "source": [
    "<font color='DarkBlue'><b>Комментарий ревьюера</b></font><br>\n",
    "<font color='DarkGreen'>👌 Хотя список большой, но видно, наверняка многие названия дублируются.</font><br>\n",
    "<font color='DarkMagenta'>👉 <b>display</b> 🙄</font>"
   ]
  },
  {
   "cell_type": "markdown",
   "metadata": {
    "id": "qej-Qmuo_Zct"
   },
   "source": [
    "Просмотрите список и найдите неявные дубликаты названия `hiphop`. Это могут быть названия с ошибками или альтернативные названия того же жанра.\n",
    "\n",
    "Вы увидите следующие неявные дубликаты:\n",
    "* *hip*,\n",
    "* *hop*,\n",
    "* *hip-hop*.\n",
    "\n",
    "Чтобы очистить от них таблицу, напишите функцию `replace_wrong_genres()` с двумя параметрами: \n",
    "* `wrong_genres` — список дубликатов,\n",
    "* `correct_genre` — строка с правильным значением.\n",
    "\n",
    "Функция должна исправить колонку `genre` в таблице `df`: заменить каждое значение из списка `wrong_genres` на значение из `correct_genre`."
   ]
  },
  {
   "cell_type": "markdown",
   "metadata": {},
   "source": [
    "<font color='DarkBlue'><b>Комментарий ревьюера</b></font><br>\n",
    "<font color='DarkMagenta'>👉 А попробуй найти еще неявные дубликаты, кроме указанных в задании. Вдруг получится. 😄</font><br>\n",
    "\n",
    "Электроника и electronic?)"
   ]
  },
  {
   "cell_type": "markdown",
   "metadata": {},
   "source": [
    "<font color='DarkBlue'><b>Комментарий ревьюера 2</b></font><br>\n",
    "<font color='DarkGreen'>👌 Отлично. 👍 Лучше на данные смотреть шире, чем их описывают в задании.</font>"
   ]
  },
  {
   "cell_type": "code",
   "execution_count": 100,
   "metadata": {
    "id": "ErNDkmns_Zct"
   },
   "outputs": [],
   "source": [
    "# Функция для замены неявных дубликатов\n",
    "\n",
    "def replace_wrong_genres(wrong_genres, correct_genre):\n",
    "    for wrong_genre in wrong_genres:\n",
    "        df['genre'] = df['genre'].replace(wrong_genre, correct_genre)\n",
    "        \n",
    "        \n",
    "wrong = ['hip', 'hop', 'hip-hop']\n",
    "correct = 'correct'"
   ]
  },
  {
   "cell_type": "markdown",
   "metadata": {},
   "source": [
    "<font color='DarkBlue'><b>Комментарий ревьюера 2</b></font><br>\n",
    "<font color='DarkGreen'>👌 Молодец, правильное решение. 👍</font>"
   ]
  },
  {
   "attachments": {
    "image.png": {
     "image/png": "[encoded data removed]"
    }
   },
   "cell_type": "markdown",
   "metadata": {},
   "source": [
    "<font color='DarkBlue'><b>Комментарий ревьюера</b></font><br>\n",
    "<font color='Red'>🛠 А вот с функцией у нас проблемы. 😢 См.скрин. </font>\n",
    "![image.png](attachment:image.png)"
   ]
  },
  {
   "cell_type": "markdown",
   "metadata": {
    "id": "aDoBJxbA_Zct"
   },
   "source": [
    "Вызовите `replace_wrong_genres()` и передайте ей такие аргументы, чтобы она устранила неявные дубликаты: вместо `hip`, `hop` и `hip-hop` в таблице должно быть значение `hiphop`:"
   ]
  },
  {
   "cell_type": "code",
   "execution_count": 101,
   "metadata": {
    "id": "YN5i2hpmSo09"
   },
   "outputs": [],
   "source": [
    "# Устранение неявных дубликатов\n",
    "replace_wrong_genres(wrong, correct)"
   ]
  },
  {
   "cell_type": "markdown",
   "metadata": {
    "id": "zQKF16_RG15m"
   },
   "source": [
    "Проверьте, что заменили неправильные названия:\n",
    "\n",
    "*   hip\n",
    "*   hop\n",
    "*   hip-hop\n",
    "\n",
    "Выведите отсортированный список уникальных значений столбца `genre`:"
   ]
  },
  {
   "cell_type": "code",
   "execution_count": 102,
   "metadata": {
    "id": "wvixALnFG15m"
   },
   "outputs": [
    {
     "data": {
      "text/plain": [
       "array(['acid', 'acoustic', 'action', 'adult', 'africa', 'afrikaans',\n",
       "       'alternative', 'alternativepunk', 'ambient', 'americana',\n",
       "       'animated', 'anime', 'arabesk', 'arabic', 'arena',\n",
       "       'argentinetango', 'art', 'audiobook', 'author', 'avantgarde',\n",
       "       'axé', 'baile', 'balkan', 'beats', 'bigroom', 'black', 'bluegrass',\n",
       "       'blues', 'bollywood', 'bossa', 'brazilian', 'breakbeat', 'breaks',\n",
       "       'broadway', 'cantautori', 'cantopop', 'canzone', 'caribbean',\n",
       "       'caucasian', 'celtic', 'chamber', 'chanson', 'children', 'chill',\n",
       "       'chinese', 'choral', 'christian', 'christmas', 'classical',\n",
       "       'classicmetal', 'club', 'colombian', 'comedy', 'conjazz',\n",
       "       'contemporary', 'correct', 'country', 'cuban', 'dance',\n",
       "       'dancehall', 'dancepop', 'dark', 'death', 'deep', 'deutschrock',\n",
       "       'deutschspr', 'dirty', 'disco', 'dnb', 'documentary', 'downbeat',\n",
       "       'downtempo', 'drum', 'dub', 'dubstep', 'eastern', 'easy',\n",
       "       'electronic', 'electropop', 'emo', 'entehno', 'epicmetal',\n",
       "       'estrada', 'ethnic', 'eurofolk', 'european', 'experimental',\n",
       "       'extrememetal', 'fado', 'fairytail', 'film', 'fitness', 'flamenco',\n",
       "       'folk', 'folklore', 'folkmetal', 'folkrock', 'folktronica',\n",
       "       'forró', 'frankreich', 'französisch', 'french', 'funk', 'future',\n",
       "       'gangsta', 'garage', 'german', 'ghazal', 'gitarre', 'glitch',\n",
       "       'gospel', 'gothic', 'grime', 'grunge', 'gypsy', 'handsup',\n",
       "       \"hard'n'heavy\", 'hardcore', 'hardstyle', 'hardtechno', 'hiphop',\n",
       "       'historisch', 'holiday', 'horror', 'house', 'hymn', 'idm',\n",
       "       'independent', 'indian', 'indie', 'indipop', 'industrial',\n",
       "       'inspirational', 'instrumental', 'international', 'irish', 'jam',\n",
       "       'japanese', 'jazz', 'jewish', 'jpop', 'jungle', 'k-pop',\n",
       "       'karadeniz', 'karaoke', 'kayokyoku', 'korean', 'laiko', 'latin',\n",
       "       'latino', 'leftfield', 'local', 'lounge', 'loungeelectronic',\n",
       "       'lovers', 'malaysian', 'mandopop', 'marschmusik', 'meditative',\n",
       "       'mediterranean', 'melodic', 'metal', 'metalcore', 'mexican',\n",
       "       'middle', 'minimal', 'miscellaneous', 'modern', 'mood', 'mpb',\n",
       "       'muslim', 'native', 'neoklassik', 'neue', 'new', 'newage',\n",
       "       'newwave', 'nu', 'nujazz', 'numetal', 'oceania', 'old', 'opera',\n",
       "       'orchestral', 'other', 'piano', 'podcasts', 'pop', 'popdance',\n",
       "       'popelectronic', 'popeurodance', 'poprussian', 'post',\n",
       "       'posthardcore', 'postrock', 'power', 'progmetal', 'progressive',\n",
       "       'psychedelic', 'punjabi', 'punk', 'quebecois', 'ragga', 'ram',\n",
       "       'rancheras', 'rap', 'rave', 'reggae', 'reggaeton', 'regional',\n",
       "       'relax', 'religious', 'retro', 'rhythm', 'rnb', 'rnr', 'rock',\n",
       "       'rockabilly', 'rockalternative', 'rockindie', 'rockother',\n",
       "       'romance', 'roots', 'ruspop', 'rusrap', 'rusrock', 'russian',\n",
       "       'salsa', 'samba', 'scenic', 'schlager', 'self', 'sertanejo',\n",
       "       'shanson', 'shoegazing', 'showtunes', 'singer', 'ska', 'skarock',\n",
       "       'slow', 'smooth', 'soft', 'soul', 'soulful', 'sound', 'soundtrack',\n",
       "       'southern', 'specialty', 'speech', 'spiritual', 'sport',\n",
       "       'stonerrock', 'surf', 'swing', 'synthpop', 'synthrock',\n",
       "       'sängerportrait', 'tango', 'tanzorchester', 'taraftar', 'tatar',\n",
       "       'tech', 'techno', 'teen', 'thrash', 'top', 'traditional',\n",
       "       'tradjazz', 'trance', 'tribal', 'trip', 'triphop', 'tropical',\n",
       "       'türk', 'türkçe', 'ukrrock', 'unknown', 'urban', 'uzbek',\n",
       "       'variété', 'vi', 'videogame', 'vocal', 'western', 'world',\n",
       "       'worldbeat', 'ïîï', 'электроника'], dtype=object)"
      ]
     },
     "execution_count": 102,
     "metadata": {},
     "output_type": "execute_result"
    }
   ],
   "source": [
    "# Проверка на неявные дубликаты\n",
    "sorted_genre = df['genre'] \n",
    "sorted_genre = sorted_genre.sort_values()\n",
    "sorted_genre.unique()"
   ]
  },
  {
   "cell_type": "markdown",
   "metadata": {},
   "source": [
    "<font color='DarkBlue'><b>Комментарий ревьюера</b></font><br>\n",
    "<font color='DarkGreen'>👌 И функция наша правильно работает. 😄</font><br>\n",
    "<font color='DarkMagenta'>👉 <b>display()</b> 😒</font>"
   ]
  },
  {
   "cell_type": "markdown",
   "metadata": {
    "id": "jz6a9-7HQUDd"
   },
   "source": [
    "**Выводы**\n",
    "\n",
    "Предобработка обнаружила три проблемы в данных:\n",
    "\n",
    "- нарушения в стиле заголовков,\n",
    "- пропущенные значения,\n",
    "- дубликаты — явные и неявные.\n",
    "\n",
    "Вы исправили заголовки, чтобы упростить работу с таблицей. Без дубликатов исследование станет более точным.\n",
    "\n",
    "Пропущенные значения вы заменили на `'unknown'`. Ещё предстоит увидеть, не повредят ли исследованию пропуски в колонке `genre`.\n",
    "\n",
    "Теперь можно перейти к проверке гипотез. "
   ]
  },
  {
   "cell_type": "markdown",
   "metadata": {
    "id": "WttZHXH0SqKk"
   },
   "source": [
    "## Проверка гипотез"
   ]
  },
  {
   "cell_type": "markdown",
   "metadata": {
    "id": "Im936VVi_Zcu"
   },
   "source": [
    "### Сравнение поведения пользователей двух столиц"
   ]
  },
  {
   "cell_type": "markdown",
   "metadata": {
    "id": "nwt_MuaL_Zcu"
   },
   "source": [
    "Первая гипотеза утверждает, что пользователи по-разному слушают музыку в Москве и Санкт-Петербурге. Проверьте это предположение по данным о трёх днях недели — понедельнике, среде и пятнице. Для этого:\n",
    "\n",
    "* Разделите пользователей Москвы и Санкт-Петербурга\n",
    "* Сравните, сколько треков послушала каждая группа пользователей в понедельник, среду и пятницу.\n"
   ]
  },
  {
   "cell_type": "markdown",
   "metadata": {
    "id": "8Dw_YMmT_Zcu"
   },
   "source": [
    "Для тренировки сначала выполните каждый из расчётов по отдельности. \n",
    "\n",
    "Оцените активность пользователей в каждом городе. Сгруппируйте данные по городу и посчитайте прослушивания в каждой группе.\n",
    "\n"
   ]
  },
  {
   "cell_type": "code",
   "execution_count": 107,
   "metadata": {
    "id": "0_Qs96oh_Zcu"
   },
   "outputs": [
    {
     "data": {
      "text/plain": [
       "city\n",
       "Moscow              42741\n",
       "Saint-Petersburg    18512\n",
       "Name: genre, dtype: int64"
      ]
     },
     "execution_count": 107,
     "metadata": {},
     "output_type": "execute_result"
    }
   ],
   "source": [
    "# Подсчёт прослушиваний в каждом городе\n",
    "city_grouping = df.groupby('city')['genre'].count()\n",
    "city_grouping"
   ]
  },
  {
   "cell_type": "markdown",
   "metadata": {},
   "source": [
    "<font color='DarkBlue'><b>Комментарий ревьюера</b></font><br>\n",
    "<font color='Red'>🛠 Между группировкой по столбцу city и вызовом метода count() нужно выбрать какой-нибудь из столбцов получившегося сгруппированного объекта, иначе в итоговой таблице у нас получилось несколько одинаковых столбцов. 😲</font><br><font color='DarkMagenta'>👉 <b>display()</b> 😒</font>"
   ]
  },
  {
   "cell_type": "markdown",
   "metadata": {},
   "source": [
    "<font color='DarkBlue'><b>Комментарий ревьюера 2</b></font><br>\n",
    "<font color='DarkGreen'>👌 Хорошо, теперь правильно. 👍</font>"
   ]
  },
  {
   "cell_type": "markdown",
   "metadata": {
    "id": "dzli3w8o_Zcu"
   },
   "source": [
    "В Москве прослушиваний больше, чем в Петербурге. Из этого не следует, что московские пользователи чаще слушают музыку. Просто самих пользователей в Москве больше.\n",
    "\n",
    "Теперь сгруппируйте данные по дню недели и подсчитайте прослушивания в понедельник, среду и пятницу. Учтите, что в данных есть информация только о прослушиваниях только за эти дни.\n"
   ]
  },
  {
   "cell_type": "code",
   "execution_count": 106,
   "metadata": {
    "id": "uZMKjiJz_Zcu"
   },
   "outputs": [
    {
     "data": {
      "text/plain": [
       "day\n",
       "Friday       21840\n",
       "Monday       21354\n",
       "Wednesday    18059\n",
       "Name: genre, dtype: int64"
      ]
     },
     "execution_count": 106,
     "metadata": {},
     "output_type": "execute_result"
    }
   ],
   "source": [
    "# Подсчёт прослушиваний в каждый из трёх дней\n",
    "\n",
    "day_grouping = df.groupby('day')['genre'].count()\n",
    "day_grouping"
   ]
  },
  {
   "cell_type": "markdown",
   "metadata": {},
   "source": [
    "<font color='DarkBlue'><b>Комментарий ревьюера</b></font><br>\n",
    "<font color='Red'>🛠 Аналогичная ошибка. 🙄</font>"
   ]
  },
  {
   "cell_type": "markdown",
   "metadata": {
    "id": "cC2tNrlL_Zcu"
   },
   "source": [
    "В среднем пользователи из двух городов менее активны по средам. Но картина может измениться, если рассмотреть каждый город в отдельности."
   ]
  },
  {
   "cell_type": "markdown",
   "metadata": {
    "id": "POzs8bGa_Zcu"
   },
   "source": [
    "Вы видели, как работает группировка по городу и по дням недели. Теперь напишите функцию, которая объединит два эти расчёта.\n",
    "\n",
    "Создайте функцию `number_tracks()`, которая посчитает прослушивания для заданного дня и города. Ей понадобятся два параметра:\n",
    "* день недели,\n",
    "* название города.\n",
    "\n",
    "В функции сохраните в переменную строки исходной таблицы, у которых значение:\n",
    "  * в колонке `day` равно параметру `day`,\n",
    "  * в колонке `city` равно параметру `city`.\n",
    "\n",
    "Для этого примените последовательную фильтрацию с логической индексацией.\n",
    "\n",
    "Затем посчитайте значения в столбце `user_id` получившейся таблицы. Результат сохраните в новую переменную. Верните эту переменную из функции."
   ]
  },
  {
   "cell_type": "code",
   "execution_count": 24,
   "metadata": {
    "id": "Nz3GdQB1_Zcu"
   },
   "outputs": [],
   "source": [
    "# <создание функции number_tracks()>\n",
    "# Объявляется функция с двумя параметрами: day, city.\n",
    "# В переменной track_list сохраняются те строки таблицы df, для которых \n",
    "# значение в столбце 'day' равно параметру day и одновременно значение\n",
    "# в столбце 'city' равно параметру city (используйте последовательную фильтрацию\n",
    "# с помощью логической индексации).\n",
    "# В переменной track_list_count сохраняется число значений столбца 'user_id',\n",
    "# рассчитанное методом count() для таблицы track_list.\n",
    "# Функция возвращает число - значение track_list_count.\n",
    "\n",
    "# Функция для подсчёта прослушиваний для конкретного города и дня.\n",
    "# С помощью последовательной фильтрации с логической индексацией она \n",
    "# сначала получит из исходной таблицы строки с нужным днём,\n",
    "# затем из результата отфильтрует строки с нужным городом,\n",
    "# методом count() посчитает количество значений в колонке user_id. \n",
    "# Это количество функция вернёт в качестве результата\n",
    "\n",
    "\n",
    "def number_tracks(day, city):\n",
    "    track_list = df[df['day'] == day]\n",
    "    track_list = track_list[track_list['city'] == city]\n",
    "    track_list_count = track_list['user_id'].count()\n",
    "    return track_list_count"
   ]
  },
  {
   "cell_type": "markdown",
   "metadata": {},
   "source": [
    "<font color='DarkBlue'><b>Комментарий ревьюера</b></font><br>\n",
    "<font color='DarkGreen'>👌 Замечательно! Функция написана правильно. 👍</font>"
   ]
  },
  {
   "cell_type": "markdown",
   "metadata": {
    "id": "ytf7xFrFJQ2r"
   },
   "source": [
    "Вызовите `number_tracks()` шесть раз, меняя значение параметров — так, чтобы получить данные для каждого города в каждый из трёх дней."
   ]
  },
  {
   "cell_type": "code",
   "execution_count": 25,
   "metadata": {
    "id": "rJcRATNQ_Zcu"
   },
   "outputs": [
    {
     "data": {
      "text/plain": [
       "15740"
      ]
     },
     "execution_count": 25,
     "metadata": {},
     "output_type": "execute_result"
    }
   ],
   "source": [
    "# количество прослушиваний в Москве по понедельникам\n",
    "number_tracks('Monday', 'Moscow')"
   ]
  },
  {
   "cell_type": "code",
   "execution_count": 26,
   "metadata": {
    "id": "hq_ncZ5T_Zcu"
   },
   "outputs": [
    {
     "data": {
      "text/plain": [
       "5614"
      ]
     },
     "execution_count": 26,
     "metadata": {},
     "output_type": "execute_result"
    }
   ],
   "source": [
    "# количество прослушиваний в Санкт-Петербурге по понедельникам\n",
    "number_tracks('Monday', 'Saint-Petersburg')"
   ]
  },
  {
   "cell_type": "code",
   "execution_count": 27,
   "metadata": {
    "id": "_NTy2VPU_Zcu"
   },
   "outputs": [
    {
     "data": {
      "text/plain": [
       "11056"
      ]
     },
     "execution_count": 27,
     "metadata": {},
     "output_type": "execute_result"
    }
   ],
   "source": [
    "# количество прослушиваний в Москве по средам\n",
    "number_tracks('Wednesday', 'Moscow')"
   ]
  },
  {
   "cell_type": "code",
   "execution_count": 28,
   "metadata": {
    "id": "j2y3TAwo_Zcu"
   },
   "outputs": [
    {
     "data": {
      "text/plain": [
       "7003"
      ]
     },
     "execution_count": 28,
     "metadata": {},
     "output_type": "execute_result"
    }
   ],
   "source": [
    "# количество прослушиваний в Санкт-Петербурге по средам\n",
    "number_tracks('Wednesday', 'Saint-Petersburg')"
   ]
  },
  {
   "cell_type": "code",
   "execution_count": 29,
   "metadata": {
    "id": "vYDw5u_K_Zcu"
   },
   "outputs": [
    {
     "data": {
      "text/plain": [
       "15945"
      ]
     },
     "execution_count": 29,
     "metadata": {},
     "output_type": "execute_result"
    }
   ],
   "source": [
    "# количество прослушиваний в Москве по пятницам\n",
    "number_tracks('Friday', 'Moscow')"
   ]
  },
  {
   "cell_type": "code",
   "execution_count": 30,
   "metadata": {
    "id": "8_yzFtW3_Zcu"
   },
   "outputs": [
    {
     "data": {
      "text/plain": [
       "5895"
      ]
     },
     "execution_count": 30,
     "metadata": {},
     "output_type": "execute_result"
    }
   ],
   "source": [
    "# количество прослушиваний в Санкт-Петербурге по пятницам\n",
    "number_tracks('Friday', 'Saint-Petersburg')"
   ]
  },
  {
   "cell_type": "markdown",
   "metadata": {},
   "source": [
    "<font color='DarkBlue'><b>Комментарий ревьюера</b></font><br>\n",
    "<font color='DarkGreen'>👌 Хорошо. Все вызовы функции сделаны правильно.</font><br>\n",
    "<font color='DarkMagenta'>👉 Можно было бы сделать два списка, один с городами, второй с днем недели. И циклом с перебором по спискам вывести все значения.</font>"
   ]
  },
  {
   "cell_type": "markdown",
   "metadata": {
    "id": "7QXffbO-_Zcu"
   },
   "source": [
    "Создайте c помощью конструктора `pd.DataFrame` таблицу, где\n",
    "* названия колонок — `['city', 'monday', 'wednesday', 'friday']`;\n",
    "* данные — результаты, которые вы получили с помощью `number_tracks`."
   ]
  },
  {
   "cell_type": "code",
   "execution_count": 31,
   "metadata": {
    "id": "APAcLpOr_Zcu"
   },
   "outputs": [
    {
     "data": {
      "text/html": [
       "<div>\n",
       "<style scoped>\n",
       "    .dataframe tbody tr th:only-of-type {\n",
       "        vertical-align: middle;\n",
       "    }\n",
       "\n",
       "    .dataframe tbody tr th {\n",
       "        vertical-align: top;\n",
       "    }\n",
       "\n",
       "    .dataframe thead th {\n",
       "        text-align: right;\n",
       "    }\n",
       "</style>\n",
       "<table border=\"1\" class=\"dataframe\">\n",
       "  <thead>\n",
       "    <tr style=\"text-align: right;\">\n",
       "      <th></th>\n",
       "      <th>city</th>\n",
       "      <th>monday</th>\n",
       "      <th>wednesday</th>\n",
       "      <th>friday</th>\n",
       "    </tr>\n",
       "  </thead>\n",
       "  <tbody>\n",
       "    <tr>\n",
       "      <td>0</td>\n",
       "      <td>Moscow</td>\n",
       "      <td>15740</td>\n",
       "      <td>11056</td>\n",
       "      <td>15945</td>\n",
       "    </tr>\n",
       "    <tr>\n",
       "      <td>1</td>\n",
       "      <td>Saint-Petersburg</td>\n",
       "      <td>5614</td>\n",
       "      <td>7003</td>\n",
       "      <td>5895</td>\n",
       "    </tr>\n",
       "  </tbody>\n",
       "</table>\n",
       "</div>"
      ],
      "text/plain": [
       "               city  monday  wednesday  friday\n",
       "0            Moscow   15740      11056   15945\n",
       "1  Saint-Petersburg    5614       7003    5895"
      ]
     },
     "metadata": {},
     "output_type": "display_data"
    }
   ],
   "source": [
    "# Таблица с результатами\n",
    "column = ['city', 'monday', 'wednesday', 'friday']\n",
    "data = [['Moscow', 15740, 11056, 15945],\n",
    "       ['Saint-Petersburg', 5614, 7003, 5895]]\n",
    "new_df = pd.DataFrame(data = data, columns = column)\n",
    "\n",
    "display(new_df)"
   ]
  },
  {
   "cell_type": "markdown",
   "metadata": {},
   "source": [
    "<font color='DarkBlue'><b>Комментарий ревьюера</b></font><br>\n",
    "<font color='DarkGreen'>👌 Очень хорошо.</font><br>\n",
    "<font color='DarkMagenta'>👉 Можно было бы сделать по другому, не вводить значения вручную, а использовать тобой написанную функцию number_tracks. А то функцию написали, но не используем. 😉</font><br><font color='DarkMagenta'>👉 <b>display()</b> 😒</font>"
   ]
  },
  {
   "cell_type": "markdown",
   "metadata": {
    "id": "-EgPIHYu_Zcu"
   },
   "source": [
    "**Выводы**\n",
    "\n",
    "Данные показывают разницу поведения пользователей:\n",
    "\n",
    "- В Москве пик прослушиваний приходится на понедельник и пятницу, а в среду заметен спад.\n",
    "- В Петербурге, наоборот, больше слушают музыку по средам. Активность в понедельник и пятницу здесь почти в равной мере уступает среде.\n",
    "\n",
    "Значит, данные говорят в пользу первой гипотезы."
   ]
  },
  {
   "cell_type": "markdown",
   "metadata": {
    "id": "atZAxtq4_Zcu"
   },
   "source": [
    "### Музыка в начале и в конце недели"
   ]
  },
  {
   "cell_type": "markdown",
   "metadata": {
    "id": "eXrQqXFH_Zcu"
   },
   "source": [
    "Согласно второй гипотезе, утром в понедельник в Москве преобладают одни жанры, а в Петербурге — другие. Так же и вечером пятницы преобладают разные жанры — в зависимости от города."
   ]
  },
  {
   "cell_type": "markdown",
   "metadata": {
    "id": "S8UcW6Hw_Zcu"
   },
   "source": [
    "Сохраните таблицы с данными в две переменные:\n",
    "* по Москве — в `moscow_general`;\n",
    "* по Санкт-Петербургу — в `spb_general`."
   ]
  },
  {
   "cell_type": "code",
   "execution_count": 32,
   "metadata": {
    "id": "qeaFfM_P_Zcu"
   },
   "outputs": [
    {
     "data": {
      "text/html": [
       "<div>\n",
       "<style scoped>\n",
       "    .dataframe tbody tr th:only-of-type {\n",
       "        vertical-align: middle;\n",
       "    }\n",
       "\n",
       "    .dataframe tbody tr th {\n",
       "        vertical-align: top;\n",
       "    }\n",
       "\n",
       "    .dataframe thead th {\n",
       "        text-align: right;\n",
       "    }\n",
       "</style>\n",
       "<table border=\"1\" class=\"dataframe\">\n",
       "  <thead>\n",
       "    <tr style=\"text-align: right;\">\n",
       "      <th></th>\n",
       "      <th>user_id</th>\n",
       "      <th>track</th>\n",
       "      <th>artist</th>\n",
       "      <th>genre</th>\n",
       "      <th>city</th>\n",
       "      <th>time</th>\n",
       "      <th>day</th>\n",
       "    </tr>\n",
       "  </thead>\n",
       "  <tbody>\n",
       "    <tr>\n",
       "      <td>1</td>\n",
       "      <td>55204538</td>\n",
       "      <td>Delayed Because of Accident</td>\n",
       "      <td>Andreas Rönnberg</td>\n",
       "      <td>rock</td>\n",
       "      <td>Moscow</td>\n",
       "      <td>14:07:09</td>\n",
       "      <td>Friday</td>\n",
       "    </tr>\n",
       "    <tr>\n",
       "      <td>4</td>\n",
       "      <td>E2DC1FAE</td>\n",
       "      <td>Soul People</td>\n",
       "      <td>Space Echo</td>\n",
       "      <td>dance</td>\n",
       "      <td>Moscow</td>\n",
       "      <td>08:34:34</td>\n",
       "      <td>Monday</td>\n",
       "    </tr>\n",
       "    <tr>\n",
       "      <td>6</td>\n",
       "      <td>4CB90AA5</td>\n",
       "      <td>True</td>\n",
       "      <td>Roman Messer</td>\n",
       "      <td>dance</td>\n",
       "      <td>Moscow</td>\n",
       "      <td>13:00:07</td>\n",
       "      <td>Wednesday</td>\n",
       "    </tr>\n",
       "    <tr>\n",
       "      <td>7</td>\n",
       "      <td>F03E1C1F</td>\n",
       "      <td>Feeling This Way</td>\n",
       "      <td>Polina Griffith</td>\n",
       "      <td>dance</td>\n",
       "      <td>Moscow</td>\n",
       "      <td>20:47:49</td>\n",
       "      <td>Wednesday</td>\n",
       "    </tr>\n",
       "    <tr>\n",
       "      <td>8</td>\n",
       "      <td>8FA1D3BE</td>\n",
       "      <td>И вновь продолжается бой</td>\n",
       "      <td>unknown</td>\n",
       "      <td>ruspop</td>\n",
       "      <td>Moscow</td>\n",
       "      <td>09:17:40</td>\n",
       "      <td>Friday</td>\n",
       "    </tr>\n",
       "    <tr>\n",
       "      <td>...</td>\n",
       "      <td>...</td>\n",
       "      <td>...</td>\n",
       "      <td>...</td>\n",
       "      <td>...</td>\n",
       "      <td>...</td>\n",
       "      <td>...</td>\n",
       "      <td>...</td>\n",
       "    </tr>\n",
       "    <tr>\n",
       "      <td>61247</td>\n",
       "      <td>83A474E7</td>\n",
       "      <td>I Worship Only What You Bleed</td>\n",
       "      <td>The Black Dahlia Murder</td>\n",
       "      <td>extrememetal</td>\n",
       "      <td>Moscow</td>\n",
       "      <td>21:07:12</td>\n",
       "      <td>Monday</td>\n",
       "    </tr>\n",
       "    <tr>\n",
       "      <td>61248</td>\n",
       "      <td>729CBB09</td>\n",
       "      <td>My Name</td>\n",
       "      <td>McLean</td>\n",
       "      <td>rnb</td>\n",
       "      <td>Moscow</td>\n",
       "      <td>13:32:28</td>\n",
       "      <td>Wednesday</td>\n",
       "    </tr>\n",
       "    <tr>\n",
       "      <td>61250</td>\n",
       "      <td>C5E3A0D5</td>\n",
       "      <td>Jalopiina</td>\n",
       "      <td>unknown</td>\n",
       "      <td>industrial</td>\n",
       "      <td>Moscow</td>\n",
       "      <td>20:09:26</td>\n",
       "      <td>Friday</td>\n",
       "    </tr>\n",
       "    <tr>\n",
       "      <td>61251</td>\n",
       "      <td>321D0506</td>\n",
       "      <td>Freight Train</td>\n",
       "      <td>Chas McDevitt</td>\n",
       "      <td>rock</td>\n",
       "      <td>Moscow</td>\n",
       "      <td>21:43:59</td>\n",
       "      <td>Friday</td>\n",
       "    </tr>\n",
       "    <tr>\n",
       "      <td>61252</td>\n",
       "      <td>3A64EF84</td>\n",
       "      <td>Tell Me Sweet Little Lies</td>\n",
       "      <td>Monica Lopez</td>\n",
       "      <td>country</td>\n",
       "      <td>Moscow</td>\n",
       "      <td>21:59:46</td>\n",
       "      <td>Friday</td>\n",
       "    </tr>\n",
       "  </tbody>\n",
       "</table>\n",
       "<p>42741 rows × 7 columns</p>\n",
       "</div>"
      ],
      "text/plain": [
       "        user_id                          track                   artist  \\\n",
       "1      55204538    Delayed Because of Accident         Andreas Rönnberg   \n",
       "4      E2DC1FAE                    Soul People               Space Echo   \n",
       "6      4CB90AA5                           True             Roman Messer   \n",
       "7      F03E1C1F               Feeling This Way          Polina Griffith   \n",
       "8      8FA1D3BE       И вновь продолжается бой                  unknown   \n",
       "...         ...                            ...                      ...   \n",
       "61247  83A474E7  I Worship Only What You Bleed  The Black Dahlia Murder   \n",
       "61248  729CBB09                        My Name                   McLean   \n",
       "61250  C5E3A0D5                      Jalopiina                  unknown   \n",
       "61251  321D0506                  Freight Train            Chas McDevitt   \n",
       "61252  3A64EF84      Tell Me Sweet Little Lies             Monica Lopez   \n",
       "\n",
       "              genre    city      time        day  \n",
       "1              rock  Moscow  14:07:09     Friday  \n",
       "4             dance  Moscow  08:34:34     Monday  \n",
       "6             dance  Moscow  13:00:07  Wednesday  \n",
       "7             dance  Moscow  20:47:49  Wednesday  \n",
       "8            ruspop  Moscow  09:17:40     Friday  \n",
       "...             ...     ...       ...        ...  \n",
       "61247  extrememetal  Moscow  21:07:12     Monday  \n",
       "61248           rnb  Moscow  13:32:28  Wednesday  \n",
       "61250    industrial  Moscow  20:09:26     Friday  \n",
       "61251          rock  Moscow  21:43:59     Friday  \n",
       "61252       country  Moscow  21:59:46     Friday  \n",
       "\n",
       "[42741 rows x 7 columns]"
      ]
     },
     "metadata": {},
     "output_type": "display_data"
    }
   ],
   "source": [
    "# получение таблицы moscow_general из тех строк таблицы df, \n",
    "# для которых значение в столбце 'city' равно 'Moscow'\n",
    "\n",
    "moscow_general = df[df['city'] == 'Moscow']\n",
    "display(moscow_general)\n"
   ]
  },
  {
   "cell_type": "markdown",
   "metadata": {},
   "source": [
    "<font color='DarkBlue'><b>Комментарий ревьюера</b></font><br>\n",
    "<font color='DarkGreen'>👌 Правильно используется логическая индексация.</font><br>\n",
    "<font color='DarkMagenta'>👉 <b>display()</b> 😒</font>"
   ]
  },
  {
   "cell_type": "code",
   "execution_count": 33,
   "metadata": {
    "id": "ORaVRKto_Zcu"
   },
   "outputs": [
    {
     "data": {
      "text/html": [
       "<div>\n",
       "<style scoped>\n",
       "    .dataframe tbody tr th:only-of-type {\n",
       "        vertical-align: middle;\n",
       "    }\n",
       "\n",
       "    .dataframe tbody tr th {\n",
       "        vertical-align: top;\n",
       "    }\n",
       "\n",
       "    .dataframe thead th {\n",
       "        text-align: right;\n",
       "    }\n",
       "</style>\n",
       "<table border=\"1\" class=\"dataframe\">\n",
       "  <thead>\n",
       "    <tr style=\"text-align: right;\">\n",
       "      <th></th>\n",
       "      <th>user_id</th>\n",
       "      <th>track</th>\n",
       "      <th>artist</th>\n",
       "      <th>genre</th>\n",
       "      <th>city</th>\n",
       "      <th>time</th>\n",
       "      <th>day</th>\n",
       "    </tr>\n",
       "  </thead>\n",
       "  <tbody>\n",
       "    <tr>\n",
       "      <td>0</td>\n",
       "      <td>FFB692EC</td>\n",
       "      <td>Kamigata To Boots</td>\n",
       "      <td>The Mass Missile</td>\n",
       "      <td>rock</td>\n",
       "      <td>Saint-Petersburg</td>\n",
       "      <td>20:28:33</td>\n",
       "      <td>Wednesday</td>\n",
       "    </tr>\n",
       "    <tr>\n",
       "      <td>2</td>\n",
       "      <td>20EC38</td>\n",
       "      <td>Funiculì funiculà</td>\n",
       "      <td>Mario Lanza</td>\n",
       "      <td>pop</td>\n",
       "      <td>Saint-Petersburg</td>\n",
       "      <td>20:58:07</td>\n",
       "      <td>Wednesday</td>\n",
       "    </tr>\n",
       "    <tr>\n",
       "      <td>3</td>\n",
       "      <td>A3DD03C9</td>\n",
       "      <td>Dragons in the Sunset</td>\n",
       "      <td>Fire + Ice</td>\n",
       "      <td>folk</td>\n",
       "      <td>Saint-Petersburg</td>\n",
       "      <td>08:37:09</td>\n",
       "      <td>Monday</td>\n",
       "    </tr>\n",
       "    <tr>\n",
       "      <td>5</td>\n",
       "      <td>842029A1</td>\n",
       "      <td>Преданная</td>\n",
       "      <td>IMPERVTOR</td>\n",
       "      <td>rusrap</td>\n",
       "      <td>Saint-Petersburg</td>\n",
       "      <td>13:09:41</td>\n",
       "      <td>Friday</td>\n",
       "    </tr>\n",
       "    <tr>\n",
       "      <td>9</td>\n",
       "      <td>E772D5C0</td>\n",
       "      <td>Pessimist</td>\n",
       "      <td>unknown</td>\n",
       "      <td>dance</td>\n",
       "      <td>Saint-Petersburg</td>\n",
       "      <td>21:20:49</td>\n",
       "      <td>Wednesday</td>\n",
       "    </tr>\n",
       "    <tr>\n",
       "      <td>...</td>\n",
       "      <td>...</td>\n",
       "      <td>...</td>\n",
       "      <td>...</td>\n",
       "      <td>...</td>\n",
       "      <td>...</td>\n",
       "      <td>...</td>\n",
       "      <td>...</td>\n",
       "    </tr>\n",
       "    <tr>\n",
       "      <td>61239</td>\n",
       "      <td>D94F810B</td>\n",
       "      <td>Theme from the Walking Dead</td>\n",
       "      <td>Proyecto Halloween</td>\n",
       "      <td>film</td>\n",
       "      <td>Saint-Petersburg</td>\n",
       "      <td>21:14:40</td>\n",
       "      <td>Monday</td>\n",
       "    </tr>\n",
       "    <tr>\n",
       "      <td>61240</td>\n",
       "      <td>BC8EC5CF</td>\n",
       "      <td>Red Lips: Gta (Rover Rework)</td>\n",
       "      <td>Rover</td>\n",
       "      <td>electronic</td>\n",
       "      <td>Saint-Petersburg</td>\n",
       "      <td>21:06:50</td>\n",
       "      <td>Monday</td>\n",
       "    </tr>\n",
       "    <tr>\n",
       "      <td>61241</td>\n",
       "      <td>29E04611</td>\n",
       "      <td>Bre Petrunko</td>\n",
       "      <td>Perunika Trio</td>\n",
       "      <td>world</td>\n",
       "      <td>Saint-Petersburg</td>\n",
       "      <td>13:56:00</td>\n",
       "      <td>Monday</td>\n",
       "    </tr>\n",
       "    <tr>\n",
       "      <td>61242</td>\n",
       "      <td>1B91C621</td>\n",
       "      <td>(Hello) Cloud Mountain</td>\n",
       "      <td>sleepmakeswaves</td>\n",
       "      <td>postrock</td>\n",
       "      <td>Saint-Petersburg</td>\n",
       "      <td>09:22:13</td>\n",
       "      <td>Monday</td>\n",
       "    </tr>\n",
       "    <tr>\n",
       "      <td>61249</td>\n",
       "      <td>D08D4A55</td>\n",
       "      <td>Maybe One Day (feat. Black Spade)</td>\n",
       "      <td>Blu &amp; Exile</td>\n",
       "      <td>correct</td>\n",
       "      <td>Saint-Petersburg</td>\n",
       "      <td>10:00:00</td>\n",
       "      <td>Monday</td>\n",
       "    </tr>\n",
       "  </tbody>\n",
       "</table>\n",
       "<p>18512 rows × 7 columns</p>\n",
       "</div>"
      ],
      "text/plain": [
       "        user_id                              track              artist  \\\n",
       "0      FFB692EC                  Kamigata To Boots    The Mass Missile   \n",
       "2        20EC38                  Funiculì funiculà         Mario Lanza   \n",
       "3      A3DD03C9              Dragons in the Sunset          Fire + Ice   \n",
       "5      842029A1                          Преданная           IMPERVTOR   \n",
       "9      E772D5C0                          Pessimist             unknown   \n",
       "...         ...                                ...                 ...   \n",
       "61239  D94F810B        Theme from the Walking Dead  Proyecto Halloween   \n",
       "61240  BC8EC5CF       Red Lips: Gta (Rover Rework)               Rover   \n",
       "61241  29E04611                       Bre Petrunko       Perunika Trio   \n",
       "61242  1B91C621             (Hello) Cloud Mountain     sleepmakeswaves   \n",
       "61249  D08D4A55  Maybe One Day (feat. Black Spade)         Blu & Exile   \n",
       "\n",
       "            genre              city      time        day  \n",
       "0            rock  Saint-Petersburg  20:28:33  Wednesday  \n",
       "2             pop  Saint-Petersburg  20:58:07  Wednesday  \n",
       "3            folk  Saint-Petersburg  08:37:09     Monday  \n",
       "5          rusrap  Saint-Petersburg  13:09:41     Friday  \n",
       "9           dance  Saint-Petersburg  21:20:49  Wednesday  \n",
       "...           ...               ...       ...        ...  \n",
       "61239        film  Saint-Petersburg  21:14:40     Monday  \n",
       "61240  electronic  Saint-Petersburg  21:06:50     Monday  \n",
       "61241       world  Saint-Petersburg  13:56:00     Monday  \n",
       "61242    postrock  Saint-Petersburg  09:22:13     Monday  \n",
       "61249     correct  Saint-Petersburg  10:00:00     Monday  \n",
       "\n",
       "[18512 rows x 7 columns]"
      ]
     },
     "metadata": {},
     "output_type": "display_data"
    }
   ],
   "source": [
    "# получение таблицы spb_general из тех строк таблицы df,\n",
    "# для которых значение в столбце 'city' равно 'Saint-Petersburg'\n",
    "\n",
    "spb_general = df[df['city'] == 'Saint-Petersburg']\n",
    "display(spb_general)"
   ]
  },
  {
   "cell_type": "markdown",
   "metadata": {},
   "source": [
    "<font color='DarkBlue'><b>Комментарий ревьюера</b></font><br><font color='DarkMagenta'>👉 <b>display()</b> 😒</font>"
   ]
  },
  {
   "cell_type": "markdown",
   "metadata": {
    "id": "MEJV-CX2_Zcu"
   },
   "source": [
    "Создайте функцию `genre_weekday()` с четырьмя параметрами:\n",
    "* таблица (датафрейм) с данными,\n",
    "* день недели,\n",
    "* начальная временная метка в формате 'hh:mm', \n",
    "* последняя временная метка в формате 'hh:mm'.\n",
    "\n",
    "Функция должна вернуть информацию о топ-10 жанров тех треков, которые прослушивали в указанный день, в промежутке между двумя отметками времени."
   ]
  },
  {
   "cell_type": "code",
   "execution_count": 34,
   "metadata": {
    "id": "laJT9BYl_Zcu"
   },
   "outputs": [],
   "source": [
    "# Объявление функции genre_weekday() с параметрами table, day, time1, time2,\n",
    "# которая возвращает информацию о самых популярных жанрах в указанный день в\n",
    "# заданное время:\n",
    "# 1) в переменную genre_df сохраняются те строки переданного датафрейма table, для\n",
    "#    которых одновременно:\n",
    "#    - значение в столбце day равно значению аргумента day\n",
    "#    - значение в столбце time больше значения аргумента time1\n",
    "#    - значение в столбце time меньше значения аргумента time2\n",
    "#    Используйте последовательную фильтрацию с помощью логической индексации.\n",
    "# 2) сгруппировать датафрейм genre_df по столбцу genre, взять один из его\n",
    "#    столбцов и посчитать методом count() количество записей для каждого из\n",
    "#    присутствующих жанров, получившийся Series записать в переменную\n",
    "#    genre_df_count\n",
    "# 3) отсортировать genre_df_count по убыванию встречаемости и сохранить\n",
    "#    в переменную genre_df_sorted\n",
    "# 4) вернуть Series из 10 первых значений genre_df_sorted, это будут топ-10\n",
    "#    популярных жанров (в указанный день, в заданное время)\n",
    "\n",
    "def genre_weekday(table, day, time1, time2):\n",
    "    genre_df = table[table['day'] == day]\n",
    "    genre_df = genre_df[genre_df['time'] > time1]\n",
    "    genre_df = genre_df[genre_df['time'] < time2]\n",
    "    genre_df_count = genre_df.groupby('genre')['track'].count()\n",
    "    genre_df_sorted = genre_df_count.sort_values(ascending=False)\n",
    "    return genre_df_sorted.head(10)"
   ]
  },
  {
   "cell_type": "markdown",
   "metadata": {},
   "source": [
    "<font color='DarkBlue'><b>Комментарий ревьюера</b></font><br>\n",
    "<font color='DarkGreen'>👌 Хорошо сделана фильтрация 😉. Хочу обратить внимание, что при подаче аргументов времени данные равные этому времени не будут обработаны. Обращай внимание на операторы сравнения '<' и '=<'. </font><br>\n",
    "<font color='DarkMagenta'>👉 И не обычное применение метода .haed(10). Ожидалось использование среза. Да, результат одинаковый, но у потенциального работодателя могут возникнуть вопросы по такому коду 😒.</font>"
   ]
  },
  {
   "cell_type": "markdown",
   "metadata": {
    "id": "la2s2_PF_Zcu"
   },
   "source": [
    "Cравните результаты функции `genre_weekday()` для Москвы и Санкт-Петербурга в понедельник утром (с 7:00 до 11:00) и в пятницу вечером (с 17:00 до 23:00):"
   ]
  },
  {
   "cell_type": "code",
   "execution_count": 35,
   "metadata": {
    "id": "yz7itPUQ_Zcu"
   },
   "outputs": [
    {
     "data": {
      "text/plain": [
       "genre\n",
       "pop            781\n",
       "dance          549\n",
       "electronic     480\n",
       "rock           474\n",
       "correct        282\n",
       "ruspop         186\n",
       "world          181\n",
       "rusrap         175\n",
       "alternative    164\n",
       "unknown        161\n",
       "Name: track, dtype: int64"
      ]
     },
     "execution_count": 35,
     "metadata": {},
     "output_type": "execute_result"
    }
   ],
   "source": [
    "# вызов функции для утра понедельника в Москве (вместо df — таблица moscow_general)\n",
    "# объекты, хранящие время, являются строками и сравниваются как строки\n",
    "# пример вызова: genre_weekday(moscow_general, 'Monday', '07:00', '11:00')\n",
    "\n",
    "genre_weekday(moscow_general, 'Monday', '07:00', '11:00')"
   ]
  },
  {
   "cell_type": "code",
   "execution_count": 36,
   "metadata": {
    "id": "kwUcHPdy_Zcu"
   },
   "outputs": [
    {
     "data": {
      "text/plain": [
       "genre\n",
       "pop            218\n",
       "dance          182\n",
       "rock           162\n",
       "electronic     147\n",
       "correct         79\n",
       "ruspop          64\n",
       "alternative     58\n",
       "rusrap          55\n",
       "jazz            44\n",
       "classical       40\n",
       "Name: track, dtype: int64"
      ]
     },
     "execution_count": 36,
     "metadata": {},
     "output_type": "execute_result"
    }
   ],
   "source": [
    "# вызов функции для утра понедельника в Петербурге (вместо df — таблица spb_general)\n",
    "genre_weekday(spb_general, 'Monday', '07:00', '11:00')"
   ]
  },
  {
   "cell_type": "code",
   "execution_count": 37,
   "metadata": {
    "id": "EzXVRE1o_Zcu"
   },
   "outputs": [
    {
     "data": {
      "text/plain": [
       "genre\n",
       "pop            713\n",
       "rock           517\n",
       "dance          495\n",
       "electronic     482\n",
       "correct        267\n",
       "world          208\n",
       "ruspop         170\n",
       "alternative    163\n",
       "classical      163\n",
       "rusrap         142\n",
       "Name: track, dtype: int64"
      ]
     },
     "execution_count": 37,
     "metadata": {},
     "output_type": "execute_result"
    }
   ],
   "source": [
    "# вызов функции для вечера пятницы в Москве\n",
    "genre_weekday(moscow_general, 'Friday', '17:00', '23:00')"
   ]
  },
  {
   "cell_type": "code",
   "execution_count": 38,
   "metadata": {
    "id": "JZaEKu5v_Zcu"
   },
   "outputs": [
    {
     "data": {
      "text/plain": [
       "genre\n",
       "pop            748\n",
       "dance          639\n",
       "rock           593\n",
       "electronic     556\n",
       "correct        322\n",
       "classical      222\n",
       "alternative    201\n",
       "rusrap         173\n",
       "ruspop         168\n",
       "world          157\n",
       "Name: track, dtype: int64"
      ]
     },
     "execution_count": 38,
     "metadata": {},
     "output_type": "execute_result"
    }
   ],
   "source": [
    "# вызов функции для вечера пятницы в Петербурге\n",
    "genre_weekday(spb_general, 'Friday', '07:00', '23:00')"
   ]
  },
  {
   "cell_type": "markdown",
   "metadata": {},
   "source": [
    "<font color='DarkBlue'><b>Комментарий ревьюера</b></font><br>\n",
    "<font color='DarkGreen'>👌 Отлично! С помощью функции мы получили всю нужную информацию!</font>"
   ]
  },
  {
   "cell_type": "markdown",
   "metadata": {
    "id": "wrCe4MNX_Zcu"
   },
   "source": [
    "**Выводы**\n",
    "\n",
    "Если сравнить топ-10 жанров в понедельник утром, можно сделать такие выводы:\n",
    "\n",
    "1. В Москве и Петербурге слушают похожую музыку. Единственное отличие — в московский рейтинг вошёл жанр “world”, а в петербургский — джаз и классика.\n",
    "\n",
    "2. В Москве пропущенных значений оказалось так много, что значение `'unknown'` заняло десятое место среди самых популярных жанров. Значит, пропущенные значения занимают существенную долю в данных и угрожают достоверности исследования.\n",
    "\n",
    "Вечер пятницы не меняет эту картину. Некоторые жанры поднимаются немного выше, другие спускаются, но в целом топ-10 остаётся тем же самым.\n",
    "\n",
    "Таким образом, вторая гипотеза подтвердилась лишь частично:\n",
    "* Пользователи слушают похожую музыку в начале недели и в конце.\n",
    "* Разница между Москвой и Петербургом не слишком выражена. В Москве чаще слушают русскую популярную музыку, в Петербурге — джаз.\n",
    "\n",
    "Однако пропуски в данных ставят под сомнение этот результат. В Москве их так много, что рейтинг топ-10 мог бы выглядеть иначе, если бы не утерянные  данные о жанрах."
   ]
  },
  {
   "cell_type": "markdown",
   "metadata": {
    "id": "JolODAqr_Zcu"
   },
   "source": [
    "### Жанровые предпочтения в Москве и Петербурге\n",
    "\n",
    "Гипотеза: Петербург — столица рэпа, музыку этого жанра там слушают чаще, чем в Москве.  А Москва — город контрастов, в котором, тем не менее, преобладает поп-музыка."
   ]
  },
  {
   "cell_type": "markdown",
   "metadata": {
    "id": "DlegSvaT_Zcu"
   },
   "source": [
    "Сгруппируйте таблицу `moscow_general` по жанру и посчитайте прослушивания треков каждого жанра методом `count()`. Затем отсортируйте результат в порядке убывания и сохраните его в таблице `moscow_genres`."
   ]
  },
  {
   "cell_type": "code",
   "execution_count": 39,
   "metadata": {
    "id": "r19lIPke_Zcu"
   },
   "outputs": [],
   "source": [
    "# одной строкой: группировка таблицы moscow_general по столбцу 'genre', \n",
    "# подсчёт числа значений 'genre' в этой группировке методом count(), \n",
    "# сортировка получившегося Series в порядке убывания и сохранение в moscow_genres\n",
    "\n",
    "moscow_genres = moscow_general.groupby('genre')['genre'].count().sort_values(ascending=False)"
   ]
  },
  {
   "cell_type": "markdown",
   "metadata": {
    "id": "6kMuomxTiIr8"
   },
   "source": [
    "Выведите на экран первые десять строк `moscow_genres`:"
   ]
  },
  {
   "cell_type": "code",
   "execution_count": 40,
   "metadata": {
    "id": "WhCSooF8_Zcv"
   },
   "outputs": [
    {
     "data": {
      "text/plain": [
       "genre\n",
       "pop            5892\n",
       "dance          4435\n",
       "rock           3965\n",
       "electronic     3786\n",
       "correct        2043\n",
       "classical      1616\n",
       "world          1432\n",
       "alternative    1379\n",
       "ruspop         1372\n",
       "rusrap         1161\n",
       "Name: genre, dtype: int64"
      ]
     },
     "execution_count": 40,
     "metadata": {},
     "output_type": "execute_result"
    }
   ],
   "source": [
    "# просмотр первых 10 строк moscow_genres\n",
    "moscow_genres.head(10)"
   ]
  },
  {
   "cell_type": "markdown",
   "metadata": {
    "id": "cnPG2vnN_Zcv"
   },
   "source": [
    "Теперь повторите то же и для Петербурга.\n",
    "\n",
    "Сгруппируйте таблицу `spb_general` по жанру. Посчитайте прослушивания треков каждого жанра. Результат отсортируйте в порядке убывания и сохраните в таблице `spb_genres`:\n"
   ]
  },
  {
   "cell_type": "code",
   "execution_count": 41,
   "metadata": {
    "id": "gluLIpE7_Zcv"
   },
   "outputs": [],
   "source": [
    "# одной строкой: группировка таблицы spb_general по столбцу 'genre', \n",
    "# подсчёт числа значений 'genre' в этой группировке методом count(), \n",
    "# сортировка получившегося Series в порядке убывания и сохранение в spb_genres\n",
    "spb_genres = spb_general.groupby('genre')['genre'].count().sort_values(ascending=False)"
   ]
  },
  {
   "cell_type": "markdown",
   "metadata": {
    "id": "5Doha_ODgyQ8"
   },
   "source": [
    "Выведите на экран первые десять строк `spb_genres`:"
   ]
  },
  {
   "cell_type": "code",
   "execution_count": 42,
   "metadata": {
    "id": "uaGJHjVU_Zcv"
   },
   "outputs": [
    {
     "data": {
      "text/plain": [
       "genre\n",
       "pop            2431\n",
       "dance          1932\n",
       "rock           1879\n",
       "electronic     1736\n",
       "correct         934\n",
       "alternative     649\n",
       "classical       646\n",
       "rusrap          564\n",
       "ruspop          538\n",
       "world           515\n",
       "Name: genre, dtype: int64"
      ]
     },
     "execution_count": 42,
     "metadata": {},
     "output_type": "execute_result"
    }
   ],
   "source": [
    "# просмотр первых 10 строк spb_genres\n",
    "spb_genres.head(10)"
   ]
  },
  {
   "cell_type": "markdown",
   "metadata": {},
   "source": [
    "<font color='DarkBlue'><b>Комментарий ревьюера</b></font><br>\n",
    "<font color='DarkGreen'>👌 Молодец! Все правильно.</font>"
   ]
  },
  {
   "cell_type": "markdown",
   "metadata": {
    "id": "RY51YJYu_Zcv"
   },
   "source": [
    "**Выводы**"
   ]
  },
  {
   "cell_type": "markdown",
   "metadata": {
    "id": "nVhnJEm__Zcv"
   },
   "source": [
    "Гипотеза частично подтвердилась:\n",
    "* Поп-музыка — самый популярный жанр в Москве, как и предполагала гипотеза. Более того, в топ-10 жанров встречается близкий жанр — русская популярная музыка.\n",
    "* Вопреки ожиданиям, рэп одинаково популярен в Москве и Петербурге. \n"
   ]
  },
  {
   "cell_type": "markdown",
   "metadata": {
    "id": "ykKQ0N65_Zcv"
   },
   "source": [
    "## Итоги исследования"
   ]
  },
  {
   "cell_type": "markdown",
   "metadata": {
    "id": "tjUwbHb3_Zcv"
   },
   "source": [
    "Вы проверили три гипотезы и установили:\n",
    "\n",
    "1. День недели по-разному влияет на активность пользователей в Москве и Петербурге. \n",
    "\n",
    "Первая гипотеза полностью подтвердилась.\n",
    "\n",
    "2. Музыкальные предпочтения не сильно меняются в течение недели — будь то Москва или Петербург. Небольшие различия заметны в начале недели, по понедельникам:\n",
    "* в Москве слушают музыку жанра “world”,\n",
    "* в Петербурге — джаз и классику.\n",
    "\n",
    "Таким образом, вторая гипотеза подтвердилась лишь отчасти. Этот результат мог оказаться иным, если бы не пропуски в данных.\n",
    "\n",
    "3. Во вкусах пользователей Москвы и Петербурга больше общего чем различий. Вопреки ожиданиям, предпочтения жанров в Петербурге напоминают московские.\n",
    "\n",
    "Третья гипотеза не подтвердилась. Если различия в предпочтениях и существуют, на основной массе пользователей они незаметны.\n",
    "\n",
    "**На практике исследования содержат проверки статистических гипотез.**\n",
    "Из данных одного сервиса не всегда можно сделать вывод о всех жителях города.\n",
    "Проверки статистических гипотез покажут, насколько они достоверны, исходя из имеющихся данных. \n",
    "С методами проверок гипотез вы ещё познакомитесь в следующих темах."
   ]
  },
  {
   "cell_type": "markdown",
   "metadata": {},
   "source": [
    "<font color='DarkBlue'><b>Комментарий ревьюера</b></font><br>\n",
    "<font color='DarkGreen'>👌 Хочу обратить внимание на выводы/итоги исследования. Этот пример сделан командой Практикума, как образец. <br>\n",
    "В следующих проектах тебе надо общие выводы писать самостоятельно на основе проведенного исследования и полученных результатов.</font>"
   ]
  },
  {
   "cell_type": "markdown",
   "metadata": {},
   "source": [
    "<font color='DarkBlue'><b>Заключительный комментарий ревьюера</b></font><br><br>\n",
    "<font color='DarkGreen'>👌 Руслан, очень хороший проект, отлично структурирован. Так держать и дальше! 😄<br></font>\n",
    "<font color='DarkMagenta'>👉 Главные проблемы начинающего Джуна: не делаем, что написано в задании или пишем лишний код. 🙄<br>\n",
    "А если мы такие огрехи допустим на тестовом задании потенциального работодателя, то могут и не пригласить на дальнейшую беседу.\n",
    "И мы даже не узнаем почему нас не взяли.  Начинаем аккуратно относиться к коду и тексту задания. 🙄</font><br>\n",
    "<font color='Red'>🛠 Что нам нужно, что бы сделать проект лучше:<br>\n",
    " Удалить лишние функции display(). Исправить функцию replace_wrong_genres. Необходимо выбрать колонку для подсчета при группировке. </font><br><font color='DarkMagenta'>👉 Договорились? </font><br>\n",
    "<font color='DarkGreen'>👌 Жду окончательный вариант! Успехов. 😉</font>"
   ]
  },
  {
   "cell_type": "markdown",
   "metadata": {},
   "source": [
    "<font color='DarkBlue'><b>Заключительный комментарий ревьюера 2</b></font><br><br>\n",
    "<font color='DarkGreen'>👌 Руслан, нам удалось исправить огрехи в проекте и не наделать новых.  Мы молодцы! 😄<br>\n",
    "Кроме того, мы много важного узнали в процессе выполнения проекта. Нам это пригодится в будущем.<br></font>\n",
    "<font color='DarkGreen'>👌 Теперь, вперед за новыми знаниями и навыками! Удачи! 😉<br></font>"
   ]
  }
 ],
 "metadata": {
  "ExecuteTimeLog": [
   {
    "duration": 372,
    "start_time": "2022-02-20T21:03:42.970Z"
   },
   {
    "duration": 585,
    "start_time": "2022-02-20T21:03:52.048Z"
   },
   {
    "duration": 2479,
    "start_time": "2022-02-20T21:03:52.635Z"
   },
   {
    "duration": -90,
    "start_time": "2022-02-20T21:03:55.207Z"
   },
   {
    "duration": -92,
    "start_time": "2022-02-20T21:03:55.210Z"
   },
   {
    "duration": -95,
    "start_time": "2022-02-20T21:03:55.214Z"
   },
   {
    "duration": -98,
    "start_time": "2022-02-20T21:03:55.218Z"
   },
   {
    "duration": -99,
    "start_time": "2022-02-20T21:03:55.220Z"
   },
   {
    "duration": -101,
    "start_time": "2022-02-20T21:03:55.223Z"
   },
   {
    "duration": -103,
    "start_time": "2022-02-20T21:03:55.226Z"
   },
   {
    "duration": -105,
    "start_time": "2022-02-20T21:03:55.229Z"
   },
   {
    "duration": -108,
    "start_time": "2022-02-20T21:03:55.233Z"
   },
   {
    "duration": -111,
    "start_time": "2022-02-20T21:03:55.237Z"
   },
   {
    "duration": -112,
    "start_time": "2022-02-20T21:03:55.239Z"
   },
   {
    "duration": -114,
    "start_time": "2022-02-20T21:03:55.242Z"
   },
   {
    "duration": -115,
    "start_time": "2022-02-20T21:03:55.244Z"
   },
   {
    "duration": -116,
    "start_time": "2022-02-20T21:03:55.246Z"
   },
   {
    "duration": -117,
    "start_time": "2022-02-20T21:03:55.248Z"
   },
   {
    "duration": -118,
    "start_time": "2022-02-20T21:03:55.250Z"
   },
   {
    "duration": -119,
    "start_time": "2022-02-20T21:03:55.252Z"
   },
   {
    "duration": -120,
    "start_time": "2022-02-20T21:03:55.254Z"
   },
   {
    "duration": -120,
    "start_time": "2022-02-20T21:03:55.255Z"
   },
   {
    "duration": -121,
    "start_time": "2022-02-20T21:03:55.257Z"
   },
   {
    "duration": -122,
    "start_time": "2022-02-20T21:03:55.259Z"
   },
   {
    "duration": -123,
    "start_time": "2022-02-20T21:03:55.261Z"
   },
   {
    "duration": -124,
    "start_time": "2022-02-20T21:03:55.263Z"
   },
   {
    "duration": -125,
    "start_time": "2022-02-20T21:03:55.265Z"
   },
   {
    "duration": -126,
    "start_time": "2022-02-20T21:03:55.267Z"
   },
   {
    "duration": -127,
    "start_time": "2022-02-20T21:03:55.269Z"
   },
   {
    "duration": -127,
    "start_time": "2022-02-20T21:03:55.270Z"
   },
   {
    "duration": -128,
    "start_time": "2022-02-20T21:03:55.272Z"
   },
   {
    "duration": -130,
    "start_time": "2022-02-20T21:03:55.275Z"
   },
   {
    "duration": -131,
    "start_time": "2022-02-20T21:03:55.277Z"
   },
   {
    "duration": -132,
    "start_time": "2022-02-20T21:03:55.279Z"
   },
   {
    "duration": -133,
    "start_time": "2022-02-20T21:03:55.281Z"
   },
   {
    "duration": -133,
    "start_time": "2022-02-20T21:03:55.282Z"
   },
   {
    "duration": -135,
    "start_time": "2022-02-20T21:03:55.285Z"
   },
   {
    "duration": -135,
    "start_time": "2022-02-20T21:03:55.286Z"
   },
   {
    "duration": -136,
    "start_time": "2022-02-20T21:03:55.288Z"
   },
   {
    "duration": 3,
    "start_time": "2022-02-20T21:04:11.544Z"
   },
   {
    "duration": 360,
    "start_time": "2022-02-20T21:05:09.258Z"
   },
   {
    "duration": 595,
    "start_time": "2022-02-20T21:05:20.742Z"
   },
   {
    "duration": 2835,
    "start_time": "2022-02-20T21:05:21.338Z"
   },
   {
    "duration": 125,
    "start_time": "2022-02-20T21:05:46.127Z"
   },
   {
    "duration": 139,
    "start_time": "2022-02-20T21:05:49.016Z"
   },
   {
    "duration": 15,
    "start_time": "2022-02-20T21:05:50.972Z"
   },
   {
    "duration": 8,
    "start_time": "2022-02-20T21:06:15.453Z"
   },
   {
    "duration": 22,
    "start_time": "2022-02-20T21:06:21.198Z"
   },
   {
    "duration": 7,
    "start_time": "2022-02-20T21:06:28.583Z"
   },
   {
    "duration": 21,
    "start_time": "2022-02-20T21:06:36.685Z"
   },
   {
    "duration": 4,
    "start_time": "2022-02-20T21:12:38.102Z"
   },
   {
    "duration": 4,
    "start_time": "2022-02-20T21:12:45.973Z"
   },
   {
    "duration": 3,
    "start_time": "2022-02-20T21:12:48.610Z"
   },
   {
    "duration": 3,
    "start_time": "2022-02-20T21:15:16.319Z"
   },
   {
    "duration": 16,
    "start_time": "2022-02-20T21:15:20.052Z"
   },
   {
    "duration": 3,
    "start_time": "2022-02-20T21:15:22.082Z"
   },
   {
    "duration": 21,
    "start_time": "2022-02-20T21:18:38.907Z"
   },
   {
    "duration": 21,
    "start_time": "2022-02-20T21:27:29.093Z"
   },
   {
    "duration": 14,
    "start_time": "2022-02-20T21:27:31.414Z"
   },
   {
    "duration": 33,
    "start_time": "2022-02-20T21:27:33.490Z"
   },
   {
    "duration": 52,
    "start_time": "2022-02-20T21:28:40.009Z"
   },
   {
    "duration": 54,
    "start_time": "2022-02-20T21:30:04.665Z"
   },
   {
    "duration": 45,
    "start_time": "2022-02-20T21:30:16.014Z"
   },
   {
    "duration": 96,
    "start_time": "2022-02-20T21:37:06.255Z"
   },
   {
    "duration": 112,
    "start_time": "2022-02-20T21:37:15.136Z"
   },
   {
    "duration": 2,
    "start_time": "2022-02-20T21:37:23.069Z"
   },
   {
    "duration": 122,
    "start_time": "2022-02-20T21:37:23.073Z"
   },
   {
    "duration": 9,
    "start_time": "2022-02-20T21:37:23.197Z"
   },
   {
    "duration": 25,
    "start_time": "2022-02-20T21:37:23.208Z"
   },
   {
    "duration": 16,
    "start_time": "2022-02-20T21:37:23.234Z"
   },
   {
    "duration": 19,
    "start_time": "2022-02-20T21:37:23.252Z"
   },
   {
    "duration": 4,
    "start_time": "2022-02-20T21:37:23.273Z"
   },
   {
    "duration": 20,
    "start_time": "2022-02-20T21:37:23.278Z"
   },
   {
    "duration": 16,
    "start_time": "2022-02-20T21:37:23.300Z"
   },
   {
    "duration": 35,
    "start_time": "2022-02-20T21:37:23.318Z"
   },
   {
    "duration": 54,
    "start_time": "2022-02-20T21:37:23.355Z"
   },
   {
    "duration": 65,
    "start_time": "2022-02-20T21:37:23.411Z"
   },
   {
    "duration": 44,
    "start_time": "2022-02-20T21:37:23.478Z"
   },
   {
    "duration": 348,
    "start_time": "2022-02-23T11:24:43.592Z"
   },
   {
    "duration": 759,
    "start_time": "2022-02-23T11:24:56.580Z"
   },
   {
    "duration": 202,
    "start_time": "2022-02-23T11:24:57.341Z"
   },
   {
    "duration": 29,
    "start_time": "2022-02-23T11:24:57.546Z"
   },
   {
    "duration": 56,
    "start_time": "2022-02-23T11:24:57.579Z"
   },
   {
    "duration": 6,
    "start_time": "2022-02-23T11:24:57.638Z"
   },
   {
    "duration": 32,
    "start_time": "2022-02-23T11:24:57.648Z"
   },
   {
    "duration": 43,
    "start_time": "2022-02-23T11:24:57.683Z"
   },
   {
    "duration": 34,
    "start_time": "2022-02-23T11:24:57.732Z"
   },
   {
    "duration": 58,
    "start_time": "2022-02-23T11:24:57.770Z"
   },
   {
    "duration": 32,
    "start_time": "2022-02-23T11:24:57.831Z"
   },
   {
    "duration": 115,
    "start_time": "2022-02-23T11:24:57.866Z"
   },
   {
    "duration": 128,
    "start_time": "2022-02-23T11:24:57.984Z"
   },
   {
    "duration": 85,
    "start_time": "2022-02-23T11:24:58.114Z"
   },
   {
    "duration": 10,
    "start_time": "2022-02-23T11:26:05.659Z"
   },
   {
    "duration": 78,
    "start_time": "2022-02-23T11:28:25.826Z"
   },
   {
    "duration": 77,
    "start_time": "2022-02-23T11:28:32.505Z"
   },
   {
    "duration": 77,
    "start_time": "2022-02-23T11:30:03.263Z"
   },
   {
    "duration": 281,
    "start_time": "2022-02-23T11:35:53.149Z"
   },
   {
    "duration": 64,
    "start_time": "2022-02-23T11:37:19.566Z"
   },
   {
    "duration": 62,
    "start_time": "2022-02-23T11:37:35.540Z"
   },
   {
    "duration": 3,
    "start_time": "2022-02-23T11:48:08.427Z"
   },
   {
    "duration": 211,
    "start_time": "2022-02-23T11:48:08.433Z"
   },
   {
    "duration": 16,
    "start_time": "2022-02-23T11:48:08.648Z"
   },
   {
    "duration": 37,
    "start_time": "2022-02-23T11:48:08.667Z"
   },
   {
    "duration": 6,
    "start_time": "2022-02-23T11:48:08.727Z"
   },
   {
    "duration": 31,
    "start_time": "2022-02-23T11:48:08.735Z"
   },
   {
    "duration": 5,
    "start_time": "2022-02-23T11:48:08.769Z"
   },
   {
    "duration": 65,
    "start_time": "2022-02-23T11:48:08.777Z"
   },
   {
    "duration": 23,
    "start_time": "2022-02-23T11:48:08.846Z"
   },
   {
    "duration": 30,
    "start_time": "2022-02-23T11:48:08.872Z"
   },
   {
    "duration": 107,
    "start_time": "2022-02-23T11:48:08.904Z"
   },
   {
    "duration": 121,
    "start_time": "2022-02-23T11:48:09.013Z"
   },
   {
    "duration": 91,
    "start_time": "2022-02-23T11:48:09.136Z"
   },
   {
    "duration": 61,
    "start_time": "2022-02-23T11:48:09.230Z"
   },
   {
    "duration": 4,
    "start_time": "2022-02-23T11:48:09.294Z"
   },
   {
    "duration": 8,
    "start_time": "2022-02-23T11:49:19.168Z"
   },
   {
    "duration": 10,
    "start_time": "2022-02-23T11:49:34.236Z"
   },
   {
    "duration": 60,
    "start_time": "2022-02-23T11:51:00.646Z"
   },
   {
    "duration": 5,
    "start_time": "2022-02-23T11:51:18.222Z"
   },
   {
    "duration": 24,
    "start_time": "2022-02-23T11:51:37.376Z"
   },
   {
    "duration": 60,
    "start_time": "2022-02-23T11:51:40.517Z"
   },
   {
    "duration": 4,
    "start_time": "2022-02-23T11:52:02.666Z"
   },
   {
    "duration": 220,
    "start_time": "2022-02-23T11:52:02.673Z"
   },
   {
    "duration": 17,
    "start_time": "2022-02-23T11:52:02.897Z"
   },
   {
    "duration": 45,
    "start_time": "2022-02-23T11:52:02.917Z"
   },
   {
    "duration": 6,
    "start_time": "2022-02-23T11:52:02.965Z"
   },
   {
    "duration": 56,
    "start_time": "2022-02-23T11:52:02.974Z"
   },
   {
    "duration": 6,
    "start_time": "2022-02-23T11:52:03.032Z"
   },
   {
    "duration": 33,
    "start_time": "2022-02-23T11:52:03.040Z"
   },
   {
    "duration": 53,
    "start_time": "2022-02-23T11:52:03.077Z"
   },
   {
    "duration": 33,
    "start_time": "2022-02-23T11:52:03.133Z"
   },
   {
    "duration": 116,
    "start_time": "2022-02-23T11:52:03.168Z"
   },
   {
    "duration": 141,
    "start_time": "2022-02-23T11:52:03.288Z"
   },
   {
    "duration": 105,
    "start_time": "2022-02-23T11:52:03.433Z"
   },
   {
    "duration": 65,
    "start_time": "2022-02-23T11:52:03.541Z"
   },
   {
    "duration": 6,
    "start_time": "2022-02-23T11:52:03.626Z"
   },
   {
    "duration": 25,
    "start_time": "2022-02-23T11:52:03.635Z"
   },
   {
    "duration": 4,
    "start_time": "2022-02-23T11:52:13.764Z"
   },
   {
    "duration": 236,
    "start_time": "2022-02-23T11:52:13.771Z"
   },
   {
    "duration": 21,
    "start_time": "2022-02-23T11:52:14.011Z"
   },
   {
    "duration": 67,
    "start_time": "2022-02-23T11:52:14.036Z"
   },
   {
    "duration": 15,
    "start_time": "2022-02-23T11:52:14.107Z"
   },
   {
    "duration": 49,
    "start_time": "2022-02-23T11:52:14.124Z"
   },
   {
    "duration": 6,
    "start_time": "2022-02-23T11:52:14.177Z"
   },
   {
    "duration": 48,
    "start_time": "2022-02-23T11:52:14.186Z"
   },
   {
    "duration": 44,
    "start_time": "2022-02-23T11:52:14.237Z"
   },
   {
    "duration": 51,
    "start_time": "2022-02-23T11:52:14.285Z"
   },
   {
    "duration": 114,
    "start_time": "2022-02-23T11:52:14.340Z"
   },
   {
    "duration": 107,
    "start_time": "2022-02-23T11:52:14.456Z"
   },
   {
    "duration": 96,
    "start_time": "2022-02-23T11:52:14.566Z"
   },
   {
    "duration": 72,
    "start_time": "2022-02-23T11:52:14.664Z"
   },
   {
    "duration": 4,
    "start_time": "2022-02-23T11:52:14.739Z"
   },
   {
    "duration": 25,
    "start_time": "2022-02-23T11:52:14.746Z"
   },
   {
    "duration": 76,
    "start_time": "2022-02-23T11:52:14.774Z"
   },
   {
    "duration": 3,
    "start_time": "2022-02-23T11:55:50.575Z"
   },
   {
    "duration": 215,
    "start_time": "2022-02-23T11:55:50.582Z"
   },
   {
    "duration": 15,
    "start_time": "2022-02-23T11:55:50.800Z"
   },
   {
    "duration": 33,
    "start_time": "2022-02-23T11:55:50.827Z"
   },
   {
    "duration": 6,
    "start_time": "2022-02-23T11:55:50.862Z"
   },
   {
    "duration": 63,
    "start_time": "2022-02-23T11:55:50.871Z"
   },
   {
    "duration": 6,
    "start_time": "2022-02-23T11:55:50.937Z"
   },
   {
    "duration": 36,
    "start_time": "2022-02-23T11:55:50.946Z"
   },
   {
    "duration": 46,
    "start_time": "2022-02-23T11:55:50.985Z"
   },
   {
    "duration": 30,
    "start_time": "2022-02-23T11:55:51.034Z"
   },
   {
    "duration": 105,
    "start_time": "2022-02-23T11:55:51.067Z"
   },
   {
    "duration": 113,
    "start_time": "2022-02-23T11:55:51.175Z"
   },
   {
    "duration": 92,
    "start_time": "2022-02-23T11:55:51.290Z"
   },
   {
    "duration": 69,
    "start_time": "2022-02-23T11:55:51.384Z"
   },
   {
    "duration": 5,
    "start_time": "2022-02-23T11:55:51.455Z"
   },
   {
    "duration": 32,
    "start_time": "2022-02-23T11:55:51.462Z"
   },
   {
    "duration": 85,
    "start_time": "2022-02-23T11:55:51.496Z"
   },
   {
    "duration": 276,
    "start_time": "2022-02-23T11:55:51.584Z"
   },
   {
    "duration": 4,
    "start_time": "2022-02-23T11:56:29.148Z"
   },
   {
    "duration": 210,
    "start_time": "2022-02-23T11:56:29.155Z"
   },
   {
    "duration": 22,
    "start_time": "2022-02-23T11:56:29.369Z"
   },
   {
    "duration": 53,
    "start_time": "2022-02-23T11:56:29.395Z"
   },
   {
    "duration": 8,
    "start_time": "2022-02-23T11:56:29.451Z"
   },
   {
    "duration": 64,
    "start_time": "2022-02-23T11:56:29.462Z"
   },
   {
    "duration": 7,
    "start_time": "2022-02-23T11:56:29.529Z"
   },
   {
    "duration": 37,
    "start_time": "2022-02-23T11:56:29.540Z"
   },
   {
    "duration": 57,
    "start_time": "2022-02-23T11:56:29.582Z"
   },
   {
    "duration": 34,
    "start_time": "2022-02-23T11:56:29.643Z"
   },
   {
    "duration": 123,
    "start_time": "2022-02-23T11:56:29.680Z"
   },
   {
    "duration": 151,
    "start_time": "2022-02-23T11:56:29.806Z"
   },
   {
    "duration": 101,
    "start_time": "2022-02-23T11:56:29.960Z"
   },
   {
    "duration": 71,
    "start_time": "2022-02-23T11:56:30.064Z"
   },
   {
    "duration": 11,
    "start_time": "2022-02-23T11:56:30.138Z"
   },
   {
    "duration": 31,
    "start_time": "2022-02-23T11:56:30.152Z"
   },
   {
    "duration": 83,
    "start_time": "2022-02-23T11:56:30.185Z"
   },
   {
    "duration": 366,
    "start_time": "2022-02-23T11:56:30.272Z"
   },
   {
    "duration": 266,
    "start_time": "2022-02-23T11:56:51.127Z"
   },
   {
    "duration": 4,
    "start_time": "2022-02-23T11:57:02.586Z"
   },
   {
    "duration": 205,
    "start_time": "2022-02-23T11:57:02.593Z"
   },
   {
    "duration": 27,
    "start_time": "2022-02-23T11:57:02.801Z"
   },
   {
    "duration": 43,
    "start_time": "2022-02-23T11:57:02.831Z"
   },
   {
    "duration": 19,
    "start_time": "2022-02-23T11:57:02.876Z"
   },
   {
    "duration": 42,
    "start_time": "2022-02-23T11:57:02.897Z"
   },
   {
    "duration": 5,
    "start_time": "2022-02-23T11:57:02.942Z"
   },
   {
    "duration": 46,
    "start_time": "2022-02-23T11:57:02.950Z"
   },
   {
    "duration": 37,
    "start_time": "2022-02-23T11:57:02.998Z"
   },
   {
    "duration": 32,
    "start_time": "2022-02-23T11:57:03.037Z"
   },
   {
    "duration": 114,
    "start_time": "2022-02-23T11:57:03.072Z"
   },
   {
    "duration": 124,
    "start_time": "2022-02-23T11:57:03.189Z"
   },
   {
    "duration": 86,
    "start_time": "2022-02-23T11:57:03.316Z"
   },
   {
    "duration": 74,
    "start_time": "2022-02-23T11:57:03.404Z"
   },
   {
    "duration": 4,
    "start_time": "2022-02-23T11:57:03.480Z"
   },
   {
    "duration": 50,
    "start_time": "2022-02-23T11:57:03.487Z"
   },
   {
    "duration": 60,
    "start_time": "2022-02-23T11:57:03.540Z"
   },
   {
    "duration": 288,
    "start_time": "2022-02-23T11:57:03.603Z"
   },
   {
    "duration": 4,
    "start_time": "2022-02-23T11:57:24.289Z"
   },
   {
    "duration": 211,
    "start_time": "2022-02-23T11:57:24.295Z"
   },
   {
    "duration": 22,
    "start_time": "2022-02-23T11:57:24.509Z"
   },
   {
    "duration": 44,
    "start_time": "2022-02-23T11:57:24.534Z"
   },
   {
    "duration": 5,
    "start_time": "2022-02-23T11:57:24.581Z"
   },
   {
    "duration": 50,
    "start_time": "2022-02-23T11:57:24.588Z"
   },
   {
    "duration": 6,
    "start_time": "2022-02-23T11:57:24.641Z"
   },
   {
    "duration": 36,
    "start_time": "2022-02-23T11:57:24.649Z"
   },
   {
    "duration": 51,
    "start_time": "2022-02-23T11:57:24.690Z"
   },
   {
    "duration": 33,
    "start_time": "2022-02-23T11:57:24.744Z"
   },
   {
    "duration": 111,
    "start_time": "2022-02-23T11:57:24.780Z"
   },
   {
    "duration": 117,
    "start_time": "2022-02-23T11:57:24.894Z"
   },
   {
    "duration": 86,
    "start_time": "2022-02-23T11:57:25.013Z"
   },
   {
    "duration": 73,
    "start_time": "2022-02-23T11:57:25.101Z"
   },
   {
    "duration": 4,
    "start_time": "2022-02-23T11:57:25.176Z"
   },
   {
    "duration": 48,
    "start_time": "2022-02-23T11:57:25.183Z"
   },
   {
    "duration": 62,
    "start_time": "2022-02-23T11:57:25.233Z"
   },
   {
    "duration": 252,
    "start_time": "2022-02-23T11:57:25.298Z"
   },
   {
    "duration": 3,
    "start_time": "2022-02-23T11:57:48.411Z"
   },
   {
    "duration": 210,
    "start_time": "2022-02-23T11:57:48.417Z"
   },
   {
    "duration": 16,
    "start_time": "2022-02-23T11:57:48.630Z"
   },
   {
    "duration": 35,
    "start_time": "2022-02-23T11:57:48.648Z"
   },
   {
    "duration": 7,
    "start_time": "2022-02-23T11:57:48.686Z"
   },
   {
    "duration": 32,
    "start_time": "2022-02-23T11:57:48.727Z"
   },
   {
    "duration": 7,
    "start_time": "2022-02-23T11:57:48.765Z"
   },
   {
    "duration": 66,
    "start_time": "2022-02-23T11:57:48.776Z"
   },
   {
    "duration": 24,
    "start_time": "2022-02-23T11:57:48.845Z"
   },
   {
    "duration": 56,
    "start_time": "2022-02-23T11:57:48.872Z"
   },
   {
    "duration": 104,
    "start_time": "2022-02-23T11:57:48.931Z"
   },
   {
    "duration": 122,
    "start_time": "2022-02-23T11:57:49.038Z"
   },
   {
    "duration": 96,
    "start_time": "2022-02-23T11:57:49.162Z"
   },
   {
    "duration": 70,
    "start_time": "2022-02-23T11:57:49.260Z"
   },
   {
    "duration": 5,
    "start_time": "2022-02-23T11:57:49.332Z"
   },
   {
    "duration": 31,
    "start_time": "2022-02-23T11:57:49.340Z"
   },
   {
    "duration": 83,
    "start_time": "2022-02-23T11:57:49.374Z"
   },
   {
    "duration": 261,
    "start_time": "2022-02-23T11:57:49.459Z"
   },
   {
    "duration": 5,
    "start_time": "2022-02-23T11:57:58.944Z"
   },
   {
    "duration": 303,
    "start_time": "2022-02-23T11:57:58.954Z"
   },
   {
    "duration": 24,
    "start_time": "2022-02-23T11:57:59.262Z"
   },
   {
    "duration": 83,
    "start_time": "2022-02-23T11:57:59.290Z"
   },
   {
    "duration": 6,
    "start_time": "2022-02-23T11:57:59.377Z"
   },
   {
    "duration": 57,
    "start_time": "2022-02-23T11:57:59.386Z"
   },
   {
    "duration": 7,
    "start_time": "2022-02-23T11:57:59.445Z"
   },
   {
    "duration": 35,
    "start_time": "2022-02-23T11:57:59.457Z"
   },
   {
    "duration": 25,
    "start_time": "2022-02-23T11:57:59.527Z"
   },
   {
    "duration": 39,
    "start_time": "2022-02-23T11:57:59.555Z"
   },
   {
    "duration": 145,
    "start_time": "2022-02-23T11:57:59.598Z"
   },
   {
    "duration": 138,
    "start_time": "2022-02-23T11:57:59.746Z"
   },
   {
    "duration": 107,
    "start_time": "2022-02-23T11:57:59.887Z"
   },
   {
    "duration": 77,
    "start_time": "2022-02-23T11:57:59.997Z"
   },
   {
    "duration": 5,
    "start_time": "2022-02-23T11:58:00.077Z"
   },
   {
    "duration": 48,
    "start_time": "2022-02-23T11:58:00.084Z"
   },
   {
    "duration": 62,
    "start_time": "2022-02-23T11:58:00.135Z"
   },
   {
    "duration": 43,
    "start_time": "2022-02-23T11:58:00.199Z"
   },
   {
    "duration": 75,
    "start_time": "2022-02-23T11:58:16.226Z"
   },
   {
    "duration": 3,
    "start_time": "2022-02-23T12:00:07.667Z"
   },
   {
    "duration": 218,
    "start_time": "2022-02-23T12:00:07.674Z"
   },
   {
    "duration": 16,
    "start_time": "2022-02-23T12:00:07.895Z"
   },
   {
    "duration": 43,
    "start_time": "2022-02-23T12:00:07.914Z"
   },
   {
    "duration": 14,
    "start_time": "2022-02-23T12:00:07.959Z"
   },
   {
    "duration": 31,
    "start_time": "2022-02-23T12:00:07.976Z"
   },
   {
    "duration": 16,
    "start_time": "2022-02-23T12:00:08.009Z"
   },
   {
    "duration": 63,
    "start_time": "2022-02-23T12:00:08.029Z"
   },
   {
    "duration": 49,
    "start_time": "2022-02-23T12:00:08.096Z"
   },
   {
    "duration": 36,
    "start_time": "2022-02-23T12:00:08.147Z"
   },
   {
    "duration": 103,
    "start_time": "2022-02-23T12:00:08.186Z"
   },
   {
    "duration": 118,
    "start_time": "2022-02-23T12:00:08.292Z"
   },
   {
    "duration": 84,
    "start_time": "2022-02-23T12:00:08.413Z"
   },
   {
    "duration": 71,
    "start_time": "2022-02-23T12:00:08.500Z"
   },
   {
    "duration": 5,
    "start_time": "2022-02-23T12:00:08.573Z"
   },
   {
    "duration": 46,
    "start_time": "2022-02-23T12:00:08.580Z"
   },
   {
    "duration": 60,
    "start_time": "2022-02-23T12:00:08.628Z"
   },
   {
    "duration": 66,
    "start_time": "2022-02-23T12:00:08.691Z"
   },
   {
    "duration": 46,
    "start_time": "2022-02-23T12:00:08.759Z"
   },
   {
    "duration": 4,
    "start_time": "2022-02-23T12:06:52.902Z"
   },
   {
    "duration": 204,
    "start_time": "2022-02-23T12:06:52.908Z"
   },
   {
    "duration": 18,
    "start_time": "2022-02-23T12:06:53.117Z"
   },
   {
    "duration": 33,
    "start_time": "2022-02-23T12:06:53.138Z"
   },
   {
    "duration": 5,
    "start_time": "2022-02-23T12:06:53.174Z"
   },
   {
    "duration": 59,
    "start_time": "2022-02-23T12:06:53.181Z"
   },
   {
    "duration": 5,
    "start_time": "2022-02-23T12:06:53.243Z"
   },
   {
    "duration": 33,
    "start_time": "2022-02-23T12:06:53.251Z"
   },
   {
    "duration": 51,
    "start_time": "2022-02-23T12:06:53.288Z"
   },
   {
    "duration": 32,
    "start_time": "2022-02-23T12:06:53.342Z"
   },
   {
    "duration": 116,
    "start_time": "2022-02-23T12:06:53.377Z"
   },
   {
    "duration": 112,
    "start_time": "2022-02-23T12:06:53.495Z"
   },
   {
    "duration": 85,
    "start_time": "2022-02-23T12:06:53.609Z"
   },
   {
    "duration": 69,
    "start_time": "2022-02-23T12:06:53.696Z"
   },
   {
    "duration": 5,
    "start_time": "2022-02-23T12:06:53.767Z"
   },
   {
    "duration": 25,
    "start_time": "2022-02-23T12:06:53.774Z"
   },
   {
    "duration": 60,
    "start_time": "2022-02-23T12:06:53.826Z"
   },
   {
    "duration": 73,
    "start_time": "2022-02-23T12:06:53.889Z"
   },
   {
    "duration": 62,
    "start_time": "2022-02-23T12:06:53.965Z"
   },
   {
    "duration": 5,
    "start_time": "2022-02-23T12:06:54.030Z"
   },
   {
    "duration": 40,
    "start_time": "2022-02-23T12:07:54.770Z"
   },
   {
    "duration": 3,
    "start_time": "2022-02-23T12:10:47.792Z"
   },
   {
    "duration": 213,
    "start_time": "2022-02-23T12:10:47.799Z"
   },
   {
    "duration": 25,
    "start_time": "2022-02-23T12:10:48.015Z"
   },
   {
    "duration": 39,
    "start_time": "2022-02-23T12:10:48.043Z"
   },
   {
    "duration": 20,
    "start_time": "2022-02-23T12:10:48.084Z"
   },
   {
    "duration": 55,
    "start_time": "2022-02-23T12:10:48.107Z"
   },
   {
    "duration": 16,
    "start_time": "2022-02-23T12:10:48.164Z"
   },
   {
    "duration": 37,
    "start_time": "2022-02-23T12:10:48.183Z"
   },
   {
    "duration": 41,
    "start_time": "2022-02-23T12:10:48.223Z"
   },
   {
    "duration": 37,
    "start_time": "2022-02-23T12:10:48.267Z"
   },
   {
    "duration": 150,
    "start_time": "2022-02-23T12:10:48.306Z"
   },
   {
    "duration": 109,
    "start_time": "2022-02-23T12:10:48.458Z"
   },
   {
    "duration": 103,
    "start_time": "2022-02-23T12:10:48.569Z"
   },
   {
    "duration": 74,
    "start_time": "2022-02-23T12:10:48.675Z"
   },
   {
    "duration": 5,
    "start_time": "2022-02-23T12:10:48.752Z"
   },
   {
    "duration": 54,
    "start_time": "2022-02-23T12:10:48.760Z"
   },
   {
    "duration": 78,
    "start_time": "2022-02-23T12:10:48.817Z"
   },
   {
    "duration": 57,
    "start_time": "2022-02-23T12:10:48.897Z"
   },
   {
    "duration": 47,
    "start_time": "2022-02-23T12:10:48.956Z"
   },
   {
    "duration": 22,
    "start_time": "2022-02-23T12:10:49.005Z"
   },
   {
    "duration": 39,
    "start_time": "2022-02-23T12:10:49.030Z"
   },
   {
    "duration": 58,
    "start_time": "2022-02-23T12:10:49.072Z"
   },
   {
    "duration": 32,
    "start_time": "2022-02-23T12:12:25.270Z"
   },
   {
    "duration": 34,
    "start_time": "2022-02-23T12:12:26.305Z"
   },
   {
    "duration": 5,
    "start_time": "2022-02-23T12:12:33.898Z"
   },
   {
    "duration": 220,
    "start_time": "2022-02-23T12:12:33.907Z"
   },
   {
    "duration": 17,
    "start_time": "2022-02-23T12:12:34.131Z"
   },
   {
    "duration": 40,
    "start_time": "2022-02-23T12:12:34.151Z"
   },
   {
    "duration": 33,
    "start_time": "2022-02-23T12:12:34.193Z"
   },
   {
    "duration": 19,
    "start_time": "2022-02-23T12:12:34.229Z"
   },
   {
    "duration": 5,
    "start_time": "2022-02-23T12:12:34.252Z"
   },
   {
    "duration": 38,
    "start_time": "2022-02-23T12:12:34.259Z"
   },
   {
    "duration": 27,
    "start_time": "2022-02-23T12:12:34.327Z"
   },
   {
    "duration": 34,
    "start_time": "2022-02-23T12:12:34.357Z"
   },
   {
    "duration": 133,
    "start_time": "2022-02-23T12:12:34.394Z"
   },
   {
    "duration": 119,
    "start_time": "2022-02-23T12:12:34.531Z"
   },
   {
    "duration": 99,
    "start_time": "2022-02-23T12:12:34.653Z"
   },
   {
    "duration": 78,
    "start_time": "2022-02-23T12:12:34.755Z"
   },
   {
    "duration": 5,
    "start_time": "2022-02-23T12:12:34.836Z"
   },
   {
    "duration": 27,
    "start_time": "2022-02-23T12:12:34.844Z"
   },
   {
    "duration": 86,
    "start_time": "2022-02-23T12:12:34.873Z"
   },
   {
    "duration": 49,
    "start_time": "2022-02-23T12:12:34.962Z"
   },
   {
    "duration": 49,
    "start_time": "2022-02-23T12:12:35.029Z"
   },
   {
    "duration": 5,
    "start_time": "2022-02-23T12:12:35.082Z"
   },
   {
    "duration": 55,
    "start_time": "2022-02-23T12:12:35.090Z"
   },
   {
    "duration": 24,
    "start_time": "2022-02-23T12:12:35.148Z"
   },
   {
    "duration": 4,
    "start_time": "2022-02-23T12:13:23.825Z"
   },
   {
    "duration": 227,
    "start_time": "2022-02-23T12:13:23.832Z"
   },
   {
    "duration": 17,
    "start_time": "2022-02-23T12:13:24.063Z"
   },
   {
    "duration": 61,
    "start_time": "2022-02-23T12:13:24.083Z"
   },
   {
    "duration": 9,
    "start_time": "2022-02-23T12:13:24.147Z"
   },
   {
    "duration": 27,
    "start_time": "2022-02-23T12:13:24.159Z"
   },
   {
    "duration": 6,
    "start_time": "2022-02-23T12:13:24.190Z"
   },
   {
    "duration": 35,
    "start_time": "2022-02-23T12:13:24.228Z"
   },
   {
    "duration": 29,
    "start_time": "2022-02-23T12:13:24.266Z"
   },
   {
    "duration": 80,
    "start_time": "2022-02-23T12:13:24.298Z"
   },
   {
    "duration": 123,
    "start_time": "2022-02-23T12:13:24.381Z"
   },
   {
    "duration": 129,
    "start_time": "2022-02-23T12:13:24.508Z"
   },
   {
    "duration": 104,
    "start_time": "2022-02-23T12:13:24.640Z"
   },
   {
    "duration": 62,
    "start_time": "2022-02-23T12:13:24.747Z"
   },
   {
    "duration": 5,
    "start_time": "2022-02-23T12:13:24.827Z"
   },
   {
    "duration": 36,
    "start_time": "2022-02-23T12:13:24.836Z"
   },
   {
    "duration": 107,
    "start_time": "2022-02-23T12:13:24.875Z"
   },
   {
    "duration": 77,
    "start_time": "2022-02-23T12:13:24.985Z"
   },
   {
    "duration": 65,
    "start_time": "2022-02-23T12:13:25.067Z"
   },
   {
    "duration": 5,
    "start_time": "2022-02-23T12:13:25.135Z"
   },
   {
    "duration": 38,
    "start_time": "2022-02-23T12:13:25.143Z"
   },
   {
    "duration": 44,
    "start_time": "2022-02-23T12:13:25.184Z"
   },
   {
    "duration": 21,
    "start_time": "2022-02-23T12:13:25.230Z"
   },
   {
    "duration": 34,
    "start_time": "2022-02-23T12:13:25.254Z"
   },
   {
    "duration": 50,
    "start_time": "2022-02-23T12:13:25.291Z"
   },
   {
    "duration": 23,
    "start_time": "2022-02-23T12:13:25.343Z"
   },
   {
    "duration": 4,
    "start_time": "2022-02-23T12:18:07.845Z"
   },
   {
    "duration": 4,
    "start_time": "2022-02-23T12:18:12.976Z"
   },
   {
    "duration": 228,
    "start_time": "2022-02-23T12:18:12.982Z"
   },
   {
    "duration": 22,
    "start_time": "2022-02-23T12:18:13.213Z"
   },
   {
    "duration": 37,
    "start_time": "2022-02-23T12:18:13.238Z"
   },
   {
    "duration": 6,
    "start_time": "2022-02-23T12:18:13.278Z"
   },
   {
    "duration": 53,
    "start_time": "2022-02-23T12:18:13.287Z"
   },
   {
    "duration": 6,
    "start_time": "2022-02-23T12:18:13.343Z"
   },
   {
    "duration": 35,
    "start_time": "2022-02-23T12:18:13.352Z"
   },
   {
    "duration": 56,
    "start_time": "2022-02-23T12:18:13.391Z"
   },
   {
    "duration": 37,
    "start_time": "2022-02-23T12:18:13.450Z"
   },
   {
    "duration": 127,
    "start_time": "2022-02-23T12:18:13.490Z"
   },
   {
    "duration": 126,
    "start_time": "2022-02-23T12:18:13.627Z"
   },
   {
    "duration": 105,
    "start_time": "2022-02-23T12:18:13.756Z"
   },
   {
    "duration": 71,
    "start_time": "2022-02-23T12:18:13.863Z"
   },
   {
    "duration": 4,
    "start_time": "2022-02-23T12:18:13.937Z"
   },
   {
    "duration": 26,
    "start_time": "2022-02-23T12:18:13.944Z"
   },
   {
    "duration": 92,
    "start_time": "2022-02-23T12:18:13.973Z"
   },
   {
    "duration": 78,
    "start_time": "2022-02-23T12:18:14.067Z"
   },
   {
    "duration": 50,
    "start_time": "2022-02-23T12:18:14.148Z"
   },
   {
    "duration": 5,
    "start_time": "2022-02-23T12:18:14.201Z"
   },
   {
    "duration": 41,
    "start_time": "2022-02-23T12:18:14.228Z"
   },
   {
    "duration": 24,
    "start_time": "2022-02-23T12:18:14.272Z"
   },
   {
    "duration": 39,
    "start_time": "2022-02-23T12:18:14.303Z"
   },
   {
    "duration": 21,
    "start_time": "2022-02-23T12:18:14.346Z"
   },
   {
    "duration": 64,
    "start_time": "2022-02-23T12:18:14.370Z"
   },
   {
    "duration": 24,
    "start_time": "2022-02-23T12:18:14.436Z"
   },
   {
    "duration": 5,
    "start_time": "2022-02-23T12:18:14.462Z"
   },
   {
    "duration": 4,
    "start_time": "2022-02-23T12:18:25.580Z"
   },
   {
    "duration": 202,
    "start_time": "2022-02-23T12:18:25.587Z"
   },
   {
    "duration": 35,
    "start_time": "2022-02-23T12:18:25.792Z"
   },
   {
    "duration": 35,
    "start_time": "2022-02-23T12:18:25.832Z"
   },
   {
    "duration": 8,
    "start_time": "2022-02-23T12:18:25.870Z"
   },
   {
    "duration": 60,
    "start_time": "2022-02-23T12:18:25.881Z"
   },
   {
    "duration": 6,
    "start_time": "2022-02-23T12:18:25.943Z"
   },
   {
    "duration": 43,
    "start_time": "2022-02-23T12:18:25.953Z"
   },
   {
    "duration": 46,
    "start_time": "2022-02-23T12:18:26.001Z"
   },
   {
    "duration": 43,
    "start_time": "2022-02-23T12:18:26.051Z"
   },
   {
    "duration": 113,
    "start_time": "2022-02-23T12:18:26.096Z"
   },
   {
    "duration": 120,
    "start_time": "2022-02-23T12:18:26.211Z"
   },
   {
    "duration": 103,
    "start_time": "2022-02-23T12:18:26.334Z"
   },
   {
    "duration": 63,
    "start_time": "2022-02-23T12:18:26.439Z"
   },
   {
    "duration": 23,
    "start_time": "2022-02-23T12:18:26.504Z"
   },
   {
    "duration": 26,
    "start_time": "2022-02-23T12:18:26.529Z"
   },
   {
    "duration": 80,
    "start_time": "2022-02-23T12:18:26.557Z"
   },
   {
    "duration": 51,
    "start_time": "2022-02-23T12:18:26.640Z"
   },
   {
    "duration": 77,
    "start_time": "2022-02-23T12:18:26.693Z"
   },
   {
    "duration": 6,
    "start_time": "2022-02-23T12:18:26.773Z"
   },
   {
    "duration": 52,
    "start_time": "2022-02-23T12:18:26.782Z"
   },
   {
    "duration": 23,
    "start_time": "2022-02-23T12:18:26.837Z"
   },
   {
    "duration": 23,
    "start_time": "2022-02-23T12:18:26.862Z"
   },
   {
    "duration": 53,
    "start_time": "2022-02-23T12:18:26.888Z"
   },
   {
    "duration": 24,
    "start_time": "2022-02-23T12:18:26.944Z"
   },
   {
    "duration": 24,
    "start_time": "2022-02-23T12:18:26.970Z"
   },
   {
    "duration": 6,
    "start_time": "2022-02-23T12:18:27.029Z"
   },
   {
    "duration": 3,
    "start_time": "2022-02-23T12:18:52.106Z"
   },
   {
    "duration": 222,
    "start_time": "2022-02-23T12:18:52.112Z"
   },
   {
    "duration": 16,
    "start_time": "2022-02-23T12:18:52.339Z"
   },
   {
    "duration": 45,
    "start_time": "2022-02-23T12:18:52.358Z"
   },
   {
    "duration": 23,
    "start_time": "2022-02-23T12:18:52.405Z"
   },
   {
    "duration": 23,
    "start_time": "2022-02-23T12:18:52.430Z"
   },
   {
    "duration": 6,
    "start_time": "2022-02-23T12:18:52.455Z"
   },
   {
    "duration": 66,
    "start_time": "2022-02-23T12:18:52.463Z"
   },
   {
    "duration": 25,
    "start_time": "2022-02-23T12:18:52.533Z"
   },
   {
    "duration": 41,
    "start_time": "2022-02-23T12:18:52.561Z"
   },
   {
    "duration": 122,
    "start_time": "2022-02-23T12:18:52.605Z"
   },
   {
    "duration": 122,
    "start_time": "2022-02-23T12:18:52.730Z"
   },
   {
    "duration": 104,
    "start_time": "2022-02-23T12:18:52.855Z"
   },
   {
    "duration": 74,
    "start_time": "2022-02-23T12:18:52.962Z"
   },
   {
    "duration": 5,
    "start_time": "2022-02-23T12:18:53.039Z"
   },
   {
    "duration": 25,
    "start_time": "2022-02-23T12:18:53.046Z"
   },
   {
    "duration": 89,
    "start_time": "2022-02-23T12:18:53.074Z"
   },
   {
    "duration": 63,
    "start_time": "2022-02-23T12:18:53.165Z"
   },
   {
    "duration": 50,
    "start_time": "2022-02-23T12:18:53.230Z"
   },
   {
    "duration": 5,
    "start_time": "2022-02-23T12:18:53.283Z"
   },
   {
    "duration": 61,
    "start_time": "2022-02-23T12:18:53.291Z"
   },
   {
    "duration": 21,
    "start_time": "2022-02-23T12:18:53.355Z"
   },
   {
    "duration": 50,
    "start_time": "2022-02-23T12:18:53.379Z"
   },
   {
    "duration": 23,
    "start_time": "2022-02-23T12:18:53.432Z"
   },
   {
    "duration": 24,
    "start_time": "2022-02-23T12:18:53.458Z"
   },
   {
    "duration": 54,
    "start_time": "2022-02-23T12:18:53.485Z"
   },
   {
    "duration": 14,
    "start_time": "2022-02-23T12:18:53.544Z"
   },
   {
    "duration": 16,
    "start_time": "2022-02-23T15:13:09.359Z"
   },
   {
    "duration": 18,
    "start_time": "2022-02-23T15:13:13.023Z"
   },
   {
    "duration": 36,
    "start_time": "2022-02-23T15:13:22.424Z"
   },
   {
    "duration": 28,
    "start_time": "2022-02-23T15:13:50.378Z"
   },
   {
    "duration": 6,
    "start_time": "2022-02-23T15:20:38.326Z"
   },
   {
    "duration": 3,
    "start_time": "2022-02-23T15:20:43.917Z"
   },
   {
    "duration": 217,
    "start_time": "2022-02-23T15:20:43.923Z"
   },
   {
    "duration": 17,
    "start_time": "2022-02-23T15:20:44.143Z"
   },
   {
    "duration": 41,
    "start_time": "2022-02-23T15:20:44.163Z"
   },
   {
    "duration": 22,
    "start_time": "2022-02-23T15:20:44.206Z"
   },
   {
    "duration": 21,
    "start_time": "2022-02-23T15:20:44.230Z"
   },
   {
    "duration": 4,
    "start_time": "2022-02-23T15:20:44.255Z"
   },
   {
    "duration": 72,
    "start_time": "2022-02-23T15:20:44.263Z"
   },
   {
    "duration": 34,
    "start_time": "2022-02-23T15:20:44.337Z"
   },
   {
    "duration": 33,
    "start_time": "2022-02-23T15:20:44.374Z"
   },
   {
    "duration": 100,
    "start_time": "2022-02-23T15:20:44.427Z"
   },
   {
    "duration": 114,
    "start_time": "2022-02-23T15:20:44.530Z"
   },
   {
    "duration": 91,
    "start_time": "2022-02-23T15:20:44.646Z"
   },
   {
    "duration": 60,
    "start_time": "2022-02-23T15:20:44.739Z"
   },
   {
    "duration": 25,
    "start_time": "2022-02-23T15:20:44.801Z"
   },
   {
    "duration": 23,
    "start_time": "2022-02-23T15:20:44.829Z"
   },
   {
    "duration": 75,
    "start_time": "2022-02-23T15:20:44.855Z"
   },
   {
    "duration": 50,
    "start_time": "2022-02-23T15:20:44.932Z"
   },
   {
    "duration": 74,
    "start_time": "2022-02-23T15:20:44.987Z"
   },
   {
    "duration": 5,
    "start_time": "2022-02-23T15:20:45.064Z"
   },
   {
    "duration": 36,
    "start_time": "2022-02-23T15:20:45.072Z"
   },
   {
    "duration": 35,
    "start_time": "2022-02-23T15:20:45.111Z"
   },
   {
    "duration": 21,
    "start_time": "2022-02-23T15:20:45.149Z"
   },
   {
    "duration": 53,
    "start_time": "2022-02-23T15:20:45.172Z"
   },
   {
    "duration": 24,
    "start_time": "2022-02-23T15:20:45.228Z"
   },
   {
    "duration": 21,
    "start_time": "2022-02-23T15:20:45.255Z"
   },
   {
    "duration": 48,
    "start_time": "2022-02-23T15:20:45.278Z"
   },
   {
    "duration": 37,
    "start_time": "2022-02-23T15:20:45.329Z"
   },
   {
    "duration": 57,
    "start_time": "2022-02-23T15:20:45.369Z"
   },
   {
    "duration": 6,
    "start_time": "2022-02-23T15:20:45.429Z"
   },
   {
    "duration": 29,
    "start_time": "2022-02-23T15:21:20.910Z"
   },
   {
    "duration": 3,
    "start_time": "2022-02-23T15:21:45.228Z"
   },
   {
    "duration": 231,
    "start_time": "2022-02-23T15:21:45.234Z"
   },
   {
    "duration": 16,
    "start_time": "2022-02-23T15:21:45.469Z"
   },
   {
    "duration": 54,
    "start_time": "2022-02-23T15:21:45.488Z"
   },
   {
    "duration": 7,
    "start_time": "2022-02-23T15:21:45.545Z"
   },
   {
    "duration": 26,
    "start_time": "2022-02-23T15:21:45.555Z"
   },
   {
    "duration": 7,
    "start_time": "2022-02-23T15:21:45.584Z"
   },
   {
    "duration": 60,
    "start_time": "2022-02-23T15:21:45.594Z"
   },
   {
    "duration": 24,
    "start_time": "2022-02-23T15:21:45.658Z"
   },
   {
    "duration": 54,
    "start_time": "2022-02-23T15:21:45.686Z"
   },
   {
    "duration": 117,
    "start_time": "2022-02-23T15:21:45.743Z"
   },
   {
    "duration": 120,
    "start_time": "2022-02-23T15:21:45.863Z"
   },
   {
    "duration": 101,
    "start_time": "2022-02-23T15:21:45.985Z"
   },
   {
    "duration": 68,
    "start_time": "2022-02-23T15:21:46.089Z"
   },
   {
    "duration": 4,
    "start_time": "2022-02-23T15:21:46.160Z"
   },
   {
    "duration": 24,
    "start_time": "2022-02-23T15:21:46.168Z"
   },
   {
    "duration": 85,
    "start_time": "2022-02-23T15:21:46.195Z"
   },
   {
    "duration": 70,
    "start_time": "2022-02-23T15:21:46.282Z"
   },
   {
    "duration": 71,
    "start_time": "2022-02-23T15:21:46.355Z"
   },
   {
    "duration": 7,
    "start_time": "2022-02-23T15:21:46.428Z"
   },
   {
    "duration": 40,
    "start_time": "2022-02-23T15:21:46.438Z"
   },
   {
    "duration": 49,
    "start_time": "2022-02-23T15:21:46.481Z"
   },
   {
    "duration": 20,
    "start_time": "2022-02-23T15:21:46.532Z"
   },
   {
    "duration": 20,
    "start_time": "2022-02-23T15:21:46.554Z"
   },
   {
    "duration": 52,
    "start_time": "2022-02-23T15:21:46.576Z"
   },
   {
    "duration": 21,
    "start_time": "2022-02-23T15:21:46.631Z"
   },
   {
    "duration": 13,
    "start_time": "2022-02-23T15:21:46.656Z"
   },
   {
    "duration": 69,
    "start_time": "2022-02-23T15:21:46.672Z"
   },
   {
    "duration": 33,
    "start_time": "2022-02-23T15:21:46.744Z"
   },
   {
    "duration": 6,
    "start_time": "2022-02-23T15:21:46.779Z"
   },
   {
    "duration": 64,
    "start_time": "2022-02-23T15:21:46.787Z"
   },
   {
    "duration": 4,
    "start_time": "2022-02-23T15:22:00.671Z"
   },
   {
    "duration": 225,
    "start_time": "2022-02-23T15:22:00.678Z"
   },
   {
    "duration": 22,
    "start_time": "2022-02-23T15:22:00.908Z"
   },
   {
    "duration": 38,
    "start_time": "2022-02-23T15:22:00.934Z"
   },
   {
    "duration": 8,
    "start_time": "2022-02-23T15:22:00.975Z"
   },
   {
    "duration": 59,
    "start_time": "2022-02-23T15:22:00.986Z"
   },
   {
    "duration": 6,
    "start_time": "2022-02-23T15:22:01.047Z"
   },
   {
    "duration": 75,
    "start_time": "2022-02-23T15:22:01.057Z"
   },
   {
    "duration": 44,
    "start_time": "2022-02-23T15:22:01.135Z"
   },
   {
    "duration": 42,
    "start_time": "2022-02-23T15:22:01.182Z"
   },
   {
    "duration": 115,
    "start_time": "2022-02-23T15:22:01.227Z"
   },
   {
    "duration": 128,
    "start_time": "2022-02-23T15:22:01.345Z"
   },
   {
    "duration": 96,
    "start_time": "2022-02-23T15:22:01.476Z"
   },
   {
    "duration": 65,
    "start_time": "2022-02-23T15:22:01.575Z"
   },
   {
    "duration": 5,
    "start_time": "2022-02-23T15:22:01.643Z"
   },
   {
    "duration": 42,
    "start_time": "2022-02-23T15:22:01.651Z"
   },
   {
    "duration": 74,
    "start_time": "2022-02-23T15:22:01.696Z"
   },
   {
    "duration": 60,
    "start_time": "2022-02-23T15:22:01.772Z"
   },
   {
    "duration": 48,
    "start_time": "2022-02-23T15:22:01.834Z"
   },
   {
    "duration": 6,
    "start_time": "2022-02-23T15:22:01.884Z"
   },
   {
    "duration": 51,
    "start_time": "2022-02-23T15:22:01.892Z"
   },
   {
    "duration": 20,
    "start_time": "2022-02-23T15:22:01.946Z"
   },
   {
    "duration": 22,
    "start_time": "2022-02-23T15:22:01.971Z"
   },
   {
    "duration": 21,
    "start_time": "2022-02-23T15:22:02.027Z"
   },
   {
    "duration": 22,
    "start_time": "2022-02-23T15:22:02.051Z"
   },
   {
    "duration": 50,
    "start_time": "2022-02-23T15:22:02.076Z"
   },
   {
    "duration": 13,
    "start_time": "2022-02-23T15:22:02.129Z"
   },
   {
    "duration": 46,
    "start_time": "2022-02-23T15:22:02.144Z"
   },
   {
    "duration": 58,
    "start_time": "2022-02-23T15:22:02.193Z"
   },
   {
    "duration": 5,
    "start_time": "2022-02-23T15:22:02.254Z"
   },
   {
    "duration": 41,
    "start_time": "2022-02-23T15:22:02.262Z"
   },
   {
    "duration": 34,
    "start_time": "2022-02-23T15:22:02.306Z"
   },
   {
    "duration": 10,
    "start_time": "2022-02-23T15:28:35.447Z"
   },
   {
    "duration": 6,
    "start_time": "2022-02-23T15:28:37.667Z"
   },
   {
    "duration": 32,
    "start_time": "2022-02-23T15:28:39.552Z"
   },
   {
    "duration": 32,
    "start_time": "2022-02-23T15:33:02.577Z"
   },
   {
    "duration": 20,
    "start_time": "2022-02-23T15:33:06.437Z"
   },
   {
    "duration": 4,
    "start_time": "2022-02-23T15:33:10.599Z"
   },
   {
    "duration": 236,
    "start_time": "2022-02-23T15:33:10.606Z"
   },
   {
    "duration": 17,
    "start_time": "2022-02-23T15:33:10.845Z"
   },
   {
    "duration": 39,
    "start_time": "2022-02-23T15:33:10.865Z"
   },
   {
    "duration": 5,
    "start_time": "2022-02-23T15:33:10.927Z"
   },
   {
    "duration": 36,
    "start_time": "2022-02-23T15:33:10.934Z"
   },
   {
    "duration": 6,
    "start_time": "2022-02-23T15:33:10.972Z"
   },
   {
    "duration": 70,
    "start_time": "2022-02-23T15:33:10.982Z"
   },
   {
    "duration": 26,
    "start_time": "2022-02-23T15:33:11.055Z"
   },
   {
    "duration": 55,
    "start_time": "2022-02-23T15:33:11.084Z"
   },
   {
    "duration": 104,
    "start_time": "2022-02-23T15:33:11.142Z"
   },
   {
    "duration": 125,
    "start_time": "2022-02-23T15:33:11.249Z"
   },
   {
    "duration": 97,
    "start_time": "2022-02-23T15:33:11.376Z"
   },
   {
    "duration": 73,
    "start_time": "2022-02-23T15:33:11.475Z"
   },
   {
    "duration": 4,
    "start_time": "2022-02-23T15:33:11.551Z"
   },
   {
    "duration": 24,
    "start_time": "2022-02-23T15:33:11.557Z"
   },
   {
    "duration": 88,
    "start_time": "2022-02-23T15:33:11.584Z"
   },
   {
    "duration": 72,
    "start_time": "2022-02-23T15:33:11.675Z"
   },
   {
    "duration": 51,
    "start_time": "2022-02-23T15:33:11.750Z"
   },
   {
    "duration": 23,
    "start_time": "2022-02-23T15:33:11.804Z"
   },
   {
    "duration": 29,
    "start_time": "2022-02-23T15:33:11.830Z"
   },
   {
    "duration": 21,
    "start_time": "2022-02-23T15:33:11.861Z"
   },
   {
    "duration": 50,
    "start_time": "2022-02-23T15:33:11.886Z"
   },
   {
    "duration": 21,
    "start_time": "2022-02-23T15:33:11.939Z"
   },
   {
    "duration": 27,
    "start_time": "2022-02-23T15:33:11.963Z"
   },
   {
    "duration": 53,
    "start_time": "2022-02-23T15:33:11.993Z"
   },
   {
    "duration": 13,
    "start_time": "2022-02-23T15:33:12.049Z"
   },
   {
    "duration": 72,
    "start_time": "2022-02-23T15:33:12.064Z"
   },
   {
    "duration": 35,
    "start_time": "2022-02-23T15:33:12.138Z"
   },
   {
    "duration": 7,
    "start_time": "2022-02-23T15:33:12.177Z"
   },
   {
    "duration": 60,
    "start_time": "2022-02-23T15:33:12.187Z"
   },
   {
    "duration": 4,
    "start_time": "2022-02-23T15:33:17.970Z"
   },
   {
    "duration": 5,
    "start_time": "2022-02-23T15:33:20.646Z"
   },
   {
    "duration": 226,
    "start_time": "2022-02-23T15:33:20.653Z"
   },
   {
    "duration": 16,
    "start_time": "2022-02-23T15:33:20.882Z"
   },
   {
    "duration": 54,
    "start_time": "2022-02-23T15:33:20.902Z"
   },
   {
    "duration": 18,
    "start_time": "2022-02-23T15:33:20.959Z"
   },
   {
    "duration": 28,
    "start_time": "2022-02-23T15:33:20.979Z"
   },
   {
    "duration": 19,
    "start_time": "2022-02-23T15:33:21.009Z"
   },
   {
    "duration": 37,
    "start_time": "2022-02-23T15:33:21.031Z"
   },
   {
    "duration": 62,
    "start_time": "2022-02-23T15:33:21.073Z"
   },
   {
    "duration": 32,
    "start_time": "2022-02-23T15:33:21.139Z"
   },
   {
    "duration": 120,
    "start_time": "2022-02-23T15:33:21.174Z"
   },
   {
    "duration": 115,
    "start_time": "2022-02-23T15:33:21.297Z"
   },
   {
    "duration": 95,
    "start_time": "2022-02-23T15:33:21.415Z"
   },
   {
    "duration": 68,
    "start_time": "2022-02-23T15:33:21.513Z"
   },
   {
    "duration": 4,
    "start_time": "2022-02-23T15:33:21.584Z"
   },
   {
    "duration": 45,
    "start_time": "2022-02-23T15:33:21.592Z"
   },
   {
    "duration": 62,
    "start_time": "2022-02-23T15:33:21.639Z"
   },
   {
    "duration": 66,
    "start_time": "2022-02-23T15:33:21.704Z"
   },
   {
    "duration": 74,
    "start_time": "2022-02-23T15:33:21.773Z"
   },
   {
    "duration": 5,
    "start_time": "2022-02-23T15:33:21.850Z"
   },
   {
    "duration": 32,
    "start_time": "2022-02-23T15:33:21.857Z"
   },
   {
    "duration": 44,
    "start_time": "2022-02-23T15:33:21.892Z"
   },
   {
    "duration": 23,
    "start_time": "2022-02-23T15:33:21.938Z"
   },
   {
    "duration": 29,
    "start_time": "2022-02-23T15:33:21.964Z"
   },
   {
    "duration": 53,
    "start_time": "2022-02-23T15:33:21.996Z"
   },
   {
    "duration": 22,
    "start_time": "2022-02-23T15:33:22.051Z"
   },
   {
    "duration": 21,
    "start_time": "2022-02-23T15:33:22.080Z"
   },
   {
    "duration": 38,
    "start_time": "2022-02-23T15:33:22.127Z"
   },
   {
    "duration": 61,
    "start_time": "2022-02-23T15:33:22.168Z"
   },
   {
    "duration": 6,
    "start_time": "2022-02-23T15:33:22.231Z"
   },
   {
    "duration": 31,
    "start_time": "2022-02-23T15:33:22.239Z"
   },
   {
    "duration": 18,
    "start_time": "2022-02-23T15:33:22.272Z"
   },
   {
    "duration": 34,
    "start_time": "2022-02-23T15:33:22.292Z"
   },
   {
    "duration": 4,
    "start_time": "2022-02-23T15:34:54.528Z"
   },
   {
    "duration": 225,
    "start_time": "2022-02-23T15:34:54.534Z"
   },
   {
    "duration": 17,
    "start_time": "2022-02-23T15:34:54.762Z"
   },
   {
    "duration": 56,
    "start_time": "2022-02-23T15:34:54.781Z"
   },
   {
    "duration": 5,
    "start_time": "2022-02-23T15:34:54.839Z"
   },
   {
    "duration": 27,
    "start_time": "2022-02-23T15:34:54.847Z"
   },
   {
    "duration": 6,
    "start_time": "2022-02-23T15:34:54.877Z"
   },
   {
    "duration": 70,
    "start_time": "2022-02-23T15:34:54.888Z"
   },
   {
    "duration": 27,
    "start_time": "2022-02-23T15:34:54.963Z"
   },
   {
    "duration": 73,
    "start_time": "2022-02-23T15:34:54.993Z"
   },
   {
    "duration": 151,
    "start_time": "2022-02-23T15:34:55.069Z"
   },
   {
    "duration": 159,
    "start_time": "2022-02-23T15:34:55.227Z"
   },
   {
    "duration": 133,
    "start_time": "2022-02-23T15:34:55.389Z"
   },
   {
    "duration": 59,
    "start_time": "2022-02-23T15:34:55.524Z"
   },
   {
    "duration": 4,
    "start_time": "2022-02-23T15:34:55.585Z"
   },
   {
    "duration": 51,
    "start_time": "2022-02-23T15:34:55.591Z"
   },
   {
    "duration": 62,
    "start_time": "2022-02-23T15:34:55.644Z"
   },
   {
    "duration": 66,
    "start_time": "2022-02-23T15:34:55.709Z"
   },
   {
    "duration": 71,
    "start_time": "2022-02-23T15:34:55.777Z"
   },
   {
    "duration": 5,
    "start_time": "2022-02-23T15:34:55.851Z"
   },
   {
    "duration": 31,
    "start_time": "2022-02-23T15:34:55.859Z"
   },
   {
    "duration": 42,
    "start_time": "2022-02-23T15:34:55.892Z"
   },
   {
    "duration": 21,
    "start_time": "2022-02-23T15:34:55.939Z"
   },
   {
    "duration": 20,
    "start_time": "2022-02-23T15:34:55.962Z"
   },
   {
    "duration": 52,
    "start_time": "2022-02-23T15:34:55.984Z"
   },
   {
    "duration": 21,
    "start_time": "2022-02-23T15:34:56.039Z"
   },
   {
    "duration": 14,
    "start_time": "2022-02-23T15:34:56.062Z"
   },
   {
    "duration": 74,
    "start_time": "2022-02-23T15:34:56.078Z"
   },
   {
    "duration": 34,
    "start_time": "2022-02-23T15:34:56.155Z"
   },
   {
    "duration": 6,
    "start_time": "2022-02-23T15:34:56.192Z"
   },
   {
    "duration": 55,
    "start_time": "2022-02-23T15:34:56.200Z"
   },
   {
    "duration": 18,
    "start_time": "2022-02-23T15:34:56.257Z"
   },
   {
    "duration": 53,
    "start_time": "2022-02-23T15:34:56.277Z"
   },
   {
    "duration": 18,
    "start_time": "2022-02-23T15:34:56.332Z"
   },
   {
    "duration": 242,
    "start_time": "2022-02-23T15:38:21.445Z"
   },
   {
    "duration": 4,
    "start_time": "2022-02-23T15:38:27.276Z"
   },
   {
    "duration": 284,
    "start_time": "2022-02-23T15:38:27.283Z"
   },
   {
    "duration": 16,
    "start_time": "2022-02-23T15:38:27.570Z"
   },
   {
    "duration": 57,
    "start_time": "2022-02-23T15:38:27.590Z"
   },
   {
    "duration": 6,
    "start_time": "2022-02-23T15:38:27.650Z"
   },
   {
    "duration": 32,
    "start_time": "2022-02-23T15:38:27.658Z"
   },
   {
    "duration": 36,
    "start_time": "2022-02-23T15:38:27.692Z"
   },
   {
    "duration": 36,
    "start_time": "2022-02-23T15:38:27.732Z"
   },
   {
    "duration": 56,
    "start_time": "2022-02-23T15:38:27.773Z"
   },
   {
    "duration": 32,
    "start_time": "2022-02-23T15:38:27.831Z"
   },
   {
    "duration": 115,
    "start_time": "2022-02-23T15:38:27.866Z"
   },
   {
    "duration": 124,
    "start_time": "2022-02-23T15:38:27.984Z"
   },
   {
    "duration": 98,
    "start_time": "2022-02-23T15:38:28.110Z"
   },
   {
    "duration": 75,
    "start_time": "2022-02-23T15:38:28.210Z"
   },
   {
    "duration": 4,
    "start_time": "2022-02-23T15:38:28.288Z"
   },
   {
    "duration": 50,
    "start_time": "2022-02-23T15:38:28.295Z"
   },
   {
    "duration": 59,
    "start_time": "2022-02-23T15:38:28.348Z"
   },
   {
    "duration": 50,
    "start_time": "2022-02-23T15:38:28.425Z"
   },
   {
    "duration": 69,
    "start_time": "2022-02-23T15:38:28.477Z"
   },
   {
    "duration": 5,
    "start_time": "2022-02-23T15:38:28.548Z"
   },
   {
    "duration": 30,
    "start_time": "2022-02-23T15:38:28.557Z"
   },
   {
    "duration": 47,
    "start_time": "2022-02-23T15:38:28.591Z"
   },
   {
    "duration": 20,
    "start_time": "2022-02-23T15:38:28.643Z"
   },
   {
    "duration": 20,
    "start_time": "2022-02-23T15:38:28.667Z"
   },
   {
    "duration": 53,
    "start_time": "2022-02-23T15:38:28.690Z"
   },
   {
    "duration": 24,
    "start_time": "2022-02-23T15:38:28.745Z"
   },
   {
    "duration": 14,
    "start_time": "2022-02-23T15:38:28.772Z"
   },
   {
    "duration": 73,
    "start_time": "2022-02-23T15:38:28.789Z"
   },
   {
    "duration": 32,
    "start_time": "2022-02-23T15:38:28.865Z"
   },
   {
    "duration": 30,
    "start_time": "2022-02-23T15:38:28.900Z"
   },
   {
    "duration": 41,
    "start_time": "2022-02-23T15:38:28.932Z"
   },
   {
    "duration": 20,
    "start_time": "2022-02-23T15:38:28.975Z"
   },
   {
    "duration": 24,
    "start_time": "2022-02-23T15:38:29.026Z"
   },
   {
    "duration": 18,
    "start_time": "2022-02-23T15:38:29.052Z"
   },
   {
    "duration": 305,
    "start_time": "2022-02-23T15:38:29.073Z"
   },
   {
    "duration": -131,
    "start_time": "2022-02-23T15:38:29.512Z"
   },
   {
    "duration": 3,
    "start_time": "2022-02-23T15:39:16.459Z"
   },
   {
    "duration": 278,
    "start_time": "2022-02-23T15:39:16.465Z"
   },
   {
    "duration": 16,
    "start_time": "2022-02-23T15:39:16.747Z"
   },
   {
    "duration": 39,
    "start_time": "2022-02-23T15:39:16.766Z"
   },
   {
    "duration": 24,
    "start_time": "2022-02-23T15:39:16.807Z"
   },
   {
    "duration": 24,
    "start_time": "2022-02-23T15:39:16.834Z"
   },
   {
    "duration": 8,
    "start_time": "2022-02-23T15:39:16.861Z"
   },
   {
    "duration": 78,
    "start_time": "2022-02-23T15:39:16.874Z"
   },
   {
    "duration": 28,
    "start_time": "2022-02-23T15:39:16.956Z"
   },
   {
    "duration": 54,
    "start_time": "2022-02-23T15:39:16.987Z"
   },
   {
    "duration": 111,
    "start_time": "2022-02-23T15:39:17.043Z"
   },
   {
    "duration": 121,
    "start_time": "2022-02-23T15:39:17.156Z"
   },
   {
    "duration": 106,
    "start_time": "2022-02-23T15:39:17.280Z"
   },
   {
    "duration": 70,
    "start_time": "2022-02-23T15:39:17.389Z"
   },
   {
    "duration": 5,
    "start_time": "2022-02-23T15:39:17.462Z"
   },
   {
    "duration": 24,
    "start_time": "2022-02-23T15:39:17.471Z"
   },
   {
    "duration": 63,
    "start_time": "2022-02-23T15:39:17.527Z"
   },
   {
    "duration": 80,
    "start_time": "2022-02-23T15:39:17.592Z"
   },
   {
    "duration": 63,
    "start_time": "2022-02-23T15:39:17.675Z"
   },
   {
    "duration": 5,
    "start_time": "2022-02-23T15:39:17.741Z"
   },
   {
    "duration": 31,
    "start_time": "2022-02-23T15:39:17.749Z"
   },
   {
    "duration": 43,
    "start_time": "2022-02-23T15:39:17.783Z"
   },
   {
    "duration": 21,
    "start_time": "2022-02-23T15:39:17.831Z"
   },
   {
    "duration": 20,
    "start_time": "2022-02-23T15:39:17.855Z"
   },
   {
    "duration": 55,
    "start_time": "2022-02-23T15:39:17.877Z"
   },
   {
    "duration": 22,
    "start_time": "2022-02-23T15:39:17.935Z"
   },
   {
    "duration": 14,
    "start_time": "2022-02-23T15:39:17.959Z"
   },
   {
    "duration": 71,
    "start_time": "2022-02-23T15:39:17.975Z"
   },
   {
    "duration": 31,
    "start_time": "2022-02-23T15:39:18.049Z"
   },
   {
    "duration": 6,
    "start_time": "2022-02-23T15:39:18.083Z"
   },
   {
    "duration": 69,
    "start_time": "2022-02-23T15:39:18.091Z"
   },
   {
    "duration": 20,
    "start_time": "2022-02-23T15:39:18.163Z"
   },
   {
    "duration": 50,
    "start_time": "2022-02-23T15:39:18.187Z"
   },
   {
    "duration": 26,
    "start_time": "2022-02-23T15:39:18.240Z"
   },
   {
    "duration": 354,
    "start_time": "2022-02-23T15:39:18.269Z"
   },
   {
    "duration": -153,
    "start_time": "2022-02-23T15:39:18.779Z"
   },
   {
    "duration": 3,
    "start_time": "2022-02-23T15:39:50.259Z"
   },
   {
    "duration": 261,
    "start_time": "2022-02-23T15:39:50.265Z"
   },
   {
    "duration": 22,
    "start_time": "2022-02-23T15:39:50.530Z"
   },
   {
    "duration": 42,
    "start_time": "2022-02-23T15:39:50.555Z"
   },
   {
    "duration": 28,
    "start_time": "2022-02-23T15:39:50.600Z"
   },
   {
    "duration": 20,
    "start_time": "2022-02-23T15:39:50.630Z"
   },
   {
    "duration": 6,
    "start_time": "2022-02-23T15:39:50.653Z"
   },
   {
    "duration": 65,
    "start_time": "2022-02-23T15:39:50.663Z"
   },
   {
    "duration": 30,
    "start_time": "2022-02-23T15:39:50.732Z"
   },
   {
    "duration": 36,
    "start_time": "2022-02-23T15:39:50.764Z"
   },
   {
    "duration": 102,
    "start_time": "2022-02-23T15:39:50.826Z"
   },
   {
    "duration": 123,
    "start_time": "2022-02-23T15:39:50.930Z"
   },
   {
    "duration": 97,
    "start_time": "2022-02-23T15:39:51.055Z"
   },
   {
    "duration": 75,
    "start_time": "2022-02-23T15:39:51.155Z"
   },
   {
    "duration": 5,
    "start_time": "2022-02-23T15:39:51.232Z"
   },
   {
    "duration": 47,
    "start_time": "2022-02-23T15:39:51.240Z"
   },
   {
    "duration": 60,
    "start_time": "2022-02-23T15:39:51.289Z"
   },
   {
    "duration": 50,
    "start_time": "2022-02-23T15:39:51.351Z"
   },
   {
    "duration": 48,
    "start_time": "2022-02-23T15:39:51.427Z"
   },
   {
    "duration": 5,
    "start_time": "2022-02-23T15:39:51.478Z"
   },
   {
    "duration": 50,
    "start_time": "2022-02-23T15:39:51.486Z"
   },
   {
    "duration": 21,
    "start_time": "2022-02-23T15:39:51.538Z"
   },
   {
    "duration": 19,
    "start_time": "2022-02-23T15:39:51.564Z"
   },
   {
    "duration": 53,
    "start_time": "2022-02-23T15:39:51.586Z"
   },
   {
    "duration": 25,
    "start_time": "2022-02-23T15:39:51.642Z"
   },
   {
    "duration": 56,
    "start_time": "2022-02-23T15:39:51.670Z"
   },
   {
    "duration": 13,
    "start_time": "2022-02-23T15:39:51.729Z"
   },
   {
    "duration": 41,
    "start_time": "2022-02-23T15:39:51.744Z"
   },
   {
    "duration": 55,
    "start_time": "2022-02-23T15:39:51.787Z"
   },
   {
    "duration": 6,
    "start_time": "2022-02-23T15:39:51.844Z"
   },
   {
    "duration": 35,
    "start_time": "2022-02-23T15:39:51.852Z"
   },
   {
    "duration": 48,
    "start_time": "2022-02-23T15:39:51.889Z"
   },
   {
    "duration": 25,
    "start_time": "2022-02-23T15:39:51.939Z"
   },
   {
    "duration": 17,
    "start_time": "2022-02-23T15:39:51.966Z"
   },
   {
    "duration": 45,
    "start_time": "2022-02-23T15:39:51.986Z"
   },
   {
    "duration": 3,
    "start_time": "2022-02-23T15:39:56.803Z"
   },
   {
    "duration": 231,
    "start_time": "2022-02-23T15:39:56.809Z"
   },
   {
    "duration": 16,
    "start_time": "2022-02-23T15:39:57.043Z"
   },
   {
    "duration": 40,
    "start_time": "2022-02-23T15:39:57.062Z"
   },
   {
    "duration": 5,
    "start_time": "2022-02-23T15:39:57.126Z"
   },
   {
    "duration": 28,
    "start_time": "2022-02-23T15:39:57.134Z"
   },
   {
    "duration": 5,
    "start_time": "2022-02-23T15:39:57.165Z"
   },
   {
    "duration": 77,
    "start_time": "2022-02-23T15:39:57.172Z"
   },
   {
    "duration": 27,
    "start_time": "2022-02-23T15:39:57.255Z"
   },
   {
    "duration": 53,
    "start_time": "2022-02-23T15:39:57.286Z"
   },
   {
    "duration": 119,
    "start_time": "2022-02-23T15:39:57.343Z"
   },
   {
    "duration": 126,
    "start_time": "2022-02-23T15:39:57.464Z"
   },
   {
    "duration": 107,
    "start_time": "2022-02-23T15:39:57.594Z"
   },
   {
    "duration": 69,
    "start_time": "2022-02-23T15:39:57.704Z"
   },
   {
    "duration": 5,
    "start_time": "2022-02-23T15:39:57.776Z"
   },
   {
    "duration": 45,
    "start_time": "2022-02-23T15:39:57.784Z"
   },
   {
    "duration": 63,
    "start_time": "2022-02-23T15:39:57.831Z"
   },
   {
    "duration": 67,
    "start_time": "2022-02-23T15:39:57.897Z"
   },
   {
    "duration": 70,
    "start_time": "2022-02-23T15:39:57.967Z"
   },
   {
    "duration": 5,
    "start_time": "2022-02-23T15:39:58.040Z"
   },
   {
    "duration": 33,
    "start_time": "2022-02-23T15:39:58.047Z"
   },
   {
    "duration": 46,
    "start_time": "2022-02-23T15:39:58.082Z"
   },
   {
    "duration": 21,
    "start_time": "2022-02-23T15:39:58.131Z"
   },
   {
    "duration": 19,
    "start_time": "2022-02-23T15:39:58.155Z"
   },
   {
    "duration": 56,
    "start_time": "2022-02-23T15:39:58.177Z"
   },
   {
    "duration": 22,
    "start_time": "2022-02-23T15:39:58.235Z"
   },
   {
    "duration": 12,
    "start_time": "2022-02-23T15:39:58.262Z"
   },
   {
    "duration": 70,
    "start_time": "2022-02-23T15:39:58.277Z"
   },
   {
    "duration": 32,
    "start_time": "2022-02-23T15:39:58.350Z"
   },
   {
    "duration": 6,
    "start_time": "2022-02-23T15:39:58.385Z"
   },
   {
    "duration": 71,
    "start_time": "2022-02-23T15:39:58.393Z"
   },
   {
    "duration": 18,
    "start_time": "2022-02-23T15:39:58.467Z"
   },
   {
    "duration": 42,
    "start_time": "2022-02-23T15:39:58.488Z"
   },
   {
    "duration": 19,
    "start_time": "2022-02-23T15:39:58.532Z"
   },
   {
    "duration": 12,
    "start_time": "2022-02-23T15:39:58.553Z"
   },
   {
    "duration": 7,
    "start_time": "2022-02-23T15:39:58.567Z"
   },
   {
    "duration": 3,
    "start_time": "2022-02-23T15:40:15.163Z"
   },
   {
    "duration": 198,
    "start_time": "2022-02-23T15:40:15.169Z"
   },
   {
    "duration": 15,
    "start_time": "2022-02-23T15:40:15.370Z"
   },
   {
    "duration": 50,
    "start_time": "2022-02-23T15:40:15.388Z"
   },
   {
    "duration": 6,
    "start_time": "2022-02-23T15:40:15.442Z"
   },
   {
    "duration": 27,
    "start_time": "2022-02-23T15:40:15.452Z"
   },
   {
    "duration": 6,
    "start_time": "2022-02-23T15:40:15.482Z"
   },
   {
    "duration": 38,
    "start_time": "2022-02-23T15:40:15.528Z"
   },
   {
    "duration": 59,
    "start_time": "2022-02-23T15:40:15.571Z"
   },
   {
    "duration": 35,
    "start_time": "2022-02-23T15:40:15.632Z"
   },
   {
    "duration": 113,
    "start_time": "2022-02-23T15:40:15.670Z"
   },
   {
    "duration": 112,
    "start_time": "2022-02-23T15:40:15.786Z"
   },
   {
    "duration": 95,
    "start_time": "2022-02-23T15:40:15.901Z"
   },
   {
    "duration": 68,
    "start_time": "2022-02-23T15:40:15.998Z"
   },
   {
    "duration": 5,
    "start_time": "2022-02-23T15:40:16.068Z"
   },
   {
    "duration": 31,
    "start_time": "2022-02-23T15:40:16.075Z"
   },
   {
    "duration": 77,
    "start_time": "2022-02-23T15:40:16.108Z"
   },
   {
    "duration": 70,
    "start_time": "2022-02-23T15:40:16.187Z"
   },
   {
    "duration": 66,
    "start_time": "2022-02-23T15:40:16.260Z"
   },
   {
    "duration": 4,
    "start_time": "2022-02-23T15:40:16.329Z"
   },
   {
    "duration": 29,
    "start_time": "2022-02-23T15:40:16.336Z"
   },
   {
    "duration": 20,
    "start_time": "2022-02-23T15:40:16.368Z"
   },
   {
    "duration": 50,
    "start_time": "2022-02-23T15:40:16.394Z"
   },
   {
    "duration": 19,
    "start_time": "2022-02-23T15:40:16.446Z"
   },
   {
    "duration": 22,
    "start_time": "2022-02-23T15:40:16.467Z"
   },
   {
    "duration": 52,
    "start_time": "2022-02-23T15:40:16.492Z"
   },
   {
    "duration": 14,
    "start_time": "2022-02-23T15:40:16.547Z"
   },
   {
    "duration": 67,
    "start_time": "2022-02-23T15:40:16.564Z"
   },
   {
    "duration": 32,
    "start_time": "2022-02-23T15:40:16.633Z"
   },
   {
    "duration": 6,
    "start_time": "2022-02-23T15:40:16.668Z"
   },
   {
    "duration": 59,
    "start_time": "2022-02-23T15:40:16.676Z"
   },
   {
    "duration": 18,
    "start_time": "2022-02-23T15:40:16.737Z"
   },
   {
    "duration": 22,
    "start_time": "2022-02-23T15:40:16.758Z"
   },
   {
    "duration": 46,
    "start_time": "2022-02-23T15:40:16.783Z"
   },
   {
    "duration": 11,
    "start_time": "2022-02-23T15:40:16.832Z"
   },
   {
    "duration": 7,
    "start_time": "2022-02-23T15:40:16.845Z"
   },
   {
    "duration": 3,
    "start_time": "2022-02-23T15:41:14.797Z"
   },
   {
    "duration": 242,
    "start_time": "2022-02-23T15:41:14.803Z"
   },
   {
    "duration": 18,
    "start_time": "2022-02-23T15:41:15.049Z"
   },
   {
    "duration": 59,
    "start_time": "2022-02-23T15:41:15.071Z"
   },
   {
    "duration": 12,
    "start_time": "2022-02-23T15:41:15.133Z"
   },
   {
    "duration": 35,
    "start_time": "2022-02-23T15:41:15.148Z"
   },
   {
    "duration": 18,
    "start_time": "2022-02-23T15:41:15.186Z"
   },
   {
    "duration": 34,
    "start_time": "2022-02-23T15:41:15.226Z"
   },
   {
    "duration": 32,
    "start_time": "2022-02-23T15:41:15.264Z"
   },
   {
    "duration": 82,
    "start_time": "2022-02-23T15:41:15.299Z"
   },
   {
    "duration": 118,
    "start_time": "2022-02-23T15:41:15.384Z"
   },
   {
    "duration": 106,
    "start_time": "2022-02-23T15:41:15.504Z"
   },
   {
    "duration": 92,
    "start_time": "2022-02-23T15:41:15.613Z"
   },
   {
    "duration": 79,
    "start_time": "2022-02-23T15:41:15.708Z"
   },
   {
    "duration": 5,
    "start_time": "2022-02-23T15:41:15.789Z"
   },
   {
    "duration": 48,
    "start_time": "2022-02-23T15:41:15.796Z"
   },
   {
    "duration": 59,
    "start_time": "2022-02-23T15:41:15.848Z"
   },
   {
    "duration": 63,
    "start_time": "2022-02-23T15:41:15.909Z"
   },
   {
    "duration": 70,
    "start_time": "2022-02-23T15:41:15.974Z"
   },
   {
    "duration": 6,
    "start_time": "2022-02-23T15:41:16.047Z"
   },
   {
    "duration": 36,
    "start_time": "2022-02-23T15:41:16.056Z"
   },
   {
    "duration": 48,
    "start_time": "2022-02-23T15:41:16.095Z"
   },
   {
    "duration": 26,
    "start_time": "2022-02-23T15:41:16.148Z"
   },
   {
    "duration": 20,
    "start_time": "2022-02-23T15:41:16.177Z"
   },
   {
    "duration": 47,
    "start_time": "2022-02-23T15:41:16.199Z"
   },
   {
    "duration": 21,
    "start_time": "2022-02-23T15:41:16.248Z"
   },
   {
    "duration": 13,
    "start_time": "2022-02-23T15:41:16.271Z"
   },
   {
    "duration": 74,
    "start_time": "2022-02-23T15:41:16.286Z"
   },
   {
    "duration": 35,
    "start_time": "2022-02-23T15:41:16.362Z"
   },
   {
    "duration": 31,
    "start_time": "2022-02-23T15:41:16.399Z"
   },
   {
    "duration": 56,
    "start_time": "2022-02-23T15:41:16.432Z"
   },
   {
    "duration": 19,
    "start_time": "2022-02-23T15:41:16.491Z"
   },
   {
    "duration": 30,
    "start_time": "2022-02-23T15:41:16.513Z"
   },
   {
    "duration": 18,
    "start_time": "2022-02-23T15:41:16.545Z"
   },
   {
    "duration": 10,
    "start_time": "2022-02-23T15:41:16.565Z"
   },
   {
    "duration": 7,
    "start_time": "2022-02-23T15:41:16.577Z"
   },
   {
    "duration": 46,
    "start_time": "2022-02-23T15:41:16.586Z"
   },
   {
    "duration": 6,
    "start_time": "2022-02-23T15:41:16.635Z"
   },
   {
    "duration": 680,
    "start_time": "2022-03-05T23:40:41.431Z"
   },
   {
    "duration": 183,
    "start_time": "2022-03-05T23:40:42.114Z"
   },
   {
    "duration": 28,
    "start_time": "2022-03-05T23:40:42.300Z"
   },
   {
    "duration": 54,
    "start_time": "2022-03-05T23:40:42.331Z"
   },
   {
    "duration": 7,
    "start_time": "2022-03-05T23:40:42.387Z"
   },
   {
    "duration": 48,
    "start_time": "2022-03-05T23:40:42.397Z"
   },
   {
    "duration": 5,
    "start_time": "2022-03-05T23:40:42.447Z"
   },
   {
    "duration": 47,
    "start_time": "2022-03-05T23:40:42.456Z"
   },
   {
    "duration": 51,
    "start_time": "2022-03-05T23:40:42.506Z"
   },
   {
    "duration": 39,
    "start_time": "2022-03-05T23:40:42.559Z"
   },
   {
    "duration": 98,
    "start_time": "2022-03-05T23:40:42.600Z"
   },
   {
    "duration": 102,
    "start_time": "2022-03-05T23:40:42.700Z"
   },
   {
    "duration": 81,
    "start_time": "2022-03-05T23:40:42.804Z"
   },
   {
    "duration": 102,
    "start_time": "2022-03-05T23:40:42.887Z"
   },
   {
    "duration": 4,
    "start_time": "2022-03-05T23:40:42.992Z"
   },
   {
    "duration": 25,
    "start_time": "2022-03-05T23:40:42.999Z"
   },
   {
    "duration": 106,
    "start_time": "2022-03-05T23:40:43.026Z"
   },
   {
    "duration": 60,
    "start_time": "2022-03-05T23:40:43.135Z"
   },
   {
    "duration": 42,
    "start_time": "2022-03-05T23:40:43.198Z"
   },
   {
    "duration": 4,
    "start_time": "2022-03-05T23:40:43.243Z"
   },
   {
    "duration": 53,
    "start_time": "2022-03-05T23:40:43.250Z"
   },
   {
    "duration": 18,
    "start_time": "2022-03-05T23:40:43.305Z"
   },
   {
    "duration": 28,
    "start_time": "2022-03-05T23:40:43.328Z"
   },
   {
    "duration": 19,
    "start_time": "2022-03-05T23:40:43.381Z"
   },
   {
    "duration": 32,
    "start_time": "2022-03-05T23:40:43.403Z"
   },
   {
    "duration": 30,
    "start_time": "2022-03-05T23:40:43.438Z"
   },
   {
    "duration": 21,
    "start_time": "2022-03-05T23:40:43.470Z"
   },
   {
    "duration": 49,
    "start_time": "2022-03-05T23:40:43.493Z"
   },
   {
    "duration": 24,
    "start_time": "2022-03-05T23:40:43.545Z"
   },
   {
    "duration": 5,
    "start_time": "2022-03-05T23:40:43.582Z"
   },
   {
    "duration": 43,
    "start_time": "2022-03-05T23:40:43.589Z"
   },
   {
    "duration": 29,
    "start_time": "2022-03-05T23:40:43.634Z"
   },
   {
    "duration": 26,
    "start_time": "2022-03-05T23:40:43.666Z"
   },
   {
    "duration": 16,
    "start_time": "2022-03-05T23:40:43.694Z"
   },
   {
    "duration": 18,
    "start_time": "2022-03-05T23:40:43.712Z"
   },
   {
    "duration": 8,
    "start_time": "2022-03-05T23:40:43.733Z"
   },
   {
    "duration": 46,
    "start_time": "2022-03-05T23:40:43.745Z"
   },
   {
    "duration": 36,
    "start_time": "2022-03-05T23:40:43.794Z"
   },
   {
    "duration": 15,
    "start_time": "2022-03-05T23:42:41.926Z"
   },
   {
    "duration": 20,
    "start_time": "2022-03-05T23:54:10.084Z"
   },
   {
    "duration": 227,
    "start_time": "2022-03-09T18:17:14.351Z"
   },
   {
    "duration": 615,
    "start_time": "2022-03-09T18:17:22.549Z"
   },
   {
    "duration": 134,
    "start_time": "2022-03-09T18:17:23.166Z"
   },
   {
    "duration": 3,
    "start_time": "2022-03-09T18:17:29.499Z"
   },
   {
    "duration": 146,
    "start_time": "2022-03-09T18:17:29.504Z"
   },
   {
    "duration": 17,
    "start_time": "2022-03-09T18:17:29.660Z"
   },
   {
    "duration": 25,
    "start_time": "2022-03-09T18:17:29.680Z"
   },
   {
    "duration": 34,
    "start_time": "2022-03-09T18:17:29.707Z"
   },
   {
    "duration": 18,
    "start_time": "2022-03-09T18:17:29.742Z"
   },
   {
    "duration": 20,
    "start_time": "2022-03-09T18:17:29.763Z"
   },
   {
    "duration": 3,
    "start_time": "2022-03-09T18:17:29.785Z"
   },
   {
    "duration": 30,
    "start_time": "2022-03-09T18:17:29.789Z"
   },
   {
    "duration": 42,
    "start_time": "2022-03-09T18:17:29.821Z"
   },
   {
    "duration": 24,
    "start_time": "2022-03-09T18:17:29.865Z"
   },
   {
    "duration": 70,
    "start_time": "2022-03-09T18:17:29.891Z"
   },
   {
    "duration": 71,
    "start_time": "2022-03-09T18:17:29.963Z"
   },
   {
    "duration": 70,
    "start_time": "2022-03-09T18:17:30.035Z"
   },
   {
    "duration": 60,
    "start_time": "2022-03-09T18:17:30.107Z"
   },
   {
    "duration": 4,
    "start_time": "2022-03-09T18:17:30.169Z"
   },
   {
    "duration": 25,
    "start_time": "2022-03-09T18:17:30.175Z"
   },
   {
    "duration": 54,
    "start_time": "2022-03-09T18:17:30.202Z"
   },
   {
    "duration": 34,
    "start_time": "2022-03-09T18:17:30.262Z"
   },
   {
    "duration": 64,
    "start_time": "2022-03-09T18:17:30.299Z"
   },
   {
    "duration": 3,
    "start_time": "2022-03-09T18:17:30.365Z"
   },
   {
    "duration": 22,
    "start_time": "2022-03-09T18:17:30.370Z"
   },
   {
    "duration": 28,
    "start_time": "2022-03-09T18:17:30.394Z"
   },
   {
    "duration": 15,
    "start_time": "2022-03-09T18:17:30.424Z"
   },
   {
    "duration": 29,
    "start_time": "2022-03-09T18:17:30.441Z"
   },
   {
    "duration": 17,
    "start_time": "2022-03-09T18:17:30.472Z"
   },
   {
    "duration": 26,
    "start_time": "2022-03-09T18:17:30.490Z"
   },
   {
    "duration": 18,
    "start_time": "2022-03-09T18:17:30.518Z"
   },
   {
    "duration": 42,
    "start_time": "2022-03-09T18:17:30.539Z"
   },
   {
    "duration": 18,
    "start_time": "2022-03-09T18:17:30.582Z"
   },
   {
    "duration": 7,
    "start_time": "2022-03-09T18:17:30.602Z"
   },
   {
    "duration": 49,
    "start_time": "2022-03-09T18:17:30.610Z"
   },
   {
    "duration": 15,
    "start_time": "2022-03-09T18:17:30.661Z"
   },
   {
    "duration": 31,
    "start_time": "2022-03-09T18:17:30.678Z"
   },
   {
    "duration": 26,
    "start_time": "2022-03-09T18:17:30.711Z"
   },
   {
    "duration": 18,
    "start_time": "2022-03-09T18:17:30.738Z"
   },
   {
    "duration": 26,
    "start_time": "2022-03-09T18:17:30.758Z"
   },
   {
    "duration": 38,
    "start_time": "2022-03-09T18:17:30.786Z"
   },
   {
    "duration": 79,
    "start_time": "2022-03-09T18:17:30.826Z"
   },
   {
    "duration": 4,
    "start_time": "2022-03-09T18:21:23.702Z"
   },
   {
    "duration": 16,
    "start_time": "2022-03-09T18:21:44.711Z"
   },
   {
    "duration": 2,
    "start_time": "2022-03-09T18:21:50.243Z"
   },
   {
    "duration": 140,
    "start_time": "2022-03-09T18:21:50.247Z"
   },
   {
    "duration": 12,
    "start_time": "2022-03-09T18:21:50.390Z"
   },
   {
    "duration": 24,
    "start_time": "2022-03-09T18:21:50.404Z"
   },
   {
    "duration": 33,
    "start_time": "2022-03-09T18:21:50.430Z"
   },
   {
    "duration": 21,
    "start_time": "2022-03-09T18:21:50.465Z"
   },
   {
    "duration": 37,
    "start_time": "2022-03-09T18:21:50.488Z"
   },
   {
    "duration": 11,
    "start_time": "2022-03-09T18:21:50.527Z"
   },
   {
    "duration": 39,
    "start_time": "2022-03-09T18:21:50.541Z"
   },
   {
    "duration": 17,
    "start_time": "2022-03-09T18:21:50.582Z"
   },
   {
    "duration": 23,
    "start_time": "2022-03-09T18:21:50.601Z"
   },
   {
    "duration": 83,
    "start_time": "2022-03-09T18:21:50.626Z"
   },
   {
    "duration": 70,
    "start_time": "2022-03-09T18:21:50.710Z"
   },
   {
    "duration": 51,
    "start_time": "2022-03-09T18:21:50.782Z"
   },
   {
    "duration": 52,
    "start_time": "2022-03-09T18:21:50.835Z"
   },
   {
    "duration": 4,
    "start_time": "2022-03-09T18:21:50.888Z"
   },
   {
    "duration": 29,
    "start_time": "2022-03-09T18:25:14.652Z"
   },
   {
    "duration": 28,
    "start_time": "2022-03-09T18:25:17.901Z"
   },
   {
    "duration": 3,
    "start_time": "2022-03-09T18:25:59.811Z"
   },
   {
    "duration": 135,
    "start_time": "2022-03-09T18:25:59.815Z"
   },
   {
    "duration": 15,
    "start_time": "2022-03-09T18:25:59.952Z"
   },
   {
    "duration": 10,
    "start_time": "2022-03-09T18:25:59.969Z"
   },
   {
    "duration": 25,
    "start_time": "2022-03-09T18:25:59.981Z"
   },
   {
    "duration": 3,
    "start_time": "2022-03-09T18:26:00.008Z"
   },
   {
    "duration": 50,
    "start_time": "2022-03-09T18:26:00.013Z"
   },
   {
    "duration": 3,
    "start_time": "2022-03-09T18:26:00.066Z"
   },
   {
    "duration": 28,
    "start_time": "2022-03-09T18:26:00.071Z"
   },
   {
    "duration": 30,
    "start_time": "2022-03-09T18:26:00.100Z"
   },
   {
    "duration": 32,
    "start_time": "2022-03-09T18:26:00.131Z"
   },
   {
    "duration": 64,
    "start_time": "2022-03-09T18:26:00.166Z"
   },
   {
    "duration": 79,
    "start_time": "2022-03-09T18:26:00.231Z"
   },
   {
    "duration": 57,
    "start_time": "2022-03-09T18:26:00.312Z"
   },
   {
    "duration": 45,
    "start_time": "2022-03-09T18:26:00.371Z"
   },
   {
    "duration": 4,
    "start_time": "2022-03-09T18:26:00.418Z"
   },
   {
    "duration": 17,
    "start_time": "2022-03-09T18:26:00.423Z"
   },
   {
    "duration": 55,
    "start_time": "2022-03-09T18:26:00.442Z"
   },
   {
    "duration": 32,
    "start_time": "2022-03-09T18:26:00.499Z"
   },
   {
    "duration": 226,
    "start_time": "2022-03-09T18:26:59.463Z"
   },
   {
    "duration": 10,
    "start_time": "2022-03-09T18:27:39.181Z"
   },
   {
    "duration": 8,
    "start_time": "2022-03-09T18:27:41.585Z"
   },
   {
    "duration": 3,
    "start_time": "2022-03-09T18:27:44.423Z"
   },
   {
    "duration": 140,
    "start_time": "2022-03-09T18:27:44.428Z"
   },
   {
    "duration": 11,
    "start_time": "2022-03-09T18:27:44.570Z"
   },
   {
    "duration": 10,
    "start_time": "2022-03-09T18:27:44.583Z"
   },
   {
    "duration": 24,
    "start_time": "2022-03-09T18:27:44.595Z"
   },
   {
    "duration": 4,
    "start_time": "2022-03-09T18:27:44.621Z"
   },
   {
    "duration": 43,
    "start_time": "2022-03-09T18:27:44.627Z"
   },
   {
    "duration": 4,
    "start_time": "2022-03-09T18:27:44.673Z"
   },
   {
    "duration": 25,
    "start_time": "2022-03-09T18:27:44.679Z"
   },
   {
    "duration": 18,
    "start_time": "2022-03-09T18:27:44.706Z"
   },
   {
    "duration": 44,
    "start_time": "2022-03-09T18:27:44.725Z"
   },
   {
    "duration": 55,
    "start_time": "2022-03-09T18:27:44.771Z"
   },
   {
    "duration": 83,
    "start_time": "2022-03-09T18:27:44.828Z"
   },
   {
    "duration": 54,
    "start_time": "2022-03-09T18:27:44.913Z"
   },
   {
    "duration": 42,
    "start_time": "2022-03-09T18:27:44.968Z"
   },
   {
    "duration": 3,
    "start_time": "2022-03-09T18:27:45.012Z"
   },
   {
    "duration": 13,
    "start_time": "2022-03-09T18:27:45.016Z"
   },
   {
    "duration": 62,
    "start_time": "2022-03-09T18:27:45.031Z"
   },
   {
    "duration": 9,
    "start_time": "2022-03-09T18:27:45.094Z"
   },
   {
    "duration": 10,
    "start_time": "2022-03-09T18:28:00.718Z"
   },
   {
    "duration": 10,
    "start_time": "2022-03-09T18:28:39.648Z"
   },
   {
    "duration": 11,
    "start_time": "2022-03-09T18:28:42.453Z"
   },
   {
    "duration": 11,
    "start_time": "2022-03-09T18:28:50.107Z"
   }
  ],
  "colab": {
   "collapsed_sections": [
    "E0vqbgi9ay0H",
    "VUC88oWjTJw2"
   ],
   "name": "yandex_music_project_2021.2.ipynb",
   "provenance": []
  },
  "kernelspec": {
   "display_name": "Python 3 (ipykernel)",
   "language": "python",
   "name": "python3"
  },
  "language_info": {
   "codemirror_mode": {
    "name": "ipython",
    "version": 3
   },
   "file_extension": ".py",
   "mimetype": "text/x-python",
   "name": "python",
   "nbconvert_exporter": "python",
   "pygments_lexer": "ipython3",
   "version": "3.9.5"
  },
  "toc": {
   "base_numbering": 1,
   "nav_menu": {},
   "number_sections": true,
   "sideBar": true,
   "skip_h1_title": true,
   "title_cell": "Table of Contents",
   "title_sidebar": "Contents",
   "toc_cell": false,
   "toc_position": {
    "height": "calc(100% - 180px)",
    "left": "10px",
    "top": "150px",
    "width": "220.375px"
   },
   "toc_section_display": true,
   "toc_window_display": true
  }
 },
 "nbformat": 4,
 "nbformat_minor": 1
}
