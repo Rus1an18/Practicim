{
 "cells": [
  {
   "cell_type": "markdown",
   "id": "66ddf9cb",
   "metadata": {},
   "source": [
    "# Исследование надежности заемщиков."
   ]
  },
  {
   "cell_type": "markdown",
   "id": "21afdb4f",
   "metadata": {},
   "source": [
    "<div style=\"border:solid blue 2px; padding: 20px\">\n",
    "Привет Руслан! Меня зовут Андрей Петрушин, я буду проверять твой проект. Предлагаю общаться на «ты», это упрощает коммуникацию :) Но если это некомфортно - можем перейти на “Вы”.\n",
    "\n",
    "Вижу, что ты много работал над проектом и он выполнен на хорошем уровне. Моя основная цель при проверке работы — разобраться в ошибках, если они есть и возможно, поделиться своим опытом решения подобных задач.\n",
    "\n",
    "Я буду делать комментарии четырьмя цветами:\n",
    "\n",
    "<font color='blue'>Комментарий ревьювера синий текст - просто текст комментария</font>\n",
    "    \n",
    "<font color=\"green\">Комментарий ревьювера    \n",
    "✔️ зеленый текст - все отлично, хорошее решение</font>\n",
    "    \n",
    "<font color=\"orange\">Комментарий ревьвюера    \n",
    "⚠️ оранжевый текст - есть рекомендации, в другой раз можно сделать иначе</font>\n",
    "    \n",
    "<font color=\"red\">Комментарий ревьювера    \n",
    "❌ красный текст - есть недочеты, их нужно исправить и проект будет принят</font>\n",
    "    \n",
    "Пожалуйста, не удаляй мои комментарии, нам обоим будет проще разобраться в недочетах, что и как исправлено. Свои комментарии тоже отмечай, например другим цветом или надписью “Комментарий студента”. \n",
    "\n",
    "\\<font color='purple'> Этот код позволяет менять цвет текста. \\</font>\n",
    "</div>\n"
   ]
  },
  {
   "cell_type": "markdown",
   "id": "cedf8af8",
   "metadata": {},
   "source": [
    "# Задачи исследования:"
   ]
  },
  {
   "cell_type": "markdown",
   "id": "06c3407d",
   "metadata": {},
   "source": [
    "# Осмотр данных"
   ]
  },
  {
   "cell_type": "markdown",
   "id": "04f613c7",
   "metadata": {},
   "source": [
    "- посмотрим начало и конец датасета\n",
    "- сделаем предварительные выводы\n",
    "- поищем аномалии"
   ]
  },
  {
   "cell_type": "markdown",
   "id": "82187fad",
   "metadata": {},
   "source": [
    "# Обработка данных"
   ]
  },
  {
   "cell_type": "markdown",
   "id": "9f858ac6",
   "metadata": {},
   "source": [
    "- найти и обработать пропуски\n",
    "- заменить некорректные типы данных\n",
    "- удалить дубликаты"
   ]
  },
  {
   "cell_type": "markdown",
   "id": "573c5b56",
   "metadata": {},
   "source": [
    "# Ответы на вопросы"
   ]
  },
  {
   "cell_type": "markdown",
   "id": "8339e6be",
   "metadata": {},
   "source": [
    "- Есть ли зависимость между наличием детей и возвратом кредита в срок?\n",
    "- Есть ли зависимость между семейным положением и возвратом кредита в срок?\n",
    "- Есть ли зависимость между уровнем дохода и возвратом кредита в срок?\n",
    "- Как разные цели кредита влияют на его возврат в срок?"
   ]
  },
  {
   "cell_type": "markdown",
   "id": "d69847ea",
   "metadata": {},
   "source": [
    "<font color=\"orange\">Комментарий ревьвюера   \n",
    "⚠️ Хорошо, что ты описал план работы. Но еще очень желательно дать описание задачи и данных - очень важная часть любого проекта. С них нужно обязательно начинать проект. Это поможет и тебе лучше разобраться в задании и будущему заказчику понять, что ды сделал. Можно просто скопировать сюда текст из задания, а можно дать какие-то пояснения.</font>"
   ]
  },
  {
   "cell_type": "markdown",
   "id": "e2625a3f",
   "metadata": {},
   "source": [
    "## Обзор данных"
   ]
  },
  {
   "cell_type": "code",
   "execution_count": 1,
   "id": "1d72501a",
   "metadata": {},
   "outputs": [],
   "source": [
    "import pandas as pd"
   ]
  },
  {
   "cell_type": "code",
   "execution_count": 2,
   "id": "fbed1473",
   "metadata": {},
   "outputs": [],
   "source": [
    "# чтение файла с данными и сохранение в df\n",
    "df = pd.read_csv('/datasets/data.csv')"
   ]
  },
  {
   "cell_type": "code",
   "execution_count": 3,
   "id": "856ffc7d",
   "metadata": {},
   "outputs": [
    {
     "data": {
      "text/html": [
       "<div>\n",
       "<style scoped>\n",
       "    .dataframe tbody tr th:only-of-type {\n",
       "        vertical-align: middle;\n",
       "    }\n",
       "\n",
       "    .dataframe tbody tr th {\n",
       "        vertical-align: top;\n",
       "    }\n",
       "\n",
       "    .dataframe thead th {\n",
       "        text-align: right;\n",
       "    }\n",
       "</style>\n",
       "<table border=\"1\" class=\"dataframe\">\n",
       "  <thead>\n",
       "    <tr style=\"text-align: right;\">\n",
       "      <th></th>\n",
       "      <th>children</th>\n",
       "      <th>days_employed</th>\n",
       "      <th>dob_years</th>\n",
       "      <th>education</th>\n",
       "      <th>education_id</th>\n",
       "      <th>family_status</th>\n",
       "      <th>family_status_id</th>\n",
       "      <th>gender</th>\n",
       "      <th>income_type</th>\n",
       "      <th>debt</th>\n",
       "      <th>total_income</th>\n",
       "      <th>purpose</th>\n",
       "    </tr>\n",
       "  </thead>\n",
       "  <tbody>\n",
       "    <tr>\n",
       "      <th>0</th>\n",
       "      <td>1</td>\n",
       "      <td>-8437.673028</td>\n",
       "      <td>42</td>\n",
       "      <td>высшее</td>\n",
       "      <td>0</td>\n",
       "      <td>женат / замужем</td>\n",
       "      <td>0</td>\n",
       "      <td>F</td>\n",
       "      <td>сотрудник</td>\n",
       "      <td>0</td>\n",
       "      <td>253875.639453</td>\n",
       "      <td>покупка жилья</td>\n",
       "    </tr>\n",
       "    <tr>\n",
       "      <th>1</th>\n",
       "      <td>1</td>\n",
       "      <td>-4024.803754</td>\n",
       "      <td>36</td>\n",
       "      <td>среднее</td>\n",
       "      <td>1</td>\n",
       "      <td>женат / замужем</td>\n",
       "      <td>0</td>\n",
       "      <td>F</td>\n",
       "      <td>сотрудник</td>\n",
       "      <td>0</td>\n",
       "      <td>112080.014102</td>\n",
       "      <td>приобретение автомобиля</td>\n",
       "    </tr>\n",
       "    <tr>\n",
       "      <th>2</th>\n",
       "      <td>0</td>\n",
       "      <td>-5623.422610</td>\n",
       "      <td>33</td>\n",
       "      <td>Среднее</td>\n",
       "      <td>1</td>\n",
       "      <td>женат / замужем</td>\n",
       "      <td>0</td>\n",
       "      <td>M</td>\n",
       "      <td>сотрудник</td>\n",
       "      <td>0</td>\n",
       "      <td>145885.952297</td>\n",
       "      <td>покупка жилья</td>\n",
       "    </tr>\n",
       "    <tr>\n",
       "      <th>3</th>\n",
       "      <td>3</td>\n",
       "      <td>-4124.747207</td>\n",
       "      <td>32</td>\n",
       "      <td>среднее</td>\n",
       "      <td>1</td>\n",
       "      <td>женат / замужем</td>\n",
       "      <td>0</td>\n",
       "      <td>M</td>\n",
       "      <td>сотрудник</td>\n",
       "      <td>0</td>\n",
       "      <td>267628.550329</td>\n",
       "      <td>дополнительное образование</td>\n",
       "    </tr>\n",
       "    <tr>\n",
       "      <th>4</th>\n",
       "      <td>0</td>\n",
       "      <td>340266.072047</td>\n",
       "      <td>53</td>\n",
       "      <td>среднее</td>\n",
       "      <td>1</td>\n",
       "      <td>гражданский брак</td>\n",
       "      <td>1</td>\n",
       "      <td>F</td>\n",
       "      <td>пенсионер</td>\n",
       "      <td>0</td>\n",
       "      <td>158616.077870</td>\n",
       "      <td>сыграть свадьбу</td>\n",
       "    </tr>\n",
       "    <tr>\n",
       "      <th>5</th>\n",
       "      <td>0</td>\n",
       "      <td>-926.185831</td>\n",
       "      <td>27</td>\n",
       "      <td>высшее</td>\n",
       "      <td>0</td>\n",
       "      <td>гражданский брак</td>\n",
       "      <td>1</td>\n",
       "      <td>M</td>\n",
       "      <td>компаньон</td>\n",
       "      <td>0</td>\n",
       "      <td>255763.565419</td>\n",
       "      <td>покупка жилья</td>\n",
       "    </tr>\n",
       "    <tr>\n",
       "      <th>6</th>\n",
       "      <td>0</td>\n",
       "      <td>-2879.202052</td>\n",
       "      <td>43</td>\n",
       "      <td>высшее</td>\n",
       "      <td>0</td>\n",
       "      <td>женат / замужем</td>\n",
       "      <td>0</td>\n",
       "      <td>F</td>\n",
       "      <td>компаньон</td>\n",
       "      <td>0</td>\n",
       "      <td>240525.971920</td>\n",
       "      <td>операции с жильем</td>\n",
       "    </tr>\n",
       "    <tr>\n",
       "      <th>7</th>\n",
       "      <td>0</td>\n",
       "      <td>-152.779569</td>\n",
       "      <td>50</td>\n",
       "      <td>СРЕДНЕЕ</td>\n",
       "      <td>1</td>\n",
       "      <td>женат / замужем</td>\n",
       "      <td>0</td>\n",
       "      <td>M</td>\n",
       "      <td>сотрудник</td>\n",
       "      <td>0</td>\n",
       "      <td>135823.934197</td>\n",
       "      <td>образование</td>\n",
       "    </tr>\n",
       "    <tr>\n",
       "      <th>8</th>\n",
       "      <td>2</td>\n",
       "      <td>-6929.865299</td>\n",
       "      <td>35</td>\n",
       "      <td>ВЫСШЕЕ</td>\n",
       "      <td>0</td>\n",
       "      <td>гражданский брак</td>\n",
       "      <td>1</td>\n",
       "      <td>F</td>\n",
       "      <td>сотрудник</td>\n",
       "      <td>0</td>\n",
       "      <td>95856.832424</td>\n",
       "      <td>на проведение свадьбы</td>\n",
       "    </tr>\n",
       "    <tr>\n",
       "      <th>9</th>\n",
       "      <td>0</td>\n",
       "      <td>-2188.756445</td>\n",
       "      <td>41</td>\n",
       "      <td>среднее</td>\n",
       "      <td>1</td>\n",
       "      <td>женат / замужем</td>\n",
       "      <td>0</td>\n",
       "      <td>M</td>\n",
       "      <td>сотрудник</td>\n",
       "      <td>0</td>\n",
       "      <td>144425.938277</td>\n",
       "      <td>покупка жилья для семьи</td>\n",
       "    </tr>\n",
       "  </tbody>\n",
       "</table>\n",
       "</div>"
      ],
      "text/plain": [
       "   children  days_employed  dob_years education  education_id  \\\n",
       "0         1   -8437.673028         42    высшее             0   \n",
       "1         1   -4024.803754         36   среднее             1   \n",
       "2         0   -5623.422610         33   Среднее             1   \n",
       "3         3   -4124.747207         32   среднее             1   \n",
       "4         0  340266.072047         53   среднее             1   \n",
       "5         0    -926.185831         27    высшее             0   \n",
       "6         0   -2879.202052         43    высшее             0   \n",
       "7         0    -152.779569         50   СРЕДНЕЕ             1   \n",
       "8         2   -6929.865299         35    ВЫСШЕЕ             0   \n",
       "9         0   -2188.756445         41   среднее             1   \n",
       "\n",
       "      family_status  family_status_id gender income_type  debt   total_income  \\\n",
       "0   женат / замужем                 0      F   сотрудник     0  253875.639453   \n",
       "1   женат / замужем                 0      F   сотрудник     0  112080.014102   \n",
       "2   женат / замужем                 0      M   сотрудник     0  145885.952297   \n",
       "3   женат / замужем                 0      M   сотрудник     0  267628.550329   \n",
       "4  гражданский брак                 1      F   пенсионер     0  158616.077870   \n",
       "5  гражданский брак                 1      M   компаньон     0  255763.565419   \n",
       "6   женат / замужем                 0      F   компаньон     0  240525.971920   \n",
       "7   женат / замужем                 0      M   сотрудник     0  135823.934197   \n",
       "8  гражданский брак                 1      F   сотрудник     0   95856.832424   \n",
       "9   женат / замужем                 0      M   сотрудник     0  144425.938277   \n",
       "\n",
       "                      purpose  \n",
       "0               покупка жилья  \n",
       "1     приобретение автомобиля  \n",
       "2               покупка жилья  \n",
       "3  дополнительное образование  \n",
       "4             сыграть свадьбу  \n",
       "5               покупка жилья  \n",
       "6           операции с жильем  \n",
       "7                 образование  \n",
       "8       на проведение свадьбы  \n",
       "9     покупка жилья для семьи  "
      ]
     },
     "execution_count": 3,
     "metadata": {},
     "output_type": "execute_result"
    }
   ],
   "source": [
    "# вывожу первые 10 строк таблицы df\n",
    "df.head(10)"
   ]
  },
  {
   "cell_type": "code",
   "execution_count": 4,
   "id": "1a723499",
   "metadata": {
    "scrolled": true
   },
   "outputs": [
    {
     "name": "stdout",
     "output_type": "stream",
     "text": [
      "<class 'pandas.core.frame.DataFrame'>\n",
      "RangeIndex: 21525 entries, 0 to 21524\n",
      "Data columns (total 12 columns):\n",
      " #   Column            Non-Null Count  Dtype  \n",
      "---  ------            --------------  -----  \n",
      " 0   children          21525 non-null  int64  \n",
      " 1   days_employed     19351 non-null  float64\n",
      " 2   dob_years         21525 non-null  int64  \n",
      " 3   education         21525 non-null  object \n",
      " 4   education_id      21525 non-null  int64  \n",
      " 5   family_status     21525 non-null  object \n",
      " 6   family_status_id  21525 non-null  int64  \n",
      " 7   gender            21525 non-null  object \n",
      " 8   income_type       21525 non-null  object \n",
      " 9   debt              21525 non-null  int64  \n",
      " 10  total_income      19351 non-null  float64\n",
      " 11  purpose           21525 non-null  object \n",
      "dtypes: float64(2), int64(5), object(5)\n",
      "memory usage: 2.0+ MB\n"
     ]
    }
   ],
   "source": [
    "# получение общей информации о данных в таблице df\n",
    "df.info()"
   ]
  },
  {
   "cell_type": "markdown",
   "id": "ceca0c2f",
   "metadata": {},
   "source": [
    "В столбцах \"days_employed\" и \"total_income\" вижу пропущенные значения.\n",
    "В столбце \"days_employed\" множество отрицательных значений, явная ошибка.\n",
    "В \"education\" разный регистр слов, который тоже надо исправить. Все остальные данные выглядят корректными."
   ]
  },
  {
   "cell_type": "markdown",
   "id": "9f66e335",
   "metadata": {},
   "source": [
    "<font color=\"green\">Комментарий ревьювера    \n",
    "✔️ Хорошо, ты вывел основные данные и сделал первые выводы</font>"
   ]
  },
  {
   "cell_type": "markdown",
   "id": "2a9b1a54",
   "metadata": {},
   "source": [
    "## Предобработка данных"
   ]
  },
  {
   "cell_type": "markdown",
   "id": "aa04a194",
   "metadata": {},
   "source": [
    "### Заполнение пропусков"
   ]
  },
  {
   "cell_type": "code",
   "execution_count": 5,
   "id": "e1c4da5f",
   "metadata": {},
   "outputs": [
    {
     "data": {
      "text/plain": [
       "children               0\n",
       "days_employed       2174\n",
       "dob_years              0\n",
       "education              0\n",
       "education_id           0\n",
       "family_status          0\n",
       "family_status_id       0\n",
       "gender                 0\n",
       "income_type            0\n",
       "debt                   0\n",
       "total_income        2174\n",
       "purpose                0\n",
       "dtype: int64"
      ]
     },
     "execution_count": 5,
     "metadata": {},
     "output_type": "execute_result"
    }
   ],
   "source": [
    "# подсчёт пропусков\n",
    "df.isna().sum()"
   ]
  },
  {
   "cell_type": "code",
   "execution_count": 6,
   "id": "e92fbad0",
   "metadata": {},
   "outputs": [
    {
     "data": {
      "text/plain": [
       "10.099883855981417"
      ]
     },
     "execution_count": 6,
     "metadata": {},
     "output_type": "execute_result"
    }
   ],
   "source": [
    "# подсчёт доли пропусков (посчитал одно значение, тк кол-во пропусков и значений в других столбцах одинаковое)\n",
    "share = (df['days_employed'].isna().sum() / len(df['days_employed'])) * 100\n",
    "share"
   ]
  },
  {
   "cell_type": "code",
   "execution_count": 7,
   "id": "c517d303",
   "metadata": {},
   "outputs": [
    {
     "data": {
      "text/html": [
       "<div>\n",
       "<style scoped>\n",
       "    .dataframe tbody tr th:only-of-type {\n",
       "        vertical-align: middle;\n",
       "    }\n",
       "\n",
       "    .dataframe tbody tr th {\n",
       "        vertical-align: top;\n",
       "    }\n",
       "\n",
       "    .dataframe thead th {\n",
       "        text-align: right;\n",
       "    }\n",
       "</style>\n",
       "<table border=\"1\" class=\"dataframe\">\n",
       "  <thead>\n",
       "    <tr style=\"text-align: right;\">\n",
       "      <th></th>\n",
       "      <th>children</th>\n",
       "      <th>days_employed</th>\n",
       "      <th>dob_years</th>\n",
       "      <th>education</th>\n",
       "      <th>education_id</th>\n",
       "      <th>family_status</th>\n",
       "      <th>family_status_id</th>\n",
       "      <th>gender</th>\n",
       "      <th>income_type</th>\n",
       "      <th>debt</th>\n",
       "      <th>total_income</th>\n",
       "      <th>purpose</th>\n",
       "    </tr>\n",
       "  </thead>\n",
       "  <tbody>\n",
       "    <tr>\n",
       "      <th>0</th>\n",
       "      <td>1</td>\n",
       "      <td>8437.673028</td>\n",
       "      <td>42</td>\n",
       "      <td>высшее</td>\n",
       "      <td>0</td>\n",
       "      <td>женат / замужем</td>\n",
       "      <td>0</td>\n",
       "      <td>F</td>\n",
       "      <td>сотрудник</td>\n",
       "      <td>0</td>\n",
       "      <td>253875.639453</td>\n",
       "      <td>покупка жилья</td>\n",
       "    </tr>\n",
       "    <tr>\n",
       "      <th>1</th>\n",
       "      <td>1</td>\n",
       "      <td>4024.803754</td>\n",
       "      <td>36</td>\n",
       "      <td>среднее</td>\n",
       "      <td>1</td>\n",
       "      <td>женат / замужем</td>\n",
       "      <td>0</td>\n",
       "      <td>F</td>\n",
       "      <td>сотрудник</td>\n",
       "      <td>0</td>\n",
       "      <td>112080.014102</td>\n",
       "      <td>приобретение автомобиля</td>\n",
       "    </tr>\n",
       "    <tr>\n",
       "      <th>2</th>\n",
       "      <td>0</td>\n",
       "      <td>5623.422610</td>\n",
       "      <td>33</td>\n",
       "      <td>Среднее</td>\n",
       "      <td>1</td>\n",
       "      <td>женат / замужем</td>\n",
       "      <td>0</td>\n",
       "      <td>M</td>\n",
       "      <td>сотрудник</td>\n",
       "      <td>0</td>\n",
       "      <td>145885.952297</td>\n",
       "      <td>покупка жилья</td>\n",
       "    </tr>\n",
       "    <tr>\n",
       "      <th>3</th>\n",
       "      <td>3</td>\n",
       "      <td>4124.747207</td>\n",
       "      <td>32</td>\n",
       "      <td>среднее</td>\n",
       "      <td>1</td>\n",
       "      <td>женат / замужем</td>\n",
       "      <td>0</td>\n",
       "      <td>M</td>\n",
       "      <td>сотрудник</td>\n",
       "      <td>0</td>\n",
       "      <td>267628.550329</td>\n",
       "      <td>дополнительное образование</td>\n",
       "    </tr>\n",
       "    <tr>\n",
       "      <th>4</th>\n",
       "      <td>0</td>\n",
       "      <td>340266.072047</td>\n",
       "      <td>53</td>\n",
       "      <td>среднее</td>\n",
       "      <td>1</td>\n",
       "      <td>гражданский брак</td>\n",
       "      <td>1</td>\n",
       "      <td>F</td>\n",
       "      <td>пенсионер</td>\n",
       "      <td>0</td>\n",
       "      <td>158616.077870</td>\n",
       "      <td>сыграть свадьбу</td>\n",
       "    </tr>\n",
       "  </tbody>\n",
       "</table>\n",
       "</div>"
      ],
      "text/plain": [
       "   children  days_employed  dob_years education  education_id  \\\n",
       "0         1    8437.673028         42    высшее             0   \n",
       "1         1    4024.803754         36   среднее             1   \n",
       "2         0    5623.422610         33   Среднее             1   \n",
       "3         3    4124.747207         32   среднее             1   \n",
       "4         0  340266.072047         53   среднее             1   \n",
       "\n",
       "      family_status  family_status_id gender income_type  debt   total_income  \\\n",
       "0   женат / замужем                 0      F   сотрудник     0  253875.639453   \n",
       "1   женат / замужем                 0      F   сотрудник     0  112080.014102   \n",
       "2   женат / замужем                 0      M   сотрудник     0  145885.952297   \n",
       "3   женат / замужем                 0      M   сотрудник     0  267628.550329   \n",
       "4  гражданский брак                 1      F   пенсионер     0  158616.077870   \n",
       "\n",
       "                      purpose  \n",
       "0               покупка жилья  \n",
       "1     приобретение автомобиля  \n",
       "2               покупка жилья  \n",
       "3  дополнительное образование  \n",
       "4             сыграть свадьбу  "
      ]
     },
     "execution_count": 7,
     "metadata": {},
     "output_type": "execute_result"
    }
   ],
   "source": [
    "# убираю минусы в столбце \"days_employed\"\n",
    "df['days_employed'] = abs(df['days_employed'])\n",
    "df.head()"
   ]
  },
  {
   "cell_type": "code",
   "execution_count": 8,
   "id": "780a0496",
   "metadata": {},
   "outputs": [
    {
     "data": {
      "text/html": [
       "<div>\n",
       "<style scoped>\n",
       "    .dataframe tbody tr th:only-of-type {\n",
       "        vertical-align: middle;\n",
       "    }\n",
       "\n",
       "    .dataframe tbody tr th {\n",
       "        vertical-align: top;\n",
       "    }\n",
       "\n",
       "    .dataframe thead th {\n",
       "        text-align: right;\n",
       "    }\n",
       "</style>\n",
       "<table border=\"1\" class=\"dataframe\">\n",
       "  <thead>\n",
       "    <tr style=\"text-align: right;\">\n",
       "      <th></th>\n",
       "      <th>children</th>\n",
       "      <th>days_employed</th>\n",
       "      <th>dob_years</th>\n",
       "      <th>education</th>\n",
       "      <th>education_id</th>\n",
       "      <th>family_status</th>\n",
       "      <th>family_status_id</th>\n",
       "      <th>gender</th>\n",
       "      <th>income_type</th>\n",
       "      <th>debt</th>\n",
       "      <th>total_income</th>\n",
       "      <th>purpose</th>\n",
       "    </tr>\n",
       "  </thead>\n",
       "  <tbody>\n",
       "    <tr>\n",
       "      <th>12</th>\n",
       "      <td>0</td>\n",
       "      <td>NaN</td>\n",
       "      <td>65</td>\n",
       "      <td>среднее</td>\n",
       "      <td>1</td>\n",
       "      <td>гражданский брак</td>\n",
       "      <td>1</td>\n",
       "      <td>M</td>\n",
       "      <td>пенсионер</td>\n",
       "      <td>0</td>\n",
       "      <td>NaN</td>\n",
       "      <td>сыграть свадьбу</td>\n",
       "    </tr>\n",
       "    <tr>\n",
       "      <th>26</th>\n",
       "      <td>0</td>\n",
       "      <td>NaN</td>\n",
       "      <td>41</td>\n",
       "      <td>среднее</td>\n",
       "      <td>1</td>\n",
       "      <td>женат / замужем</td>\n",
       "      <td>0</td>\n",
       "      <td>M</td>\n",
       "      <td>госслужащий</td>\n",
       "      <td>0</td>\n",
       "      <td>NaN</td>\n",
       "      <td>образование</td>\n",
       "    </tr>\n",
       "    <tr>\n",
       "      <th>29</th>\n",
       "      <td>0</td>\n",
       "      <td>NaN</td>\n",
       "      <td>63</td>\n",
       "      <td>среднее</td>\n",
       "      <td>1</td>\n",
       "      <td>Не женат / не замужем</td>\n",
       "      <td>4</td>\n",
       "      <td>F</td>\n",
       "      <td>пенсионер</td>\n",
       "      <td>0</td>\n",
       "      <td>NaN</td>\n",
       "      <td>строительство жилой недвижимости</td>\n",
       "    </tr>\n",
       "    <tr>\n",
       "      <th>41</th>\n",
       "      <td>0</td>\n",
       "      <td>NaN</td>\n",
       "      <td>50</td>\n",
       "      <td>среднее</td>\n",
       "      <td>1</td>\n",
       "      <td>женат / замужем</td>\n",
       "      <td>0</td>\n",
       "      <td>F</td>\n",
       "      <td>госслужащий</td>\n",
       "      <td>0</td>\n",
       "      <td>NaN</td>\n",
       "      <td>сделка с подержанным автомобилем</td>\n",
       "    </tr>\n",
       "    <tr>\n",
       "      <th>55</th>\n",
       "      <td>0</td>\n",
       "      <td>NaN</td>\n",
       "      <td>54</td>\n",
       "      <td>среднее</td>\n",
       "      <td>1</td>\n",
       "      <td>гражданский брак</td>\n",
       "      <td>1</td>\n",
       "      <td>F</td>\n",
       "      <td>пенсионер</td>\n",
       "      <td>1</td>\n",
       "      <td>NaN</td>\n",
       "      <td>сыграть свадьбу</td>\n",
       "    </tr>\n",
       "    <tr>\n",
       "      <th>...</th>\n",
       "      <td>...</td>\n",
       "      <td>...</td>\n",
       "      <td>...</td>\n",
       "      <td>...</td>\n",
       "      <td>...</td>\n",
       "      <td>...</td>\n",
       "      <td>...</td>\n",
       "      <td>...</td>\n",
       "      <td>...</td>\n",
       "      <td>...</td>\n",
       "      <td>...</td>\n",
       "      <td>...</td>\n",
       "    </tr>\n",
       "    <tr>\n",
       "      <th>21489</th>\n",
       "      <td>2</td>\n",
       "      <td>NaN</td>\n",
       "      <td>47</td>\n",
       "      <td>Среднее</td>\n",
       "      <td>1</td>\n",
       "      <td>женат / замужем</td>\n",
       "      <td>0</td>\n",
       "      <td>M</td>\n",
       "      <td>компаньон</td>\n",
       "      <td>0</td>\n",
       "      <td>NaN</td>\n",
       "      <td>сделка с автомобилем</td>\n",
       "    </tr>\n",
       "    <tr>\n",
       "      <th>21495</th>\n",
       "      <td>1</td>\n",
       "      <td>NaN</td>\n",
       "      <td>50</td>\n",
       "      <td>среднее</td>\n",
       "      <td>1</td>\n",
       "      <td>гражданский брак</td>\n",
       "      <td>1</td>\n",
       "      <td>F</td>\n",
       "      <td>сотрудник</td>\n",
       "      <td>0</td>\n",
       "      <td>NaN</td>\n",
       "      <td>свадьба</td>\n",
       "    </tr>\n",
       "    <tr>\n",
       "      <th>21497</th>\n",
       "      <td>0</td>\n",
       "      <td>NaN</td>\n",
       "      <td>48</td>\n",
       "      <td>ВЫСШЕЕ</td>\n",
       "      <td>0</td>\n",
       "      <td>женат / замужем</td>\n",
       "      <td>0</td>\n",
       "      <td>F</td>\n",
       "      <td>компаньон</td>\n",
       "      <td>0</td>\n",
       "      <td>NaN</td>\n",
       "      <td>строительство недвижимости</td>\n",
       "    </tr>\n",
       "    <tr>\n",
       "      <th>21502</th>\n",
       "      <td>1</td>\n",
       "      <td>NaN</td>\n",
       "      <td>42</td>\n",
       "      <td>среднее</td>\n",
       "      <td>1</td>\n",
       "      <td>женат / замужем</td>\n",
       "      <td>0</td>\n",
       "      <td>F</td>\n",
       "      <td>сотрудник</td>\n",
       "      <td>0</td>\n",
       "      <td>NaN</td>\n",
       "      <td>строительство жилой недвижимости</td>\n",
       "    </tr>\n",
       "    <tr>\n",
       "      <th>21510</th>\n",
       "      <td>2</td>\n",
       "      <td>NaN</td>\n",
       "      <td>28</td>\n",
       "      <td>среднее</td>\n",
       "      <td>1</td>\n",
       "      <td>женат / замужем</td>\n",
       "      <td>0</td>\n",
       "      <td>F</td>\n",
       "      <td>сотрудник</td>\n",
       "      <td>0</td>\n",
       "      <td>NaN</td>\n",
       "      <td>приобретение автомобиля</td>\n",
       "    </tr>\n",
       "  </tbody>\n",
       "</table>\n",
       "<p>2174 rows × 12 columns</p>\n",
       "</div>"
      ],
      "text/plain": [
       "       children  days_employed  dob_years education  education_id  \\\n",
       "12            0            NaN         65   среднее             1   \n",
       "26            0            NaN         41   среднее             1   \n",
       "29            0            NaN         63   среднее             1   \n",
       "41            0            NaN         50   среднее             1   \n",
       "55            0            NaN         54   среднее             1   \n",
       "...         ...            ...        ...       ...           ...   \n",
       "21489         2            NaN         47   Среднее             1   \n",
       "21495         1            NaN         50   среднее             1   \n",
       "21497         0            NaN         48    ВЫСШЕЕ             0   \n",
       "21502         1            NaN         42   среднее             1   \n",
       "21510         2            NaN         28   среднее             1   \n",
       "\n",
       "               family_status  family_status_id gender  income_type  debt  \\\n",
       "12          гражданский брак                 1      M    пенсионер     0   \n",
       "26           женат / замужем                 0      M  госслужащий     0   \n",
       "29     Не женат / не замужем                 4      F    пенсионер     0   \n",
       "41           женат / замужем                 0      F  госслужащий     0   \n",
       "55          гражданский брак                 1      F    пенсионер     1   \n",
       "...                      ...               ...    ...          ...   ...   \n",
       "21489        женат / замужем                 0      M    компаньон     0   \n",
       "21495       гражданский брак                 1      F    сотрудник     0   \n",
       "21497        женат / замужем                 0      F    компаньон     0   \n",
       "21502        женат / замужем                 0      F    сотрудник     0   \n",
       "21510        женат / замужем                 0      F    сотрудник     0   \n",
       "\n",
       "       total_income                           purpose  \n",
       "12              NaN                   сыграть свадьбу  \n",
       "26              NaN                       образование  \n",
       "29              NaN  строительство жилой недвижимости  \n",
       "41              NaN  сделка с подержанным автомобилем  \n",
       "55              NaN                   сыграть свадьбу  \n",
       "...             ...                               ...  \n",
       "21489           NaN              сделка с автомобилем  \n",
       "21495           NaN                           свадьба  \n",
       "21497           NaN        строительство недвижимости  \n",
       "21502           NaN  строительство жилой недвижимости  \n",
       "21510           NaN           приобретение автомобиля  \n",
       "\n",
       "[2174 rows x 12 columns]"
      ]
     },
     "execution_count": 8,
     "metadata": {},
     "output_type": "execute_result"
    }
   ],
   "source": [
    "sheet = df[df['days_employed'].isna()]\n",
    "sheet = sheet[sheet['total_income'].isna()]\n",
    "sheet"
   ]
  },
  {
   "cell_type": "markdown",
   "id": "46b277ac",
   "metadata": {},
   "source": [
    "Интересен факт, что в строках с пропусками пропущены значения сразу в двух столбацх.\n",
    "Не могу однозначно назвать причину, возможно люди целенаправленно не указывали эту информацию."
   ]
  },
  {
   "cell_type": "code",
   "execution_count": 9,
   "id": "4d63dcf8",
   "metadata": {},
   "outputs": [
    {
     "data": {
      "text/plain": [
       "children            0\n",
       "days_employed       0\n",
       "dob_years           0\n",
       "education           0\n",
       "education_id        0\n",
       "family_status       0\n",
       "family_status_id    0\n",
       "gender              0\n",
       "income_type         0\n",
       "debt                0\n",
       "total_income        0\n",
       "purpose             0\n",
       "dtype: int64"
      ]
     },
     "execution_count": 9,
     "metadata": {},
     "output_type": "execute_result"
    }
   ],
   "source": [
    "# заполняю пропуски в столбцах \"days_employed\" и \"total_income\" медианными значениями\n",
    "df['days_employed'] = df['days_employed'].fillna(df['days_employed'].median())\n",
    "df['total_income'] = df['total_income'].fillna(df['total_income'].median())\n",
    "df.isna().sum()"
   ]
  },
  {
   "cell_type": "markdown",
   "id": "16672f67",
   "metadata": {},
   "source": [
    "Считаю, что заполнение пропусков медианным значением в данном случае является более корректным решением, тк среднее значение слишком смещается из-за \"аномалий\"."
   ]
  },
  {
   "cell_type": "markdown",
   "id": "2599900f",
   "metadata": {},
   "source": [
    "<font color=\"green\">Комментарий ревьювера   \n",
    "✔️ Все верно, согласен</font>"
   ]
  },
  {
   "cell_type": "markdown",
   "id": "99ef2999",
   "metadata": {},
   "source": [
    "### Проверка данных на аномалии и исправления."
   ]
  },
  {
   "cell_type": "code",
   "execution_count": 10,
   "id": "d718a41a",
   "metadata": {},
   "outputs": [
    {
     "data": {
      "text/plain": [
       " 0     14149\n",
       " 1      4818\n",
       " 2      2055\n",
       " 3       330\n",
       " 20       76\n",
       "-1        47\n",
       " 4        41\n",
       " 5         9\n",
       "Name: children, dtype: int64"
      ]
     },
     "execution_count": 10,
     "metadata": {},
     "output_type": "execute_result"
    }
   ],
   "source": [
    "# проверяю столбец 'children' на аномальные значения\n",
    "df['children'].value_counts()"
   ]
  },
  {
   "cell_type": "markdown",
   "id": "f1d771f2",
   "metadata": {},
   "source": [
    "Чем больше детей, тем меньше строк, выглядит логично. Строчки со значениями \"20\" и \"-1\" похожи на какую-то ошибку. Предлагаю удалить их из анализа, тк их не так много."
   ]
  },
  {
   "cell_type": "markdown",
   "id": "b24acd71",
   "metadata": {},
   "source": [
    "<font color=\"orange\">Комментарий ревьвюера   \n",
    "⚠️ Анализ верный, а решение спорное. Да, можно удалить. Но мне кажется более вероятно, что перед 1 просто поставили тире, а 20 - это вероятно 2. Но это только предположения, так что твою версию принимаем.</font>"
   ]
  },
  {
   "cell_type": "code",
   "execution_count": 11,
   "id": "f961dbea",
   "metadata": {},
   "outputs": [
    {
     "data": {
      "text/plain": [
       "0    14149\n",
       "1     4818\n",
       "2     2055\n",
       "3      330\n",
       "4       41\n",
       "5        9\n",
       "Name: children, dtype: int64"
      ]
     },
     "execution_count": 11,
     "metadata": {},
     "output_type": "execute_result"
    }
   ],
   "source": [
    "df = df[df['children'] <= 5]\n",
    "df = df[df['children'] >= 0]\n",
    "df['children'].value_counts()"
   ]
  },
  {
   "cell_type": "code",
   "execution_count": 12,
   "id": "3fc35a62",
   "metadata": {},
   "outputs": [
    {
     "data": {
      "text/html": [
       "<div>\n",
       "<style scoped>\n",
       "    .dataframe tbody tr th:only-of-type {\n",
       "        vertical-align: middle;\n",
       "    }\n",
       "\n",
       "    .dataframe tbody tr th {\n",
       "        vertical-align: top;\n",
       "    }\n",
       "\n",
       "    .dataframe thead th {\n",
       "        text-align: right;\n",
       "    }\n",
       "</style>\n",
       "<table border=\"1\" class=\"dataframe\">\n",
       "  <thead>\n",
       "    <tr style=\"text-align: right;\">\n",
       "      <th></th>\n",
       "      <th>children</th>\n",
       "      <th>days_employed</th>\n",
       "      <th>dob_years</th>\n",
       "      <th>education</th>\n",
       "      <th>education_id</th>\n",
       "      <th>family_status</th>\n",
       "      <th>family_status_id</th>\n",
       "      <th>gender</th>\n",
       "      <th>income_type</th>\n",
       "      <th>debt</th>\n",
       "      <th>total_income</th>\n",
       "      <th>purpose</th>\n",
       "    </tr>\n",
       "  </thead>\n",
       "  <tbody>\n",
       "    <tr>\n",
       "      <th>0</th>\n",
       "      <td>1</td>\n",
       "      <td>23.437981</td>\n",
       "      <td>42</td>\n",
       "      <td>высшее</td>\n",
       "      <td>0</td>\n",
       "      <td>женат / замужем</td>\n",
       "      <td>0</td>\n",
       "      <td>F</td>\n",
       "      <td>сотрудник</td>\n",
       "      <td>0</td>\n",
       "      <td>253875.639453</td>\n",
       "      <td>покупка жилья</td>\n",
       "    </tr>\n",
       "    <tr>\n",
       "      <th>1</th>\n",
       "      <td>1</td>\n",
       "      <td>11.180010</td>\n",
       "      <td>36</td>\n",
       "      <td>среднее</td>\n",
       "      <td>1</td>\n",
       "      <td>женат / замужем</td>\n",
       "      <td>0</td>\n",
       "      <td>F</td>\n",
       "      <td>сотрудник</td>\n",
       "      <td>0</td>\n",
       "      <td>112080.014102</td>\n",
       "      <td>приобретение автомобиля</td>\n",
       "    </tr>\n",
       "    <tr>\n",
       "      <th>2</th>\n",
       "      <td>0</td>\n",
       "      <td>15.620618</td>\n",
       "      <td>33</td>\n",
       "      <td>Среднее</td>\n",
       "      <td>1</td>\n",
       "      <td>женат / замужем</td>\n",
       "      <td>0</td>\n",
       "      <td>M</td>\n",
       "      <td>сотрудник</td>\n",
       "      <td>0</td>\n",
       "      <td>145885.952297</td>\n",
       "      <td>покупка жилья</td>\n",
       "    </tr>\n",
       "    <tr>\n",
       "      <th>3</th>\n",
       "      <td>3</td>\n",
       "      <td>11.457631</td>\n",
       "      <td>32</td>\n",
       "      <td>среднее</td>\n",
       "      <td>1</td>\n",
       "      <td>женат / замужем</td>\n",
       "      <td>0</td>\n",
       "      <td>M</td>\n",
       "      <td>сотрудник</td>\n",
       "      <td>0</td>\n",
       "      <td>267628.550329</td>\n",
       "      <td>дополнительное образование</td>\n",
       "    </tr>\n",
       "    <tr>\n",
       "      <th>4</th>\n",
       "      <td>0</td>\n",
       "      <td>945.183533</td>\n",
       "      <td>53</td>\n",
       "      <td>среднее</td>\n",
       "      <td>1</td>\n",
       "      <td>гражданский брак</td>\n",
       "      <td>1</td>\n",
       "      <td>F</td>\n",
       "      <td>пенсионер</td>\n",
       "      <td>0</td>\n",
       "      <td>158616.077870</td>\n",
       "      <td>сыграть свадьбу</td>\n",
       "    </tr>\n",
       "    <tr>\n",
       "      <th>5</th>\n",
       "      <td>0</td>\n",
       "      <td>2.572738</td>\n",
       "      <td>27</td>\n",
       "      <td>высшее</td>\n",
       "      <td>0</td>\n",
       "      <td>гражданский брак</td>\n",
       "      <td>1</td>\n",
       "      <td>M</td>\n",
       "      <td>компаньон</td>\n",
       "      <td>0</td>\n",
       "      <td>255763.565419</td>\n",
       "      <td>покупка жилья</td>\n",
       "    </tr>\n",
       "    <tr>\n",
       "      <th>6</th>\n",
       "      <td>0</td>\n",
       "      <td>7.997783</td>\n",
       "      <td>43</td>\n",
       "      <td>высшее</td>\n",
       "      <td>0</td>\n",
       "      <td>женат / замужем</td>\n",
       "      <td>0</td>\n",
       "      <td>F</td>\n",
       "      <td>компаньон</td>\n",
       "      <td>0</td>\n",
       "      <td>240525.971920</td>\n",
       "      <td>операции с жильем</td>\n",
       "    </tr>\n",
       "    <tr>\n",
       "      <th>7</th>\n",
       "      <td>0</td>\n",
       "      <td>0.424388</td>\n",
       "      <td>50</td>\n",
       "      <td>СРЕДНЕЕ</td>\n",
       "      <td>1</td>\n",
       "      <td>женат / замужем</td>\n",
       "      <td>0</td>\n",
       "      <td>M</td>\n",
       "      <td>сотрудник</td>\n",
       "      <td>0</td>\n",
       "      <td>135823.934197</td>\n",
       "      <td>образование</td>\n",
       "    </tr>\n",
       "    <tr>\n",
       "      <th>8</th>\n",
       "      <td>2</td>\n",
       "      <td>19.249626</td>\n",
       "      <td>35</td>\n",
       "      <td>ВЫСШЕЕ</td>\n",
       "      <td>0</td>\n",
       "      <td>гражданский брак</td>\n",
       "      <td>1</td>\n",
       "      <td>F</td>\n",
       "      <td>сотрудник</td>\n",
       "      <td>0</td>\n",
       "      <td>95856.832424</td>\n",
       "      <td>на проведение свадьбы</td>\n",
       "    </tr>\n",
       "    <tr>\n",
       "      <th>9</th>\n",
       "      <td>0</td>\n",
       "      <td>6.079879</td>\n",
       "      <td>41</td>\n",
       "      <td>среднее</td>\n",
       "      <td>1</td>\n",
       "      <td>женат / замужем</td>\n",
       "      <td>0</td>\n",
       "      <td>M</td>\n",
       "      <td>сотрудник</td>\n",
       "      <td>0</td>\n",
       "      <td>144425.938277</td>\n",
       "      <td>покупка жилья для семьи</td>\n",
       "    </tr>\n",
       "  </tbody>\n",
       "</table>\n",
       "</div>"
      ],
      "text/plain": [
       "   children  days_employed  dob_years education  education_id  \\\n",
       "0         1      23.437981         42    высшее             0   \n",
       "1         1      11.180010         36   среднее             1   \n",
       "2         0      15.620618         33   Среднее             1   \n",
       "3         3      11.457631         32   среднее             1   \n",
       "4         0     945.183533         53   среднее             1   \n",
       "5         0       2.572738         27    высшее             0   \n",
       "6         0       7.997783         43    высшее             0   \n",
       "7         0       0.424388         50   СРЕДНЕЕ             1   \n",
       "8         2      19.249626         35    ВЫСШЕЕ             0   \n",
       "9         0       6.079879         41   среднее             1   \n",
       "\n",
       "      family_status  family_status_id gender income_type  debt   total_income  \\\n",
       "0   женат / замужем                 0      F   сотрудник     0  253875.639453   \n",
       "1   женат / замужем                 0      F   сотрудник     0  112080.014102   \n",
       "2   женат / замужем                 0      M   сотрудник     0  145885.952297   \n",
       "3   женат / замужем                 0      M   сотрудник     0  267628.550329   \n",
       "4  гражданский брак                 1      F   пенсионер     0  158616.077870   \n",
       "5  гражданский брак                 1      M   компаньон     0  255763.565419   \n",
       "6   женат / замужем                 0      F   компаньон     0  240525.971920   \n",
       "7   женат / замужем                 0      M   сотрудник     0  135823.934197   \n",
       "8  гражданский брак                 1      F   сотрудник     0   95856.832424   \n",
       "9   женат / замужем                 0      M   сотрудник     0  144425.938277   \n",
       "\n",
       "                      purpose  \n",
       "0               покупка жилья  \n",
       "1     приобретение автомобиля  \n",
       "2               покупка жилья  \n",
       "3  дополнительное образование  \n",
       "4             сыграть свадьбу  \n",
       "5               покупка жилья  \n",
       "6           операции с жильем  \n",
       "7                 образование  \n",
       "8       на проведение свадьбы  \n",
       "9     покупка жилья для семьи  "
      ]
     },
     "execution_count": 12,
     "metadata": {},
     "output_type": "execute_result"
    }
   ],
   "source": [
    "# проверяю столбец 'days_employed' на аномальные значения\n",
    "# предварительно переведу значения в годовое выражение для удобства\n",
    "df['days_employed'] = df['days_employed'] / 360\n",
    "df.head(10)"
   ]
  },
  {
   "cell_type": "markdown",
   "id": "923454bd",
   "metadata": {},
   "source": [
    "Вижу значение 945 лет, что не совсем похоже на реальный трудовой стаж. Предположу, что максимальный трудовой стаж равен 35-40 лет. Все превышающие значения заменю на медианное по столбцу."
   ]
  },
  {
   "cell_type": "markdown",
   "id": "e7b4e994",
   "metadata": {},
   "source": [
    "<font color=\"red\">Комментарий ревьювера    \n",
    "❌ Так делать нельзя. Любое предложение по замене нужно обосновать цифрами, статистикой или логикой. У нас есть на работе сотрудники в возрасте и 70 и 85 лет. А это трудовой стаж больше 60 лет. </font>"
   ]
  },
  {
   "cell_type": "code",
   "execution_count": 13,
   "id": "f33f3105",
   "metadata": {},
   "outputs": [
    {
     "data": {
      "text/html": [
       "<div>\n",
       "<style scoped>\n",
       "    .dataframe tbody tr th:only-of-type {\n",
       "        vertical-align: middle;\n",
       "    }\n",
       "\n",
       "    .dataframe tbody tr th {\n",
       "        vertical-align: top;\n",
       "    }\n",
       "\n",
       "    .dataframe thead th {\n",
       "        text-align: right;\n",
       "    }\n",
       "</style>\n",
       "<table border=\"1\" class=\"dataframe\">\n",
       "  <thead>\n",
       "    <tr style=\"text-align: right;\">\n",
       "      <th></th>\n",
       "      <th>children</th>\n",
       "      <th>days_employed</th>\n",
       "      <th>dob_years</th>\n",
       "      <th>education</th>\n",
       "      <th>education_id</th>\n",
       "      <th>family_status</th>\n",
       "      <th>family_status_id</th>\n",
       "      <th>gender</th>\n",
       "      <th>income_type</th>\n",
       "      <th>debt</th>\n",
       "      <th>total_income</th>\n",
       "      <th>purpose</th>\n",
       "    </tr>\n",
       "  </thead>\n",
       "  <tbody>\n",
       "    <tr>\n",
       "      <th>4</th>\n",
       "      <td>0</td>\n",
       "      <td>945.183533</td>\n",
       "      <td>53</td>\n",
       "      <td>среднее</td>\n",
       "      <td>1</td>\n",
       "      <td>гражданский брак</td>\n",
       "      <td>1</td>\n",
       "      <td>F</td>\n",
       "      <td>пенсионер</td>\n",
       "      <td>0</td>\n",
       "      <td>158616.077870</td>\n",
       "      <td>сыграть свадьбу</td>\n",
       "    </tr>\n",
       "    <tr>\n",
       "      <th>18</th>\n",
       "      <td>0</td>\n",
       "      <td>1111.892047</td>\n",
       "      <td>53</td>\n",
       "      <td>среднее</td>\n",
       "      <td>1</td>\n",
       "      <td>вдовец / вдова</td>\n",
       "      <td>2</td>\n",
       "      <td>F</td>\n",
       "      <td>пенсионер</td>\n",
       "      <td>0</td>\n",
       "      <td>56823.777243</td>\n",
       "      <td>на покупку подержанного автомобиля</td>\n",
       "    </tr>\n",
       "    <tr>\n",
       "      <th>24</th>\n",
       "      <td>1</td>\n",
       "      <td>940.422091</td>\n",
       "      <td>57</td>\n",
       "      <td>среднее</td>\n",
       "      <td>1</td>\n",
       "      <td>Не женат / не замужем</td>\n",
       "      <td>4</td>\n",
       "      <td>F</td>\n",
       "      <td>пенсионер</td>\n",
       "      <td>0</td>\n",
       "      <td>290547.235997</td>\n",
       "      <td>операции с коммерческой недвижимостью</td>\n",
       "    </tr>\n",
       "    <tr>\n",
       "      <th>25</th>\n",
       "      <td>0</td>\n",
       "      <td>1009.856915</td>\n",
       "      <td>67</td>\n",
       "      <td>среднее</td>\n",
       "      <td>1</td>\n",
       "      <td>женат / замужем</td>\n",
       "      <td>0</td>\n",
       "      <td>M</td>\n",
       "      <td>пенсионер</td>\n",
       "      <td>0</td>\n",
       "      <td>55112.757732</td>\n",
       "      <td>покупка недвижимости</td>\n",
       "    </tr>\n",
       "    <tr>\n",
       "      <th>30</th>\n",
       "      <td>1</td>\n",
       "      <td>932.171301</td>\n",
       "      <td>62</td>\n",
       "      <td>среднее</td>\n",
       "      <td>1</td>\n",
       "      <td>женат / замужем</td>\n",
       "      <td>0</td>\n",
       "      <td>F</td>\n",
       "      <td>пенсионер</td>\n",
       "      <td>0</td>\n",
       "      <td>171456.067993</td>\n",
       "      <td>операции с коммерческой недвижимостью</td>\n",
       "    </tr>\n",
       "  </tbody>\n",
       "</table>\n",
       "</div>"
      ],
      "text/plain": [
       "    children  days_employed  dob_years education  education_id  \\\n",
       "4          0     945.183533         53   среднее             1   \n",
       "18         0    1111.892047         53   среднее             1   \n",
       "24         1     940.422091         57   среднее             1   \n",
       "25         0    1009.856915         67   среднее             1   \n",
       "30         1     932.171301         62   среднее             1   \n",
       "\n",
       "            family_status  family_status_id gender income_type  debt  \\\n",
       "4        гражданский брак                 1      F   пенсионер     0   \n",
       "18         вдовец / вдова                 2      F   пенсионер     0   \n",
       "24  Не женат / не замужем                 4      F   пенсионер     0   \n",
       "25        женат / замужем                 0      M   пенсионер     0   \n",
       "30        женат / замужем                 0      F   пенсионер     0   \n",
       "\n",
       "     total_income                                purpose  \n",
       "4   158616.077870                        сыграть свадьбу  \n",
       "18   56823.777243     на покупку подержанного автомобиля  \n",
       "24  290547.235997  операции с коммерческой недвижимостью  \n",
       "25   55112.757732                   покупка недвижимости  \n",
       "30  171456.067993  операции с коммерческой недвижимостью  "
      ]
     },
     "execution_count": 13,
     "metadata": {},
     "output_type": "execute_result"
    }
   ],
   "source": [
    "df[df['days_employed'] >= 40].head()"
   ]
  },
  {
   "cell_type": "code",
   "execution_count": 14,
   "id": "cae17760",
   "metadata": {},
   "outputs": [
    {
     "data": {
      "text/html": [
       "<div>\n",
       "<style scoped>\n",
       "    .dataframe tbody tr th:only-of-type {\n",
       "        vertical-align: middle;\n",
       "    }\n",
       "\n",
       "    .dataframe tbody tr th {\n",
       "        vertical-align: top;\n",
       "    }\n",
       "\n",
       "    .dataframe thead th {\n",
       "        text-align: right;\n",
       "    }\n",
       "</style>\n",
       "<table border=\"1\" class=\"dataframe\">\n",
       "  <thead>\n",
       "    <tr style=\"text-align: right;\">\n",
       "      <th></th>\n",
       "      <th>children</th>\n",
       "      <th>days_employed</th>\n",
       "      <th>dob_years</th>\n",
       "      <th>education</th>\n",
       "      <th>education_id</th>\n",
       "      <th>family_status</th>\n",
       "      <th>family_status_id</th>\n",
       "      <th>gender</th>\n",
       "      <th>income_type</th>\n",
       "      <th>debt</th>\n",
       "      <th>total_income</th>\n",
       "      <th>purpose</th>\n",
       "    </tr>\n",
       "  </thead>\n",
       "  <tbody>\n",
       "    <tr>\n",
       "      <th>17437</th>\n",
       "      <td>1</td>\n",
       "      <td>0.067060</td>\n",
       "      <td>31</td>\n",
       "      <td>среднее</td>\n",
       "      <td>1</td>\n",
       "      <td>женат / замужем</td>\n",
       "      <td>0</td>\n",
       "      <td>F</td>\n",
       "      <td>сотрудник</td>\n",
       "      <td>1</td>\n",
       "      <td>166952.415427</td>\n",
       "      <td>высшее образование</td>\n",
       "    </tr>\n",
       "    <tr>\n",
       "      <th>8336</th>\n",
       "      <td>0</td>\n",
       "      <td>0.067335</td>\n",
       "      <td>32</td>\n",
       "      <td>высшее</td>\n",
       "      <td>0</td>\n",
       "      <td>Не женат / не замужем</td>\n",
       "      <td>4</td>\n",
       "      <td>M</td>\n",
       "      <td>сотрудник</td>\n",
       "      <td>0</td>\n",
       "      <td>124115.373655</td>\n",
       "      <td>получение дополнительного образования</td>\n",
       "    </tr>\n",
       "    <tr>\n",
       "      <th>6157</th>\n",
       "      <td>2</td>\n",
       "      <td>0.083876</td>\n",
       "      <td>47</td>\n",
       "      <td>среднее</td>\n",
       "      <td>1</td>\n",
       "      <td>гражданский брак</td>\n",
       "      <td>1</td>\n",
       "      <td>M</td>\n",
       "      <td>компаньон</td>\n",
       "      <td>0</td>\n",
       "      <td>231461.185606</td>\n",
       "      <td>свадьба</td>\n",
       "    </tr>\n",
       "    <tr>\n",
       "      <th>9683</th>\n",
       "      <td>0</td>\n",
       "      <td>0.093113</td>\n",
       "      <td>43</td>\n",
       "      <td>среднее</td>\n",
       "      <td>1</td>\n",
       "      <td>Не женат / не замужем</td>\n",
       "      <td>4</td>\n",
       "      <td>M</td>\n",
       "      <td>сотрудник</td>\n",
       "      <td>1</td>\n",
       "      <td>128555.897209</td>\n",
       "      <td>приобретение автомобиля</td>\n",
       "    </tr>\n",
       "    <tr>\n",
       "      <th>2127</th>\n",
       "      <td>1</td>\n",
       "      <td>0.096392</td>\n",
       "      <td>31</td>\n",
       "      <td>высшее</td>\n",
       "      <td>0</td>\n",
       "      <td>женат / замужем</td>\n",
       "      <td>0</td>\n",
       "      <td>F</td>\n",
       "      <td>компаньон</td>\n",
       "      <td>0</td>\n",
       "      <td>90557.994311</td>\n",
       "      <td>получение образования</td>\n",
       "    </tr>\n",
       "    <tr>\n",
       "      <th>...</th>\n",
       "      <td>...</td>\n",
       "      <td>...</td>\n",
       "      <td>...</td>\n",
       "      <td>...</td>\n",
       "      <td>...</td>\n",
       "      <td>...</td>\n",
       "      <td>...</td>\n",
       "      <td>...</td>\n",
       "      <td>...</td>\n",
       "      <td>...</td>\n",
       "      <td>...</td>\n",
       "      <td>...</td>\n",
       "    </tr>\n",
       "    <tr>\n",
       "      <th>20909</th>\n",
       "      <td>0</td>\n",
       "      <td>38.824464</td>\n",
       "      <td>58</td>\n",
       "      <td>высшее</td>\n",
       "      <td>0</td>\n",
       "      <td>Не женат / не замужем</td>\n",
       "      <td>4</td>\n",
       "      <td>F</td>\n",
       "      <td>сотрудник</td>\n",
       "      <td>0</td>\n",
       "      <td>112894.440598</td>\n",
       "      <td>на покупку подержанного автомобиля</td>\n",
       "    </tr>\n",
       "    <tr>\n",
       "      <th>2938</th>\n",
       "      <td>0</td>\n",
       "      <td>39.031118</td>\n",
       "      <td>65</td>\n",
       "      <td>СРЕДНЕЕ</td>\n",
       "      <td>1</td>\n",
       "      <td>женат / замужем</td>\n",
       "      <td>0</td>\n",
       "      <td>F</td>\n",
       "      <td>госслужащий</td>\n",
       "      <td>0</td>\n",
       "      <td>258879.580616</td>\n",
       "      <td>покупка жилья для семьи</td>\n",
       "    </tr>\n",
       "    <tr>\n",
       "      <th>11072</th>\n",
       "      <td>0</td>\n",
       "      <td>39.177398</td>\n",
       "      <td>56</td>\n",
       "      <td>среднее</td>\n",
       "      <td>1</td>\n",
       "      <td>женат / замужем</td>\n",
       "      <td>0</td>\n",
       "      <td>M</td>\n",
       "      <td>сотрудник</td>\n",
       "      <td>0</td>\n",
       "      <td>147530.985003</td>\n",
       "      <td>операции с коммерческой недвижимостью</td>\n",
       "    </tr>\n",
       "    <tr>\n",
       "      <th>8735</th>\n",
       "      <td>0</td>\n",
       "      <td>39.558146</td>\n",
       "      <td>53</td>\n",
       "      <td>Среднее</td>\n",
       "      <td>1</td>\n",
       "      <td>женат / замужем</td>\n",
       "      <td>0</td>\n",
       "      <td>M</td>\n",
       "      <td>компаньон</td>\n",
       "      <td>0</td>\n",
       "      <td>174484.333490</td>\n",
       "      <td>покупка жилья для семьи</td>\n",
       "    </tr>\n",
       "    <tr>\n",
       "      <th>16626</th>\n",
       "      <td>0</td>\n",
       "      <td>39.948738</td>\n",
       "      <td>63</td>\n",
       "      <td>среднее</td>\n",
       "      <td>1</td>\n",
       "      <td>женат / замужем</td>\n",
       "      <td>0</td>\n",
       "      <td>M</td>\n",
       "      <td>сотрудник</td>\n",
       "      <td>0</td>\n",
       "      <td>288665.441515</td>\n",
       "      <td>приобретение автомобиля</td>\n",
       "    </tr>\n",
       "  </tbody>\n",
       "</table>\n",
       "<p>21402 rows × 12 columns</p>\n",
       "</div>"
      ],
      "text/plain": [
       "       children  days_employed  dob_years education  education_id  \\\n",
       "17437         1       0.067060         31   среднее             1   \n",
       "8336          0       0.067335         32    высшее             0   \n",
       "6157          2       0.083876         47   среднее             1   \n",
       "9683          0       0.093113         43   среднее             1   \n",
       "2127          1       0.096392         31    высшее             0   \n",
       "...         ...            ...        ...       ...           ...   \n",
       "20909         0      38.824464         58    высшее             0   \n",
       "2938          0      39.031118         65   СРЕДНЕЕ             1   \n",
       "11072         0      39.177398         56   среднее             1   \n",
       "8735          0      39.558146         53   Среднее             1   \n",
       "16626         0      39.948738         63   среднее             1   \n",
       "\n",
       "               family_status  family_status_id gender  income_type  debt  \\\n",
       "17437        женат / замужем                 0      F    сотрудник     1   \n",
       "8336   Не женат / не замужем                 4      M    сотрудник     0   \n",
       "6157        гражданский брак                 1      M    компаньон     0   \n",
       "9683   Не женат / не замужем                 4      M    сотрудник     1   \n",
       "2127         женат / замужем                 0      F    компаньон     0   \n",
       "...                      ...               ...    ...          ...   ...   \n",
       "20909  Не женат / не замужем                 4      F    сотрудник     0   \n",
       "2938         женат / замужем                 0      F  госслужащий     0   \n",
       "11072        женат / замужем                 0      M    сотрудник     0   \n",
       "8735         женат / замужем                 0      M    компаньон     0   \n",
       "16626        женат / замужем                 0      M    сотрудник     0   \n",
       "\n",
       "        total_income                                purpose  \n",
       "17437  166952.415427                     высшее образование  \n",
       "8336   124115.373655  получение дополнительного образования  \n",
       "6157   231461.185606                                свадьба  \n",
       "9683   128555.897209                приобретение автомобиля  \n",
       "2127    90557.994311                  получение образования  \n",
       "...              ...                                    ...  \n",
       "20909  112894.440598     на покупку подержанного автомобиля  \n",
       "2938   258879.580616                покупка жилья для семьи  \n",
       "11072  147530.985003  операции с коммерческой недвижимостью  \n",
       "8735   174484.333490                покупка жилья для семьи  \n",
       "16626  288665.441515                приобретение автомобиля  \n",
       "\n",
       "[21402 rows x 12 columns]"
      ]
     },
     "execution_count": 14,
     "metadata": {},
     "output_type": "execute_result"
    }
   ],
   "source": [
    "df.loc[df['days_employed'] >= 40, 'days_employed'] = df['days_employed'].median()\n",
    "df.sort_values(by = 'days_employed')"
   ]
  },
  {
   "cell_type": "code",
   "execution_count": 15,
   "id": "ab1efb85",
   "metadata": {},
   "outputs": [
    {
     "data": {
      "text/plain": [
       "35    614\n",
       "40    603\n",
       "41    603\n",
       "34    597\n",
       "38    595\n",
       "42    592\n",
       "33    577\n",
       "39    572\n",
       "31    556\n",
       "36    553\n",
       "29    543\n",
       "44    543\n",
       "48    536\n",
       "30    536\n",
       "37    531\n",
       "43    510\n",
       "50    509\n",
       "32    506\n",
       "49    505\n",
       "28    501\n",
       "45    494\n",
       "27    490\n",
       "52    483\n",
       "56    482\n",
       "47    480\n",
       "54    476\n",
       "46    469\n",
       "58    461\n",
       "53    457\n",
       "57    457\n",
       "51    446\n",
       "59    441\n",
       "55    441\n",
       "26    406\n",
       "60    376\n",
       "25    356\n",
       "61    353\n",
       "62    351\n",
       "63    268\n",
       "24    263\n",
       "64    263\n",
       "23    252\n",
       "65    194\n",
       "66    183\n",
       "22    183\n",
       "67    167\n",
       "21    110\n",
       "0     100\n",
       "68     99\n",
       "69     83\n",
       "70     65\n",
       "71     58\n",
       "20     51\n",
       "72     33\n",
       "19     14\n",
       "73      8\n",
       "74      6\n",
       "75      1\n",
       "Name: dob_years, dtype: int64"
      ]
     },
     "execution_count": 15,
     "metadata": {},
     "output_type": "execute_result"
    }
   ],
   "source": [
    "# проверяю 'dob_years' на аномальные значения:\n",
    "df['dob_years'].value_counts()"
   ]
  },
  {
   "cell_type": "code",
   "execution_count": 16,
   "id": "551730fd",
   "metadata": {},
   "outputs": [
    {
     "data": {
      "text/html": [
       "<div>\n",
       "<style scoped>\n",
       "    .dataframe tbody tr th:only-of-type {\n",
       "        vertical-align: middle;\n",
       "    }\n",
       "\n",
       "    .dataframe tbody tr th {\n",
       "        vertical-align: top;\n",
       "    }\n",
       "\n",
       "    .dataframe thead th {\n",
       "        text-align: right;\n",
       "    }\n",
       "</style>\n",
       "<table border=\"1\" class=\"dataframe\">\n",
       "  <thead>\n",
       "    <tr style=\"text-align: right;\">\n",
       "      <th></th>\n",
       "      <th>children</th>\n",
       "      <th>days_employed</th>\n",
       "      <th>dob_years</th>\n",
       "      <th>education</th>\n",
       "      <th>education_id</th>\n",
       "      <th>family_status</th>\n",
       "      <th>family_status_id</th>\n",
       "      <th>gender</th>\n",
       "      <th>income_type</th>\n",
       "      <th>debt</th>\n",
       "      <th>total_income</th>\n",
       "      <th>purpose</th>\n",
       "    </tr>\n",
       "  </thead>\n",
       "  <tbody>\n",
       "    <tr>\n",
       "      <th>99</th>\n",
       "      <td>0</td>\n",
       "      <td>6.095057</td>\n",
       "      <td>0</td>\n",
       "      <td>Среднее</td>\n",
       "      <td>1</td>\n",
       "      <td>женат / замужем</td>\n",
       "      <td>0</td>\n",
       "      <td>F</td>\n",
       "      <td>пенсионер</td>\n",
       "      <td>0</td>\n",
       "      <td>71291.522491</td>\n",
       "      <td>автомобиль</td>\n",
       "    </tr>\n",
       "    <tr>\n",
       "      <th>149</th>\n",
       "      <td>0</td>\n",
       "      <td>7.400759</td>\n",
       "      <td>0</td>\n",
       "      <td>среднее</td>\n",
       "      <td>1</td>\n",
       "      <td>в разводе</td>\n",
       "      <td>3</td>\n",
       "      <td>F</td>\n",
       "      <td>сотрудник</td>\n",
       "      <td>0</td>\n",
       "      <td>70176.435951</td>\n",
       "      <td>операции с жильем</td>\n",
       "    </tr>\n",
       "    <tr>\n",
       "      <th>270</th>\n",
       "      <td>3</td>\n",
       "      <td>5.201842</td>\n",
       "      <td>0</td>\n",
       "      <td>среднее</td>\n",
       "      <td>1</td>\n",
       "      <td>женат / замужем</td>\n",
       "      <td>0</td>\n",
       "      <td>F</td>\n",
       "      <td>сотрудник</td>\n",
       "      <td>0</td>\n",
       "      <td>102166.458894</td>\n",
       "      <td>ремонт жилью</td>\n",
       "    </tr>\n",
       "    <tr>\n",
       "      <th>578</th>\n",
       "      <td>0</td>\n",
       "      <td>6.095057</td>\n",
       "      <td>0</td>\n",
       "      <td>среднее</td>\n",
       "      <td>1</td>\n",
       "      <td>женат / замужем</td>\n",
       "      <td>0</td>\n",
       "      <td>F</td>\n",
       "      <td>пенсионер</td>\n",
       "      <td>0</td>\n",
       "      <td>97620.687042</td>\n",
       "      <td>строительство собственной недвижимости</td>\n",
       "    </tr>\n",
       "    <tr>\n",
       "      <th>1040</th>\n",
       "      <td>0</td>\n",
       "      <td>3.216749</td>\n",
       "      <td>0</td>\n",
       "      <td>высшее</td>\n",
       "      <td>0</td>\n",
       "      <td>в разводе</td>\n",
       "      <td>3</td>\n",
       "      <td>F</td>\n",
       "      <td>компаньон</td>\n",
       "      <td>0</td>\n",
       "      <td>303994.134987</td>\n",
       "      <td>свой автомобиль</td>\n",
       "    </tr>\n",
       "    <tr>\n",
       "      <th>...</th>\n",
       "      <td>...</td>\n",
       "      <td>...</td>\n",
       "      <td>...</td>\n",
       "      <td>...</td>\n",
       "      <td>...</td>\n",
       "      <td>...</td>\n",
       "      <td>...</td>\n",
       "      <td>...</td>\n",
       "      <td>...</td>\n",
       "      <td>...</td>\n",
       "      <td>...</td>\n",
       "      <td>...</td>\n",
       "    </tr>\n",
       "    <tr>\n",
       "      <th>19829</th>\n",
       "      <td>0</td>\n",
       "      <td>6.095057</td>\n",
       "      <td>0</td>\n",
       "      <td>среднее</td>\n",
       "      <td>1</td>\n",
       "      <td>женат / замужем</td>\n",
       "      <td>0</td>\n",
       "      <td>F</td>\n",
       "      <td>сотрудник</td>\n",
       "      <td>0</td>\n",
       "      <td>145017.937533</td>\n",
       "      <td>жилье</td>\n",
       "    </tr>\n",
       "    <tr>\n",
       "      <th>20462</th>\n",
       "      <td>0</td>\n",
       "      <td>6.095057</td>\n",
       "      <td>0</td>\n",
       "      <td>среднее</td>\n",
       "      <td>1</td>\n",
       "      <td>женат / замужем</td>\n",
       "      <td>0</td>\n",
       "      <td>F</td>\n",
       "      <td>пенсионер</td>\n",
       "      <td>0</td>\n",
       "      <td>259193.920299</td>\n",
       "      <td>покупка своего жилья</td>\n",
       "    </tr>\n",
       "    <tr>\n",
       "      <th>20577</th>\n",
       "      <td>0</td>\n",
       "      <td>6.095057</td>\n",
       "      <td>0</td>\n",
       "      <td>среднее</td>\n",
       "      <td>1</td>\n",
       "      <td>Не женат / не замужем</td>\n",
       "      <td>4</td>\n",
       "      <td>F</td>\n",
       "      <td>пенсионер</td>\n",
       "      <td>0</td>\n",
       "      <td>129788.762899</td>\n",
       "      <td>недвижимость</td>\n",
       "    </tr>\n",
       "    <tr>\n",
       "      <th>21179</th>\n",
       "      <td>2</td>\n",
       "      <td>0.302686</td>\n",
       "      <td>0</td>\n",
       "      <td>высшее</td>\n",
       "      <td>0</td>\n",
       "      <td>женат / замужем</td>\n",
       "      <td>0</td>\n",
       "      <td>M</td>\n",
       "      <td>компаньон</td>\n",
       "      <td>0</td>\n",
       "      <td>240702.007382</td>\n",
       "      <td>строительство жилой недвижимости</td>\n",
       "    </tr>\n",
       "    <tr>\n",
       "      <th>21313</th>\n",
       "      <td>0</td>\n",
       "      <td>3.523577</td>\n",
       "      <td>0</td>\n",
       "      <td>среднее</td>\n",
       "      <td>1</td>\n",
       "      <td>Не женат / не замужем</td>\n",
       "      <td>4</td>\n",
       "      <td>M</td>\n",
       "      <td>сотрудник</td>\n",
       "      <td>0</td>\n",
       "      <td>152419.184851</td>\n",
       "      <td>операции с жильем</td>\n",
       "    </tr>\n",
       "  </tbody>\n",
       "</table>\n",
       "<p>100 rows × 12 columns</p>\n",
       "</div>"
      ],
      "text/plain": [
       "       children  days_employed  dob_years education  education_id  \\\n",
       "99            0       6.095057          0   Среднее             1   \n",
       "149           0       7.400759          0   среднее             1   \n",
       "270           3       5.201842          0   среднее             1   \n",
       "578           0       6.095057          0   среднее             1   \n",
       "1040          0       3.216749          0    высшее             0   \n",
       "...         ...            ...        ...       ...           ...   \n",
       "19829         0       6.095057          0   среднее             1   \n",
       "20462         0       6.095057          0   среднее             1   \n",
       "20577         0       6.095057          0   среднее             1   \n",
       "21179         2       0.302686          0    высшее             0   \n",
       "21313         0       3.523577          0   среднее             1   \n",
       "\n",
       "               family_status  family_status_id gender income_type  debt  \\\n",
       "99           женат / замужем                 0      F   пенсионер     0   \n",
       "149                в разводе                 3      F   сотрудник     0   \n",
       "270          женат / замужем                 0      F   сотрудник     0   \n",
       "578          женат / замужем                 0      F   пенсионер     0   \n",
       "1040               в разводе                 3      F   компаньон     0   \n",
       "...                      ...               ...    ...         ...   ...   \n",
       "19829        женат / замужем                 0      F   сотрудник     0   \n",
       "20462        женат / замужем                 0      F   пенсионер     0   \n",
       "20577  Не женат / не замужем                 4      F   пенсионер     0   \n",
       "21179        женат / замужем                 0      M   компаньон     0   \n",
       "21313  Не женат / не замужем                 4      M   сотрудник     0   \n",
       "\n",
       "        total_income                                 purpose  \n",
       "99      71291.522491                              автомобиль  \n",
       "149     70176.435951                       операции с жильем  \n",
       "270    102166.458894                            ремонт жилью  \n",
       "578     97620.687042  строительство собственной недвижимости  \n",
       "1040   303994.134987                         свой автомобиль  \n",
       "...              ...                                     ...  \n",
       "19829  145017.937533                                   жилье  \n",
       "20462  259193.920299                    покупка своего жилья  \n",
       "20577  129788.762899                            недвижимость  \n",
       "21179  240702.007382        строительство жилой недвижимости  \n",
       "21313  152419.184851                       операции с жильем  \n",
       "\n",
       "[100 rows x 12 columns]"
      ]
     },
     "execution_count": 16,
     "metadata": {},
     "output_type": "execute_result"
    }
   ],
   "source": [
    "df[df['dob_years'] < 10]"
   ]
  },
  {
   "cell_type": "markdown",
   "id": "498032ca",
   "metadata": {},
   "source": [
    "В столбце есть нулевые значения, заменим их на среднее арифметическое - в случае возраста такой метод допустим."
   ]
  },
  {
   "cell_type": "markdown",
   "id": "bbb6d11f",
   "metadata": {},
   "source": [
    "<font color=\"orange\">Комментарий ревьвюера   \n",
    "⚠️ Значений достаточно много. Можно поменять, как ты предложил. Но можно и вообще не менять, поскольку обоснованных методов замены найти не представляется возможным, а этот столбец не участвует в требуемых исследованиях.</font>"
   ]
  },
  {
   "cell_type": "code",
   "execution_count": 17,
   "id": "214803ae",
   "metadata": {},
   "outputs": [
    {
     "data": {
      "text/plain": [
       "35.000000    614\n",
       "41.000000    603\n",
       "40.000000    603\n",
       "34.000000    597\n",
       "38.000000    595\n",
       "42.000000    592\n",
       "33.000000    577\n",
       "39.000000    572\n",
       "31.000000    556\n",
       "36.000000    553\n",
       "44.000000    543\n",
       "29.000000    543\n",
       "30.000000    536\n",
       "48.000000    536\n",
       "37.000000    531\n",
       "43.000000    510\n",
       "50.000000    509\n",
       "32.000000    506\n",
       "49.000000    505\n",
       "28.000000    501\n",
       "45.000000    494\n",
       "27.000000    490\n",
       "52.000000    483\n",
       "56.000000    482\n",
       "47.000000    480\n",
       "54.000000    476\n",
       "46.000000    469\n",
       "58.000000    461\n",
       "53.000000    457\n",
       "57.000000    457\n",
       "51.000000    446\n",
       "55.000000    441\n",
       "59.000000    441\n",
       "26.000000    406\n",
       "60.000000    376\n",
       "25.000000    356\n",
       "61.000000    353\n",
       "62.000000    351\n",
       "63.000000    268\n",
       "64.000000    263\n",
       "24.000000    263\n",
       "23.000000    252\n",
       "65.000000    194\n",
       "22.000000    183\n",
       "66.000000    183\n",
       "67.000000    167\n",
       "21.000000    110\n",
       "43.300206    100\n",
       "68.000000     99\n",
       "69.000000     83\n",
       "70.000000     65\n",
       "71.000000     58\n",
       "20.000000     51\n",
       "72.000000     33\n",
       "19.000000     14\n",
       "73.000000      8\n",
       "74.000000      6\n",
       "75.000000      1\n",
       "Name: dob_years, dtype: int64"
      ]
     },
     "execution_count": 17,
     "metadata": {},
     "output_type": "execute_result"
    }
   ],
   "source": [
    "df.loc[df['dob_years'] == 0, 'dob_years'] = df['dob_years'].mean()\n",
    "df['dob_years'].value_counts()"
   ]
  },
  {
   "cell_type": "code",
   "execution_count": 18,
   "id": "54313112",
   "metadata": {},
   "outputs": [
    {
     "data": {
      "text/plain": [
       "среднее                15136\n",
       "высшее                  5237\n",
       "неоконченное высшее      741\n",
       "начальное                282\n",
       "ученая степень             6\n",
       "Name: education, dtype: int64"
      ]
     },
     "execution_count": 18,
     "metadata": {},
     "output_type": "execute_result"
    }
   ],
   "source": [
    "# проверяю 'education' на аномальные значения:\n",
    "# перед этим приведу всё к нижнему регистру\n",
    "df['education'] = df['education'].str.lower()\n",
    "df['education'].value_counts()"
   ]
  },
  {
   "cell_type": "code",
   "execution_count": 19,
   "id": "96fd81c3",
   "metadata": {},
   "outputs": [
    {
     "data": {
      "text/plain": [
       "1    15136\n",
       "0     5237\n",
       "2      741\n",
       "3      282\n",
       "4        6\n",
       "Name: education_id, dtype: int64"
      ]
     },
     "execution_count": 19,
     "metadata": {},
     "output_type": "execute_result"
    }
   ],
   "source": [
    "# проверяю 'education_id' на аномальные значения:\n",
    "df['education_id'].value_counts()"
   ]
  },
  {
   "cell_type": "code",
   "execution_count": 20,
   "id": "1c9572ed",
   "metadata": {},
   "outputs": [
    {
     "data": {
      "text/plain": [
       "женат / замужем          12302\n",
       "гражданский брак          4160\n",
       "не женат / не замужем     2799\n",
       "в разводе                 1189\n",
       "вдовец / вдова             952\n",
       "Name: family_status, dtype: int64"
      ]
     },
     "execution_count": 20,
     "metadata": {},
     "output_type": "execute_result"
    }
   ],
   "source": [
    "# проверяю 'family_status' на аномальные значения:\n",
    "df['family_status'] = df['family_status'].str.lower()\n",
    "df['family_status'].value_counts()"
   ]
  },
  {
   "cell_type": "code",
   "execution_count": 21,
   "id": "b0bde979",
   "metadata": {},
   "outputs": [
    {
     "data": {
      "text/plain": [
       "0    12302\n",
       "1     4160\n",
       "4     2799\n",
       "3     1189\n",
       "2      952\n",
       "Name: family_status_id, dtype: int64"
      ]
     },
     "execution_count": 21,
     "metadata": {},
     "output_type": "execute_result"
    }
   ],
   "source": [
    "# проверяю 'family_status_id' на аномальные значения:\n",
    "df['family_status_id'].value_counts()"
   ]
  },
  {
   "cell_type": "code",
   "execution_count": 22,
   "id": "022ada79",
   "metadata": {},
   "outputs": [
    {
     "data": {
      "text/plain": [
       "F      14154\n",
       "M       7247\n",
       "XNA        1\n",
       "Name: gender, dtype: int64"
      ]
     },
     "execution_count": 22,
     "metadata": {},
     "output_type": "execute_result"
    }
   ],
   "source": [
    "# проверяю 'gender' на аномальные значения:\n",
    "df['gender'].value_counts()"
   ]
  },
  {
   "cell_type": "code",
   "execution_count": 23,
   "id": "f4aa6fe4",
   "metadata": {},
   "outputs": [
    {
     "data": {
      "text/html": [
       "<div>\n",
       "<style scoped>\n",
       "    .dataframe tbody tr th:only-of-type {\n",
       "        vertical-align: middle;\n",
       "    }\n",
       "\n",
       "    .dataframe tbody tr th {\n",
       "        vertical-align: top;\n",
       "    }\n",
       "\n",
       "    .dataframe thead th {\n",
       "        text-align: right;\n",
       "    }\n",
       "</style>\n",
       "<table border=\"1\" class=\"dataframe\">\n",
       "  <thead>\n",
       "    <tr style=\"text-align: right;\">\n",
       "      <th></th>\n",
       "      <th>children</th>\n",
       "      <th>days_employed</th>\n",
       "      <th>dob_years</th>\n",
       "      <th>education</th>\n",
       "      <th>education_id</th>\n",
       "      <th>family_status</th>\n",
       "      <th>family_status_id</th>\n",
       "      <th>gender</th>\n",
       "      <th>income_type</th>\n",
       "      <th>debt</th>\n",
       "      <th>total_income</th>\n",
       "      <th>purpose</th>\n",
       "    </tr>\n",
       "  </thead>\n",
       "  <tbody>\n",
       "    <tr>\n",
       "      <th>10701</th>\n",
       "      <td>0</td>\n",
       "      <td>6.551668</td>\n",
       "      <td>24.0</td>\n",
       "      <td>неоконченное высшее</td>\n",
       "      <td>2</td>\n",
       "      <td>гражданский брак</td>\n",
       "      <td>1</td>\n",
       "      <td>XNA</td>\n",
       "      <td>компаньон</td>\n",
       "      <td>0</td>\n",
       "      <td>203905.157261</td>\n",
       "      <td>покупка недвижимости</td>\n",
       "    </tr>\n",
       "  </tbody>\n",
       "</table>\n",
       "</div>"
      ],
      "text/plain": [
       "       children  days_employed  dob_years            education  education_id  \\\n",
       "10701         0       6.551668       24.0  неоконченное высшее             2   \n",
       "\n",
       "          family_status  family_status_id gender income_type  debt  \\\n",
       "10701  гражданский брак                 1    XNA   компаньон     0   \n",
       "\n",
       "        total_income               purpose  \n",
       "10701  203905.157261  покупка недвижимости  "
      ]
     },
     "execution_count": 23,
     "metadata": {},
     "output_type": "execute_result"
    }
   ],
   "source": [
    "# вижу странное значение:\n",
    "df[df['gender'] == 'XNA']"
   ]
  },
  {
   "cell_type": "code",
   "execution_count": 24,
   "id": "99d2f690",
   "metadata": {},
   "outputs": [
    {
     "data": {
      "text/plain": [
       "сотрудник          11050\n",
       "компаньон           5054\n",
       "пенсионер           3839\n",
       "госслужащий         1453\n",
       "безработный            2\n",
       "предприниматель        2\n",
       "в декрете              1\n",
       "студент                1\n",
       "Name: income_type, dtype: int64"
      ]
     },
     "execution_count": 24,
     "metadata": {},
     "output_type": "execute_result"
    }
   ],
   "source": [
    "# проверяю 'income_type' на аномальные значения:\n",
    "df['income_type'].value_counts()"
   ]
  },
  {
   "cell_type": "code",
   "execution_count": 25,
   "id": "744820bd",
   "metadata": {},
   "outputs": [
    {
     "data": {
      "text/plain": [
       "0    19670\n",
       "1     1732\n",
       "Name: debt, dtype: int64"
      ]
     },
     "execution_count": 25,
     "metadata": {},
     "output_type": "execute_result"
    }
   ],
   "source": [
    "# проверяю 'debt' на аномальные значения:\n",
    "df['debt'].value_counts()"
   ]
  },
  {
   "cell_type": "code",
   "execution_count": 26,
   "id": "ea9c6b8b",
   "metadata": {},
   "outputs": [
    {
     "data": {
      "text/plain": [
       "145017    2163\n",
       "104693       3\n",
       "145603       3\n",
       "133122       3\n",
       "150684       3\n",
       "          ... \n",
       "150195       1\n",
       "66485        1\n",
       "72630        1\n",
       "627639       1\n",
       "126820       1\n",
       "Name: total_income, Length: 18502, dtype: int64"
      ]
     },
     "execution_count": 26,
     "metadata": {},
     "output_type": "execute_result"
    }
   ],
   "source": [
    "# проверяю 'total_income' на аномальные значения\n",
    "# предварительно меняя тип данных на целочисленный\n",
    "df['total_income'] = df['total_income'].astype('int')\n",
    "df['total_income'].value_counts()"
   ]
  },
  {
   "cell_type": "code",
   "execution_count": 27,
   "id": "3321162f",
   "metadata": {},
   "outputs": [
    {
     "data": {
      "text/plain": [
       "свадьба                                   796\n",
       "на проведение свадьбы                     772\n",
       "сыграть свадьбу                           769\n",
       "операции с недвижимостью                  673\n",
       "покупка коммерческой недвижимости         661\n",
       "покупка жилья для сдачи                   651\n",
       "операции с жильем                         648\n",
       "операции с коммерческой недвижимостью     646\n",
       "жилье                                     642\n",
       "покупка жилья                             641\n",
       "покупка жилья для семьи                   640\n",
       "недвижимость                              632\n",
       "строительство собственной недвижимости    628\n",
       "операции со своей недвижимостью           626\n",
       "строительство жилой недвижимости          622\n",
       "строительство недвижимости                620\n",
       "покупка недвижимости                      619\n",
       "покупка своего жилья                      619\n",
       "ремонт жилью                              609\n",
       "покупка жилой недвижимости                603\n",
       "на покупку своего автомобиля              504\n",
       "заняться высшим образованием              496\n",
       "автомобиль                                492\n",
       "сделка с подержанным автомобилем          484\n",
       "автомобили                                476\n",
       "свой автомобиль                           475\n",
       "на покупку подержанного автомобиля        472\n",
       "на покупку автомобиля                     470\n",
       "приобретение автомобиля                   460\n",
       "дополнительное образование                457\n",
       "сделка с автомобилем                      455\n",
       "высшее образование                        447\n",
       "получение дополнительного образования     445\n",
       "образование                               442\n",
       "получение образования                     441\n",
       "профильное образование                    432\n",
       "получение высшего образования             425\n",
       "заняться образованием                     412\n",
       "Name: purpose, dtype: int64"
      ]
     },
     "execution_count": 27,
     "metadata": {},
     "output_type": "execute_result"
    }
   ],
   "source": [
    "# проверяю 'purpose' на аномальные значения\n",
    "df['purpose'].value_counts()"
   ]
  },
  {
   "cell_type": "markdown",
   "id": "a1531858",
   "metadata": {},
   "source": [
    "Вроде все ок)"
   ]
  },
  {
   "cell_type": "markdown",
   "id": "685abfde",
   "metadata": {},
   "source": [
    "<font color=\"red\">Комментарий ревьювера    \n",
    "❌ В целом все правильно ,хорошо провреил значение на аномальность.\n",
    "    \n",
    "Но почему ты оставил непонятный пол  'XNA' ?</font>"
   ]
  },
  {
   "cell_type": "markdown",
   "id": "4503c69a",
   "metadata": {},
   "source": [
    "###  Удаление дубликатов"
   ]
  },
  {
   "cell_type": "code",
   "execution_count": 28,
   "id": "11ca6c18",
   "metadata": {},
   "outputs": [
    {
     "data": {
      "text/plain": [
       "71"
      ]
     },
     "execution_count": 28,
     "metadata": {},
     "output_type": "execute_result"
    }
   ],
   "source": [
    "# кол-во строк дубликатов\n",
    "df.duplicated().sum()"
   ]
  },
  {
   "cell_type": "code",
   "execution_count": 29,
   "id": "a0184d7d",
   "metadata": {},
   "outputs": [
    {
     "data": {
      "text/html": [
       "<div>\n",
       "<style scoped>\n",
       "    .dataframe tbody tr th:only-of-type {\n",
       "        vertical-align: middle;\n",
       "    }\n",
       "\n",
       "    .dataframe tbody tr th {\n",
       "        vertical-align: top;\n",
       "    }\n",
       "\n",
       "    .dataframe thead th {\n",
       "        text-align: right;\n",
       "    }\n",
       "</style>\n",
       "<table border=\"1\" class=\"dataframe\">\n",
       "  <thead>\n",
       "    <tr style=\"text-align: right;\">\n",
       "      <th></th>\n",
       "      <th>children</th>\n",
       "      <th>days_employed</th>\n",
       "      <th>dob_years</th>\n",
       "      <th>education</th>\n",
       "      <th>education_id</th>\n",
       "      <th>family_status</th>\n",
       "      <th>family_status_id</th>\n",
       "      <th>gender</th>\n",
       "      <th>income_type</th>\n",
       "      <th>debt</th>\n",
       "      <th>total_income</th>\n",
       "      <th>purpose</th>\n",
       "    </tr>\n",
       "  </thead>\n",
       "  <tbody>\n",
       "    <tr>\n",
       "      <th>0</th>\n",
       "      <td>1</td>\n",
       "      <td>23.437981</td>\n",
       "      <td>42.0</td>\n",
       "      <td>высшее</td>\n",
       "      <td>0</td>\n",
       "      <td>женат / замужем</td>\n",
       "      <td>0</td>\n",
       "      <td>F</td>\n",
       "      <td>сотрудник</td>\n",
       "      <td>0</td>\n",
       "      <td>253875</td>\n",
       "      <td>покупка жилья</td>\n",
       "    </tr>\n",
       "    <tr>\n",
       "      <th>1</th>\n",
       "      <td>1</td>\n",
       "      <td>11.180010</td>\n",
       "      <td>36.0</td>\n",
       "      <td>среднее</td>\n",
       "      <td>1</td>\n",
       "      <td>женат / замужем</td>\n",
       "      <td>0</td>\n",
       "      <td>F</td>\n",
       "      <td>сотрудник</td>\n",
       "      <td>0</td>\n",
       "      <td>112080</td>\n",
       "      <td>приобретение автомобиля</td>\n",
       "    </tr>\n",
       "    <tr>\n",
       "      <th>2</th>\n",
       "      <td>0</td>\n",
       "      <td>15.620618</td>\n",
       "      <td>33.0</td>\n",
       "      <td>среднее</td>\n",
       "      <td>1</td>\n",
       "      <td>женат / замужем</td>\n",
       "      <td>0</td>\n",
       "      <td>M</td>\n",
       "      <td>сотрудник</td>\n",
       "      <td>0</td>\n",
       "      <td>145885</td>\n",
       "      <td>покупка жилья</td>\n",
       "    </tr>\n",
       "    <tr>\n",
       "      <th>3</th>\n",
       "      <td>3</td>\n",
       "      <td>11.457631</td>\n",
       "      <td>32.0</td>\n",
       "      <td>среднее</td>\n",
       "      <td>1</td>\n",
       "      <td>женат / замужем</td>\n",
       "      <td>0</td>\n",
       "      <td>M</td>\n",
       "      <td>сотрудник</td>\n",
       "      <td>0</td>\n",
       "      <td>267628</td>\n",
       "      <td>дополнительное образование</td>\n",
       "    </tr>\n",
       "    <tr>\n",
       "      <th>4</th>\n",
       "      <td>0</td>\n",
       "      <td>6.095057</td>\n",
       "      <td>53.0</td>\n",
       "      <td>среднее</td>\n",
       "      <td>1</td>\n",
       "      <td>гражданский брак</td>\n",
       "      <td>1</td>\n",
       "      <td>F</td>\n",
       "      <td>пенсионер</td>\n",
       "      <td>0</td>\n",
       "      <td>158616</td>\n",
       "      <td>сыграть свадьбу</td>\n",
       "    </tr>\n",
       "  </tbody>\n",
       "</table>\n",
       "</div>"
      ],
      "text/plain": [
       "   children  days_employed  dob_years education  education_id  \\\n",
       "0         1      23.437981       42.0    высшее             0   \n",
       "1         1      11.180010       36.0   среднее             1   \n",
       "2         0      15.620618       33.0   среднее             1   \n",
       "3         3      11.457631       32.0   среднее             1   \n",
       "4         0       6.095057       53.0   среднее             1   \n",
       "\n",
       "      family_status  family_status_id gender income_type  debt  total_income  \\\n",
       "0   женат / замужем                 0      F   сотрудник     0        253875   \n",
       "1   женат / замужем                 0      F   сотрудник     0        112080   \n",
       "2   женат / замужем                 0      M   сотрудник     0        145885   \n",
       "3   женат / замужем                 0      M   сотрудник     0        267628   \n",
       "4  гражданский брак                 1      F   пенсионер     0        158616   \n",
       "\n",
       "                      purpose  \n",
       "0               покупка жилья  \n",
       "1     приобретение автомобиля  \n",
       "2               покупка жилья  \n",
       "3  дополнительное образование  \n",
       "4             сыграть свадьбу  "
      ]
     },
     "execution_count": 29,
     "metadata": {},
     "output_type": "execute_result"
    }
   ],
   "source": [
    "# удаление этих строк\n",
    "df = df.drop_duplicates().reset_index(drop=True) \n",
    "df.head()"
   ]
  },
  {
   "cell_type": "markdown",
   "id": "578fb35d",
   "metadata": {},
   "source": [
    "<font color=\"green\">Комментарий ревьювера   \n",
    "✔️ Хорошо.</font>"
   ]
  },
  {
   "cell_type": "markdown",
   "id": "3a94a0b4",
   "metadata": {},
   "source": [
    "### Формирование дополнительных датафреймов словарей, декомпозиция исходного датафрейма."
   ]
  },
  {
   "cell_type": "code",
   "execution_count": 30,
   "id": "17f41846",
   "metadata": {},
   "outputs": [
    {
     "data": {
      "text/html": [
       "<div>\n",
       "<style scoped>\n",
       "    .dataframe tbody tr th:only-of-type {\n",
       "        vertical-align: middle;\n",
       "    }\n",
       "\n",
       "    .dataframe tbody tr th {\n",
       "        vertical-align: top;\n",
       "    }\n",
       "\n",
       "    .dataframe thead th {\n",
       "        text-align: right;\n",
       "    }\n",
       "</style>\n",
       "<table border=\"1\" class=\"dataframe\">\n",
       "  <thead>\n",
       "    <tr style=\"text-align: right;\">\n",
       "      <th></th>\n",
       "      <th>education</th>\n",
       "      <th>education_id</th>\n",
       "    </tr>\n",
       "  </thead>\n",
       "  <tbody>\n",
       "    <tr>\n",
       "      <th>0</th>\n",
       "      <td>высшее</td>\n",
       "      <td>0</td>\n",
       "    </tr>\n",
       "    <tr>\n",
       "      <th>1</th>\n",
       "      <td>среднее</td>\n",
       "      <td>1</td>\n",
       "    </tr>\n",
       "    <tr>\n",
       "      <th>2</th>\n",
       "      <td>неоконченное высшее</td>\n",
       "      <td>2</td>\n",
       "    </tr>\n",
       "    <tr>\n",
       "      <th>3</th>\n",
       "      <td>начальное</td>\n",
       "      <td>3</td>\n",
       "    </tr>\n",
       "    <tr>\n",
       "      <th>4</th>\n",
       "      <td>ученая степень</td>\n",
       "      <td>4</td>\n",
       "    </tr>\n",
       "  </tbody>\n",
       "</table>\n",
       "</div>"
      ],
      "text/plain": [
       "             education  education_id\n",
       "0               высшее             0\n",
       "1              среднее             1\n",
       "2  неоконченное высшее             2\n",
       "3            начальное             3\n",
       "4       ученая степень             4"
      ]
     },
     "execution_count": 30,
     "metadata": {},
     "output_type": "execute_result"
    }
   ],
   "source": [
    "#новый датафрейм 'education_type'\n",
    "education_type = df[['education', 'education_id']]\n",
    "education_type = education_type.drop_duplicates().reset_index(drop=True)\n",
    "education_type"
   ]
  },
  {
   "cell_type": "code",
   "execution_count": 31,
   "id": "e88c93bb",
   "metadata": {},
   "outputs": [
    {
     "data": {
      "text/html": [
       "<div>\n",
       "<style scoped>\n",
       "    .dataframe tbody tr th:only-of-type {\n",
       "        vertical-align: middle;\n",
       "    }\n",
       "\n",
       "    .dataframe tbody tr th {\n",
       "        vertical-align: top;\n",
       "    }\n",
       "\n",
       "    .dataframe thead th {\n",
       "        text-align: right;\n",
       "    }\n",
       "</style>\n",
       "<table border=\"1\" class=\"dataframe\">\n",
       "  <thead>\n",
       "    <tr style=\"text-align: right;\">\n",
       "      <th></th>\n",
       "      <th>family_status</th>\n",
       "      <th>family_status_id</th>\n",
       "    </tr>\n",
       "  </thead>\n",
       "  <tbody>\n",
       "    <tr>\n",
       "      <th>0</th>\n",
       "      <td>женат / замужем</td>\n",
       "      <td>0</td>\n",
       "    </tr>\n",
       "    <tr>\n",
       "      <th>1</th>\n",
       "      <td>гражданский брак</td>\n",
       "      <td>1</td>\n",
       "    </tr>\n",
       "    <tr>\n",
       "      <th>2</th>\n",
       "      <td>вдовец / вдова</td>\n",
       "      <td>2</td>\n",
       "    </tr>\n",
       "    <tr>\n",
       "      <th>3</th>\n",
       "      <td>в разводе</td>\n",
       "      <td>3</td>\n",
       "    </tr>\n",
       "    <tr>\n",
       "      <th>4</th>\n",
       "      <td>не женат / не замужем</td>\n",
       "      <td>4</td>\n",
       "    </tr>\n",
       "  </tbody>\n",
       "</table>\n",
       "</div>"
      ],
      "text/plain": [
       "           family_status  family_status_id\n",
       "0        женат / замужем                 0\n",
       "1       гражданский брак                 1\n",
       "2         вдовец / вдова                 2\n",
       "3              в разводе                 3\n",
       "4  не женат / не замужем                 4"
      ]
     },
     "execution_count": 31,
     "metadata": {},
     "output_type": "execute_result"
    }
   ],
   "source": [
    "#новый датафрейм 'family_status_type'\n",
    "family_status_type = df[['family_status', 'family_status_id']]\n",
    "family_status_type = family_status_type.drop_duplicates().reset_index(drop=True)\n",
    "family_status_type"
   ]
  },
  {
   "cell_type": "code",
   "execution_count": 32,
   "id": "ac11f323",
   "metadata": {},
   "outputs": [
    {
     "data": {
      "text/html": [
       "<div>\n",
       "<style scoped>\n",
       "    .dataframe tbody tr th:only-of-type {\n",
       "        vertical-align: middle;\n",
       "    }\n",
       "\n",
       "    .dataframe tbody tr th {\n",
       "        vertical-align: top;\n",
       "    }\n",
       "\n",
       "    .dataframe thead th {\n",
       "        text-align: right;\n",
       "    }\n",
       "</style>\n",
       "<table border=\"1\" class=\"dataframe\">\n",
       "  <thead>\n",
       "    <tr style=\"text-align: right;\">\n",
       "      <th></th>\n",
       "      <th>children</th>\n",
       "      <th>days_employed</th>\n",
       "      <th>dob_years</th>\n",
       "      <th>education_id</th>\n",
       "      <th>family_status_id</th>\n",
       "      <th>gender</th>\n",
       "      <th>income_type</th>\n",
       "      <th>debt</th>\n",
       "      <th>total_income</th>\n",
       "      <th>purpose</th>\n",
       "    </tr>\n",
       "  </thead>\n",
       "  <tbody>\n",
       "    <tr>\n",
       "      <th>0</th>\n",
       "      <td>1</td>\n",
       "      <td>23.437981</td>\n",
       "      <td>42.0</td>\n",
       "      <td>0</td>\n",
       "      <td>0</td>\n",
       "      <td>F</td>\n",
       "      <td>сотрудник</td>\n",
       "      <td>0</td>\n",
       "      <td>253875</td>\n",
       "      <td>покупка жилья</td>\n",
       "    </tr>\n",
       "    <tr>\n",
       "      <th>1</th>\n",
       "      <td>1</td>\n",
       "      <td>11.180010</td>\n",
       "      <td>36.0</td>\n",
       "      <td>1</td>\n",
       "      <td>0</td>\n",
       "      <td>F</td>\n",
       "      <td>сотрудник</td>\n",
       "      <td>0</td>\n",
       "      <td>112080</td>\n",
       "      <td>приобретение автомобиля</td>\n",
       "    </tr>\n",
       "    <tr>\n",
       "      <th>2</th>\n",
       "      <td>0</td>\n",
       "      <td>15.620618</td>\n",
       "      <td>33.0</td>\n",
       "      <td>1</td>\n",
       "      <td>0</td>\n",
       "      <td>M</td>\n",
       "      <td>сотрудник</td>\n",
       "      <td>0</td>\n",
       "      <td>145885</td>\n",
       "      <td>покупка жилья</td>\n",
       "    </tr>\n",
       "    <tr>\n",
       "      <th>3</th>\n",
       "      <td>3</td>\n",
       "      <td>11.457631</td>\n",
       "      <td>32.0</td>\n",
       "      <td>1</td>\n",
       "      <td>0</td>\n",
       "      <td>M</td>\n",
       "      <td>сотрудник</td>\n",
       "      <td>0</td>\n",
       "      <td>267628</td>\n",
       "      <td>дополнительное образование</td>\n",
       "    </tr>\n",
       "    <tr>\n",
       "      <th>4</th>\n",
       "      <td>0</td>\n",
       "      <td>6.095057</td>\n",
       "      <td>53.0</td>\n",
       "      <td>1</td>\n",
       "      <td>1</td>\n",
       "      <td>F</td>\n",
       "      <td>пенсионер</td>\n",
       "      <td>0</td>\n",
       "      <td>158616</td>\n",
       "      <td>сыграть свадьбу</td>\n",
       "    </tr>\n",
       "    <tr>\n",
       "      <th>...</th>\n",
       "      <td>...</td>\n",
       "      <td>...</td>\n",
       "      <td>...</td>\n",
       "      <td>...</td>\n",
       "      <td>...</td>\n",
       "      <td>...</td>\n",
       "      <td>...</td>\n",
       "      <td>...</td>\n",
       "      <td>...</td>\n",
       "      <td>...</td>\n",
       "    </tr>\n",
       "    <tr>\n",
       "      <th>21326</th>\n",
       "      <td>1</td>\n",
       "      <td>12.581435</td>\n",
       "      <td>43.0</td>\n",
       "      <td>1</td>\n",
       "      <td>1</td>\n",
       "      <td>F</td>\n",
       "      <td>компаньон</td>\n",
       "      <td>0</td>\n",
       "      <td>224791</td>\n",
       "      <td>операции с жильем</td>\n",
       "    </tr>\n",
       "    <tr>\n",
       "      <th>21327</th>\n",
       "      <td>0</td>\n",
       "      <td>6.095057</td>\n",
       "      <td>67.0</td>\n",
       "      <td>1</td>\n",
       "      <td>0</td>\n",
       "      <td>F</td>\n",
       "      <td>пенсионер</td>\n",
       "      <td>0</td>\n",
       "      <td>155999</td>\n",
       "      <td>сделка с автомобилем</td>\n",
       "    </tr>\n",
       "    <tr>\n",
       "      <th>21328</th>\n",
       "      <td>1</td>\n",
       "      <td>5.870408</td>\n",
       "      <td>38.0</td>\n",
       "      <td>1</td>\n",
       "      <td>1</td>\n",
       "      <td>M</td>\n",
       "      <td>сотрудник</td>\n",
       "      <td>1</td>\n",
       "      <td>89672</td>\n",
       "      <td>недвижимость</td>\n",
       "    </tr>\n",
       "    <tr>\n",
       "      <th>21329</th>\n",
       "      <td>3</td>\n",
       "      <td>8.645783</td>\n",
       "      <td>38.0</td>\n",
       "      <td>1</td>\n",
       "      <td>0</td>\n",
       "      <td>M</td>\n",
       "      <td>сотрудник</td>\n",
       "      <td>1</td>\n",
       "      <td>244093</td>\n",
       "      <td>на покупку своего автомобиля</td>\n",
       "    </tr>\n",
       "    <tr>\n",
       "      <th>21330</th>\n",
       "      <td>2</td>\n",
       "      <td>5.512521</td>\n",
       "      <td>40.0</td>\n",
       "      <td>1</td>\n",
       "      <td>0</td>\n",
       "      <td>F</td>\n",
       "      <td>сотрудник</td>\n",
       "      <td>0</td>\n",
       "      <td>82047</td>\n",
       "      <td>на покупку автомобиля</td>\n",
       "    </tr>\n",
       "  </tbody>\n",
       "</table>\n",
       "<p>21331 rows × 10 columns</p>\n",
       "</div>"
      ],
      "text/plain": [
       "       children  days_employed  dob_years  education_id  family_status_id  \\\n",
       "0             1      23.437981       42.0             0                 0   \n",
       "1             1      11.180010       36.0             1                 0   \n",
       "2             0      15.620618       33.0             1                 0   \n",
       "3             3      11.457631       32.0             1                 0   \n",
       "4             0       6.095057       53.0             1                 1   \n",
       "...         ...            ...        ...           ...               ...   \n",
       "21326         1      12.581435       43.0             1                 1   \n",
       "21327         0       6.095057       67.0             1                 0   \n",
       "21328         1       5.870408       38.0             1                 1   \n",
       "21329         3       8.645783       38.0             1                 0   \n",
       "21330         2       5.512521       40.0             1                 0   \n",
       "\n",
       "      gender income_type  debt  total_income                       purpose  \n",
       "0          F   сотрудник     0        253875                 покупка жилья  \n",
       "1          F   сотрудник     0        112080       приобретение автомобиля  \n",
       "2          M   сотрудник     0        145885                 покупка жилья  \n",
       "3          M   сотрудник     0        267628    дополнительное образование  \n",
       "4          F   пенсионер     0        158616               сыграть свадьбу  \n",
       "...      ...         ...   ...           ...                           ...  \n",
       "21326      F   компаньон     0        224791             операции с жильем  \n",
       "21327      F   пенсионер     0        155999          сделка с автомобилем  \n",
       "21328      M   сотрудник     1         89672                  недвижимость  \n",
       "21329      M   сотрудник     1        244093  на покупку своего автомобиля  \n",
       "21330      F   сотрудник     0         82047         на покупку автомобиля  \n",
       "\n",
       "[21331 rows x 10 columns]"
      ]
     },
     "execution_count": 32,
     "metadata": {},
     "output_type": "execute_result"
    }
   ],
   "source": [
    "#удаление из исходного датафрейма колонок \"education\" и \"family_status\"\n",
    "df = df.drop(['education'], inplace=False, axis=1)\n",
    "df = df.drop(['family_status'], inplace=False, axis=1)\n",
    "df"
   ]
  },
  {
   "cell_type": "markdown",
   "id": "31153a34",
   "metadata": {},
   "source": [
    "<font color=\"green\">Комментарий ревьювера   \n",
    "✔️ Все хорошо.</font>"
   ]
  },
  {
   "cell_type": "markdown",
   "id": "f6bdad26",
   "metadata": {},
   "source": [
    "### Категоризация дохода."
   ]
  },
  {
   "cell_type": "code",
   "execution_count": 33,
   "id": "371180f1",
   "metadata": {},
   "outputs": [],
   "source": [
    "#создам функцию категоризации доходов\n",
    "def income_group(income):\n",
    "    if 30000 >= income:\n",
    "        return 'E'\n",
    "    if 50000 >= income >= 30001:\n",
    "        return 'D'\n",
    "    if 200000 >= income >= 50001:\n",
    "        return 'C'\n",
    "    if 1000000 >= income >= 200001:\n",
    "        return 'B'\n",
    "    return 'A'\n",
    "    "
   ]
  },
  {
   "cell_type": "code",
   "execution_count": 34,
   "id": "4d838db0",
   "metadata": {},
   "outputs": [
    {
     "data": {
      "text/html": [
       "<div>\n",
       "<style scoped>\n",
       "    .dataframe tbody tr th:only-of-type {\n",
       "        vertical-align: middle;\n",
       "    }\n",
       "\n",
       "    .dataframe tbody tr th {\n",
       "        vertical-align: top;\n",
       "    }\n",
       "\n",
       "    .dataframe thead th {\n",
       "        text-align: right;\n",
       "    }\n",
       "</style>\n",
       "<table border=\"1\" class=\"dataframe\">\n",
       "  <thead>\n",
       "    <tr style=\"text-align: right;\">\n",
       "      <th></th>\n",
       "      <th>children</th>\n",
       "      <th>days_employed</th>\n",
       "      <th>dob_years</th>\n",
       "      <th>education_id</th>\n",
       "      <th>family_status_id</th>\n",
       "      <th>gender</th>\n",
       "      <th>income_type</th>\n",
       "      <th>debt</th>\n",
       "      <th>total_income</th>\n",
       "      <th>purpose</th>\n",
       "      <th>total_income_category</th>\n",
       "    </tr>\n",
       "  </thead>\n",
       "  <tbody>\n",
       "    <tr>\n",
       "      <th>0</th>\n",
       "      <td>1</td>\n",
       "      <td>23.437981</td>\n",
       "      <td>42.0</td>\n",
       "      <td>0</td>\n",
       "      <td>0</td>\n",
       "      <td>F</td>\n",
       "      <td>сотрудник</td>\n",
       "      <td>0</td>\n",
       "      <td>253875</td>\n",
       "      <td>покупка жилья</td>\n",
       "      <td>B</td>\n",
       "    </tr>\n",
       "    <tr>\n",
       "      <th>1</th>\n",
       "      <td>1</td>\n",
       "      <td>11.180010</td>\n",
       "      <td>36.0</td>\n",
       "      <td>1</td>\n",
       "      <td>0</td>\n",
       "      <td>F</td>\n",
       "      <td>сотрудник</td>\n",
       "      <td>0</td>\n",
       "      <td>112080</td>\n",
       "      <td>приобретение автомобиля</td>\n",
       "      <td>C</td>\n",
       "    </tr>\n",
       "    <tr>\n",
       "      <th>2</th>\n",
       "      <td>0</td>\n",
       "      <td>15.620618</td>\n",
       "      <td>33.0</td>\n",
       "      <td>1</td>\n",
       "      <td>0</td>\n",
       "      <td>M</td>\n",
       "      <td>сотрудник</td>\n",
       "      <td>0</td>\n",
       "      <td>145885</td>\n",
       "      <td>покупка жилья</td>\n",
       "      <td>C</td>\n",
       "    </tr>\n",
       "    <tr>\n",
       "      <th>3</th>\n",
       "      <td>3</td>\n",
       "      <td>11.457631</td>\n",
       "      <td>32.0</td>\n",
       "      <td>1</td>\n",
       "      <td>0</td>\n",
       "      <td>M</td>\n",
       "      <td>сотрудник</td>\n",
       "      <td>0</td>\n",
       "      <td>267628</td>\n",
       "      <td>дополнительное образование</td>\n",
       "      <td>B</td>\n",
       "    </tr>\n",
       "    <tr>\n",
       "      <th>4</th>\n",
       "      <td>0</td>\n",
       "      <td>6.095057</td>\n",
       "      <td>53.0</td>\n",
       "      <td>1</td>\n",
       "      <td>1</td>\n",
       "      <td>F</td>\n",
       "      <td>пенсионер</td>\n",
       "      <td>0</td>\n",
       "      <td>158616</td>\n",
       "      <td>сыграть свадьбу</td>\n",
       "      <td>C</td>\n",
       "    </tr>\n",
       "    <tr>\n",
       "      <th>...</th>\n",
       "      <td>...</td>\n",
       "      <td>...</td>\n",
       "      <td>...</td>\n",
       "      <td>...</td>\n",
       "      <td>...</td>\n",
       "      <td>...</td>\n",
       "      <td>...</td>\n",
       "      <td>...</td>\n",
       "      <td>...</td>\n",
       "      <td>...</td>\n",
       "      <td>...</td>\n",
       "    </tr>\n",
       "    <tr>\n",
       "      <th>21326</th>\n",
       "      <td>1</td>\n",
       "      <td>12.581435</td>\n",
       "      <td>43.0</td>\n",
       "      <td>1</td>\n",
       "      <td>1</td>\n",
       "      <td>F</td>\n",
       "      <td>компаньон</td>\n",
       "      <td>0</td>\n",
       "      <td>224791</td>\n",
       "      <td>операции с жильем</td>\n",
       "      <td>B</td>\n",
       "    </tr>\n",
       "    <tr>\n",
       "      <th>21327</th>\n",
       "      <td>0</td>\n",
       "      <td>6.095057</td>\n",
       "      <td>67.0</td>\n",
       "      <td>1</td>\n",
       "      <td>0</td>\n",
       "      <td>F</td>\n",
       "      <td>пенсионер</td>\n",
       "      <td>0</td>\n",
       "      <td>155999</td>\n",
       "      <td>сделка с автомобилем</td>\n",
       "      <td>C</td>\n",
       "    </tr>\n",
       "    <tr>\n",
       "      <th>21328</th>\n",
       "      <td>1</td>\n",
       "      <td>5.870408</td>\n",
       "      <td>38.0</td>\n",
       "      <td>1</td>\n",
       "      <td>1</td>\n",
       "      <td>M</td>\n",
       "      <td>сотрудник</td>\n",
       "      <td>1</td>\n",
       "      <td>89672</td>\n",
       "      <td>недвижимость</td>\n",
       "      <td>C</td>\n",
       "    </tr>\n",
       "    <tr>\n",
       "      <th>21329</th>\n",
       "      <td>3</td>\n",
       "      <td>8.645783</td>\n",
       "      <td>38.0</td>\n",
       "      <td>1</td>\n",
       "      <td>0</td>\n",
       "      <td>M</td>\n",
       "      <td>сотрудник</td>\n",
       "      <td>1</td>\n",
       "      <td>244093</td>\n",
       "      <td>на покупку своего автомобиля</td>\n",
       "      <td>B</td>\n",
       "    </tr>\n",
       "    <tr>\n",
       "      <th>21330</th>\n",
       "      <td>2</td>\n",
       "      <td>5.512521</td>\n",
       "      <td>40.0</td>\n",
       "      <td>1</td>\n",
       "      <td>0</td>\n",
       "      <td>F</td>\n",
       "      <td>сотрудник</td>\n",
       "      <td>0</td>\n",
       "      <td>82047</td>\n",
       "      <td>на покупку автомобиля</td>\n",
       "      <td>C</td>\n",
       "    </tr>\n",
       "  </tbody>\n",
       "</table>\n",
       "<p>21331 rows × 11 columns</p>\n",
       "</div>"
      ],
      "text/plain": [
       "       children  days_employed  dob_years  education_id  family_status_id  \\\n",
       "0             1      23.437981       42.0             0                 0   \n",
       "1             1      11.180010       36.0             1                 0   \n",
       "2             0      15.620618       33.0             1                 0   \n",
       "3             3      11.457631       32.0             1                 0   \n",
       "4             0       6.095057       53.0             1                 1   \n",
       "...         ...            ...        ...           ...               ...   \n",
       "21326         1      12.581435       43.0             1                 1   \n",
       "21327         0       6.095057       67.0             1                 0   \n",
       "21328         1       5.870408       38.0             1                 1   \n",
       "21329         3       8.645783       38.0             1                 0   \n",
       "21330         2       5.512521       40.0             1                 0   \n",
       "\n",
       "      gender income_type  debt  total_income                       purpose  \\\n",
       "0          F   сотрудник     0        253875                 покупка жилья   \n",
       "1          F   сотрудник     0        112080       приобретение автомобиля   \n",
       "2          M   сотрудник     0        145885                 покупка жилья   \n",
       "3          M   сотрудник     0        267628    дополнительное образование   \n",
       "4          F   пенсионер     0        158616               сыграть свадьбу   \n",
       "...      ...         ...   ...           ...                           ...   \n",
       "21326      F   компаньон     0        224791             операции с жильем   \n",
       "21327      F   пенсионер     0        155999          сделка с автомобилем   \n",
       "21328      M   сотрудник     1         89672                  недвижимость   \n",
       "21329      M   сотрудник     1        244093  на покупку своего автомобиля   \n",
       "21330      F   сотрудник     0         82047         на покупку автомобиля   \n",
       "\n",
       "      total_income_category  \n",
       "0                         B  \n",
       "1                         C  \n",
       "2                         C  \n",
       "3                         B  \n",
       "4                         C  \n",
       "...                     ...  \n",
       "21326                     B  \n",
       "21327                     C  \n",
       "21328                     C  \n",
       "21329                     B  \n",
       "21330                     C  \n",
       "\n",
       "[21331 rows x 11 columns]"
      ]
     },
     "execution_count": 34,
     "metadata": {},
     "output_type": "execute_result"
    }
   ],
   "source": [
    "#создаю новый столбец с категориями\n",
    "df['total_income_category'] = df['total_income'].apply(income_group)\n",
    "df"
   ]
  },
  {
   "cell_type": "markdown",
   "id": "96ea9e40",
   "metadata": {},
   "source": [
    "<font color=\"green\">Комментарий ревьювера   \n",
    "✔️ Все верно</font>"
   ]
  },
  {
   "cell_type": "markdown",
   "id": "e73994db",
   "metadata": {},
   "source": [
    "### Категоризация целей кредита."
   ]
  },
  {
   "cell_type": "code",
   "execution_count": 35,
   "id": "e20b6c2c",
   "metadata": {},
   "outputs": [
    {
     "data": {
      "text/plain": [
       "свадьба                                   790\n",
       "на проведение свадьбы                     763\n",
       "сыграть свадьбу                           760\n",
       "операции с недвижимостью                  672\n",
       "покупка коммерческой недвижимости         658\n",
       "покупка жилья для сдачи                   649\n",
       "операции с жильем                         647\n",
       "операции с коммерческой недвижимостью     645\n",
       "жилье                                     641\n",
       "покупка жилья                             640\n",
       "покупка жилья для семьи                   637\n",
       "недвижимость                              631\n",
       "строительство собственной недвижимости    628\n",
       "операции со своей недвижимостью           623\n",
       "строительство жилой недвижимости          620\n",
       "покупка своего жилья                      619\n",
       "строительство недвижимости                619\n",
       "покупка недвижимости                      616\n",
       "ремонт жилью                              604\n",
       "покупка жилой недвижимости                602\n",
       "на покупку своего автомобиля              504\n",
       "заняться высшим образованием              496\n",
       "автомобиль                                491\n",
       "сделка с подержанным автомобилем          481\n",
       "автомобили                                476\n",
       "свой автомобиль                           473\n",
       "на покупку подержанного автомобиля        471\n",
       "на покупку автомобиля                     469\n",
       "приобретение автомобиля                   459\n",
       "дополнительное образование                455\n",
       "сделка с автомобилем                      455\n",
       "высшее образование                        446\n",
       "получение дополнительного образования     444\n",
       "образование                               442\n",
       "получение образования                     440\n",
       "профильное образование                    432\n",
       "получение высшего образования             425\n",
       "заняться образованием                     408\n",
       "Name: purpose, dtype: int64"
      ]
     },
     "execution_count": 35,
     "metadata": {},
     "output_type": "execute_result"
    }
   ],
   "source": [
    "#проверим уникальные значения в столбце \"purpose\"\n",
    "df['purpose'].value_counts()"
   ]
  },
  {
   "cell_type": "code",
   "execution_count": 36,
   "id": "9c35d5e7",
   "metadata": {},
   "outputs": [],
   "source": [
    "#напишем функцию по категоризации целей\n",
    "def purpose_group(purpose):\n",
    "    if 'образован' in purpose:\n",
    "        return 'получение образования'\n",
    "    if 'авто' in purpose:\n",
    "        return 'операции с автомобилем'\n",
    "    if 'свадь' in purpose:\n",
    "        return 'проведение свадьбы'\n",
    "    return 'операции с недвижимостью'"
   ]
  },
  {
   "cell_type": "code",
   "execution_count": 37,
   "id": "2dc5282d",
   "metadata": {},
   "outputs": [
    {
     "data": {
      "text/html": [
       "<div>\n",
       "<style scoped>\n",
       "    .dataframe tbody tr th:only-of-type {\n",
       "        vertical-align: middle;\n",
       "    }\n",
       "\n",
       "    .dataframe tbody tr th {\n",
       "        vertical-align: top;\n",
       "    }\n",
       "\n",
       "    .dataframe thead th {\n",
       "        text-align: right;\n",
       "    }\n",
       "</style>\n",
       "<table border=\"1\" class=\"dataframe\">\n",
       "  <thead>\n",
       "    <tr style=\"text-align: right;\">\n",
       "      <th></th>\n",
       "      <th>children</th>\n",
       "      <th>days_employed</th>\n",
       "      <th>dob_years</th>\n",
       "      <th>education_id</th>\n",
       "      <th>family_status_id</th>\n",
       "      <th>gender</th>\n",
       "      <th>income_type</th>\n",
       "      <th>debt</th>\n",
       "      <th>total_income</th>\n",
       "      <th>purpose</th>\n",
       "      <th>total_income_category</th>\n",
       "      <th>purpose_category</th>\n",
       "    </tr>\n",
       "  </thead>\n",
       "  <tbody>\n",
       "    <tr>\n",
       "      <th>0</th>\n",
       "      <td>1</td>\n",
       "      <td>23.437981</td>\n",
       "      <td>42.0</td>\n",
       "      <td>0</td>\n",
       "      <td>0</td>\n",
       "      <td>F</td>\n",
       "      <td>сотрудник</td>\n",
       "      <td>0</td>\n",
       "      <td>253875</td>\n",
       "      <td>покупка жилья</td>\n",
       "      <td>B</td>\n",
       "      <td>операции с недвижимостью</td>\n",
       "    </tr>\n",
       "    <tr>\n",
       "      <th>1</th>\n",
       "      <td>1</td>\n",
       "      <td>11.180010</td>\n",
       "      <td>36.0</td>\n",
       "      <td>1</td>\n",
       "      <td>0</td>\n",
       "      <td>F</td>\n",
       "      <td>сотрудник</td>\n",
       "      <td>0</td>\n",
       "      <td>112080</td>\n",
       "      <td>приобретение автомобиля</td>\n",
       "      <td>C</td>\n",
       "      <td>операции с автомобилем</td>\n",
       "    </tr>\n",
       "    <tr>\n",
       "      <th>2</th>\n",
       "      <td>0</td>\n",
       "      <td>15.620618</td>\n",
       "      <td>33.0</td>\n",
       "      <td>1</td>\n",
       "      <td>0</td>\n",
       "      <td>M</td>\n",
       "      <td>сотрудник</td>\n",
       "      <td>0</td>\n",
       "      <td>145885</td>\n",
       "      <td>покупка жилья</td>\n",
       "      <td>C</td>\n",
       "      <td>операции с недвижимостью</td>\n",
       "    </tr>\n",
       "    <tr>\n",
       "      <th>3</th>\n",
       "      <td>3</td>\n",
       "      <td>11.457631</td>\n",
       "      <td>32.0</td>\n",
       "      <td>1</td>\n",
       "      <td>0</td>\n",
       "      <td>M</td>\n",
       "      <td>сотрудник</td>\n",
       "      <td>0</td>\n",
       "      <td>267628</td>\n",
       "      <td>дополнительное образование</td>\n",
       "      <td>B</td>\n",
       "      <td>получение образования</td>\n",
       "    </tr>\n",
       "    <tr>\n",
       "      <th>4</th>\n",
       "      <td>0</td>\n",
       "      <td>6.095057</td>\n",
       "      <td>53.0</td>\n",
       "      <td>1</td>\n",
       "      <td>1</td>\n",
       "      <td>F</td>\n",
       "      <td>пенсионер</td>\n",
       "      <td>0</td>\n",
       "      <td>158616</td>\n",
       "      <td>сыграть свадьбу</td>\n",
       "      <td>C</td>\n",
       "      <td>проведение свадьбы</td>\n",
       "    </tr>\n",
       "    <tr>\n",
       "      <th>...</th>\n",
       "      <td>...</td>\n",
       "      <td>...</td>\n",
       "      <td>...</td>\n",
       "      <td>...</td>\n",
       "      <td>...</td>\n",
       "      <td>...</td>\n",
       "      <td>...</td>\n",
       "      <td>...</td>\n",
       "      <td>...</td>\n",
       "      <td>...</td>\n",
       "      <td>...</td>\n",
       "      <td>...</td>\n",
       "    </tr>\n",
       "    <tr>\n",
       "      <th>21326</th>\n",
       "      <td>1</td>\n",
       "      <td>12.581435</td>\n",
       "      <td>43.0</td>\n",
       "      <td>1</td>\n",
       "      <td>1</td>\n",
       "      <td>F</td>\n",
       "      <td>компаньон</td>\n",
       "      <td>0</td>\n",
       "      <td>224791</td>\n",
       "      <td>операции с жильем</td>\n",
       "      <td>B</td>\n",
       "      <td>операции с недвижимостью</td>\n",
       "    </tr>\n",
       "    <tr>\n",
       "      <th>21327</th>\n",
       "      <td>0</td>\n",
       "      <td>6.095057</td>\n",
       "      <td>67.0</td>\n",
       "      <td>1</td>\n",
       "      <td>0</td>\n",
       "      <td>F</td>\n",
       "      <td>пенсионер</td>\n",
       "      <td>0</td>\n",
       "      <td>155999</td>\n",
       "      <td>сделка с автомобилем</td>\n",
       "      <td>C</td>\n",
       "      <td>операции с автомобилем</td>\n",
       "    </tr>\n",
       "    <tr>\n",
       "      <th>21328</th>\n",
       "      <td>1</td>\n",
       "      <td>5.870408</td>\n",
       "      <td>38.0</td>\n",
       "      <td>1</td>\n",
       "      <td>1</td>\n",
       "      <td>M</td>\n",
       "      <td>сотрудник</td>\n",
       "      <td>1</td>\n",
       "      <td>89672</td>\n",
       "      <td>недвижимость</td>\n",
       "      <td>C</td>\n",
       "      <td>операции с недвижимостью</td>\n",
       "    </tr>\n",
       "    <tr>\n",
       "      <th>21329</th>\n",
       "      <td>3</td>\n",
       "      <td>8.645783</td>\n",
       "      <td>38.0</td>\n",
       "      <td>1</td>\n",
       "      <td>0</td>\n",
       "      <td>M</td>\n",
       "      <td>сотрудник</td>\n",
       "      <td>1</td>\n",
       "      <td>244093</td>\n",
       "      <td>на покупку своего автомобиля</td>\n",
       "      <td>B</td>\n",
       "      <td>операции с автомобилем</td>\n",
       "    </tr>\n",
       "    <tr>\n",
       "      <th>21330</th>\n",
       "      <td>2</td>\n",
       "      <td>5.512521</td>\n",
       "      <td>40.0</td>\n",
       "      <td>1</td>\n",
       "      <td>0</td>\n",
       "      <td>F</td>\n",
       "      <td>сотрудник</td>\n",
       "      <td>0</td>\n",
       "      <td>82047</td>\n",
       "      <td>на покупку автомобиля</td>\n",
       "      <td>C</td>\n",
       "      <td>операции с автомобилем</td>\n",
       "    </tr>\n",
       "  </tbody>\n",
       "</table>\n",
       "<p>21331 rows × 12 columns</p>\n",
       "</div>"
      ],
      "text/plain": [
       "       children  days_employed  dob_years  education_id  family_status_id  \\\n",
       "0             1      23.437981       42.0             0                 0   \n",
       "1             1      11.180010       36.0             1                 0   \n",
       "2             0      15.620618       33.0             1                 0   \n",
       "3             3      11.457631       32.0             1                 0   \n",
       "4             0       6.095057       53.0             1                 1   \n",
       "...         ...            ...        ...           ...               ...   \n",
       "21326         1      12.581435       43.0             1                 1   \n",
       "21327         0       6.095057       67.0             1                 0   \n",
       "21328         1       5.870408       38.0             1                 1   \n",
       "21329         3       8.645783       38.0             1                 0   \n",
       "21330         2       5.512521       40.0             1                 0   \n",
       "\n",
       "      gender income_type  debt  total_income                       purpose  \\\n",
       "0          F   сотрудник     0        253875                 покупка жилья   \n",
       "1          F   сотрудник     0        112080       приобретение автомобиля   \n",
       "2          M   сотрудник     0        145885                 покупка жилья   \n",
       "3          M   сотрудник     0        267628    дополнительное образование   \n",
       "4          F   пенсионер     0        158616               сыграть свадьбу   \n",
       "...      ...         ...   ...           ...                           ...   \n",
       "21326      F   компаньон     0        224791             операции с жильем   \n",
       "21327      F   пенсионер     0        155999          сделка с автомобилем   \n",
       "21328      M   сотрудник     1         89672                  недвижимость   \n",
       "21329      M   сотрудник     1        244093  на покупку своего автомобиля   \n",
       "21330      F   сотрудник     0         82047         на покупку автомобиля   \n",
       "\n",
       "      total_income_category          purpose_category  \n",
       "0                         B  операции с недвижимостью  \n",
       "1                         C    операции с автомобилем  \n",
       "2                         C  операции с недвижимостью  \n",
       "3                         B     получение образования  \n",
       "4                         C        проведение свадьбы  \n",
       "...                     ...                       ...  \n",
       "21326                     B  операции с недвижимостью  \n",
       "21327                     C    операции с автомобилем  \n",
       "21328                     C  операции с недвижимостью  \n",
       "21329                     B    операции с автомобилем  \n",
       "21330                     C    операции с автомобилем  \n",
       "\n",
       "[21331 rows x 12 columns]"
      ]
     },
     "execution_count": 37,
     "metadata": {},
     "output_type": "execute_result"
    }
   ],
   "source": [
    "#формируем новый столбец 'purpose_category'\n",
    "df['purpose_category'] = df['purpose'].apply(purpose_group)\n",
    "df"
   ]
  },
  {
   "cell_type": "markdown",
   "id": "f47c9f0e",
   "metadata": {},
   "source": [
    "<font color=\"green\">Комментарий ревьювера   \n",
    "✔️ Все верно!</font>"
   ]
  },
  {
   "cell_type": "markdown",
   "id": "90f8f8c9",
   "metadata": {},
   "source": [
    "## Ответы на вопросы."
   ]
  },
  {
   "cell_type": "markdown",
   "id": "9a0d2437",
   "metadata": {},
   "source": [
    "### Вопрос 1: Есть ли зависимость между количеством детей и возвратом кредита в срок?"
   ]
  },
  {
   "cell_type": "code",
   "execution_count": 38,
   "id": "22cb0f4a",
   "metadata": {},
   "outputs": [
    {
     "data": {
      "text/html": [
       "<div>\n",
       "<style scoped>\n",
       "    .dataframe tbody tr th:only-of-type {\n",
       "        vertical-align: middle;\n",
       "    }\n",
       "\n",
       "    .dataframe tbody tr th {\n",
       "        vertical-align: top;\n",
       "    }\n",
       "\n",
       "    .dataframe thead th {\n",
       "        text-align: right;\n",
       "    }\n",
       "</style>\n",
       "<table border=\"1\" class=\"dataframe\">\n",
       "  <thead>\n",
       "    <tr style=\"text-align: right;\">\n",
       "      <th>debt</th>\n",
       "      <th>0</th>\n",
       "      <th>1</th>\n",
       "      <th>ratio</th>\n",
       "    </tr>\n",
       "    <tr>\n",
       "      <th>children</th>\n",
       "      <th></th>\n",
       "      <th></th>\n",
       "      <th></th>\n",
       "    </tr>\n",
       "  </thead>\n",
       "  <tbody>\n",
       "    <tr>\n",
       "      <th>0</th>\n",
       "      <td>13028.0</td>\n",
       "      <td>1063.0</td>\n",
       "      <td>8.159349</td>\n",
       "    </tr>\n",
       "    <tr>\n",
       "      <th>1</th>\n",
       "      <td>4364.0</td>\n",
       "      <td>444.0</td>\n",
       "      <td>10.174152</td>\n",
       "    </tr>\n",
       "    <tr>\n",
       "      <th>2</th>\n",
       "      <td>1858.0</td>\n",
       "      <td>194.0</td>\n",
       "      <td>10.441335</td>\n",
       "    </tr>\n",
       "    <tr>\n",
       "      <th>3</th>\n",
       "      <td>303.0</td>\n",
       "      <td>27.0</td>\n",
       "      <td>8.910891</td>\n",
       "    </tr>\n",
       "    <tr>\n",
       "      <th>4</th>\n",
       "      <td>37.0</td>\n",
       "      <td>4.0</td>\n",
       "      <td>10.810811</td>\n",
       "    </tr>\n",
       "    <tr>\n",
       "      <th>5</th>\n",
       "      <td>9.0</td>\n",
       "      <td>NaN</td>\n",
       "      <td>NaN</td>\n",
       "    </tr>\n",
       "  </tbody>\n",
       "</table>\n",
       "</div>"
      ],
      "text/plain": [
       "debt            0       1      ratio\n",
       "children                            \n",
       "0         13028.0  1063.0   8.159349\n",
       "1          4364.0   444.0  10.174152\n",
       "2          1858.0   194.0  10.441335\n",
       "3           303.0    27.0   8.910891\n",
       "4            37.0     4.0  10.810811\n",
       "5             9.0     NaN        NaN"
      ]
     },
     "execution_count": 38,
     "metadata": {},
     "output_type": "execute_result"
    }
   ],
   "source": [
    "children_pivot = df.pivot_table(index = ['children'], \\\n",
    "                                columns = ['debt'], \\\n",
    "                                values = 'purpose', aggfunc='count')\n",
    "\n",
    "children_pivot['ratio'] = children_pivot[1] / children_pivot[0] * 100\n",
    "children_pivot"
   ]
  },
  {
   "cell_type": "markdown",
   "id": "33438243",
   "metadata": {},
   "source": [
    "<font color=\"orange\">Комментарий ревьвюера   \n",
    "⚠️ Если в aggfunc() добавить 'mean', то можно избавиться от второй строчки :)</font>"
   ]
  },
  {
   "cell_type": "markdown",
   "id": "8e8a876d",
   "metadata": {},
   "source": [
    "**Вывод: люди с детьми или без отдают кредиты примерно на одном и том же уровне**"
   ]
  },
  {
   "cell_type": "markdown",
   "id": "a1f4982c",
   "metadata": {},
   "source": [
    "### Вопрос 2: Есть ли зависимость между семейным положением и возвратом кредита в срок?"
   ]
  },
  {
   "cell_type": "code",
   "execution_count": 39,
   "id": "3148c678",
   "metadata": {},
   "outputs": [
    {
     "data": {
      "text/html": [
       "<div>\n",
       "<style scoped>\n",
       "    .dataframe tbody tr th:only-of-type {\n",
       "        vertical-align: middle;\n",
       "    }\n",
       "\n",
       "    .dataframe tbody tr th {\n",
       "        vertical-align: top;\n",
       "    }\n",
       "\n",
       "    .dataframe thead th {\n",
       "        text-align: right;\n",
       "    }\n",
       "</style>\n",
       "<table border=\"1\" class=\"dataframe\">\n",
       "  <thead>\n",
       "    <tr style=\"text-align: right;\">\n",
       "      <th>debt</th>\n",
       "      <th>0</th>\n",
       "      <th>1</th>\n",
       "      <th>ratio</th>\n",
       "      <th>family_status</th>\n",
       "    </tr>\n",
       "    <tr>\n",
       "      <th>family_status_id</th>\n",
       "      <th></th>\n",
       "      <th></th>\n",
       "      <th></th>\n",
       "      <th></th>\n",
       "    </tr>\n",
       "  </thead>\n",
       "  <tbody>\n",
       "    <tr>\n",
       "      <th>0</th>\n",
       "      <td>11334</td>\n",
       "      <td>927</td>\n",
       "      <td>8.178931</td>\n",
       "      <td>женат / замужем</td>\n",
       "    </tr>\n",
       "    <tr>\n",
       "      <th>1</th>\n",
       "      <td>3749</td>\n",
       "      <td>385</td>\n",
       "      <td>10.269405</td>\n",
       "      <td>гражданский брак</td>\n",
       "    </tr>\n",
       "    <tr>\n",
       "      <th>2</th>\n",
       "      <td>888</td>\n",
       "      <td>63</td>\n",
       "      <td>7.094595</td>\n",
       "      <td>вдовец / вдова</td>\n",
       "    </tr>\n",
       "    <tr>\n",
       "      <th>3</th>\n",
       "      <td>1105</td>\n",
       "      <td>84</td>\n",
       "      <td>7.601810</td>\n",
       "      <td>в разводе</td>\n",
       "    </tr>\n",
       "    <tr>\n",
       "      <th>4</th>\n",
       "      <td>2523</td>\n",
       "      <td>273</td>\n",
       "      <td>10.820452</td>\n",
       "      <td>не женат / не замужем</td>\n",
       "    </tr>\n",
       "  </tbody>\n",
       "</table>\n",
       "</div>"
      ],
      "text/plain": [
       "debt                  0    1      ratio          family_status\n",
       "family_status_id                                              \n",
       "0                 11334  927   8.178931        женат / замужем\n",
       "1                  3749  385  10.269405       гражданский брак\n",
       "2                   888   63   7.094595         вдовец / вдова\n",
       "3                  1105   84   7.601810              в разводе\n",
       "4                  2523  273  10.820452  не женат / не замужем"
      ]
     },
     "execution_count": 39,
     "metadata": {},
     "output_type": "execute_result"
    }
   ],
   "source": [
    "family_status_pivot = df.pivot_table(index=['family_status_id'], columns=['debt'], values='total_income', aggfunc='count')\n",
    "family_status_pivot['ratio'] = family_status_pivot[1] / family_status_pivot[0] * 100\n",
    "family_status_pivot['family_status'] = family_status_type['family_status']\n",
    "family_status_pivot"
   ]
  },
  {
   "cell_type": "markdown",
   "id": "5ea13777",
   "metadata": {},
   "source": [
    "**Семейное положение влияет**"
   ]
  },
  {
   "cell_type": "markdown",
   "id": "b2e9a1a4",
   "metadata": {},
   "source": [
    "Самые низкие показатели у разведенных и вдов — можно предположить, что возвращаемость кредитов зависит в том числе от наличия кормильца или супруга в семье."
   ]
  },
  {
   "cell_type": "markdown",
   "id": "f124e33e",
   "metadata": {},
   "source": [
    "### Вопрос 3: Есть ли зависимость между уровнем дохода и возвратом кредита в срок?"
   ]
  },
  {
   "cell_type": "code",
   "execution_count": 40,
   "id": "7859d67e",
   "metadata": {},
   "outputs": [
    {
     "data": {
      "text/html": [
       "<div>\n",
       "<style scoped>\n",
       "    .dataframe tbody tr th:only-of-type {\n",
       "        vertical-align: middle;\n",
       "    }\n",
       "\n",
       "    .dataframe tbody tr th {\n",
       "        vertical-align: top;\n",
       "    }\n",
       "\n",
       "    .dataframe thead th {\n",
       "        text-align: right;\n",
       "    }\n",
       "</style>\n",
       "<table border=\"1\" class=\"dataframe\">\n",
       "  <thead>\n",
       "    <tr style=\"text-align: right;\">\n",
       "      <th>debt</th>\n",
       "      <th>0</th>\n",
       "      <th>1</th>\n",
       "      <th>ratio</th>\n",
       "    </tr>\n",
       "    <tr>\n",
       "      <th>total_income_category</th>\n",
       "      <th></th>\n",
       "      <th></th>\n",
       "      <th></th>\n",
       "    </tr>\n",
       "  </thead>\n",
       "  <tbody>\n",
       "    <tr>\n",
       "      <th>A</th>\n",
       "      <td>23</td>\n",
       "      <td>2</td>\n",
       "      <td>8.695652</td>\n",
       "    </tr>\n",
       "    <tr>\n",
       "      <th>B</th>\n",
       "      <td>4659</td>\n",
       "      <td>354</td>\n",
       "      <td>7.598197</td>\n",
       "    </tr>\n",
       "    <tr>\n",
       "      <th>C</th>\n",
       "      <td>14569</td>\n",
       "      <td>1353</td>\n",
       "      <td>9.286842</td>\n",
       "    </tr>\n",
       "    <tr>\n",
       "      <th>D</th>\n",
       "      <td>328</td>\n",
       "      <td>21</td>\n",
       "      <td>6.402439</td>\n",
       "    </tr>\n",
       "    <tr>\n",
       "      <th>E</th>\n",
       "      <td>20</td>\n",
       "      <td>2</td>\n",
       "      <td>10.000000</td>\n",
       "    </tr>\n",
       "  </tbody>\n",
       "</table>\n",
       "</div>"
      ],
      "text/plain": [
       "debt                       0     1      ratio\n",
       "total_income_category                        \n",
       "A                         23     2   8.695652\n",
       "B                       4659   354   7.598197\n",
       "C                      14569  1353   9.286842\n",
       "D                        328    21   6.402439\n",
       "E                         20     2  10.000000"
      ]
     },
     "execution_count": 40,
     "metadata": {},
     "output_type": "execute_result"
    }
   ],
   "source": [
    "monthly_income_pivot = df.pivot_table(index=['total_income_category'], columns=['debt'], values='education_id', aggfunc='count')\n",
    "monthly_income_pivot['ratio'] = monthly_income_pivot[1] / monthly_income_pivot[0] * 100\n",
    "monthly_income_pivot"
   ]
  },
  {
   "cell_type": "markdown",
   "id": "3c4e48eb",
   "metadata": {},
   "source": [
    "**Есть незначительная разница в возвращаемости кредитов от уровня доходов**"
   ]
  },
  {
   "cell_type": "markdown",
   "id": "896ccdf1",
   "metadata": {},
   "source": [
    "Хуже всего покатель у людей с низкими доходами, что не удивительно."
   ]
  },
  {
   "cell_type": "markdown",
   "id": "c904fcea",
   "metadata": {},
   "source": [
    "### Вопрос 4: Как разные цели кредита влияют на его возврат в срок?"
   ]
  },
  {
   "cell_type": "code",
   "execution_count": 41,
   "id": "21dd04ee",
   "metadata": {},
   "outputs": [
    {
     "data": {
      "text/html": [
       "<div>\n",
       "<style scoped>\n",
       "    .dataframe tbody tr th:only-of-type {\n",
       "        vertical-align: middle;\n",
       "    }\n",
       "\n",
       "    .dataframe tbody tr th {\n",
       "        vertical-align: top;\n",
       "    }\n",
       "\n",
       "    .dataframe thead th {\n",
       "        text-align: right;\n",
       "    }\n",
       "</style>\n",
       "<table border=\"1\" class=\"dataframe\">\n",
       "  <thead>\n",
       "    <tr style=\"text-align: right;\">\n",
       "      <th>debt</th>\n",
       "      <th>0</th>\n",
       "      <th>1</th>\n",
       "      <th>ratio</th>\n",
       "    </tr>\n",
       "    <tr>\n",
       "      <th>purpose_category</th>\n",
       "      <th></th>\n",
       "      <th></th>\n",
       "      <th></th>\n",
       "    </tr>\n",
       "  </thead>\n",
       "  <tbody>\n",
       "    <tr>\n",
       "      <th>операции с автомобилем</th>\n",
       "      <td>3879</td>\n",
       "      <td>400</td>\n",
       "      <td>10.311936</td>\n",
       "    </tr>\n",
       "    <tr>\n",
       "      <th>операции с недвижимостью</th>\n",
       "      <td>9971</td>\n",
       "      <td>780</td>\n",
       "      <td>7.822686</td>\n",
       "    </tr>\n",
       "    <tr>\n",
       "      <th>получение образования</th>\n",
       "      <td>3619</td>\n",
       "      <td>369</td>\n",
       "      <td>10.196187</td>\n",
       "    </tr>\n",
       "    <tr>\n",
       "      <th>проведение свадьбы</th>\n",
       "      <td>2130</td>\n",
       "      <td>183</td>\n",
       "      <td>8.591549</td>\n",
       "    </tr>\n",
       "  </tbody>\n",
       "</table>\n",
       "</div>"
      ],
      "text/plain": [
       "debt                         0    1      ratio\n",
       "purpose_category                              \n",
       "операции с автомобилем    3879  400  10.311936\n",
       "операции с недвижимостью  9971  780   7.822686\n",
       "получение образования     3619  369  10.196187\n",
       "проведение свадьбы        2130  183   8.591549"
      ]
     },
     "execution_count": 41,
     "metadata": {},
     "output_type": "execute_result"
    }
   ],
   "source": [
    "credit_purpose_pivot = df.pivot_table(index=['purpose_category'], columns=['debt'], values='education_id', aggfunc='count')\n",
    "credit_purpose_pivot['ratio'] = credit_purpose_pivot[1] / credit_purpose_pivot[0] * 100\n",
    "credit_purpose_pivot"
   ]
  },
  {
   "cell_type": "markdown",
   "id": "fe87d39b",
   "metadata": {},
   "source": [
    "В результате группирования по категории цели кредита видим, что количество должников в категориях \"автомобиль\" и \"образование\" выделяется в большую сторону."
   ]
  },
  {
   "cell_type": "markdown",
   "id": "bd9729b8",
   "metadata": {},
   "source": [
    "<font color=\"green\">Комментарий ревьювера   \n",
    "✔️ Все верно, хорошие выводы</font>"
   ]
  },
  {
   "cell_type": "markdown",
   "id": "2b9821d9",
   "metadata": {},
   "source": [
    "## Общий вывод:"
   ]
  },
  {
   "cell_type": "markdown",
   "id": "2fb1fb8e",
   "metadata": {},
   "source": [
    "Есть зависимости между целями кредита, семейным положением, уровнем дохода и количеством детей в семье. Нельзя сказать, что они кардинально отличаются, но 2% на больших числах могут оказать существенное влияние на кредитный портфель банка. Особое внимание следует уделить вдовам/вдовцам или молодоженам — с ними могут риски по невозврату кредитов выше."
   ]
  },
  {
   "cell_type": "markdown",
   "id": "2be12aef",
   "metadata": {},
   "source": [
    "<font color=\"orange\">Комментарий ревьвюера   \n",
    "⚠️ Еще можно посмотреть на более сложные зависмости. Например совместить цель кредита и доход или семейное положение. Разница между группами будет более заметная. Это не сложно сделать с помощью группировки по двум столбцам </font>     \n",
    "    \n",
    "       \n",
    "<font color='blue'>Молодец, очень хороший проект, выполнены все пункты задания. Замечательно, что пишешь выводы после каждого раздела. Есть небольшие замечания, но это ничего страшного, их исправление позволит нам вместе сделать проект лучше и хорошо разобраться в теме. Работа с пропусками, дубликатами не так проста, и это очень пригодится тебе в дальнейшем!</font>"
   ]
  },
  {
   "cell_type": "code",
   "execution_count": null,
   "id": "1a231f90",
   "metadata": {},
   "outputs": [],
   "source": []
  }
 ],
 "metadata": {
  "ExecuteTimeLog": [
   {
    "duration": 321,
    "start_time": "2022-03-10T21:51:54.130Z"
   },
   {
    "duration": 706,
    "start_time": "2022-03-10T21:52:03.084Z"
   },
   {
    "duration": 62,
    "start_time": "2022-03-10T21:52:03.793Z"
   },
   {
    "duration": 31,
    "start_time": "2022-03-10T21:52:03.858Z"
   },
   {
    "duration": 16,
    "start_time": "2022-03-10T21:54:02.341Z"
   },
   {
    "duration": 12,
    "start_time": "2022-03-10T22:04:10.945Z"
   },
   {
    "duration": 240,
    "start_time": "2022-03-11T16:18:12.245Z"
   },
   {
    "duration": 618,
    "start_time": "2022-03-11T16:18:18.971Z"
   },
   {
    "duration": 51,
    "start_time": "2022-03-11T16:18:19.591Z"
   },
   {
    "duration": 23,
    "start_time": "2022-03-11T16:18:19.644Z"
   },
   {
    "duration": 13,
    "start_time": "2022-03-11T16:18:19.669Z"
   },
   {
    "duration": 11,
    "start_time": "2022-03-11T16:18:19.684Z"
   },
   {
    "duration": 22,
    "start_time": "2022-03-11T16:18:19.697Z"
   },
   {
    "duration": 2,
    "start_time": "2022-03-11T16:18:28.846Z"
   },
   {
    "duration": 46,
    "start_time": "2022-03-11T16:18:28.850Z"
   },
   {
    "duration": 14,
    "start_time": "2022-03-11T16:18:28.898Z"
   },
   {
    "duration": 17,
    "start_time": "2022-03-11T16:18:28.914Z"
   },
   {
    "duration": 26,
    "start_time": "2022-03-11T16:18:28.933Z"
   },
   {
    "duration": 4,
    "start_time": "2022-03-11T16:18:28.960Z"
   },
   {
    "duration": 3,
    "start_time": "2022-03-11T16:18:35.728Z"
   },
   {
    "duration": 45,
    "start_time": "2022-03-11T16:18:35.733Z"
   },
   {
    "duration": 13,
    "start_time": "2022-03-11T16:18:35.780Z"
   },
   {
    "duration": 11,
    "start_time": "2022-03-11T16:18:35.795Z"
   },
   {
    "duration": 10,
    "start_time": "2022-03-11T16:18:35.807Z"
   },
   {
    "duration": 46,
    "start_time": "2022-03-11T16:18:35.818Z"
   },
   {
    "duration": 3,
    "start_time": "2022-03-11T16:19:02.128Z"
   },
   {
    "duration": 54,
    "start_time": "2022-03-11T16:19:02.133Z"
   },
   {
    "duration": 12,
    "start_time": "2022-03-11T16:19:02.189Z"
   },
   {
    "duration": 13,
    "start_time": "2022-03-11T16:19:02.203Z"
   },
   {
    "duration": 10,
    "start_time": "2022-03-11T16:19:02.217Z"
   },
   {
    "duration": 34,
    "start_time": "2022-03-11T16:19:02.229Z"
   },
   {
    "duration": 3,
    "start_time": "2022-03-11T16:21:28.389Z"
   },
   {
    "duration": 47,
    "start_time": "2022-03-11T16:21:28.394Z"
   },
   {
    "duration": 13,
    "start_time": "2022-03-11T16:21:28.443Z"
   },
   {
    "duration": 11,
    "start_time": "2022-03-11T16:21:28.458Z"
   },
   {
    "duration": 10,
    "start_time": "2022-03-11T16:21:28.471Z"
   },
   {
    "duration": 21,
    "start_time": "2022-03-11T16:21:28.483Z"
   },
   {
    "duration": 21,
    "start_time": "2022-03-11T16:21:28.506Z"
   },
   {
    "duration": 11,
    "start_time": "2022-03-11T16:21:45.742Z"
   },
   {
    "duration": 13,
    "start_time": "2022-03-11T16:28:51.260Z"
   },
   {
    "duration": 19,
    "start_time": "2022-03-11T16:29:54.733Z"
   },
   {
    "duration": 34,
    "start_time": "2022-03-11T16:32:39.307Z"
   },
   {
    "duration": 8,
    "start_time": "2022-03-11T16:33:23.442Z"
   },
   {
    "duration": 3,
    "start_time": "2022-03-11T16:35:51.208Z"
   },
   {
    "duration": 46,
    "start_time": "2022-03-11T16:35:51.213Z"
   },
   {
    "duration": 13,
    "start_time": "2022-03-11T16:35:51.307Z"
   },
   {
    "duration": 11,
    "start_time": "2022-03-11T16:35:51.322Z"
   },
   {
    "duration": 9,
    "start_time": "2022-03-11T16:35:51.335Z"
   },
   {
    "duration": 21,
    "start_time": "2022-03-11T16:35:51.346Z"
   },
   {
    "duration": 13,
    "start_time": "2022-03-11T16:35:51.369Z"
   },
   {
    "duration": 8,
    "start_time": "2022-03-11T16:36:23.419Z"
   },
   {
    "duration": 3,
    "start_time": "2022-03-11T16:36:29.533Z"
   },
   {
    "duration": 46,
    "start_time": "2022-03-11T16:36:29.538Z"
   },
   {
    "duration": 13,
    "start_time": "2022-03-11T16:36:29.586Z"
   },
   {
    "duration": 12,
    "start_time": "2022-03-11T16:36:29.601Z"
   },
   {
    "duration": 10,
    "start_time": "2022-03-11T16:36:30.142Z"
   },
   {
    "duration": 24,
    "start_time": "2022-03-11T16:36:30.154Z"
   },
   {
    "duration": 25,
    "start_time": "2022-03-11T16:36:30.180Z"
   },
   {
    "duration": 6,
    "start_time": "2022-03-11T16:36:30.211Z"
   },
   {
    "duration": 4,
    "start_time": "2022-03-11T16:39:43.863Z"
   },
   {
    "duration": 2,
    "start_time": "2022-03-11T16:39:47.737Z"
   },
   {
    "duration": 48,
    "start_time": "2022-03-11T16:39:47.741Z"
   },
   {
    "duration": 12,
    "start_time": "2022-03-11T16:39:47.791Z"
   },
   {
    "duration": 11,
    "start_time": "2022-03-11T16:39:47.805Z"
   },
   {
    "duration": 10,
    "start_time": "2022-03-11T16:39:47.818Z"
   },
   {
    "duration": 37,
    "start_time": "2022-03-11T16:39:47.830Z"
   },
   {
    "duration": 4,
    "start_time": "2022-03-11T16:39:47.869Z"
   },
   {
    "duration": 6,
    "start_time": "2022-03-11T16:39:47.874Z"
   },
   {
    "duration": 2,
    "start_time": "2022-03-11T16:39:54.881Z"
   },
   {
    "duration": 43,
    "start_time": "2022-03-11T16:39:54.910Z"
   },
   {
    "duration": 13,
    "start_time": "2022-03-11T16:39:54.955Z"
   },
   {
    "duration": 13,
    "start_time": "2022-03-11T16:39:54.971Z"
   },
   {
    "duration": 11,
    "start_time": "2022-03-11T16:39:54.986Z"
   },
   {
    "duration": 23,
    "start_time": "2022-03-11T16:39:54.999Z"
   },
   {
    "duration": 53,
    "start_time": "2022-03-11T16:39:55.024Z"
   },
   {
    "duration": 3,
    "start_time": "2022-03-11T16:40:23.942Z"
   },
   {
    "duration": 49,
    "start_time": "2022-03-11T16:40:23.947Z"
   },
   {
    "duration": 13,
    "start_time": "2022-03-11T16:40:23.998Z"
   },
   {
    "duration": 11,
    "start_time": "2022-03-11T16:40:24.013Z"
   },
   {
    "duration": 32,
    "start_time": "2022-03-11T16:40:24.026Z"
   },
   {
    "duration": 24,
    "start_time": "2022-03-11T16:40:24.060Z"
   },
   {
    "duration": 24,
    "start_time": "2022-03-11T16:40:24.085Z"
   },
   {
    "duration": 13,
    "start_time": "2022-03-11T16:43:03.892Z"
   },
   {
    "duration": 13,
    "start_time": "2022-03-11T16:43:43.502Z"
   },
   {
    "duration": 5,
    "start_time": "2022-03-11T16:50:31.608Z"
   },
   {
    "duration": 5,
    "start_time": "2022-03-11T16:50:51.292Z"
   },
   {
    "duration": 3,
    "start_time": "2022-03-11T16:50:59.276Z"
   },
   {
    "duration": 46,
    "start_time": "2022-03-11T16:50:59.281Z"
   },
   {
    "duration": 12,
    "start_time": "2022-03-11T16:50:59.329Z"
   },
   {
    "duration": 11,
    "start_time": "2022-03-11T16:50:59.343Z"
   },
   {
    "duration": 12,
    "start_time": "2022-03-11T16:50:59.356Z"
   },
   {
    "duration": 4,
    "start_time": "2022-03-11T16:50:59.371Z"
   },
   {
    "duration": 15,
    "start_time": "2022-03-11T16:50:59.377Z"
   },
   {
    "duration": 23,
    "start_time": "2022-03-11T16:50:59.393Z"
   },
   {
    "duration": 45,
    "start_time": "2022-03-11T16:50:59.418Z"
   },
   {
    "duration": 67,
    "start_time": "2022-03-11T16:52:16.088Z"
   },
   {
    "duration": 60,
    "start_time": "2022-03-11T16:52:33.118Z"
   },
   {
    "duration": 5,
    "start_time": "2022-03-11T16:52:36.611Z"
   },
   {
    "duration": 3,
    "start_time": "2022-03-11T16:52:48.188Z"
   },
   {
    "duration": 56,
    "start_time": "2022-03-11T16:52:48.193Z"
   },
   {
    "duration": 13,
    "start_time": "2022-03-11T16:52:48.251Z"
   },
   {
    "duration": 12,
    "start_time": "2022-03-11T16:52:48.266Z"
   },
   {
    "duration": 9,
    "start_time": "2022-03-11T16:52:48.279Z"
   },
   {
    "duration": 4,
    "start_time": "2022-03-11T16:52:48.290Z"
   },
   {
    "duration": 593,
    "start_time": "2022-03-12T13:15:05.335Z"
   },
   {
    "duration": 57,
    "start_time": "2022-03-12T13:15:05.930Z"
   },
   {
    "duration": 20,
    "start_time": "2022-03-12T13:15:05.990Z"
   },
   {
    "duration": 12,
    "start_time": "2022-03-12T13:15:06.013Z"
   },
   {
    "duration": 14,
    "start_time": "2022-03-12T13:15:06.027Z"
   },
   {
    "duration": 36,
    "start_time": "2022-03-12T13:15:06.042Z"
   },
   {
    "duration": 45,
    "start_time": "2022-03-12T13:15:06.080Z"
   },
   {
    "duration": 33,
    "start_time": "2022-03-12T13:15:06.127Z"
   },
   {
    "duration": 17,
    "start_time": "2022-03-12T13:15:06.163Z"
   },
   {
    "duration": 7,
    "start_time": "2022-03-12T13:15:06.182Z"
   },
   {
    "duration": 4,
    "start_time": "2022-03-12T13:30:16.121Z"
   },
   {
    "duration": 3,
    "start_time": "2022-03-12T13:30:25.980Z"
   },
   {
    "duration": 86,
    "start_time": "2022-03-12T13:30:25.985Z"
   },
   {
    "duration": 14,
    "start_time": "2022-03-12T13:30:26.074Z"
   },
   {
    "duration": 31,
    "start_time": "2022-03-12T13:30:26.090Z"
   },
   {
    "duration": 28,
    "start_time": "2022-03-12T13:30:26.123Z"
   },
   {
    "duration": 22,
    "start_time": "2022-03-12T13:30:26.153Z"
   },
   {
    "duration": 26,
    "start_time": "2022-03-12T13:30:26.177Z"
   },
   {
    "duration": 40,
    "start_time": "2022-03-12T13:30:26.205Z"
   },
   {
    "duration": 39,
    "start_time": "2022-03-12T13:30:26.247Z"
   },
   {
    "duration": 5,
    "start_time": "2022-03-12T13:30:26.288Z"
   },
   {
    "duration": 44,
    "start_time": "2022-03-12T13:30:26.295Z"
   },
   {
    "duration": 6,
    "start_time": "2022-03-12T13:32:41.181Z"
   },
   {
    "duration": 3,
    "start_time": "2022-03-12T13:32:46.346Z"
   },
   {
    "duration": 56,
    "start_time": "2022-03-12T13:32:46.350Z"
   },
   {
    "duration": 13,
    "start_time": "2022-03-12T13:32:46.408Z"
   },
   {
    "duration": 16,
    "start_time": "2022-03-12T13:32:46.423Z"
   },
   {
    "duration": 10,
    "start_time": "2022-03-12T13:32:46.441Z"
   },
   {
    "duration": 6,
    "start_time": "2022-03-12T13:32:46.478Z"
   },
   {
    "duration": 17,
    "start_time": "2022-03-12T13:32:46.485Z"
   },
   {
    "duration": 25,
    "start_time": "2022-03-12T13:32:46.504Z"
   },
   {
    "duration": 51,
    "start_time": "2022-03-12T13:32:46.531Z"
   },
   {
    "duration": 5,
    "start_time": "2022-03-12T13:32:46.584Z"
   },
   {
    "duration": 30,
    "start_time": "2022-03-12T13:32:46.591Z"
   },
   {
    "duration": 10,
    "start_time": "2022-03-12T13:33:02.175Z"
   },
   {
    "duration": 343,
    "start_time": "2022-03-12T13:33:53.027Z"
   },
   {
    "duration": 3,
    "start_time": "2022-03-12T13:34:01.604Z"
   },
   {
    "duration": 57,
    "start_time": "2022-03-12T13:34:01.609Z"
   },
   {
    "duration": 14,
    "start_time": "2022-03-12T13:34:01.668Z"
   },
   {
    "duration": 16,
    "start_time": "2022-03-12T13:34:01.684Z"
   },
   {
    "duration": 11,
    "start_time": "2022-03-12T13:34:01.702Z"
   },
   {
    "duration": 17,
    "start_time": "2022-03-12T13:34:01.714Z"
   },
   {
    "duration": 18,
    "start_time": "2022-03-12T13:34:01.733Z"
   },
   {
    "duration": 46,
    "start_time": "2022-03-12T13:34:01.753Z"
   },
   {
    "duration": 14,
    "start_time": "2022-03-12T13:34:01.801Z"
   },
   {
    "duration": 6,
    "start_time": "2022-03-12T13:34:01.817Z"
   },
   {
    "duration": 259,
    "start_time": "2022-03-12T13:34:01.824Z"
   },
   {
    "duration": 10,
    "start_time": "2022-03-12T13:34:06.145Z"
   },
   {
    "duration": 13,
    "start_time": "2022-03-12T13:34:31.467Z"
   },
   {
    "duration": 3,
    "start_time": "2022-03-12T13:34:40.059Z"
   },
   {
    "duration": 56,
    "start_time": "2022-03-12T13:34:40.064Z"
   },
   {
    "duration": 14,
    "start_time": "2022-03-12T13:34:40.123Z"
   },
   {
    "duration": 16,
    "start_time": "2022-03-12T13:34:40.139Z"
   },
   {
    "duration": 25,
    "start_time": "2022-03-12T13:34:40.157Z"
   },
   {
    "duration": 5,
    "start_time": "2022-03-12T13:34:40.184Z"
   },
   {
    "duration": 16,
    "start_time": "2022-03-12T13:34:40.190Z"
   },
   {
    "duration": 24,
    "start_time": "2022-03-12T13:34:40.208Z"
   },
   {
    "duration": 47,
    "start_time": "2022-03-12T13:34:40.234Z"
   },
   {
    "duration": 6,
    "start_time": "2022-03-12T13:34:40.283Z"
   },
   {
    "duration": 15,
    "start_time": "2022-03-12T13:34:40.290Z"
   },
   {
    "duration": 8,
    "start_time": "2022-03-12T13:35:29.809Z"
   },
   {
    "duration": 9,
    "start_time": "2022-03-12T13:36:38.888Z"
   },
   {
    "duration": 9,
    "start_time": "2022-03-12T13:36:54.170Z"
   },
   {
    "duration": 8,
    "start_time": "2022-03-12T13:37:43.052Z"
   },
   {
    "duration": 7,
    "start_time": "2022-03-12T13:44:21.598Z"
   },
   {
    "duration": 11,
    "start_time": "2022-03-12T13:44:28.944Z"
   },
   {
    "duration": 81,
    "start_time": "2022-03-12T13:44:48.867Z"
   },
   {
    "duration": 12,
    "start_time": "2022-03-12T13:44:53.498Z"
   },
   {
    "duration": 16,
    "start_time": "2022-03-12T13:47:52.493Z"
   },
   {
    "duration": 25,
    "start_time": "2022-03-12T13:52:45.992Z"
   },
   {
    "duration": 4,
    "start_time": "2022-03-12T13:53:35.422Z"
   },
   {
    "duration": 4,
    "start_time": "2022-03-12T13:53:37.892Z"
   },
   {
    "duration": 24,
    "start_time": "2022-03-12T13:53:40.383Z"
   },
   {
    "duration": 2,
    "start_time": "2022-03-12T13:53:56.287Z"
   },
   {
    "duration": 67,
    "start_time": "2022-03-12T13:53:56.292Z"
   },
   {
    "duration": 16,
    "start_time": "2022-03-12T13:53:56.362Z"
   },
   {
    "duration": 19,
    "start_time": "2022-03-12T13:53:56.380Z"
   },
   {
    "duration": 14,
    "start_time": "2022-03-12T13:53:56.401Z"
   },
   {
    "duration": 5,
    "start_time": "2022-03-12T13:53:56.417Z"
   },
   {
    "duration": 17,
    "start_time": "2022-03-12T13:53:56.423Z"
   },
   {
    "duration": 58,
    "start_time": "2022-03-12T13:53:56.442Z"
   },
   {
    "duration": 15,
    "start_time": "2022-03-12T13:53:56.502Z"
   },
   {
    "duration": 6,
    "start_time": "2022-03-12T13:53:56.519Z"
   },
   {
    "duration": 57,
    "start_time": "2022-03-12T13:53:56.527Z"
   },
   {
    "duration": 8,
    "start_time": "2022-03-12T13:53:56.586Z"
   },
   {
    "duration": 15,
    "start_time": "2022-03-12T13:53:56.596Z"
   },
   {
    "duration": 25,
    "start_time": "2022-03-12T13:53:56.613Z"
   },
   {
    "duration": 7,
    "start_time": "2022-03-12T13:55:37.008Z"
   },
   {
    "duration": 3,
    "start_time": "2022-03-12T13:55:44.236Z"
   },
   {
    "duration": 63,
    "start_time": "2022-03-12T13:55:44.241Z"
   },
   {
    "duration": 12,
    "start_time": "2022-03-12T13:55:44.306Z"
   },
   {
    "duration": 27,
    "start_time": "2022-03-12T13:55:44.321Z"
   },
   {
    "duration": 40,
    "start_time": "2022-03-12T13:55:44.350Z"
   },
   {
    "duration": 26,
    "start_time": "2022-03-12T13:55:44.391Z"
   },
   {
    "duration": 37,
    "start_time": "2022-03-12T13:55:44.419Z"
   },
   {
    "duration": 31,
    "start_time": "2022-03-12T13:55:44.458Z"
   },
   {
    "duration": 30,
    "start_time": "2022-03-12T13:55:44.491Z"
   },
   {
    "duration": 22,
    "start_time": "2022-03-12T13:55:44.523Z"
   },
   {
    "duration": 33,
    "start_time": "2022-03-12T13:55:44.547Z"
   },
   {
    "duration": 20,
    "start_time": "2022-03-12T13:55:44.581Z"
   },
   {
    "duration": 27,
    "start_time": "2022-03-12T13:55:44.602Z"
   },
   {
    "duration": 23,
    "start_time": "2022-03-12T13:55:44.631Z"
   },
   {
    "duration": 13,
    "start_time": "2022-03-12T13:56:06.845Z"
   },
   {
    "duration": 3,
    "start_time": "2022-03-12T13:56:25.164Z"
   },
   {
    "duration": 82,
    "start_time": "2022-03-12T13:56:25.169Z"
   },
   {
    "duration": 13,
    "start_time": "2022-03-12T13:56:25.253Z"
   },
   {
    "duration": 13,
    "start_time": "2022-03-12T13:56:25.268Z"
   },
   {
    "duration": 12,
    "start_time": "2022-03-12T13:56:25.282Z"
   },
   {
    "duration": 6,
    "start_time": "2022-03-12T13:56:25.295Z"
   },
   {
    "duration": 18,
    "start_time": "2022-03-12T13:56:25.303Z"
   },
   {
    "duration": 54,
    "start_time": "2022-03-12T13:56:25.323Z"
   },
   {
    "duration": 14,
    "start_time": "2022-03-12T13:56:25.380Z"
   },
   {
    "duration": 6,
    "start_time": "2022-03-12T13:56:25.395Z"
   },
   {
    "duration": 13,
    "start_time": "2022-03-12T13:56:25.403Z"
   },
   {
    "duration": 8,
    "start_time": "2022-03-12T13:56:25.418Z"
   },
   {
    "duration": 56,
    "start_time": "2022-03-12T13:56:25.428Z"
   },
   {
    "duration": 9,
    "start_time": "2022-03-12T13:56:25.485Z"
   },
   {
    "duration": 6,
    "start_time": "2022-03-12T13:57:35.523Z"
   },
   {
    "duration": 9,
    "start_time": "2022-03-12T13:57:53.953Z"
   },
   {
    "duration": 3,
    "start_time": "2022-03-12T13:58:14.274Z"
   },
   {
    "duration": 54,
    "start_time": "2022-03-12T13:58:14.279Z"
   },
   {
    "duration": 14,
    "start_time": "2022-03-12T13:58:14.335Z"
   },
   {
    "duration": 26,
    "start_time": "2022-03-12T13:58:14.351Z"
   },
   {
    "duration": 10,
    "start_time": "2022-03-12T13:58:14.379Z"
   },
   {
    "duration": 5,
    "start_time": "2022-03-12T13:58:14.391Z"
   },
   {
    "duration": 17,
    "start_time": "2022-03-12T13:58:14.398Z"
   },
   {
    "duration": 61,
    "start_time": "2022-03-12T13:58:14.417Z"
   },
   {
    "duration": 14,
    "start_time": "2022-03-12T13:58:14.480Z"
   },
   {
    "duration": 5,
    "start_time": "2022-03-12T13:58:14.496Z"
   },
   {
    "duration": 15,
    "start_time": "2022-03-12T13:58:14.503Z"
   },
   {
    "duration": 8,
    "start_time": "2022-03-12T13:58:14.519Z"
   },
   {
    "duration": 50,
    "start_time": "2022-03-12T13:58:14.528Z"
   },
   {
    "duration": 8,
    "start_time": "2022-03-12T13:58:14.580Z"
   },
   {
    "duration": 9,
    "start_time": "2022-03-12T13:58:14.590Z"
   },
   {
    "duration": 11,
    "start_time": "2022-03-12T13:59:09.883Z"
   },
   {
    "duration": 3,
    "start_time": "2022-03-12T13:59:21.597Z"
   },
   {
    "duration": 52,
    "start_time": "2022-03-12T13:59:21.602Z"
   },
   {
    "duration": 12,
    "start_time": "2022-03-12T13:59:21.657Z"
   },
   {
    "duration": 13,
    "start_time": "2022-03-12T13:59:21.671Z"
   },
   {
    "duration": 9,
    "start_time": "2022-03-12T13:59:21.686Z"
   },
   {
    "duration": 5,
    "start_time": "2022-03-12T13:59:21.696Z"
   },
   {
    "duration": 16,
    "start_time": "2022-03-12T13:59:21.703Z"
   },
   {
    "duration": 57,
    "start_time": "2022-03-12T13:59:21.721Z"
   },
   {
    "duration": 14,
    "start_time": "2022-03-12T13:59:21.780Z"
   },
   {
    "duration": 6,
    "start_time": "2022-03-12T13:59:21.795Z"
   },
   {
    "duration": 12,
    "start_time": "2022-03-12T13:59:21.802Z"
   },
   {
    "duration": 9,
    "start_time": "2022-03-12T13:59:21.816Z"
   },
   {
    "duration": 52,
    "start_time": "2022-03-12T13:59:21.827Z"
   },
   {
    "duration": 11,
    "start_time": "2022-03-12T13:59:21.881Z"
   },
   {
    "duration": 15,
    "start_time": "2022-03-12T13:59:21.893Z"
   },
   {
    "duration": 9,
    "start_time": "2022-03-12T13:59:21.910Z"
   },
   {
    "duration": 280,
    "start_time": "2022-03-12T14:08:30.626Z"
   },
   {
    "duration": 3,
    "start_time": "2022-03-12T14:08:35.950Z"
   },
   {
    "duration": 66,
    "start_time": "2022-03-12T14:08:35.955Z"
   },
   {
    "duration": 22,
    "start_time": "2022-03-12T14:08:36.024Z"
   },
   {
    "duration": 13,
    "start_time": "2022-03-12T14:08:36.049Z"
   },
   {
    "duration": 20,
    "start_time": "2022-03-12T14:08:36.064Z"
   },
   {
    "duration": 6,
    "start_time": "2022-03-12T14:08:36.086Z"
   },
   {
    "duration": 20,
    "start_time": "2022-03-12T14:08:36.094Z"
   },
   {
    "duration": 25,
    "start_time": "2022-03-12T14:08:36.116Z"
   },
   {
    "duration": 47,
    "start_time": "2022-03-12T14:08:36.143Z"
   },
   {
    "duration": 7,
    "start_time": "2022-03-12T14:08:36.192Z"
   },
   {
    "duration": 14,
    "start_time": "2022-03-12T14:08:36.201Z"
   },
   {
    "duration": 8,
    "start_time": "2022-03-12T14:08:36.217Z"
   },
   {
    "duration": 308,
    "start_time": "2022-03-12T14:08:36.226Z"
   },
   {
    "duration": -65,
    "start_time": "2022-03-12T14:08:36.601Z"
   },
   {
    "duration": -65,
    "start_time": "2022-03-12T14:08:36.602Z"
   },
   {
    "duration": 2,
    "start_time": "2022-03-12T14:09:05.833Z"
   },
   {
    "duration": 66,
    "start_time": "2022-03-12T14:09:05.837Z"
   },
   {
    "duration": 14,
    "start_time": "2022-03-12T14:09:05.906Z"
   },
   {
    "duration": 17,
    "start_time": "2022-03-12T14:09:05.923Z"
   },
   {
    "duration": 44,
    "start_time": "2022-03-12T14:09:05.942Z"
   },
   {
    "duration": 18,
    "start_time": "2022-03-12T14:09:05.988Z"
   },
   {
    "duration": 28,
    "start_time": "2022-03-12T14:09:06.008Z"
   },
   {
    "duration": 26,
    "start_time": "2022-03-12T14:09:06.038Z"
   },
   {
    "duration": 16,
    "start_time": "2022-03-12T14:09:06.067Z"
   },
   {
    "duration": 5,
    "start_time": "2022-03-12T14:09:06.085Z"
   },
   {
    "duration": 20,
    "start_time": "2022-03-12T14:09:06.092Z"
   },
   {
    "duration": 8,
    "start_time": "2022-03-12T14:09:06.114Z"
   },
   {
    "duration": 3,
    "start_time": "2022-03-12T14:09:08.497Z"
   },
   {
    "duration": 55,
    "start_time": "2022-03-12T14:09:08.502Z"
   },
   {
    "duration": 14,
    "start_time": "2022-03-12T14:09:08.560Z"
   },
   {
    "duration": 13,
    "start_time": "2022-03-12T14:09:08.576Z"
   },
   {
    "duration": 10,
    "start_time": "2022-03-12T14:09:08.591Z"
   },
   {
    "duration": 7,
    "start_time": "2022-03-12T14:09:08.603Z"
   },
   {
    "duration": 18,
    "start_time": "2022-03-12T14:09:08.612Z"
   },
   {
    "duration": 54,
    "start_time": "2022-03-12T14:09:08.632Z"
   },
   {
    "duration": 14,
    "start_time": "2022-03-12T14:09:08.688Z"
   },
   {
    "duration": 6,
    "start_time": "2022-03-12T14:09:08.704Z"
   },
   {
    "duration": 31,
    "start_time": "2022-03-12T14:09:08.712Z"
   },
   {
    "duration": 8,
    "start_time": "2022-03-12T14:09:08.745Z"
   },
   {
    "duration": 11,
    "start_time": "2022-03-12T14:09:08.777Z"
   },
   {
    "duration": 8,
    "start_time": "2022-03-12T14:09:08.789Z"
   },
   {
    "duration": 9,
    "start_time": "2022-03-12T14:09:08.798Z"
   },
   {
    "duration": 2,
    "start_time": "2022-03-12T14:12:16.075Z"
   },
   {
    "duration": 54,
    "start_time": "2022-03-12T14:12:16.080Z"
   },
   {
    "duration": 14,
    "start_time": "2022-03-12T14:12:16.137Z"
   },
   {
    "duration": 27,
    "start_time": "2022-03-12T14:12:16.153Z"
   },
   {
    "duration": 10,
    "start_time": "2022-03-12T14:12:16.182Z"
   },
   {
    "duration": 9,
    "start_time": "2022-03-12T14:12:16.194Z"
   },
   {
    "duration": 17,
    "start_time": "2022-03-12T14:12:16.205Z"
   },
   {
    "duration": 60,
    "start_time": "2022-03-12T14:12:16.224Z"
   },
   {
    "duration": 17,
    "start_time": "2022-03-12T14:12:16.288Z"
   },
   {
    "duration": 8,
    "start_time": "2022-03-12T14:12:16.308Z"
   },
   {
    "duration": 14,
    "start_time": "2022-03-12T14:12:16.319Z"
   },
   {
    "duration": 52,
    "start_time": "2022-03-12T14:12:16.335Z"
   },
   {
    "duration": 12,
    "start_time": "2022-03-12T14:12:16.389Z"
   },
   {
    "duration": 11,
    "start_time": "2022-03-12T14:12:16.403Z"
   },
   {
    "duration": 10,
    "start_time": "2022-03-12T14:12:16.416Z"
   },
   {
    "duration": 3,
    "start_time": "2022-03-12T14:12:38.982Z"
   },
   {
    "duration": 96,
    "start_time": "2022-03-12T14:12:38.988Z"
   },
   {
    "duration": 15,
    "start_time": "2022-03-12T14:12:39.086Z"
   },
   {
    "duration": 11,
    "start_time": "2022-03-12T14:12:39.110Z"
   },
   {
    "duration": 25,
    "start_time": "2022-03-12T14:12:39.124Z"
   },
   {
    "duration": 25,
    "start_time": "2022-03-12T14:12:39.152Z"
   },
   {
    "duration": 19,
    "start_time": "2022-03-12T14:12:39.179Z"
   },
   {
    "duration": 26,
    "start_time": "2022-03-12T14:12:39.200Z"
   },
   {
    "duration": 14,
    "start_time": "2022-03-12T14:12:39.228Z"
   },
   {
    "duration": 37,
    "start_time": "2022-03-12T14:12:39.244Z"
   },
   {
    "duration": 28,
    "start_time": "2022-03-12T14:12:39.283Z"
   },
   {
    "duration": 14,
    "start_time": "2022-03-12T14:12:39.314Z"
   },
   {
    "duration": 53,
    "start_time": "2022-03-12T14:12:39.331Z"
   },
   {
    "duration": 13,
    "start_time": "2022-03-12T14:12:39.386Z"
   },
   {
    "duration": 30,
    "start_time": "2022-03-12T14:12:39.402Z"
   },
   {
    "duration": 3,
    "start_time": "2022-03-12T14:13:27.920Z"
   },
   {
    "duration": 59,
    "start_time": "2022-03-12T14:13:27.930Z"
   },
   {
    "duration": 15,
    "start_time": "2022-03-12T14:13:27.991Z"
   },
   {
    "duration": 17,
    "start_time": "2022-03-12T14:13:28.010Z"
   },
   {
    "duration": 48,
    "start_time": "2022-03-12T14:13:28.030Z"
   },
   {
    "duration": 8,
    "start_time": "2022-03-12T14:13:28.081Z"
   },
   {
    "duration": 17,
    "start_time": "2022-03-12T14:13:28.092Z"
   },
   {
    "duration": 69,
    "start_time": "2022-03-12T14:13:28.111Z"
   },
   {
    "duration": 16,
    "start_time": "2022-03-12T14:13:28.182Z"
   },
   {
    "duration": 7,
    "start_time": "2022-03-12T14:13:28.201Z"
   },
   {
    "duration": 17,
    "start_time": "2022-03-12T14:13:28.210Z"
   },
   {
    "duration": 7,
    "start_time": "2022-03-12T14:13:28.229Z"
   },
   {
    "duration": 50,
    "start_time": "2022-03-12T14:13:28.238Z"
   },
   {
    "duration": 9,
    "start_time": "2022-03-12T14:13:28.290Z"
   },
   {
    "duration": 11,
    "start_time": "2022-03-12T14:13:28.301Z"
   },
   {
    "duration": 3,
    "start_time": "2022-03-12T14:13:52.194Z"
   },
   {
    "duration": 79,
    "start_time": "2022-03-12T14:13:52.202Z"
   },
   {
    "duration": 16,
    "start_time": "2022-03-12T14:13:52.284Z"
   },
   {
    "duration": 19,
    "start_time": "2022-03-12T14:13:52.303Z"
   },
   {
    "duration": 12,
    "start_time": "2022-03-12T14:13:52.324Z"
   },
   {
    "duration": 50,
    "start_time": "2022-03-12T14:13:52.338Z"
   },
   {
    "duration": 21,
    "start_time": "2022-03-12T14:13:52.390Z"
   },
   {
    "duration": 29,
    "start_time": "2022-03-12T14:13:52.413Z"
   },
   {
    "duration": 39,
    "start_time": "2022-03-12T14:13:52.445Z"
   },
   {
    "duration": 7,
    "start_time": "2022-03-12T14:13:52.486Z"
   },
   {
    "duration": 18,
    "start_time": "2022-03-12T14:13:52.494Z"
   },
   {
    "duration": 8,
    "start_time": "2022-03-12T14:13:52.514Z"
   },
   {
    "duration": 162,
    "start_time": "2022-03-12T14:13:52.524Z"
   },
   {
    "duration": 283,
    "start_time": "2022-03-12T14:13:52.688Z"
   },
   {
    "duration": 13,
    "start_time": "2022-03-12T14:13:52.960Z"
   },
   {
    "duration": 2,
    "start_time": "2022-03-12T14:13:59.057Z"
   },
   {
    "duration": 65,
    "start_time": "2022-03-12T14:13:59.069Z"
   },
   {
    "duration": 14,
    "start_time": "2022-03-12T14:13:59.136Z"
   },
   {
    "duration": 29,
    "start_time": "2022-03-12T14:13:59.153Z"
   },
   {
    "duration": 13,
    "start_time": "2022-03-12T14:13:59.184Z"
   },
   {
    "duration": 5,
    "start_time": "2022-03-12T14:13:59.199Z"
   },
   {
    "duration": 16,
    "start_time": "2022-03-12T14:13:59.206Z"
   },
   {
    "duration": 68,
    "start_time": "2022-03-12T14:13:59.224Z"
   },
   {
    "duration": 16,
    "start_time": "2022-03-12T14:13:59.295Z"
   },
   {
    "duration": 7,
    "start_time": "2022-03-12T14:13:59.412Z"
   },
   {
    "duration": 14,
    "start_time": "2022-03-12T14:13:59.421Z"
   },
   {
    "duration": 8,
    "start_time": "2022-03-12T14:13:59.437Z"
   },
   {
    "duration": 11,
    "start_time": "2022-03-12T14:13:59.447Z"
   },
   {
    "duration": 8,
    "start_time": "2022-03-12T14:13:59.460Z"
   },
   {
    "duration": 9,
    "start_time": "2022-03-12T14:13:59.478Z"
   },
   {
    "duration": 2,
    "start_time": "2022-03-12T14:15:41.176Z"
   },
   {
    "duration": 54,
    "start_time": "2022-03-12T14:15:41.181Z"
   },
   {
    "duration": 14,
    "start_time": "2022-03-12T14:15:41.238Z"
   },
   {
    "duration": 29,
    "start_time": "2022-03-12T14:15:41.254Z"
   },
   {
    "duration": 17,
    "start_time": "2022-03-12T14:15:41.286Z"
   },
   {
    "duration": 8,
    "start_time": "2022-03-12T14:15:41.305Z"
   },
   {
    "duration": 30,
    "start_time": "2022-03-12T14:15:41.315Z"
   },
   {
    "duration": 38,
    "start_time": "2022-03-12T14:15:41.377Z"
   },
   {
    "duration": 14,
    "start_time": "2022-03-12T14:15:41.418Z"
   },
   {
    "duration": 6,
    "start_time": "2022-03-12T14:15:41.434Z"
   },
   {
    "duration": 46,
    "start_time": "2022-03-12T14:15:41.442Z"
   },
   {
    "duration": 8,
    "start_time": "2022-03-12T14:15:41.489Z"
   },
   {
    "duration": 12,
    "start_time": "2022-03-12T14:15:41.499Z"
   },
   {
    "duration": 8,
    "start_time": "2022-03-12T14:15:41.513Z"
   },
   {
    "duration": 55,
    "start_time": "2022-03-12T14:15:41.523Z"
   },
   {
    "duration": 294,
    "start_time": "2022-03-13T15:41:26.443Z"
   },
   {
    "duration": 600,
    "start_time": "2022-03-13T15:41:31.211Z"
   },
   {
    "duration": 55,
    "start_time": "2022-03-13T15:41:31.813Z"
   },
   {
    "duration": 29,
    "start_time": "2022-03-13T15:41:31.871Z"
   },
   {
    "duration": 15,
    "start_time": "2022-03-13T15:41:31.902Z"
   },
   {
    "duration": 13,
    "start_time": "2022-03-13T15:41:31.919Z"
   },
   {
    "duration": 5,
    "start_time": "2022-03-13T15:41:31.934Z"
   },
   {
    "duration": 19,
    "start_time": "2022-03-13T15:41:31.941Z"
   },
   {
    "duration": 39,
    "start_time": "2022-03-13T15:41:31.961Z"
   },
   {
    "duration": 14,
    "start_time": "2022-03-13T15:41:32.003Z"
   },
   {
    "duration": 5,
    "start_time": "2022-03-13T15:41:32.020Z"
   },
   {
    "duration": 21,
    "start_time": "2022-03-13T15:41:32.026Z"
   },
   {
    "duration": 34,
    "start_time": "2022-03-13T15:41:32.049Z"
   },
   {
    "duration": 5,
    "start_time": "2022-03-13T15:41:32.085Z"
   },
   {
    "duration": 10,
    "start_time": "2022-03-13T15:41:32.092Z"
   },
   {
    "duration": 9,
    "start_time": "2022-03-13T15:41:32.104Z"
   },
   {
    "duration": 299,
    "start_time": "2022-03-13T15:43:12.829Z"
   },
   {
    "duration": 3,
    "start_time": "2022-03-13T15:43:37.382Z"
   },
   {
    "duration": 51,
    "start_time": "2022-03-13T15:43:37.395Z"
   },
   {
    "duration": 14,
    "start_time": "2022-03-13T15:43:37.448Z"
   },
   {
    "duration": 17,
    "start_time": "2022-03-13T15:43:37.464Z"
   },
   {
    "duration": 9,
    "start_time": "2022-03-13T15:43:37.483Z"
   },
   {
    "duration": 6,
    "start_time": "2022-03-13T15:43:37.494Z"
   },
   {
    "duration": 15,
    "start_time": "2022-03-13T15:43:37.502Z"
   },
   {
    "duration": 23,
    "start_time": "2022-03-13T15:43:37.519Z"
   },
   {
    "duration": 43,
    "start_time": "2022-03-13T15:43:37.543Z"
   },
   {
    "duration": 6,
    "start_time": "2022-03-13T15:43:37.587Z"
   },
   {
    "duration": 13,
    "start_time": "2022-03-13T15:43:37.597Z"
   },
   {
    "duration": 9,
    "start_time": "2022-03-13T15:43:37.612Z"
   },
   {
    "duration": 313,
    "start_time": "2022-03-13T15:43:37.624Z"
   },
   {
    "duration": 48,
    "start_time": "2022-03-13T15:43:37.892Z"
   },
   {
    "duration": 48,
    "start_time": "2022-03-13T15:43:37.894Z"
   },
   {
    "duration": 24,
    "start_time": "2022-03-13T15:43:59.835Z"
   },
   {
    "duration": 7,
    "start_time": "2022-03-13T15:44:13.554Z"
   },
   {
    "duration": 8,
    "start_time": "2022-03-13T15:44:21.730Z"
   },
   {
    "duration": 24,
    "start_time": "2022-03-13T15:44:41.891Z"
   },
   {
    "duration": 3,
    "start_time": "2022-03-13T15:50:56.836Z"
   },
   {
    "duration": 71,
    "start_time": "2022-03-13T15:50:56.841Z"
   },
   {
    "duration": 14,
    "start_time": "2022-03-13T15:50:56.915Z"
   },
   {
    "duration": 18,
    "start_time": "2022-03-13T15:50:56.931Z"
   },
   {
    "duration": 30,
    "start_time": "2022-03-13T15:50:56.951Z"
   },
   {
    "duration": 6,
    "start_time": "2022-03-13T15:50:56.983Z"
   },
   {
    "duration": 21,
    "start_time": "2022-03-13T15:50:56.991Z"
   },
   {
    "duration": 33,
    "start_time": "2022-03-13T15:50:57.014Z"
   },
   {
    "duration": 33,
    "start_time": "2022-03-13T15:50:57.050Z"
   },
   {
    "duration": 7,
    "start_time": "2022-03-13T15:50:57.085Z"
   },
   {
    "duration": 18,
    "start_time": "2022-03-13T15:50:57.094Z"
   },
   {
    "duration": 11,
    "start_time": "2022-03-13T15:50:57.114Z"
   },
   {
    "duration": 12,
    "start_time": "2022-03-13T15:52:07.235Z"
   },
   {
    "duration": 13,
    "start_time": "2022-03-13T15:52:30.292Z"
   },
   {
    "duration": 16,
    "start_time": "2022-03-13T15:52:43.012Z"
   },
   {
    "duration": 6,
    "start_time": "2022-03-13T15:53:22.513Z"
   },
   {
    "duration": 10,
    "start_time": "2022-03-13T15:53:45.131Z"
   },
   {
    "duration": 10,
    "start_time": "2022-03-13T15:54:08.929Z"
   },
   {
    "duration": 11,
    "start_time": "2022-03-13T15:54:38.519Z"
   },
   {
    "duration": 24,
    "start_time": "2022-03-13T15:55:12.111Z"
   },
   {
    "duration": 29,
    "start_time": "2022-03-13T15:57:57.630Z"
   },
   {
    "duration": 3,
    "start_time": "2022-03-13T15:58:10.661Z"
   },
   {
    "duration": 51,
    "start_time": "2022-03-13T15:58:10.666Z"
   },
   {
    "duration": 14,
    "start_time": "2022-03-13T15:58:10.719Z"
   },
   {
    "duration": 17,
    "start_time": "2022-03-13T15:58:10.735Z"
   },
   {
    "duration": 23,
    "start_time": "2022-03-13T15:58:10.755Z"
   },
   {
    "duration": 7,
    "start_time": "2022-03-13T15:58:10.779Z"
   },
   {
    "duration": 16,
    "start_time": "2022-03-13T15:58:10.788Z"
   },
   {
    "duration": 24,
    "start_time": "2022-03-13T15:58:10.806Z"
   },
   {
    "duration": 13,
    "start_time": "2022-03-13T15:58:10.831Z"
   },
   {
    "duration": 35,
    "start_time": "2022-03-13T15:58:10.846Z"
   },
   {
    "duration": 14,
    "start_time": "2022-03-13T15:58:10.882Z"
   },
   {
    "duration": 27,
    "start_time": "2022-03-13T15:58:10.898Z"
   },
   {
    "duration": 4,
    "start_time": "2022-03-13T15:58:39.008Z"
   },
   {
    "duration": 70,
    "start_time": "2022-03-13T15:58:39.014Z"
   },
   {
    "duration": 21,
    "start_time": "2022-03-13T15:58:39.088Z"
   },
   {
    "duration": 14,
    "start_time": "2022-03-13T15:58:39.111Z"
   },
   {
    "duration": 11,
    "start_time": "2022-03-13T15:58:39.127Z"
   },
   {
    "duration": 6,
    "start_time": "2022-03-13T15:58:39.140Z"
   },
   {
    "duration": 40,
    "start_time": "2022-03-13T15:58:39.149Z"
   },
   {
    "duration": 29,
    "start_time": "2022-03-13T15:58:39.192Z"
   },
   {
    "duration": 14,
    "start_time": "2022-03-13T15:58:39.224Z"
   },
   {
    "duration": 37,
    "start_time": "2022-03-13T15:58:39.241Z"
   },
   {
    "duration": 16,
    "start_time": "2022-03-13T15:58:39.280Z"
   },
   {
    "duration": 28,
    "start_time": "2022-03-13T15:58:39.298Z"
   },
   {
    "duration": 591,
    "start_time": "2022-03-13T20:06:48.634Z"
   },
   {
    "duration": 51,
    "start_time": "2022-03-13T20:06:49.227Z"
   },
   {
    "duration": 19,
    "start_time": "2022-03-13T20:06:49.280Z"
   },
   {
    "duration": 10,
    "start_time": "2022-03-13T20:06:49.301Z"
   },
   {
    "duration": 23,
    "start_time": "2022-03-13T20:06:49.313Z"
   },
   {
    "duration": 5,
    "start_time": "2022-03-13T20:06:49.338Z"
   },
   {
    "duration": 15,
    "start_time": "2022-03-13T20:06:49.344Z"
   },
   {
    "duration": 20,
    "start_time": "2022-03-13T20:06:49.360Z"
   },
   {
    "duration": 13,
    "start_time": "2022-03-13T20:06:49.383Z"
   },
   {
    "duration": 36,
    "start_time": "2022-03-13T20:06:49.398Z"
   },
   {
    "duration": 12,
    "start_time": "2022-03-13T20:06:49.436Z"
   },
   {
    "duration": 16,
    "start_time": "2022-03-13T20:06:49.450Z"
   },
   {
    "duration": 15,
    "start_time": "2022-03-13T20:07:18.645Z"
   },
   {
    "duration": 3,
    "start_time": "2022-03-13T20:07:21.811Z"
   },
   {
    "duration": 47,
    "start_time": "2022-03-13T20:07:21.816Z"
   },
   {
    "duration": 12,
    "start_time": "2022-03-13T20:07:21.865Z"
   },
   {
    "duration": 14,
    "start_time": "2022-03-13T20:07:21.878Z"
   },
   {
    "duration": 8,
    "start_time": "2022-03-13T20:07:21.894Z"
   },
   {
    "duration": 5,
    "start_time": "2022-03-13T20:07:21.904Z"
   },
   {
    "duration": 34,
    "start_time": "2022-03-13T20:07:21.910Z"
   },
   {
    "duration": 19,
    "start_time": "2022-03-13T20:07:21.946Z"
   },
   {
    "duration": 12,
    "start_time": "2022-03-13T20:07:21.967Z"
   },
   {
    "duration": 5,
    "start_time": "2022-03-13T20:07:21.981Z"
   },
   {
    "duration": 12,
    "start_time": "2022-03-13T20:07:21.988Z"
   },
   {
    "duration": 45,
    "start_time": "2022-03-13T20:07:22.002Z"
   },
   {
    "duration": 2,
    "start_time": "2022-03-13T20:09:04.109Z"
   },
   {
    "duration": 50,
    "start_time": "2022-03-13T20:09:04.113Z"
   },
   {
    "duration": 12,
    "start_time": "2022-03-13T20:09:04.165Z"
   },
   {
    "duration": 14,
    "start_time": "2022-03-13T20:09:04.180Z"
   },
   {
    "duration": 9,
    "start_time": "2022-03-13T20:09:04.196Z"
   },
   {
    "duration": 6,
    "start_time": "2022-03-13T20:09:04.232Z"
   },
   {
    "duration": 13,
    "start_time": "2022-03-13T20:09:04.240Z"
   },
   {
    "duration": 19,
    "start_time": "2022-03-13T20:09:04.254Z"
   },
   {
    "duration": 10,
    "start_time": "2022-03-13T20:09:04.275Z"
   },
   {
    "duration": 5,
    "start_time": "2022-03-13T20:09:04.287Z"
   },
   {
    "duration": 45,
    "start_time": "2022-03-13T20:09:04.294Z"
   },
   {
    "duration": 15,
    "start_time": "2022-03-13T20:09:04.341Z"
   },
   {
    "duration": 17,
    "start_time": "2022-03-13T20:10:16.306Z"
   },
   {
    "duration": 17,
    "start_time": "2022-03-13T20:11:34.840Z"
   },
   {
    "duration": 3,
    "start_time": "2022-03-13T20:11:52.879Z"
   },
   {
    "duration": 45,
    "start_time": "2022-03-13T20:11:52.884Z"
   },
   {
    "duration": 12,
    "start_time": "2022-03-13T20:11:52.931Z"
   },
   {
    "duration": 13,
    "start_time": "2022-03-13T20:11:52.945Z"
   },
   {
    "duration": 11,
    "start_time": "2022-03-13T20:11:52.959Z"
   },
   {
    "duration": 5,
    "start_time": "2022-03-13T20:11:52.972Z"
   },
   {
    "duration": 12,
    "start_time": "2022-03-13T20:11:52.979Z"
   },
   {
    "duration": 24,
    "start_time": "2022-03-13T20:11:53.032Z"
   },
   {
    "duration": 13,
    "start_time": "2022-03-13T20:11:53.059Z"
   },
   {
    "duration": 7,
    "start_time": "2022-03-13T20:11:53.074Z"
   },
   {
    "duration": 12,
    "start_time": "2022-03-13T20:11:53.083Z"
   },
   {
    "duration": 51,
    "start_time": "2022-03-13T20:11:53.097Z"
   },
   {
    "duration": 18,
    "start_time": "2022-03-13T20:11:59.479Z"
   },
   {
    "duration": 19,
    "start_time": "2022-03-13T20:12:02.310Z"
   },
   {
    "duration": 18,
    "start_time": "2022-03-13T20:12:03.919Z"
   },
   {
    "duration": 18,
    "start_time": "2022-03-13T20:12:05.455Z"
   },
   {
    "duration": 18,
    "start_time": "2022-03-13T20:12:06.852Z"
   },
   {
    "duration": 19,
    "start_time": "2022-03-13T20:12:08.292Z"
   },
   {
    "duration": 18,
    "start_time": "2022-03-13T20:12:10.734Z"
   },
   {
    "duration": 3,
    "start_time": "2022-03-13T20:12:45.964Z"
   },
   {
    "duration": 43,
    "start_time": "2022-03-13T20:12:45.969Z"
   },
   {
    "duration": 13,
    "start_time": "2022-03-13T20:12:46.014Z"
   },
   {
    "duration": 12,
    "start_time": "2022-03-13T20:12:46.029Z"
   },
   {
    "duration": 10,
    "start_time": "2022-03-13T20:12:46.043Z"
   },
   {
    "duration": 5,
    "start_time": "2022-03-13T20:12:46.054Z"
   },
   {
    "duration": 13,
    "start_time": "2022-03-13T20:12:46.061Z"
   },
   {
    "duration": 20,
    "start_time": "2022-03-13T20:12:46.075Z"
   },
   {
    "duration": 37,
    "start_time": "2022-03-13T20:12:46.097Z"
   },
   {
    "duration": 6,
    "start_time": "2022-03-13T20:12:46.135Z"
   },
   {
    "duration": 18,
    "start_time": "2022-03-13T20:12:46.142Z"
   },
   {
    "duration": 23,
    "start_time": "2022-03-13T20:12:46.162Z"
   },
   {
    "duration": 3,
    "start_time": "2022-03-13T20:13:00.467Z"
   },
   {
    "duration": 41,
    "start_time": "2022-03-13T20:13:00.504Z"
   },
   {
    "duration": 12,
    "start_time": "2022-03-13T20:13:00.547Z"
   },
   {
    "duration": 18,
    "start_time": "2022-03-13T20:13:00.561Z"
   },
   {
    "duration": 16,
    "start_time": "2022-03-13T20:13:00.582Z"
   },
   {
    "duration": 11,
    "start_time": "2022-03-13T20:13:00.600Z"
   },
   {
    "duration": 22,
    "start_time": "2022-03-13T20:13:00.613Z"
   },
   {
    "duration": 23,
    "start_time": "2022-03-13T20:13:00.637Z"
   },
   {
    "duration": 12,
    "start_time": "2022-03-13T20:13:00.662Z"
   },
   {
    "duration": 14,
    "start_time": "2022-03-13T20:13:00.676Z"
   },
   {
    "duration": 19,
    "start_time": "2022-03-13T20:13:00.691Z"
   },
   {
    "duration": 30,
    "start_time": "2022-03-13T20:13:00.712Z"
   },
   {
    "duration": 502,
    "start_time": "2022-03-13T20:14:27.597Z"
   },
   {
    "duration": 48,
    "start_time": "2022-03-13T20:14:28.101Z"
   },
   {
    "duration": 19,
    "start_time": "2022-03-13T20:14:28.151Z"
   },
   {
    "duration": 10,
    "start_time": "2022-03-13T20:14:28.172Z"
   },
   {
    "duration": 8,
    "start_time": "2022-03-13T20:14:28.184Z"
   },
   {
    "duration": 7,
    "start_time": "2022-03-13T20:14:28.194Z"
   },
   {
    "duration": 37,
    "start_time": "2022-03-13T20:14:28.203Z"
   },
   {
    "duration": 21,
    "start_time": "2022-03-13T20:14:28.242Z"
   },
   {
    "duration": 13,
    "start_time": "2022-03-13T20:14:28.265Z"
   },
   {
    "duration": 6,
    "start_time": "2022-03-13T20:14:28.279Z"
   },
   {
    "duration": 13,
    "start_time": "2022-03-13T20:14:28.287Z"
   },
   {
    "duration": 48,
    "start_time": "2022-03-13T20:14:28.301Z"
   },
   {
    "duration": 537,
    "start_time": "2022-03-13T20:15:16.447Z"
   },
   {
    "duration": 47,
    "start_time": "2022-03-13T20:15:16.986Z"
   },
   {
    "duration": 19,
    "start_time": "2022-03-13T20:15:17.035Z"
   },
   {
    "duration": 11,
    "start_time": "2022-03-13T20:15:17.056Z"
   },
   {
    "duration": 9,
    "start_time": "2022-03-13T20:15:17.069Z"
   },
   {
    "duration": 5,
    "start_time": "2022-03-13T20:15:17.079Z"
   },
   {
    "duration": 18,
    "start_time": "2022-03-13T20:15:17.085Z"
   },
   {
    "duration": 48,
    "start_time": "2022-03-13T20:15:17.105Z"
   },
   {
    "duration": 13,
    "start_time": "2022-03-13T20:15:17.155Z"
   },
   {
    "duration": 6,
    "start_time": "2022-03-13T20:15:17.170Z"
   },
   {
    "duration": 13,
    "start_time": "2022-03-13T20:15:17.178Z"
   },
   {
    "duration": 48,
    "start_time": "2022-03-13T20:15:17.193Z"
   },
   {
    "duration": 23,
    "start_time": "2022-03-13T20:26:04.816Z"
   },
   {
    "duration": 24,
    "start_time": "2022-03-13T20:26:13.328Z"
   },
   {
    "duration": 13,
    "start_time": "2022-03-13T20:31:31.717Z"
   },
   {
    "duration": 220,
    "start_time": "2022-03-13T20:32:57.993Z"
   },
   {
    "duration": 2,
    "start_time": "2022-03-13T20:33:30.132Z"
   },
   {
    "duration": 58,
    "start_time": "2022-03-13T20:33:30.136Z"
   },
   {
    "duration": 11,
    "start_time": "2022-03-13T20:33:30.196Z"
   },
   {
    "duration": 16,
    "start_time": "2022-03-13T20:33:30.208Z"
   },
   {
    "duration": 8,
    "start_time": "2022-03-13T20:33:30.226Z"
   },
   {
    "duration": 4,
    "start_time": "2022-03-13T20:33:30.236Z"
   },
   {
    "duration": 17,
    "start_time": "2022-03-13T20:33:30.241Z"
   },
   {
    "duration": 20,
    "start_time": "2022-03-13T20:33:30.260Z"
   },
   {
    "duration": 12,
    "start_time": "2022-03-13T20:33:30.282Z"
   },
   {
    "duration": 5,
    "start_time": "2022-03-13T20:33:30.296Z"
   },
   {
    "duration": 40,
    "start_time": "2022-03-13T20:33:30.302Z"
   },
   {
    "duration": 23,
    "start_time": "2022-03-13T20:33:30.344Z"
   },
   {
    "duration": 11,
    "start_time": "2022-03-13T20:33:30.369Z"
   },
   {
    "duration": 187,
    "start_time": "2022-03-13T20:33:30.382Z"
   },
   {
    "duration": 178,
    "start_time": "2022-03-13T20:35:58.857Z"
   },
   {
    "duration": 169,
    "start_time": "2022-03-13T20:36:20.386Z"
   },
   {
    "duration": 167,
    "start_time": "2022-03-13T20:51:48.174Z"
   },
   {
    "duration": 162,
    "start_time": "2022-03-13T20:52:00.546Z"
   },
   {
    "duration": 161,
    "start_time": "2022-03-13T20:52:04.766Z"
   },
   {
    "duration": 167,
    "start_time": "2022-03-13T20:52:10.291Z"
   },
   {
    "duration": 163,
    "start_time": "2022-03-13T20:52:13.679Z"
   },
   {
    "duration": 162,
    "start_time": "2022-03-13T20:53:39.182Z"
   },
   {
    "duration": 13,
    "start_time": "2022-03-13T21:25:29.800Z"
   },
   {
    "duration": 12,
    "start_time": "2022-03-13T21:25:52.077Z"
   },
   {
    "duration": 14,
    "start_time": "2022-03-13T21:26:06.569Z"
   },
   {
    "duration": 35,
    "start_time": "2022-03-13T21:26:31.408Z"
   },
   {
    "duration": 30,
    "start_time": "2022-03-13T21:26:51.960Z"
   },
   {
    "duration": 31,
    "start_time": "2022-03-13T21:27:25.972Z"
   },
   {
    "duration": 32,
    "start_time": "2022-03-13T21:27:31.102Z"
   },
   {
    "duration": 2,
    "start_time": "2022-03-13T21:27:35.714Z"
   },
   {
    "duration": 51,
    "start_time": "2022-03-13T21:27:35.718Z"
   },
   {
    "duration": 11,
    "start_time": "2022-03-13T21:27:35.771Z"
   },
   {
    "duration": 11,
    "start_time": "2022-03-13T21:27:35.784Z"
   },
   {
    "duration": 9,
    "start_time": "2022-03-13T21:27:35.797Z"
   },
   {
    "duration": 27,
    "start_time": "2022-03-13T21:27:35.807Z"
   },
   {
    "duration": 14,
    "start_time": "2022-03-13T21:27:35.836Z"
   },
   {
    "duration": 20,
    "start_time": "2022-03-13T21:27:35.851Z"
   },
   {
    "duration": 11,
    "start_time": "2022-03-13T21:27:35.873Z"
   },
   {
    "duration": 7,
    "start_time": "2022-03-13T21:27:35.886Z"
   },
   {
    "duration": 43,
    "start_time": "2022-03-13T21:27:35.894Z"
   },
   {
    "duration": 14,
    "start_time": "2022-03-13T21:27:35.938Z"
   },
   {
    "duration": 13,
    "start_time": "2022-03-13T21:27:35.954Z"
   },
   {
    "duration": 35,
    "start_time": "2022-03-13T21:27:35.968Z"
   },
   {
    "duration": 30,
    "start_time": "2022-03-13T21:27:44.322Z"
   },
   {
    "duration": 31,
    "start_time": "2022-03-13T21:28:01.739Z"
   },
   {
    "duration": 3,
    "start_time": "2022-03-13T21:28:10.478Z"
   },
   {
    "duration": 46,
    "start_time": "2022-03-13T21:28:10.483Z"
   },
   {
    "duration": 12,
    "start_time": "2022-03-13T21:28:10.530Z"
   },
   {
    "duration": 12,
    "start_time": "2022-03-13T21:28:10.544Z"
   },
   {
    "duration": 8,
    "start_time": "2022-03-13T21:28:10.557Z"
   },
   {
    "duration": 4,
    "start_time": "2022-03-13T21:28:10.567Z"
   },
   {
    "duration": 13,
    "start_time": "2022-03-13T21:28:10.572Z"
   },
   {
    "duration": 54,
    "start_time": "2022-03-13T21:28:10.586Z"
   },
   {
    "duration": 12,
    "start_time": "2022-03-13T21:28:10.641Z"
   },
   {
    "duration": 5,
    "start_time": "2022-03-13T21:28:10.655Z"
   },
   {
    "duration": 11,
    "start_time": "2022-03-13T21:28:10.662Z"
   },
   {
    "duration": 13,
    "start_time": "2022-03-13T21:28:10.675Z"
   },
   {
    "duration": 49,
    "start_time": "2022-03-13T21:28:10.690Z"
   },
   {
    "duration": 34,
    "start_time": "2022-03-13T21:28:10.742Z"
   },
   {
    "duration": 3,
    "start_time": "2022-03-14T10:37:46.904Z"
   },
   {
    "duration": 569,
    "start_time": "2022-03-14T10:37:59.188Z"
   },
   {
    "duration": 49,
    "start_time": "2022-03-14T10:37:59.760Z"
   },
   {
    "duration": 19,
    "start_time": "2022-03-14T10:37:59.811Z"
   },
   {
    "duration": 16,
    "start_time": "2022-03-14T10:37:59.832Z"
   },
   {
    "duration": 18,
    "start_time": "2022-03-14T10:37:59.850Z"
   },
   {
    "duration": 5,
    "start_time": "2022-03-14T10:37:59.869Z"
   },
   {
    "duration": 21,
    "start_time": "2022-03-14T10:37:59.876Z"
   },
   {
    "duration": 22,
    "start_time": "2022-03-14T10:37:59.899Z"
   },
   {
    "duration": 40,
    "start_time": "2022-03-14T10:37:59.924Z"
   },
   {
    "duration": 7,
    "start_time": "2022-03-14T10:37:59.967Z"
   },
   {
    "duration": 15,
    "start_time": "2022-03-14T10:37:59.975Z"
   },
   {
    "duration": 16,
    "start_time": "2022-03-14T10:37:59.992Z"
   },
   {
    "duration": 15,
    "start_time": "2022-03-14T10:38:00.010Z"
   },
   {
    "duration": 38,
    "start_time": "2022-03-14T10:38:00.064Z"
   },
   {
    "duration": 2,
    "start_time": "2022-03-14T13:37:46.811Z"
   },
   {
    "duration": 52,
    "start_time": "2022-03-14T13:37:46.815Z"
   },
   {
    "duration": 11,
    "start_time": "2022-03-14T13:37:46.869Z"
   },
   {
    "duration": 12,
    "start_time": "2022-03-14T13:37:46.882Z"
   },
   {
    "duration": 9,
    "start_time": "2022-03-14T13:37:46.896Z"
   },
   {
    "duration": 6,
    "start_time": "2022-03-14T13:37:46.906Z"
   },
   {
    "duration": 12,
    "start_time": "2022-03-14T13:37:46.914Z"
   },
   {
    "duration": 46,
    "start_time": "2022-03-14T13:37:46.927Z"
   },
   {
    "duration": 11,
    "start_time": "2022-03-14T13:37:46.975Z"
   },
   {
    "duration": 4,
    "start_time": "2022-03-14T13:37:46.988Z"
   },
   {
    "duration": 13,
    "start_time": "2022-03-14T13:37:46.994Z"
   },
   {
    "duration": 13,
    "start_time": "2022-03-14T13:37:47.008Z"
   },
   {
    "duration": 48,
    "start_time": "2022-03-14T13:37:47.023Z"
   },
   {
    "duration": 34,
    "start_time": "2022-03-14T13:37:47.073Z"
   },
   {
    "duration": 323,
    "start_time": "2022-03-14T13:40:50.249Z"
   },
   {
    "duration": 7,
    "start_time": "2022-03-14T13:41:02.924Z"
   },
   {
    "duration": 22,
    "start_time": "2022-03-14T13:48:22.116Z"
   },
   {
    "duration": 600,
    "start_time": "2022-03-14T13:49:11.158Z"
   },
   {
    "duration": 269,
    "start_time": "2022-03-14T13:50:47.160Z"
   },
   {
    "duration": 31,
    "start_time": "2022-03-14T13:51:14.830Z"
   },
   {
    "duration": 3,
    "start_time": "2022-03-14T13:51:26.457Z"
   },
   {
    "duration": 52,
    "start_time": "2022-03-14T13:51:26.462Z"
   },
   {
    "duration": 12,
    "start_time": "2022-03-14T13:51:26.516Z"
   },
   {
    "duration": 11,
    "start_time": "2022-03-14T13:51:26.530Z"
   },
   {
    "duration": 21,
    "start_time": "2022-03-14T13:51:26.543Z"
   },
   {
    "duration": 4,
    "start_time": "2022-03-14T13:51:26.565Z"
   },
   {
    "duration": 14,
    "start_time": "2022-03-14T13:51:26.571Z"
   },
   {
    "duration": 21,
    "start_time": "2022-03-14T13:51:26.586Z"
   },
   {
    "duration": 12,
    "start_time": "2022-03-14T13:51:26.609Z"
   },
   {
    "duration": 5,
    "start_time": "2022-03-14T13:51:26.622Z"
   },
   {
    "duration": 44,
    "start_time": "2022-03-14T13:51:26.628Z"
   },
   {
    "duration": 13,
    "start_time": "2022-03-14T13:51:26.674Z"
   },
   {
    "duration": 16,
    "start_time": "2022-03-14T13:51:26.689Z"
   },
   {
    "duration": 27,
    "start_time": "2022-03-14T13:51:26.706Z"
   },
   {
    "duration": 33,
    "start_time": "2022-03-14T13:51:26.734Z"
   },
   {
    "duration": 21,
    "start_time": "2022-03-14T13:51:26.769Z"
   },
   {
    "duration": 8,
    "start_time": "2022-03-14T13:55:29.416Z"
   },
   {
    "duration": 12,
    "start_time": "2022-03-14T13:55:41.059Z"
   },
   {
    "duration": 3,
    "start_time": "2022-03-14T13:55:52.500Z"
   },
   {
    "duration": 44,
    "start_time": "2022-03-14T13:55:52.505Z"
   },
   {
    "duration": 12,
    "start_time": "2022-03-14T13:55:52.551Z"
   },
   {
    "duration": 13,
    "start_time": "2022-03-14T13:55:52.565Z"
   },
   {
    "duration": 9,
    "start_time": "2022-03-14T13:55:52.580Z"
   },
   {
    "duration": 4,
    "start_time": "2022-03-14T13:55:52.595Z"
   },
   {
    "duration": 13,
    "start_time": "2022-03-14T13:55:52.601Z"
   },
   {
    "duration": 51,
    "start_time": "2022-03-14T13:55:52.617Z"
   },
   {
    "duration": 13,
    "start_time": "2022-03-14T13:55:52.670Z"
   },
   {
    "duration": 6,
    "start_time": "2022-03-14T13:55:52.685Z"
   },
   {
    "duration": 13,
    "start_time": "2022-03-14T13:55:52.692Z"
   },
   {
    "duration": 14,
    "start_time": "2022-03-14T13:55:52.707Z"
   },
   {
    "duration": 49,
    "start_time": "2022-03-14T13:55:52.723Z"
   },
   {
    "duration": 25,
    "start_time": "2022-03-14T13:55:52.774Z"
   },
   {
    "duration": 5,
    "start_time": "2022-03-14T13:55:52.801Z"
   },
   {
    "duration": 33,
    "start_time": "2022-03-14T13:55:52.807Z"
   },
   {
    "duration": 23,
    "start_time": "2022-03-14T13:55:52.842Z"
   },
   {
    "duration": 244,
    "start_time": "2022-03-14T14:02:46.596Z"
   },
   {
    "duration": 3,
    "start_time": "2022-03-14T14:03:16.908Z"
   },
   {
    "duration": 51,
    "start_time": "2022-03-14T14:03:16.912Z"
   },
   {
    "duration": 12,
    "start_time": "2022-03-14T14:03:16.965Z"
   },
   {
    "duration": 12,
    "start_time": "2022-03-14T14:03:16.980Z"
   },
   {
    "duration": 10,
    "start_time": "2022-03-14T14:03:16.994Z"
   },
   {
    "duration": 6,
    "start_time": "2022-03-14T14:03:17.005Z"
   },
   {
    "duration": 15,
    "start_time": "2022-03-14T14:03:17.012Z"
   },
   {
    "duration": 51,
    "start_time": "2022-03-14T14:03:17.029Z"
   },
   {
    "duration": 12,
    "start_time": "2022-03-14T14:03:17.082Z"
   },
   {
    "duration": 5,
    "start_time": "2022-03-14T14:03:17.096Z"
   },
   {
    "duration": 12,
    "start_time": "2022-03-14T14:03:17.103Z"
   },
   {
    "duration": 21,
    "start_time": "2022-03-14T14:03:17.117Z"
   },
   {
    "duration": 13,
    "start_time": "2022-03-14T14:03:17.163Z"
   },
   {
    "duration": 29,
    "start_time": "2022-03-14T14:03:17.177Z"
   },
   {
    "duration": 6,
    "start_time": "2022-03-14T14:03:17.208Z"
   },
   {
    "duration": 20,
    "start_time": "2022-03-14T14:03:17.216Z"
   },
   {
    "duration": 33,
    "start_time": "2022-03-14T14:03:17.237Z"
   },
   {
    "duration": 234,
    "start_time": "2022-03-14T14:03:17.272Z"
   },
   {
    "duration": 293,
    "start_time": "2022-03-14T14:05:06.853Z"
   },
   {
    "duration": 25,
    "start_time": "2022-03-14T14:05:12.960Z"
   },
   {
    "duration": 6,
    "start_time": "2022-03-14T14:07:33.149Z"
   },
   {
    "duration": 7,
    "start_time": "2022-03-14T14:08:02.258Z"
   },
   {
    "duration": 19,
    "start_time": "2022-03-14T14:08:30.088Z"
   },
   {
    "duration": 3,
    "start_time": "2022-03-14T14:08:34.519Z"
   },
   {
    "duration": 52,
    "start_time": "2022-03-14T14:08:34.524Z"
   },
   {
    "duration": 12,
    "start_time": "2022-03-14T14:08:34.578Z"
   },
   {
    "duration": 12,
    "start_time": "2022-03-14T14:08:34.592Z"
   },
   {
    "duration": 9,
    "start_time": "2022-03-14T14:08:34.606Z"
   },
   {
    "duration": 7,
    "start_time": "2022-03-14T14:08:34.616Z"
   },
   {
    "duration": 48,
    "start_time": "2022-03-14T14:08:34.624Z"
   },
   {
    "duration": 23,
    "start_time": "2022-03-14T14:08:34.673Z"
   },
   {
    "duration": 14,
    "start_time": "2022-03-14T14:08:34.700Z"
   },
   {
    "duration": 7,
    "start_time": "2022-03-14T14:08:34.717Z"
   },
   {
    "duration": 45,
    "start_time": "2022-03-14T14:08:34.726Z"
   },
   {
    "duration": 15,
    "start_time": "2022-03-14T14:08:34.773Z"
   },
   {
    "duration": 21,
    "start_time": "2022-03-14T14:08:34.790Z"
   },
   {
    "duration": 27,
    "start_time": "2022-03-14T14:08:34.812Z"
   },
   {
    "duration": 26,
    "start_time": "2022-03-14T14:08:34.840Z"
   },
   {
    "duration": 24,
    "start_time": "2022-03-14T14:08:34.868Z"
   },
   {
    "duration": 16,
    "start_time": "2022-03-14T14:08:34.894Z"
   },
   {
    "duration": 21,
    "start_time": "2022-03-14T14:08:34.911Z"
   },
   {
    "duration": 32,
    "start_time": "2022-03-14T14:08:34.935Z"
   },
   {
    "duration": 25,
    "start_time": "2022-03-14T14:08:34.969Z"
   },
   {
    "duration": 6,
    "start_time": "2022-03-14T14:09:07.301Z"
   },
   {
    "duration": 8,
    "start_time": "2022-03-14T14:09:30.986Z"
   },
   {
    "duration": 13,
    "start_time": "2022-03-14T14:12:36.585Z"
   },
   {
    "duration": 8,
    "start_time": "2022-03-14T14:19:57.445Z"
   },
   {
    "duration": 6,
    "start_time": "2022-03-14T14:20:24.971Z"
   },
   {
    "duration": 9,
    "start_time": "2022-03-14T14:24:09.664Z"
   },
   {
    "duration": 8,
    "start_time": "2022-03-14T14:26:40.099Z"
   },
   {
    "duration": 22,
    "start_time": "2022-03-14T14:31:10.493Z"
   },
   {
    "duration": 2,
    "start_time": "2022-03-14T14:31:45.995Z"
   },
   {
    "duration": 31,
    "start_time": "2022-03-14T14:32:45.143Z"
   },
   {
    "duration": 280,
    "start_time": "2022-03-14T20:00:28.285Z"
   },
   {
    "duration": 559,
    "start_time": "2022-03-14T20:00:33.017Z"
   },
   {
    "duration": 47,
    "start_time": "2022-03-14T20:00:33.579Z"
   },
   {
    "duration": 21,
    "start_time": "2022-03-14T20:00:33.629Z"
   },
   {
    "duration": 20,
    "start_time": "2022-03-14T20:00:33.652Z"
   },
   {
    "duration": 9,
    "start_time": "2022-03-14T20:00:33.674Z"
   },
   {
    "duration": 5,
    "start_time": "2022-03-14T20:00:33.685Z"
   },
   {
    "duration": 15,
    "start_time": "2022-03-14T20:00:33.691Z"
   },
   {
    "duration": 23,
    "start_time": "2022-03-14T20:00:33.707Z"
   },
   {
    "duration": 41,
    "start_time": "2022-03-14T20:00:33.732Z"
   },
   {
    "duration": 5,
    "start_time": "2022-03-14T20:00:33.775Z"
   },
   {
    "duration": 15,
    "start_time": "2022-03-14T20:00:33.781Z"
   },
   {
    "duration": 15,
    "start_time": "2022-03-14T20:00:33.797Z"
   },
   {
    "duration": 12,
    "start_time": "2022-03-14T20:00:33.814Z"
   },
   {
    "duration": 61,
    "start_time": "2022-03-14T20:00:33.827Z"
   },
   {
    "duration": 5,
    "start_time": "2022-03-14T20:00:33.890Z"
   },
   {
    "duration": 21,
    "start_time": "2022-03-14T20:00:33.897Z"
   },
   {
    "duration": 13,
    "start_time": "2022-03-14T20:00:33.920Z"
   },
   {
    "duration": 44,
    "start_time": "2022-03-14T20:00:33.934Z"
   },
   {
    "duration": 5,
    "start_time": "2022-03-14T20:00:33.979Z"
   },
   {
    "duration": 20,
    "start_time": "2022-03-14T20:00:33.986Z"
   },
   {
    "duration": 5,
    "start_time": "2022-03-14T20:00:34.008Z"
   },
   {
    "duration": 6,
    "start_time": "2022-03-14T20:00:34.015Z"
   },
   {
    "duration": 49,
    "start_time": "2022-03-14T20:00:34.023Z"
   },
   {
    "duration": 6,
    "start_time": "2022-03-14T20:00:34.074Z"
   },
   {
    "duration": 8,
    "start_time": "2022-03-14T20:00:34.081Z"
   },
   {
    "duration": 8,
    "start_time": "2022-03-14T20:00:34.091Z"
   },
   {
    "duration": 6,
    "start_time": "2022-03-14T20:00:34.102Z"
   },
   {
    "duration": 54,
    "start_time": "2022-03-14T20:00:34.110Z"
   },
   {
    "duration": 28,
    "start_time": "2022-03-14T20:00:34.165Z"
   },
   {
    "duration": 3,
    "start_time": "2022-03-14T20:00:34.195Z"
   },
   {
    "duration": 5,
    "start_time": "2022-03-14T20:00:43.127Z"
   },
   {
    "duration": 12,
    "start_time": "2022-03-14T20:01:07.735Z"
   },
   {
    "duration": 10,
    "start_time": "2022-03-14T20:03:40.783Z"
   },
   {
    "duration": 8,
    "start_time": "2022-03-14T20:03:59.900Z"
   },
   {
    "duration": 12,
    "start_time": "2022-03-14T20:04:03.833Z"
   },
   {
    "duration": 14,
    "start_time": "2022-03-14T20:09:47.829Z"
   },
   {
    "duration": 13,
    "start_time": "2022-03-14T20:09:57.451Z"
   },
   {
    "duration": 2,
    "start_time": "2022-03-14T20:10:04.126Z"
   },
   {
    "duration": 50,
    "start_time": "2022-03-14T20:10:04.130Z"
   },
   {
    "duration": 13,
    "start_time": "2022-03-14T20:10:04.182Z"
   },
   {
    "duration": 12,
    "start_time": "2022-03-14T20:10:04.196Z"
   },
   {
    "duration": 9,
    "start_time": "2022-03-14T20:10:04.210Z"
   },
   {
    "duration": 4,
    "start_time": "2022-03-14T20:10:04.221Z"
   },
   {
    "duration": 46,
    "start_time": "2022-03-14T20:10:04.227Z"
   },
   {
    "duration": 26,
    "start_time": "2022-03-14T20:10:04.275Z"
   },
   {
    "duration": 18,
    "start_time": "2022-03-14T20:10:04.304Z"
   },
   {
    "duration": 6,
    "start_time": "2022-03-14T20:10:04.325Z"
   },
   {
    "duration": 41,
    "start_time": "2022-03-14T20:10:04.333Z"
   },
   {
    "duration": 13,
    "start_time": "2022-03-14T20:10:04.376Z"
   },
   {
    "duration": 16,
    "start_time": "2022-03-14T20:10:04.391Z"
   },
   {
    "duration": 27,
    "start_time": "2022-03-14T20:10:04.408Z"
   },
   {
    "duration": 31,
    "start_time": "2022-03-14T20:10:04.437Z"
   },
   {
    "duration": 21,
    "start_time": "2022-03-14T20:10:04.470Z"
   },
   {
    "duration": 10,
    "start_time": "2022-03-14T20:10:04.493Z"
   },
   {
    "duration": 27,
    "start_time": "2022-03-14T20:10:04.505Z"
   },
   {
    "duration": 31,
    "start_time": "2022-03-14T20:10:04.533Z"
   },
   {
    "duration": 19,
    "start_time": "2022-03-14T20:10:04.565Z"
   },
   {
    "duration": 14,
    "start_time": "2022-03-14T20:10:04.585Z"
   },
   {
    "duration": 11,
    "start_time": "2022-03-14T20:10:04.600Z"
   },
   {
    "duration": 14,
    "start_time": "2022-03-14T20:10:04.613Z"
   },
   {
    "duration": 7,
    "start_time": "2022-03-14T20:10:04.629Z"
   },
   {
    "duration": 27,
    "start_time": "2022-03-14T20:10:04.637Z"
   },
   {
    "duration": 10,
    "start_time": "2022-03-14T20:10:04.665Z"
   },
   {
    "duration": 14,
    "start_time": "2022-03-14T20:10:04.679Z"
   },
   {
    "duration": 30,
    "start_time": "2022-03-14T20:10:04.695Z"
   },
   {
    "duration": 44,
    "start_time": "2022-03-14T20:10:04.726Z"
   },
   {
    "duration": 13,
    "start_time": "2022-03-14T20:10:04.772Z"
   },
   {
    "duration": 16,
    "start_time": "2022-03-14T20:10:04.787Z"
   },
   {
    "duration": 5,
    "start_time": "2022-03-14T20:48:22.469Z"
   },
   {
    "duration": 235,
    "start_time": "2022-03-14T20:48:25.936Z"
   },
   {
    "duration": 3,
    "start_time": "2022-03-14T20:48:34.135Z"
   },
   {
    "duration": 86,
    "start_time": "2022-03-14T20:48:34.140Z"
   },
   {
    "duration": 12,
    "start_time": "2022-03-14T20:48:34.228Z"
   },
   {
    "duration": 13,
    "start_time": "2022-03-14T20:48:34.242Z"
   },
   {
    "duration": 10,
    "start_time": "2022-03-14T20:48:34.257Z"
   },
   {
    "duration": 5,
    "start_time": "2022-03-14T20:48:34.268Z"
   },
   {
    "duration": 13,
    "start_time": "2022-03-14T20:48:34.274Z"
   },
   {
    "duration": 20,
    "start_time": "2022-03-14T20:48:34.289Z"
   },
   {
    "duration": 12,
    "start_time": "2022-03-14T20:48:34.311Z"
   },
   {
    "duration": 42,
    "start_time": "2022-03-14T20:48:34.324Z"
   },
   {
    "duration": 11,
    "start_time": "2022-03-14T20:48:34.368Z"
   },
   {
    "duration": 12,
    "start_time": "2022-03-14T20:48:34.380Z"
   },
   {
    "duration": 16,
    "start_time": "2022-03-14T20:48:34.394Z"
   },
   {
    "duration": 53,
    "start_time": "2022-03-14T20:48:34.411Z"
   },
   {
    "duration": 6,
    "start_time": "2022-03-14T20:48:34.465Z"
   },
   {
    "duration": 21,
    "start_time": "2022-03-14T20:48:34.473Z"
   },
   {
    "duration": 8,
    "start_time": "2022-03-14T20:48:34.496Z"
   },
   {
    "duration": 15,
    "start_time": "2022-03-14T20:48:34.506Z"
   },
   {
    "duration": 6,
    "start_time": "2022-03-14T20:48:34.523Z"
   },
   {
    "duration": 19,
    "start_time": "2022-03-14T20:48:34.564Z"
   },
   {
    "duration": 9,
    "start_time": "2022-03-14T20:48:34.585Z"
   },
   {
    "duration": 13,
    "start_time": "2022-03-14T20:48:34.595Z"
   },
   {
    "duration": 14,
    "start_time": "2022-03-14T20:48:34.610Z"
   },
   {
    "duration": 6,
    "start_time": "2022-03-14T20:48:34.626Z"
   },
   {
    "duration": 31,
    "start_time": "2022-03-14T20:48:34.634Z"
   },
   {
    "duration": 10,
    "start_time": "2022-03-14T20:48:34.666Z"
   },
   {
    "duration": 7,
    "start_time": "2022-03-14T20:48:34.677Z"
   },
   {
    "duration": 21,
    "start_time": "2022-03-14T20:48:34.685Z"
   },
   {
    "duration": 28,
    "start_time": "2022-03-14T20:48:34.708Z"
   },
   {
    "duration": 12,
    "start_time": "2022-03-14T20:48:34.763Z"
   },
   {
    "duration": 11,
    "start_time": "2022-03-14T20:48:34.776Z"
   },
   {
    "duration": 6,
    "start_time": "2022-03-14T20:48:34.788Z"
   },
   {
    "duration": 3,
    "start_time": "2022-03-14T20:48:40.053Z"
   },
   {
    "duration": 51,
    "start_time": "2022-03-14T20:48:40.058Z"
   },
   {
    "duration": 12,
    "start_time": "2022-03-14T20:48:40.111Z"
   },
   {
    "duration": 12,
    "start_time": "2022-03-14T20:48:40.125Z"
   },
   {
    "duration": 29,
    "start_time": "2022-03-14T20:48:40.139Z"
   },
   {
    "duration": 5,
    "start_time": "2022-03-14T20:48:40.170Z"
   },
   {
    "duration": 17,
    "start_time": "2022-03-14T20:48:40.176Z"
   },
   {
    "duration": 20,
    "start_time": "2022-03-14T20:48:40.195Z"
   },
   {
    "duration": 13,
    "start_time": "2022-03-14T20:48:40.217Z"
   },
   {
    "duration": 32,
    "start_time": "2022-03-14T20:48:40.231Z"
   },
   {
    "duration": 11,
    "start_time": "2022-03-14T20:48:40.265Z"
   },
   {
    "duration": 13,
    "start_time": "2022-03-14T20:48:40.277Z"
   },
   {
    "duration": 13,
    "start_time": "2022-03-14T20:48:40.292Z"
   },
   {
    "duration": 23,
    "start_time": "2022-03-14T20:48:40.307Z"
   },
   {
    "duration": 34,
    "start_time": "2022-03-14T20:48:40.332Z"
   },
   {
    "duration": 21,
    "start_time": "2022-03-14T20:48:40.368Z"
   },
   {
    "duration": 9,
    "start_time": "2022-03-14T20:48:40.391Z"
   },
   {
    "duration": 16,
    "start_time": "2022-03-14T20:48:40.402Z"
   },
   {
    "duration": 5,
    "start_time": "2022-03-14T20:48:40.420Z"
   },
   {
    "duration": 51,
    "start_time": "2022-03-14T20:48:40.426Z"
   },
   {
    "duration": 5,
    "start_time": "2022-03-14T20:48:40.479Z"
   },
   {
    "duration": 10,
    "start_time": "2022-03-14T20:48:40.486Z"
   },
   {
    "duration": 18,
    "start_time": "2022-03-14T20:48:40.498Z"
   },
   {
    "duration": 7,
    "start_time": "2022-03-14T20:48:40.517Z"
   },
   {
    "duration": 6,
    "start_time": "2022-03-14T20:48:40.526Z"
   },
   {
    "duration": 30,
    "start_time": "2022-03-14T20:48:40.534Z"
   },
   {
    "duration": 8,
    "start_time": "2022-03-14T20:48:40.567Z"
   },
   {
    "duration": 25,
    "start_time": "2022-03-14T20:48:40.576Z"
   },
   {
    "duration": 30,
    "start_time": "2022-03-14T20:48:40.603Z"
   },
   {
    "duration": 35,
    "start_time": "2022-03-14T20:48:40.635Z"
   },
   {
    "duration": 11,
    "start_time": "2022-03-14T20:48:40.671Z"
   },
   {
    "duration": 4,
    "start_time": "2022-03-14T20:48:40.684Z"
   },
   {
    "duration": 3,
    "start_time": "2022-03-14T20:48:49.401Z"
   },
   {
    "duration": 47,
    "start_time": "2022-03-14T20:48:49.405Z"
   },
   {
    "duration": 13,
    "start_time": "2022-03-14T20:48:49.454Z"
   },
   {
    "duration": 13,
    "start_time": "2022-03-14T20:48:49.469Z"
   },
   {
    "duration": 13,
    "start_time": "2022-03-14T20:48:49.484Z"
   },
   {
    "duration": 6,
    "start_time": "2022-03-14T20:48:49.499Z"
   },
   {
    "duration": 15,
    "start_time": "2022-03-14T20:48:49.507Z"
   },
   {
    "duration": 54,
    "start_time": "2022-03-14T20:48:49.524Z"
   },
   {
    "duration": 18,
    "start_time": "2022-03-14T20:48:49.581Z"
   },
   {
    "duration": 6,
    "start_time": "2022-03-14T20:48:49.601Z"
   },
   {
    "duration": 11,
    "start_time": "2022-03-14T20:48:49.609Z"
   },
   {
    "duration": 13,
    "start_time": "2022-03-14T20:48:49.622Z"
   },
   {
    "duration": 38,
    "start_time": "2022-03-14T20:48:49.636Z"
   },
   {
    "duration": 25,
    "start_time": "2022-03-14T20:48:49.675Z"
   },
   {
    "duration": 5,
    "start_time": "2022-03-14T20:48:49.702Z"
   },
   {
    "duration": 23,
    "start_time": "2022-03-14T20:48:49.709Z"
   },
   {
    "duration": 37,
    "start_time": "2022-03-14T20:48:49.734Z"
   },
   {
    "duration": 19,
    "start_time": "2022-03-14T20:48:49.773Z"
   },
   {
    "duration": 5,
    "start_time": "2022-03-14T20:48:49.793Z"
   },
   {
    "duration": 30,
    "start_time": "2022-03-14T20:48:49.799Z"
   },
   {
    "duration": 34,
    "start_time": "2022-03-14T20:48:49.830Z"
   },
   {
    "duration": 7,
    "start_time": "2022-03-14T20:48:49.865Z"
   },
   {
    "duration": 14,
    "start_time": "2022-03-14T20:48:49.873Z"
   },
   {
    "duration": 6,
    "start_time": "2022-03-14T20:48:49.888Z"
   },
   {
    "duration": 6,
    "start_time": "2022-03-14T20:48:49.896Z"
   },
   {
    "duration": 8,
    "start_time": "2022-03-14T20:48:49.904Z"
   },
   {
    "duration": 6,
    "start_time": "2022-03-14T20:48:49.915Z"
   },
   {
    "duration": 54,
    "start_time": "2022-03-14T20:48:49.923Z"
   },
   {
    "duration": 31,
    "start_time": "2022-03-14T20:48:49.979Z"
   },
   {
    "duration": 13,
    "start_time": "2022-03-14T20:48:50.012Z"
   },
   {
    "duration": 38,
    "start_time": "2022-03-14T20:48:50.026Z"
   },
   {
    "duration": 21,
    "start_time": "2022-03-14T20:48:50.067Z"
   },
   {
    "duration": 251,
    "start_time": "2022-03-14T20:49:30.207Z"
   },
   {
    "duration": 224,
    "start_time": "2022-03-14T20:49:37.368Z"
   },
   {
    "duration": 20,
    "start_time": "2022-03-14T20:49:44.250Z"
   },
   {
    "duration": 2,
    "start_time": "2022-03-14T20:49:46.982Z"
   },
   {
    "duration": 48,
    "start_time": "2022-03-14T20:49:46.986Z"
   },
   {
    "duration": 12,
    "start_time": "2022-03-14T20:49:47.036Z"
   },
   {
    "duration": 14,
    "start_time": "2022-03-14T20:49:47.050Z"
   },
   {
    "duration": 8,
    "start_time": "2022-03-14T20:49:47.066Z"
   },
   {
    "duration": 7,
    "start_time": "2022-03-14T20:49:47.075Z"
   },
   {
    "duration": 12,
    "start_time": "2022-03-14T20:49:47.084Z"
   },
   {
    "duration": 21,
    "start_time": "2022-03-14T20:49:47.098Z"
   },
   {
    "duration": 42,
    "start_time": "2022-03-14T20:49:47.121Z"
   },
   {
    "duration": 6,
    "start_time": "2022-03-14T20:49:47.164Z"
   },
   {
    "duration": 14,
    "start_time": "2022-03-14T20:49:47.171Z"
   },
   {
    "duration": 13,
    "start_time": "2022-03-14T20:49:47.186Z"
   },
   {
    "duration": 19,
    "start_time": "2022-03-14T20:49:47.201Z"
   },
   {
    "duration": 63,
    "start_time": "2022-03-14T20:49:47.221Z"
   },
   {
    "duration": 7,
    "start_time": "2022-03-14T20:49:47.286Z"
   },
   {
    "duration": 28,
    "start_time": "2022-03-14T20:49:47.295Z"
   },
   {
    "duration": 12,
    "start_time": "2022-03-14T20:49:47.324Z"
   },
   {
    "duration": 26,
    "start_time": "2022-03-14T20:49:47.362Z"
   },
   {
    "duration": 7,
    "start_time": "2022-03-14T20:49:47.389Z"
   },
   {
    "duration": 18,
    "start_time": "2022-03-14T20:49:47.398Z"
   },
   {
    "duration": 5,
    "start_time": "2022-03-14T20:49:47.418Z"
   },
   {
    "duration": 8,
    "start_time": "2022-03-14T20:49:47.424Z"
   },
   {
    "duration": 39,
    "start_time": "2022-03-14T20:49:47.435Z"
   },
   {
    "duration": 6,
    "start_time": "2022-03-14T20:49:47.476Z"
   },
   {
    "duration": 7,
    "start_time": "2022-03-14T20:49:47.484Z"
   },
   {
    "duration": 9,
    "start_time": "2022-03-14T20:49:47.493Z"
   },
   {
    "duration": 8,
    "start_time": "2022-03-14T20:49:47.503Z"
   },
   {
    "duration": 51,
    "start_time": "2022-03-14T20:49:47.513Z"
   },
   {
    "duration": 30,
    "start_time": "2022-03-14T20:49:47.566Z"
   },
   {
    "duration": 11,
    "start_time": "2022-03-14T20:49:47.598Z"
   },
   {
    "duration": 11,
    "start_time": "2022-03-14T20:49:47.610Z"
   },
   {
    "duration": 48,
    "start_time": "2022-03-14T20:49:47.623Z"
   },
   {
    "duration": 3,
    "start_time": "2022-03-14T20:50:06.005Z"
   },
   {
    "duration": 47,
    "start_time": "2022-03-14T20:50:06.010Z"
   },
   {
    "duration": 13,
    "start_time": "2022-03-14T20:50:06.059Z"
   },
   {
    "duration": 16,
    "start_time": "2022-03-14T20:50:06.074Z"
   },
   {
    "duration": 9,
    "start_time": "2022-03-14T20:50:06.092Z"
   },
   {
    "duration": 6,
    "start_time": "2022-03-14T20:50:06.103Z"
   },
   {
    "duration": 15,
    "start_time": "2022-03-14T20:50:06.111Z"
   },
   {
    "duration": 41,
    "start_time": "2022-03-14T20:50:06.128Z"
   },
   {
    "duration": 12,
    "start_time": "2022-03-14T20:50:06.171Z"
   },
   {
    "duration": 5,
    "start_time": "2022-03-14T20:50:06.185Z"
   },
   {
    "duration": 12,
    "start_time": "2022-03-14T20:50:06.191Z"
   },
   {
    "duration": 12,
    "start_time": "2022-03-14T20:50:06.205Z"
   },
   {
    "duration": 13,
    "start_time": "2022-03-14T20:50:06.219Z"
   },
   {
    "duration": 26,
    "start_time": "2022-03-14T20:50:06.263Z"
   },
   {
    "duration": 6,
    "start_time": "2022-03-14T20:50:06.290Z"
   },
   {
    "duration": 24,
    "start_time": "2022-03-14T20:50:06.297Z"
   },
   {
    "duration": 11,
    "start_time": "2022-03-14T20:50:06.323Z"
   },
   {
    "duration": 17,
    "start_time": "2022-03-14T20:50:06.363Z"
   },
   {
    "duration": 5,
    "start_time": "2022-03-14T20:50:06.382Z"
   },
   {
    "duration": 17,
    "start_time": "2022-03-14T20:50:06.389Z"
   },
   {
    "duration": 6,
    "start_time": "2022-03-14T20:50:06.407Z"
   },
   {
    "duration": 7,
    "start_time": "2022-03-14T20:50:06.415Z"
   },
   {
    "duration": 41,
    "start_time": "2022-03-14T20:50:06.423Z"
   },
   {
    "duration": 6,
    "start_time": "2022-03-14T20:50:06.466Z"
   },
   {
    "duration": 9,
    "start_time": "2022-03-14T20:50:06.474Z"
   },
   {
    "duration": 8,
    "start_time": "2022-03-14T20:50:06.484Z"
   },
   {
    "duration": 8,
    "start_time": "2022-03-14T20:50:06.494Z"
   },
   {
    "duration": 25,
    "start_time": "2022-03-14T20:50:06.503Z"
   },
   {
    "duration": 57,
    "start_time": "2022-03-14T20:50:06.530Z"
   },
   {
    "duration": 11,
    "start_time": "2022-03-14T20:50:06.589Z"
   },
   {
    "duration": 11,
    "start_time": "2022-03-14T20:50:06.601Z"
   },
   {
    "duration": 49,
    "start_time": "2022-03-14T20:50:06.614Z"
   },
   {
    "duration": 547,
    "start_time": "2022-03-15T22:21:48.687Z"
   },
   {
    "duration": 53,
    "start_time": "2022-03-15T22:21:49.236Z"
   },
   {
    "duration": 20,
    "start_time": "2022-03-15T22:21:49.291Z"
   },
   {
    "duration": 10,
    "start_time": "2022-03-15T22:21:49.313Z"
   },
   {
    "duration": 17,
    "start_time": "2022-03-15T22:21:49.324Z"
   },
   {
    "duration": 4,
    "start_time": "2022-03-15T22:21:49.342Z"
   },
   {
    "duration": 13,
    "start_time": "2022-03-15T22:21:49.348Z"
   },
   {
    "duration": 22,
    "start_time": "2022-03-15T22:21:49.363Z"
   },
   {
    "duration": 12,
    "start_time": "2022-03-15T22:21:49.388Z"
   },
   {
    "duration": 36,
    "start_time": "2022-03-15T22:21:49.402Z"
   },
   {
    "duration": 12,
    "start_time": "2022-03-15T22:21:49.440Z"
   },
   {
    "duration": 13,
    "start_time": "2022-03-15T22:21:49.453Z"
   },
   {
    "duration": 13,
    "start_time": "2022-03-15T22:21:49.468Z"
   },
   {
    "duration": 25,
    "start_time": "2022-03-15T22:21:49.482Z"
   },
   {
    "duration": 33,
    "start_time": "2022-03-15T22:21:49.509Z"
   },
   {
    "duration": 24,
    "start_time": "2022-03-15T22:21:49.543Z"
   },
   {
    "duration": 11,
    "start_time": "2022-03-15T22:21:49.568Z"
   },
   {
    "duration": 16,
    "start_time": "2022-03-15T22:21:49.581Z"
   },
   {
    "duration": 5,
    "start_time": "2022-03-15T22:21:49.599Z"
   },
   {
    "duration": 48,
    "start_time": "2022-03-15T22:21:49.606Z"
   },
   {
    "duration": 8,
    "start_time": "2022-03-15T22:21:49.656Z"
   },
   {
    "duration": 9,
    "start_time": "2022-03-15T22:21:49.665Z"
   },
   {
    "duration": 15,
    "start_time": "2022-03-15T22:21:49.675Z"
   },
   {
    "duration": 6,
    "start_time": "2022-03-15T22:21:49.692Z"
   },
   {
    "duration": 8,
    "start_time": "2022-03-15T22:21:49.699Z"
   },
   {
    "duration": 9,
    "start_time": "2022-03-15T22:21:49.738Z"
   },
   {
    "duration": 6,
    "start_time": "2022-03-15T22:21:49.750Z"
   },
   {
    "duration": 21,
    "start_time": "2022-03-15T22:21:49.758Z"
   },
   {
    "duration": 30,
    "start_time": "2022-03-15T22:21:49.781Z"
   },
   {
    "duration": 11,
    "start_time": "2022-03-15T22:21:49.838Z"
   },
   {
    "duration": 12,
    "start_time": "2022-03-15T22:21:49.851Z"
   },
   {
    "duration": 20,
    "start_time": "2022-03-15T22:21:49.865Z"
   },
   {
    "duration": 2,
    "start_time": "2022-03-15T22:21:49.887Z"
   },
   {
    "duration": 10,
    "start_time": "2022-03-15T22:21:49.891Z"
   },
   {
    "duration": 22,
    "start_time": "2022-03-15T22:21:57.586Z"
   },
   {
    "duration": 3,
    "start_time": "2022-03-15T22:23:05.901Z"
   },
   {
    "duration": 59,
    "start_time": "2022-03-15T22:23:05.905Z"
   },
   {
    "duration": 13,
    "start_time": "2022-03-15T22:23:05.966Z"
   },
   {
    "duration": 24,
    "start_time": "2022-03-15T22:23:05.981Z"
   },
   {
    "duration": 10,
    "start_time": "2022-03-15T22:23:06.006Z"
   },
   {
    "duration": 6,
    "start_time": "2022-03-15T22:23:06.018Z"
   },
   {
    "duration": 22,
    "start_time": "2022-03-15T22:23:06.026Z"
   },
   {
    "duration": 22,
    "start_time": "2022-03-15T22:23:06.049Z"
   },
   {
    "duration": 13,
    "start_time": "2022-03-15T22:23:06.074Z"
   },
   {
    "duration": 5,
    "start_time": "2022-03-15T22:23:06.089Z"
   },
   {
    "duration": 45,
    "start_time": "2022-03-15T22:23:06.095Z"
   },
   {
    "duration": 12,
    "start_time": "2022-03-15T22:23:06.142Z"
   },
   {
    "duration": 16,
    "start_time": "2022-03-15T22:23:06.156Z"
   },
   {
    "duration": 24,
    "start_time": "2022-03-15T22:23:06.174Z"
   },
   {
    "duration": 5,
    "start_time": "2022-03-15T22:23:06.199Z"
   },
   {
    "duration": 47,
    "start_time": "2022-03-15T22:23:06.205Z"
   },
   {
    "duration": 9,
    "start_time": "2022-03-15T22:23:06.254Z"
   },
   {
    "duration": 16,
    "start_time": "2022-03-15T22:23:06.264Z"
   },
   {
    "duration": 7,
    "start_time": "2022-03-15T22:23:06.282Z"
   },
   {
    "duration": 20,
    "start_time": "2022-03-15T22:23:06.291Z"
   },
   {
    "duration": 6,
    "start_time": "2022-03-15T22:23:06.338Z"
   },
   {
    "duration": 10,
    "start_time": "2022-03-15T22:23:06.345Z"
   },
   {
    "duration": 17,
    "start_time": "2022-03-15T22:23:06.357Z"
   },
   {
    "duration": 11,
    "start_time": "2022-03-15T22:23:06.375Z"
   },
   {
    "duration": 8,
    "start_time": "2022-03-15T22:23:06.387Z"
   },
   {
    "duration": 8,
    "start_time": "2022-03-15T22:23:06.397Z"
   },
   {
    "duration": 34,
    "start_time": "2022-03-15T22:23:06.408Z"
   },
   {
    "duration": 24,
    "start_time": "2022-03-15T22:23:06.444Z"
   },
   {
    "duration": 28,
    "start_time": "2022-03-15T22:23:06.470Z"
   },
   {
    "duration": 11,
    "start_time": "2022-03-15T22:23:06.499Z"
   },
   {
    "duration": 35,
    "start_time": "2022-03-15T22:23:06.512Z"
   },
   {
    "duration": 20,
    "start_time": "2022-03-15T22:23:06.549Z"
   },
   {
    "duration": 6,
    "start_time": "2022-03-15T22:23:06.571Z"
   },
   {
    "duration": 26,
    "start_time": "2022-03-15T22:23:06.578Z"
   },
   {
    "duration": 2,
    "start_time": "2022-03-15T22:25:40.418Z"
   },
   {
    "duration": 59,
    "start_time": "2022-03-15T22:25:40.423Z"
   },
   {
    "duration": 14,
    "start_time": "2022-03-15T22:25:40.484Z"
   },
   {
    "duration": 16,
    "start_time": "2022-03-15T22:25:40.499Z"
   },
   {
    "duration": 11,
    "start_time": "2022-03-15T22:25:40.538Z"
   },
   {
    "duration": 7,
    "start_time": "2022-03-15T22:25:40.550Z"
   },
   {
    "duration": 15,
    "start_time": "2022-03-15T22:25:40.558Z"
   },
   {
    "duration": 21,
    "start_time": "2022-03-15T22:25:40.575Z"
   },
   {
    "duration": 46,
    "start_time": "2022-03-15T22:25:40.598Z"
   },
   {
    "duration": 5,
    "start_time": "2022-03-15T22:25:40.646Z"
   },
   {
    "duration": 13,
    "start_time": "2022-03-15T22:25:40.653Z"
   },
   {
    "duration": 14,
    "start_time": "2022-03-15T22:25:40.667Z"
   },
   {
    "duration": 13,
    "start_time": "2022-03-15T22:25:40.683Z"
   },
   {
    "duration": 61,
    "start_time": "2022-03-15T22:25:40.698Z"
   },
   {
    "duration": 7,
    "start_time": "2022-03-15T22:25:40.761Z"
   },
   {
    "duration": 25,
    "start_time": "2022-03-15T22:25:40.770Z"
   },
   {
    "duration": 12,
    "start_time": "2022-03-15T22:25:40.797Z"
   },
   {
    "duration": 19,
    "start_time": "2022-03-15T22:25:40.837Z"
   },
   {
    "duration": 7,
    "start_time": "2022-03-15T22:25:40.858Z"
   },
   {
    "duration": 22,
    "start_time": "2022-03-15T22:25:40.867Z"
   },
   {
    "duration": 13,
    "start_time": "2022-03-15T22:25:40.891Z"
   },
   {
    "duration": 34,
    "start_time": "2022-03-15T22:25:40.906Z"
   },
   {
    "duration": 13,
    "start_time": "2022-03-15T22:25:40.942Z"
   },
   {
    "duration": 8,
    "start_time": "2022-03-15T22:25:40.957Z"
   },
   {
    "duration": 15,
    "start_time": "2022-03-15T22:25:40.967Z"
   },
   {
    "duration": 12,
    "start_time": "2022-03-15T22:25:40.984Z"
   },
   {
    "duration": 7,
    "start_time": "2022-03-15T22:25:41.000Z"
   },
   {
    "duration": 44,
    "start_time": "2022-03-15T22:25:41.008Z"
   },
   {
    "duration": 33,
    "start_time": "2022-03-15T22:25:41.054Z"
   },
   {
    "duration": 11,
    "start_time": "2022-03-15T22:25:41.089Z"
   },
   {
    "duration": 13,
    "start_time": "2022-03-15T22:25:41.101Z"
   },
   {
    "duration": 20,
    "start_time": "2022-03-15T22:25:41.138Z"
   },
   {
    "duration": 3,
    "start_time": "2022-03-15T22:25:41.159Z"
   },
   {
    "duration": 25,
    "start_time": "2022-03-15T22:25:41.164Z"
   },
   {
    "duration": 20,
    "start_time": "2022-03-15T22:26:11.309Z"
   },
   {
    "duration": 22,
    "start_time": "2022-03-15T22:26:28.379Z"
   },
   {
    "duration": 22,
    "start_time": "2022-03-15T22:26:41.322Z"
   },
   {
    "duration": 23,
    "start_time": "2022-03-15T22:26:51.260Z"
   },
   {
    "duration": 258,
    "start_time": "2022-03-15T22:27:04.843Z"
   },
   {
    "duration": 310,
    "start_time": "2022-03-15T22:27:19.417Z"
   },
   {
    "duration": 14,
    "start_time": "2022-03-15T22:27:48.832Z"
   },
   {
    "duration": 24,
    "start_time": "2022-03-15T22:27:56.266Z"
   },
   {
    "duration": 3,
    "start_time": "2022-03-15T22:28:01.425Z"
   },
   {
    "duration": 67,
    "start_time": "2022-03-15T22:28:01.430Z"
   },
   {
    "duration": 14,
    "start_time": "2022-03-15T22:28:01.499Z"
   },
   {
    "duration": 24,
    "start_time": "2022-03-15T22:28:01.515Z"
   },
   {
    "duration": 16,
    "start_time": "2022-03-15T22:28:01.541Z"
   },
   {
    "duration": 11,
    "start_time": "2022-03-15T22:28:01.559Z"
   },
   {
    "duration": 20,
    "start_time": "2022-03-15T22:28:01.572Z"
   },
   {
    "duration": 25,
    "start_time": "2022-03-15T22:28:01.595Z"
   },
   {
    "duration": 13,
    "start_time": "2022-03-15T22:28:01.639Z"
   },
   {
    "duration": 6,
    "start_time": "2022-03-15T22:28:01.654Z"
   },
   {
    "duration": 23,
    "start_time": "2022-03-15T22:28:01.662Z"
   },
   {
    "duration": 14,
    "start_time": "2022-03-15T22:28:01.687Z"
   },
   {
    "duration": 35,
    "start_time": "2022-03-15T22:28:01.703Z"
   },
   {
    "duration": 29,
    "start_time": "2022-03-15T22:28:01.740Z"
   },
   {
    "duration": 5,
    "start_time": "2022-03-15T22:28:01.771Z"
   },
   {
    "duration": 30,
    "start_time": "2022-03-15T22:28:01.778Z"
   },
   {
    "duration": 32,
    "start_time": "2022-03-15T22:28:01.810Z"
   },
   {
    "duration": 18,
    "start_time": "2022-03-15T22:28:01.844Z"
   },
   {
    "duration": 24,
    "start_time": "2022-03-15T22:28:01.864Z"
   },
   {
    "duration": 34,
    "start_time": "2022-03-15T22:28:01.890Z"
   },
   {
    "duration": 23,
    "start_time": "2022-03-15T22:28:01.926Z"
   },
   {
    "duration": 44,
    "start_time": "2022-03-15T22:28:01.950Z"
   },
   {
    "duration": 27,
    "start_time": "2022-03-15T22:28:01.996Z"
   },
   {
    "duration": 11,
    "start_time": "2022-03-15T22:28:02.025Z"
   },
   {
    "duration": 17,
    "start_time": "2022-03-15T22:28:02.038Z"
   },
   {
    "duration": 12,
    "start_time": "2022-03-15T22:28:02.057Z"
   },
   {
    "duration": 12,
    "start_time": "2022-03-15T22:28:02.071Z"
   },
   {
    "duration": 32,
    "start_time": "2022-03-15T22:28:02.085Z"
   },
   {
    "duration": 41,
    "start_time": "2022-03-15T22:28:02.119Z"
   },
   {
    "duration": 12,
    "start_time": "2022-03-15T22:28:02.162Z"
   },
   {
    "duration": 12,
    "start_time": "2022-03-15T22:28:02.175Z"
   },
   {
    "duration": 30,
    "start_time": "2022-03-15T22:28:02.189Z"
   },
   {
    "duration": 17,
    "start_time": "2022-03-15T22:28:02.221Z"
   },
   {
    "duration": 37,
    "start_time": "2022-03-15T22:28:02.240Z"
   },
   {
    "duration": 690,
    "start_time": "2022-03-16T11:30:35.208Z"
   },
   {
    "duration": 748,
    "start_time": "2022-03-16T11:30:41.892Z"
   },
   {
    "duration": 68,
    "start_time": "2022-03-16T11:30:42.643Z"
   },
   {
    "duration": 30,
    "start_time": "2022-03-16T11:30:42.714Z"
   },
   {
    "duration": 40,
    "start_time": "2022-03-16T11:30:42.747Z"
   },
   {
    "duration": 20,
    "start_time": "2022-03-16T11:30:42.790Z"
   },
   {
    "duration": 28,
    "start_time": "2022-03-16T11:30:42.813Z"
   },
   {
    "duration": 29,
    "start_time": "2022-03-16T11:30:42.844Z"
   },
   {
    "duration": 41,
    "start_time": "2022-03-16T11:30:42.876Z"
   },
   {
    "duration": 17,
    "start_time": "2022-03-16T11:30:42.920Z"
   },
   {
    "duration": 34,
    "start_time": "2022-03-16T11:30:42.940Z"
   },
   {
    "duration": 24,
    "start_time": "2022-03-16T11:30:42.976Z"
   },
   {
    "duration": 34,
    "start_time": "2022-03-16T11:30:43.002Z"
   },
   {
    "duration": 35,
    "start_time": "2022-03-16T11:30:43.038Z"
   },
   {
    "duration": 46,
    "start_time": "2022-03-16T11:30:43.076Z"
   },
   {
    "duration": 8,
    "start_time": "2022-03-16T11:30:43.125Z"
   },
   {
    "duration": 68,
    "start_time": "2022-03-16T11:30:43.135Z"
   },
   {
    "duration": 29,
    "start_time": "2022-03-16T11:30:43.206Z"
   },
   {
    "duration": 40,
    "start_time": "2022-03-16T11:30:43.237Z"
   },
   {
    "duration": 15,
    "start_time": "2022-03-16T11:30:43.280Z"
   },
   {
    "duration": 45,
    "start_time": "2022-03-16T11:30:43.298Z"
   },
   {
    "duration": 14,
    "start_time": "2022-03-16T11:30:43.346Z"
   },
   {
    "duration": 31,
    "start_time": "2022-03-16T11:30:43.363Z"
   },
   {
    "duration": 35,
    "start_time": "2022-03-16T11:30:43.396Z"
   },
   {
    "duration": 20,
    "start_time": "2022-03-16T11:30:43.433Z"
   },
   {
    "duration": 40,
    "start_time": "2022-03-16T11:30:43.456Z"
   },
   {
    "duration": 33,
    "start_time": "2022-03-16T11:30:43.498Z"
   },
   {
    "duration": 25,
    "start_time": "2022-03-16T11:30:43.535Z"
   },
   {
    "duration": 49,
    "start_time": "2022-03-16T11:30:43.563Z"
   },
   {
    "duration": 46,
    "start_time": "2022-03-16T11:30:43.615Z"
   },
   {
    "duration": 25,
    "start_time": "2022-03-16T11:30:43.663Z"
   },
   {
    "duration": 27,
    "start_time": "2022-03-16T11:30:43.691Z"
   },
   {
    "duration": 58,
    "start_time": "2022-03-16T11:30:43.721Z"
   },
   {
    "duration": 13,
    "start_time": "2022-03-16T11:30:43.782Z"
   },
   {
    "duration": 57,
    "start_time": "2022-03-16T11:30:43.798Z"
   },
   {
    "duration": 20,
    "start_time": "2022-03-16T11:30:43.858Z"
   },
   {
    "duration": 3,
    "start_time": "2022-03-16T11:31:49.118Z"
   },
   {
    "duration": 209,
    "start_time": "2022-03-16T11:36:41.806Z"
   },
   {
    "duration": 4,
    "start_time": "2022-03-16T11:36:51.654Z"
   },
   {
    "duration": 83,
    "start_time": "2022-03-16T11:36:51.664Z"
   },
   {
    "duration": 20,
    "start_time": "2022-03-16T11:36:51.749Z"
   },
   {
    "duration": 32,
    "start_time": "2022-03-16T11:36:51.772Z"
   },
   {
    "duration": 16,
    "start_time": "2022-03-16T11:36:51.808Z"
   },
   {
    "duration": 16,
    "start_time": "2022-03-16T11:36:51.828Z"
   },
   {
    "duration": 46,
    "start_time": "2022-03-16T11:36:51.846Z"
   },
   {
    "duration": 53,
    "start_time": "2022-03-16T11:36:51.895Z"
   },
   {
    "duration": 27,
    "start_time": "2022-03-16T11:36:51.950Z"
   },
   {
    "duration": 8,
    "start_time": "2022-03-16T11:36:51.981Z"
   },
   {
    "duration": 32,
    "start_time": "2022-03-16T11:36:51.992Z"
   },
   {
    "duration": 47,
    "start_time": "2022-03-16T11:36:52.027Z"
   },
   {
    "duration": 26,
    "start_time": "2022-03-16T11:36:52.077Z"
   },
   {
    "duration": 45,
    "start_time": "2022-03-16T11:36:52.106Z"
   },
   {
    "duration": 26,
    "start_time": "2022-03-16T11:36:52.153Z"
   },
   {
    "duration": 41,
    "start_time": "2022-03-16T11:36:52.182Z"
   },
   {
    "duration": 16,
    "start_time": "2022-03-16T11:36:52.225Z"
   },
   {
    "duration": 25,
    "start_time": "2022-03-16T11:36:52.272Z"
   },
   {
    "duration": 14,
    "start_time": "2022-03-16T11:36:52.299Z"
   },
   {
    "duration": 29,
    "start_time": "2022-03-16T11:36:52.315Z"
   },
   {
    "duration": 34,
    "start_time": "2022-03-16T11:36:52.347Z"
   },
   {
    "duration": 10,
    "start_time": "2022-03-16T11:36:52.383Z"
   },
   {
    "duration": 26,
    "start_time": "2022-03-16T11:36:52.395Z"
   },
   {
    "duration": 10,
    "start_time": "2022-03-16T11:36:52.424Z"
   },
   {
    "duration": 44,
    "start_time": "2022-03-16T11:36:52.437Z"
   },
   {
    "duration": 14,
    "start_time": "2022-03-16T11:36:52.483Z"
   },
   {
    "duration": 11,
    "start_time": "2022-03-16T11:36:52.500Z"
   },
   {
    "duration": 81,
    "start_time": "2022-03-16T11:36:52.519Z"
   },
   {
    "duration": 45,
    "start_time": "2022-03-16T11:36:52.603Z"
   },
   {
    "duration": 19,
    "start_time": "2022-03-16T11:36:52.674Z"
   },
   {
    "duration": 17,
    "start_time": "2022-03-16T11:36:52.696Z"
   },
   {
    "duration": 69,
    "start_time": "2022-03-16T11:36:52.715Z"
   },
   {
    "duration": 5,
    "start_time": "2022-03-16T11:36:52.786Z"
   },
   {
    "duration": 43,
    "start_time": "2022-03-16T11:36:52.793Z"
   },
   {
    "duration": 37,
    "start_time": "2022-03-16T11:36:52.838Z"
   },
   {
    "duration": 4,
    "start_time": "2022-03-16T11:36:52.877Z"
   },
   {
    "duration": 17,
    "start_time": "2022-03-16T11:36:52.884Z"
   },
   {
    "duration": 37,
    "start_time": "2022-03-16T11:36:57.389Z"
   },
   {
    "duration": -82,
    "start_time": "2022-03-16T11:47:48.587Z"
   },
   {
    "duration": 3,
    "start_time": "2022-03-16T11:47:55.265Z"
   },
   {
    "duration": 58,
    "start_time": "2022-03-16T11:47:55.289Z"
   },
   {
    "duration": 23,
    "start_time": "2022-03-16T11:47:55.350Z"
   },
   {
    "duration": 33,
    "start_time": "2022-03-16T11:47:55.377Z"
   },
   {
    "duration": 20,
    "start_time": "2022-03-16T11:47:55.412Z"
   },
   {
    "duration": 20,
    "start_time": "2022-03-16T11:47:55.434Z"
   },
   {
    "duration": 32,
    "start_time": "2022-03-16T11:47:55.456Z"
   },
   {
    "duration": 43,
    "start_time": "2022-03-16T11:47:55.491Z"
   },
   {
    "duration": 39,
    "start_time": "2022-03-16T11:47:55.538Z"
   },
   {
    "duration": 10,
    "start_time": "2022-03-16T11:47:55.580Z"
   },
   {
    "duration": 20,
    "start_time": "2022-03-16T11:47:55.592Z"
   },
   {
    "duration": 61,
    "start_time": "2022-03-16T11:47:55.615Z"
   },
   {
    "duration": 28,
    "start_time": "2022-03-16T11:47:55.678Z"
   },
   {
    "duration": 65,
    "start_time": "2022-03-16T11:47:55.708Z"
   },
   {
    "duration": 8,
    "start_time": "2022-03-16T11:47:55.776Z"
   },
   {
    "duration": 48,
    "start_time": "2022-03-16T11:47:55.786Z"
   },
   {
    "duration": 15,
    "start_time": "2022-03-16T11:47:55.837Z"
   },
   {
    "duration": 26,
    "start_time": "2022-03-16T11:47:55.874Z"
   },
   {
    "duration": 22,
    "start_time": "2022-03-16T11:47:55.902Z"
   },
   {
    "duration": 46,
    "start_time": "2022-03-16T11:47:55.927Z"
   },
   {
    "duration": 8,
    "start_time": "2022-03-16T11:47:55.976Z"
   },
   {
    "duration": 27,
    "start_time": "2022-03-16T11:47:55.986Z"
   },
   {
    "duration": 31,
    "start_time": "2022-03-16T11:47:56.015Z"
   },
   {
    "duration": 23,
    "start_time": "2022-03-16T11:47:56.051Z"
   },
   {
    "duration": 10,
    "start_time": "2022-03-16T11:47:56.077Z"
   },
   {
    "duration": 29,
    "start_time": "2022-03-16T11:47:56.090Z"
   },
   {
    "duration": 11,
    "start_time": "2022-03-16T11:47:56.122Z"
   },
   {
    "duration": 54,
    "start_time": "2022-03-16T11:47:56.136Z"
   },
   {
    "duration": 44,
    "start_time": "2022-03-16T11:47:56.193Z"
   },
   {
    "duration": 42,
    "start_time": "2022-03-16T11:47:56.240Z"
   },
   {
    "duration": 19,
    "start_time": "2022-03-16T11:47:56.285Z"
   },
   {
    "duration": 33,
    "start_time": "2022-03-16T11:47:56.307Z"
   },
   {
    "duration": 6,
    "start_time": "2022-03-16T11:47:56.374Z"
   },
   {
    "duration": 55,
    "start_time": "2022-03-16T11:47:56.384Z"
   },
   {
    "duration": 18,
    "start_time": "2022-03-16T11:47:56.442Z"
   },
   {
    "duration": 26,
    "start_time": "2022-03-16T11:47:56.473Z"
   },
   {
    "duration": 50,
    "start_time": "2022-03-16T11:47:56.501Z"
   },
   {
    "duration": 4661,
    "start_time": "2022-03-16T11:47:56.554Z"
   },
   {
    "duration": 16,
    "start_time": "2022-03-16T11:48:30.129Z"
   },
   {
    "duration": 185,
    "start_time": "2022-03-16T11:56:18.309Z"
   },
   {
    "duration": 3,
    "start_time": "2022-03-16T11:56:30.413Z"
   },
   {
    "duration": 67,
    "start_time": "2022-03-16T11:56:30.419Z"
   },
   {
    "duration": 20,
    "start_time": "2022-03-16T11:56:30.490Z"
   },
   {
    "duration": 28,
    "start_time": "2022-03-16T11:56:30.513Z"
   },
   {
    "duration": 35,
    "start_time": "2022-03-16T11:56:30.543Z"
   },
   {
    "duration": 8,
    "start_time": "2022-03-16T11:56:30.580Z"
   },
   {
    "duration": 35,
    "start_time": "2022-03-16T11:56:30.590Z"
   },
   {
    "duration": 60,
    "start_time": "2022-03-16T11:56:30.628Z"
   },
   {
    "duration": 17,
    "start_time": "2022-03-16T11:56:30.693Z"
   },
   {
    "duration": 8,
    "start_time": "2022-03-16T11:56:30.713Z"
   },
   {
    "duration": 53,
    "start_time": "2022-03-16T11:56:30.723Z"
   },
   {
    "duration": 22,
    "start_time": "2022-03-16T11:56:30.779Z"
   },
   {
    "duration": 25,
    "start_time": "2022-03-16T11:56:30.805Z"
   },
   {
    "duration": 84,
    "start_time": "2022-03-16T11:56:30.833Z"
   },
   {
    "duration": 9,
    "start_time": "2022-03-16T11:56:30.919Z"
   },
   {
    "duration": 65,
    "start_time": "2022-03-16T11:56:30.930Z"
   },
   {
    "duration": 15,
    "start_time": "2022-03-16T11:56:30.998Z"
   },
   {
    "duration": 30,
    "start_time": "2022-03-16T11:56:31.016Z"
   },
   {
    "duration": 32,
    "start_time": "2022-03-16T11:56:31.049Z"
   },
   {
    "duration": 36,
    "start_time": "2022-03-16T11:56:31.084Z"
   },
   {
    "duration": 19,
    "start_time": "2022-03-16T11:56:31.123Z"
   },
   {
    "duration": 32,
    "start_time": "2022-03-16T11:56:31.144Z"
   },
   {
    "duration": 23,
    "start_time": "2022-03-16T11:56:31.178Z"
   },
   {
    "duration": 10,
    "start_time": "2022-03-16T11:56:31.203Z"
   },
   {
    "duration": 13,
    "start_time": "2022-03-16T11:56:31.215Z"
   },
   {
    "duration": 46,
    "start_time": "2022-03-16T11:56:31.230Z"
   },
   {
    "duration": 11,
    "start_time": "2022-03-16T11:56:31.282Z"
   },
   {
    "duration": 51,
    "start_time": "2022-03-16T11:56:31.296Z"
   },
   {
    "duration": 62,
    "start_time": "2022-03-16T11:56:31.349Z"
   },
   {
    "duration": 16,
    "start_time": "2022-03-16T11:56:31.414Z"
   },
   {
    "duration": 43,
    "start_time": "2022-03-16T11:56:31.432Z"
   },
   {
    "duration": 32,
    "start_time": "2022-03-16T11:56:31.478Z"
   },
   {
    "duration": 18,
    "start_time": "2022-03-16T11:56:31.512Z"
   },
   {
    "duration": 59,
    "start_time": "2022-03-16T11:56:31.532Z"
   },
   {
    "duration": 10,
    "start_time": "2022-03-16T11:56:31.593Z"
   },
   {
    "duration": 16,
    "start_time": "2022-03-16T11:56:31.606Z"
   },
   {
    "duration": 58,
    "start_time": "2022-03-16T11:56:31.625Z"
   },
   {
    "duration": 17,
    "start_time": "2022-03-16T11:56:31.685Z"
   },
   {
    "duration": 183,
    "start_time": "2022-03-16T11:56:31.704Z"
   },
   {
    "duration": 8,
    "start_time": "2022-03-16T11:57:31.614Z"
   },
   {
    "duration": 9,
    "start_time": "2022-03-16T11:57:44.218Z"
   },
   {
    "duration": 9,
    "start_time": "2022-03-16T12:05:06.690Z"
   },
   {
    "duration": 14,
    "start_time": "2022-03-16T12:23:35.210Z"
   },
   {
    "duration": 421,
    "start_time": "2022-03-16T12:25:18.599Z"
   },
   {
    "duration": 9,
    "start_time": "2022-03-16T12:25:48.923Z"
   },
   {
    "duration": 11,
    "start_time": "2022-03-16T12:26:22.862Z"
   },
   {
    "duration": 32,
    "start_time": "2022-03-16T13:42:53.516Z"
   },
   {
    "duration": 401,
    "start_time": "2022-03-16T13:53:56.032Z"
   },
   {
    "duration": 4,
    "start_time": "2022-03-16T13:54:01.590Z"
   },
   {
    "duration": 92,
    "start_time": "2022-03-16T13:54:01.598Z"
   },
   {
    "duration": 25,
    "start_time": "2022-03-16T13:54:01.694Z"
   },
   {
    "duration": 38,
    "start_time": "2022-03-16T13:54:01.722Z"
   },
   {
    "duration": 36,
    "start_time": "2022-03-16T13:54:01.762Z"
   },
   {
    "duration": 22,
    "start_time": "2022-03-16T13:54:01.802Z"
   },
   {
    "duration": 42,
    "start_time": "2022-03-16T13:54:01.827Z"
   },
   {
    "duration": 59,
    "start_time": "2022-03-16T13:54:01.874Z"
   },
   {
    "duration": 18,
    "start_time": "2022-03-16T13:54:01.940Z"
   },
   {
    "duration": 48,
    "start_time": "2022-03-16T13:54:01.961Z"
   },
   {
    "duration": 26,
    "start_time": "2022-03-16T13:54:02.013Z"
   },
   {
    "duration": 33,
    "start_time": "2022-03-16T13:54:02.042Z"
   },
   {
    "duration": 43,
    "start_time": "2022-03-16T13:54:02.081Z"
   },
   {
    "duration": 45,
    "start_time": "2022-03-16T13:54:02.126Z"
   },
   {
    "duration": 12,
    "start_time": "2022-03-16T13:54:02.176Z"
   },
   {
    "duration": 56,
    "start_time": "2022-03-16T13:54:02.190Z"
   },
   {
    "duration": 54,
    "start_time": "2022-03-16T13:54:02.249Z"
   },
   {
    "duration": 49,
    "start_time": "2022-03-16T13:54:02.306Z"
   },
   {
    "duration": 52,
    "start_time": "2022-03-16T13:54:02.357Z"
   },
   {
    "duration": 48,
    "start_time": "2022-03-16T13:54:02.412Z"
   },
   {
    "duration": 42,
    "start_time": "2022-03-16T13:54:02.462Z"
   },
   {
    "duration": 32,
    "start_time": "2022-03-16T13:54:02.506Z"
   },
   {
    "duration": 42,
    "start_time": "2022-03-16T13:54:02.540Z"
   },
   {
    "duration": 33,
    "start_time": "2022-03-16T13:54:02.587Z"
   },
   {
    "duration": 18,
    "start_time": "2022-03-16T13:54:02.622Z"
   },
   {
    "duration": 41,
    "start_time": "2022-03-16T13:54:02.642Z"
   },
   {
    "duration": 19,
    "start_time": "2022-03-16T13:54:02.689Z"
   },
   {
    "duration": 54,
    "start_time": "2022-03-16T13:54:02.711Z"
   },
   {
    "duration": 63,
    "start_time": "2022-03-16T13:54:02.767Z"
   },
   {
    "duration": 17,
    "start_time": "2022-03-16T13:54:02.832Z"
   },
   {
    "duration": 45,
    "start_time": "2022-03-16T13:54:02.851Z"
   },
   {
    "duration": 37,
    "start_time": "2022-03-16T13:54:02.900Z"
   },
   {
    "duration": 5,
    "start_time": "2022-03-16T13:54:02.940Z"
   },
   {
    "duration": 73,
    "start_time": "2022-03-16T13:54:02.947Z"
   },
   {
    "duration": 12,
    "start_time": "2022-03-16T13:54:03.022Z"
   },
   {
    "duration": 60,
    "start_time": "2022-03-16T13:54:03.037Z"
   },
   {
    "duration": 59,
    "start_time": "2022-03-16T13:54:03.100Z"
   },
   {
    "duration": 53,
    "start_time": "2022-03-16T13:54:03.162Z"
   },
   {
    "duration": 196,
    "start_time": "2022-03-16T13:54:03.218Z"
   },
   {
    "duration": 28,
    "start_time": "2022-03-16T13:54:30.814Z"
   },
   {
    "duration": 36,
    "start_time": "2022-03-16T13:58:20.447Z"
   },
   {
    "duration": 29,
    "start_time": "2022-03-16T14:02:38.515Z"
   },
   {
    "duration": 45,
    "start_time": "2022-03-16T14:05:24.336Z"
   },
   {
    "duration": 30,
    "start_time": "2022-03-16T14:19:12.724Z"
   },
   {
    "duration": 545,
    "start_time": "2022-03-27T07:51:15.901Z"
   },
   {
    "duration": 92,
    "start_time": "2022-03-27T07:51:16.449Z"
   },
   {
    "duration": 38,
    "start_time": "2022-03-27T07:51:16.543Z"
   },
   {
    "duration": 22,
    "start_time": "2022-03-27T07:51:16.583Z"
   },
   {
    "duration": 16,
    "start_time": "2022-03-27T07:51:16.609Z"
   },
   {
    "duration": 6,
    "start_time": "2022-03-27T07:51:16.628Z"
   },
   {
    "duration": 55,
    "start_time": "2022-03-27T07:51:16.636Z"
   },
   {
    "duration": 35,
    "start_time": "2022-03-27T07:51:16.693Z"
   },
   {
    "duration": 61,
    "start_time": "2022-03-27T07:51:16.731Z"
   },
   {
    "duration": 7,
    "start_time": "2022-03-27T07:51:16.794Z"
   },
   {
    "duration": 18,
    "start_time": "2022-03-27T07:51:16.803Z"
   },
   {
    "duration": 59,
    "start_time": "2022-03-27T07:51:16.823Z"
   },
   {
    "duration": 21,
    "start_time": "2022-03-27T07:51:16.885Z"
   },
   {
    "duration": 63,
    "start_time": "2022-03-27T07:51:16.913Z"
   },
   {
    "duration": 8,
    "start_time": "2022-03-27T07:51:16.978Z"
   },
   {
    "duration": 32,
    "start_time": "2022-03-27T07:51:16.989Z"
   },
   {
    "duration": 52,
    "start_time": "2022-03-27T07:51:17.023Z"
   },
   {
    "duration": 23,
    "start_time": "2022-03-27T07:51:17.077Z"
   },
   {
    "duration": 8,
    "start_time": "2022-03-27T07:51:17.103Z"
   },
   {
    "duration": 27,
    "start_time": "2022-03-27T07:51:17.114Z"
   },
   {
    "duration": 35,
    "start_time": "2022-03-27T07:51:17.144Z"
   },
   {
    "duration": 23,
    "start_time": "2022-03-27T07:51:17.181Z"
   },
   {
    "duration": 39,
    "start_time": "2022-03-27T07:51:17.206Z"
   },
   {
    "duration": 9,
    "start_time": "2022-03-27T07:51:17.247Z"
   },
   {
    "duration": 20,
    "start_time": "2022-03-27T07:51:17.258Z"
   },
   {
    "duration": 24,
    "start_time": "2022-03-27T07:51:17.280Z"
   },
   {
    "duration": 13,
    "start_time": "2022-03-27T07:51:17.306Z"
   },
   {
    "duration": 50,
    "start_time": "2022-03-27T07:51:17.321Z"
   },
   {
    "duration": 46,
    "start_time": "2022-03-27T07:51:17.373Z"
   },
   {
    "duration": 17,
    "start_time": "2022-03-27T07:51:17.421Z"
   },
   {
    "duration": 42,
    "start_time": "2022-03-27T07:51:17.440Z"
   },
   {
    "duration": 38,
    "start_time": "2022-03-27T07:51:17.485Z"
   },
   {
    "duration": 7,
    "start_time": "2022-03-27T07:51:17.525Z"
   },
   {
    "duration": 68,
    "start_time": "2022-03-27T07:51:17.534Z"
   },
   {
    "duration": 13,
    "start_time": "2022-03-27T07:51:17.605Z"
   },
   {
    "duration": 23,
    "start_time": "2022-03-27T07:51:17.620Z"
   },
   {
    "duration": 53,
    "start_time": "2022-03-27T07:51:17.645Z"
   },
   {
    "duration": 39,
    "start_time": "2022-03-27T07:51:17.700Z"
   },
   {
    "duration": 45,
    "start_time": "2022-03-27T07:51:17.742Z"
   },
   {
    "duration": 31,
    "start_time": "2022-03-27T07:51:17.790Z"
   },
   {
    "duration": 57,
    "start_time": "2022-03-27T07:51:17.828Z"
   },
   {
    "duration": 96,
    "start_time": "2022-03-27T07:52:55.760Z"
   },
   {
    "duration": 9,
    "start_time": "2022-03-27T08:09:41.279Z"
   },
   {
    "duration": 85,
    "start_time": "2022-03-27T08:15:26.284Z"
   },
   {
    "duration": 5,
    "start_time": "2022-03-27T08:18:12.412Z"
   },
   {
    "duration": 6,
    "start_time": "2022-03-27T08:18:17.204Z"
   },
   {
    "duration": 6,
    "start_time": "2022-03-27T08:18:20.377Z"
   },
   {
    "duration": 5,
    "start_time": "2022-03-27T08:18:25.334Z"
   },
   {
    "duration": 5,
    "start_time": "2022-03-27T08:18:31.897Z"
   },
   {
    "duration": 6,
    "start_time": "2022-03-27T08:18:38.070Z"
   },
   {
    "duration": 85,
    "start_time": "2022-03-27T08:18:52.547Z"
   },
   {
    "duration": 83,
    "start_time": "2022-03-27T08:19:16.499Z"
   }
  ],
  "kernelspec": {
   "display_name": "Python 3 (ipykernel)",
   "language": "python",
   "name": "python3"
  },
  "language_info": {
   "codemirror_mode": {
    "name": "ipython",
    "version": 3
   },
   "file_extension": ".py",
   "mimetype": "text/x-python",
   "name": "python",
   "nbconvert_exporter": "python",
   "pygments_lexer": "ipython3",
   "version": "3.9.5"
  },
  "toc": {
   "base_numbering": 1,
   "nav_menu": {},
   "number_sections": true,
   "sideBar": true,
   "skip_h1_title": true,
   "title_cell": "Table of Contents",
   "title_sidebar": "Contents",
   "toc_cell": false,
   "toc_position": {},
   "toc_section_display": true,
   "toc_window_display": false
  }
 },
 "nbformat": 4,
 "nbformat_minor": 5
}
